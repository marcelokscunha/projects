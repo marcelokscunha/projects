{
 "cells": [
  {
   "cell_type": "markdown",
   "metadata": {},
   "source": [
    "# Sparkify Project"
   ]
  },
  {
   "cell_type": "code",
   "execution_count": 1,
   "metadata": {},
   "outputs": [
    {
     "data": {
      "application/vnd.jupyter.widget-view+json": {
       "model_id": "97ae50f74ad44c3985c5c0d7a2793151",
       "version_major": 2,
       "version_minor": 0
      },
      "text/plain": [
       "VBox()"
      ]
     },
     "metadata": {},
     "output_type": "display_data"
    },
    {
     "name": "stdout",
     "output_type": "stream",
     "text": [
      "Starting Spark application\n"
     ]
    },
    {
     "data": {
      "text/html": [
       "<table>\n",
       "<tr><th>ID</th><th>YARN Application ID</th><th>Kind</th><th>State</th><th>Spark UI</th><th>Driver log</th><th>Current session?</th></tr><tr><td>2</td><td>application_1593555689435_0003</td><td>pyspark</td><td>idle</td><td><a target=\"_blank\" href=\"http://ip-172-31-24-132.ec2.internal:20888/proxy/application_1593555689435_0003/\">Link</a></td><td><a target=\"_blank\" href=\"http://ip-172-31-19-22.ec2.internal:8042/node/containerlogs/container_1593555689435_0003_01_000001/livy\">Link</a></td><td>✔</td></tr></table>"
      ],
      "text/plain": [
       "<IPython.core.display.HTML object>"
      ]
     },
     "metadata": {},
     "output_type": "display_data"
    },
    {
     "data": {
      "application/vnd.jupyter.widget-view+json": {
       "model_id": "",
       "version_major": 2,
       "version_minor": 0
      },
      "text/plain": [
       "FloatProgress(value=0.0, bar_style='info', description='Progress:', layout=Layout(height='25px', width='50%'),…"
      ]
     },
     "metadata": {},
     "output_type": "display_data"
    },
    {
     "name": "stdout",
     "output_type": "stream",
     "text": [
      "SparkSession available as 'spark'.\n"
     ]
    },
    {
     "data": {
      "application/vnd.jupyter.widget-view+json": {
       "model_id": "",
       "version_major": 2,
       "version_minor": 0
      },
      "text/plain": [
       "FloatProgress(value=0.0, bar_style='info', description='Progress:', layout=Layout(height='25px', width='50%'),…"
      ]
     },
     "metadata": {},
     "output_type": "display_data"
    },
    {
     "name": "stdout",
     "output_type": "stream",
     "text": [
      "Collecting pandas==1.0.3\n",
      "  Using cached https://files.pythonhosted.org/packages/4a/6a/94b219b8ea0f2d580169e85ed1edc0163743f55aaeca8a44c2e8fc1e344e/pandas-1.0.3-cp37-cp37m-manylinux1_x86_64.whl\n",
      "Requirement already satisfied: pytz>=2017.2 in /usr/local/lib/python3.7/site-packages (from pandas==1.0.3)\n",
      "Requirement already satisfied: numpy>=1.13.3 in /usr/local/lib64/python3.7/site-packages (from pandas==1.0.3)\n",
      "Collecting python-dateutil>=2.6.1 (from pandas==1.0.3)\n",
      "  Using cached https://files.pythonhosted.org/packages/d4/70/d60450c3dd48ef87586924207ae8907090de0b306af2bce5d134d78615cb/python_dateutil-2.8.1-py2.py3-none-any.whl\n",
      "Requirement already satisfied: six>=1.5 in /usr/local/lib/python3.7/site-packages (from python-dateutil>=2.6.1->pandas==1.0.3)\n",
      "Installing collected packages: python-dateutil, pandas\n",
      "Successfully installed pandas-1.0.3 python-dateutil-2.8.1\n",
      "\n",
      "Collecting matplotlib==3.1.3\n",
      "  Using cached https://files.pythonhosted.org/packages/4c/9b/35ab3469fd1509f7636a344940569ebfd33239673fd2318e80b4700a257c/matplotlib-3.1.3-cp37-cp37m-manylinux1_x86_64.whl\n",
      "Requirement already satisfied: python-dateutil>=2.1 in /mnt/tmp/1593558298647-0/lib/python3.7/site-packages (from matplotlib==3.1.3)\n",
      "Collecting pyparsing!=2.0.4,!=2.1.2,!=2.1.6,>=2.0.1 (from matplotlib==3.1.3)\n",
      "  Using cached https://files.pythonhosted.org/packages/8a/bb/488841f56197b13700afd5658fc279a2025a39e22449b7cf29864669b15d/pyparsing-2.4.7-py2.py3-none-any.whl\n",
      "Collecting cycler>=0.10 (from matplotlib==3.1.3)\n",
      "  Using cached https://files.pythonhosted.org/packages/f7/d2/e07d3ebb2bd7af696440ce7e754c59dd546ffe1bbe732c8ab68b9c834e61/cycler-0.10.0-py2.py3-none-any.whl\n",
      "Requirement already satisfied: numpy>=1.11 in /usr/local/lib64/python3.7/site-packages (from matplotlib==3.1.3)\n",
      "Collecting kiwisolver>=1.0.1 (from matplotlib==3.1.3)\n",
      "  Using cached https://files.pythonhosted.org/packages/31/b9/6202dcae729998a0ade30e80ac00f616542ef445b088ec970d407dfd41c0/kiwisolver-1.2.0-cp37-cp37m-manylinux1_x86_64.whl\n",
      "Requirement already satisfied: six>=1.5 in /usr/local/lib/python3.7/site-packages (from python-dateutil>=2.1->matplotlib==3.1.3)\n",
      "Installing collected packages: pyparsing, cycler, kiwisolver, matplotlib\n",
      "Successfully installed cycler-0.10.0 kiwisolver-1.2.0 matplotlib-3.1.3 pyparsing-2.4.7\n",
      "\n",
      "Collecting seaborn==0.10.1\n",
      "  Using cached https://files.pythonhosted.org/packages/c7/e6/54aaaafd0b87f51dfba92ba73da94151aa3bc179e5fe88fc5dfb3038e860/seaborn-0.10.1-py3-none-any.whl\n",
      "Requirement already satisfied: pandas>=0.22.0 in /mnt/tmp/1593558298647-0/lib/python3.7/site-packages (from seaborn==0.10.1)\n",
      "Requirement already satisfied: numpy>=1.13.3 in /usr/local/lib64/python3.7/site-packages (from seaborn==0.10.1)\n",
      "Collecting scipy>=1.0.1 (from seaborn==0.10.1)\n",
      "  Using cached https://files.pythonhosted.org/packages/6e/be/e95216d3bbac5d5c3a4bb0b44817b7808cea4c66e6b05cdff93d7a616fc4/scipy-1.5.0-cp37-cp37m-manylinux1_x86_64.whl\n",
      "Requirement already satisfied: matplotlib>=2.1.2 in /mnt/tmp/1593558298647-0/lib/python3.7/site-packages (from seaborn==0.10.1)\n",
      "Requirement already satisfied: pytz>=2017.2 in /usr/local/lib/python3.7/site-packages (from pandas>=0.22.0->seaborn==0.10.1)\n",
      "Requirement already satisfied: python-dateutil>=2.6.1 in /mnt/tmp/1593558298647-0/lib/python3.7/site-packages (from pandas>=0.22.0->seaborn==0.10.1)\n",
      "Requirement already satisfied: pyparsing!=2.0.4,!=2.1.2,!=2.1.6,>=2.0.1 in /mnt/tmp/1593558298647-0/lib/python3.7/site-packages (from matplotlib>=2.1.2->seaborn==0.10.1)\n",
      "Requirement already satisfied: cycler>=0.10 in /mnt/tmp/1593558298647-0/lib/python3.7/site-packages (from matplotlib>=2.1.2->seaborn==0.10.1)\n",
      "Requirement already satisfied: kiwisolver>=1.0.1 in /mnt/tmp/1593558298647-0/lib/python3.7/site-packages (from matplotlib>=2.1.2->seaborn==0.10.1)\n",
      "Requirement already satisfied: six>=1.5 in /usr/local/lib/python3.7/site-packages (from python-dateutil>=2.6.1->pandas>=0.22.0->seaborn==0.10.1)\n",
      "Installing collected packages: scipy, seaborn\n",
      "Successfully installed scipy-1.5.0 seaborn-0.10.1"
     ]
    }
   ],
   "source": [
    "# Install pandas on EMR Notebook\n",
    "sc.install_pypi_package(\"pandas==1.0.3\")\n",
    "sc.install_pypi_package(\"matplotlib==3.1.3\")\n",
    "sc.install_pypi_package(\"seaborn==0.10.1\")"
   ]
  },
  {
   "cell_type": "code",
   "execution_count": 2,
   "metadata": {},
   "outputs": [
    {
     "data": {
      "application/vnd.jupyter.widget-view+json": {
       "model_id": "ba57224c862442ca8c5686f7be4e7578",
       "version_major": 2,
       "version_minor": 0
      },
      "text/plain": [
       "VBox()"
      ]
     },
     "metadata": {},
     "output_type": "display_data"
    },
    {
     "data": {
      "application/vnd.jupyter.widget-view+json": {
       "model_id": "",
       "version_major": 2,
       "version_minor": 0
      },
      "text/plain": [
       "FloatProgress(value=0.0, bar_style='info', description='Progress:', layout=Layout(height='25px', width='50%'),…"
      ]
     },
     "metadata": {},
     "output_type": "display_data"
    }
   ],
   "source": [
    "# import libraries\n",
    "from pyspark.sql import SparkSession, Window\n",
    "import pyspark.sql.functions as F\n",
    "from  pyspark.sql.functions import col, udf\n",
    "from pyspark.sql.types import IntegerType, FloatType\n",
    "from pyspark.ml.stat import Correlation\n",
    "from pyspark.ml import Pipeline\n",
    "from pyspark.ml.feature import VectorAssembler, StandardScaler\n",
    "from pyspark.ml.evaluation import BinaryClassificationEvaluator, Evaluator\n",
    "from pyspark.ml.classification import RandomForestClassifier, GBTClassifier\n",
    "from pyspark.ml.tuning import CrossValidator, ParamGridBuilder\n",
    "\n",
    "import time\n",
    "from datetime import datetime\n",
    "import numpy as np\n",
    "import pandas as pd\n",
    "import matplotlib.pyplot as plt\n",
    "import seaborn as sns"
   ]
  },
  {
   "cell_type": "code",
   "execution_count": 3,
   "metadata": {},
   "outputs": [
    {
     "data": {
      "application/vnd.jupyter.widget-view+json": {
       "model_id": "57254dcf60274c5d9f3126ce37d59ffa",
       "version_major": 2,
       "version_minor": 0
      },
      "text/plain": [
       "VBox()"
      ]
     },
     "metadata": {},
     "output_type": "display_data"
    },
    {
     "data": {
      "application/vnd.jupyter.widget-view+json": {
       "model_id": "",
       "version_major": 2,
       "version_minor": 0
      },
      "text/plain": [
       "FloatProgress(value=0.0, bar_style='info', description='Progress:', layout=Layout(height='25px', width='50%'),…"
      ]
     },
     "metadata": {},
     "output_type": "display_data"
    }
   ],
   "source": [
    "# create a Spark session\n",
    "spark = SparkSession.builder\\\n",
    "    .master(\"local\")\\\n",
    "    .appName('Sparkify')\\\n",
    "    .getOrCreate()"
   ]
  },
  {
   "cell_type": "code",
   "execution_count": 4,
   "metadata": {},
   "outputs": [
    {
     "data": {
      "application/vnd.jupyter.widget-view+json": {
       "model_id": "54dddada30114017adb8d78059dd227f",
       "version_major": 2,
       "version_minor": 0
      },
      "text/plain": [
       "VBox()"
      ]
     },
     "metadata": {},
     "output_type": "display_data"
    },
    {
     "data": {
      "application/vnd.jupyter.widget-view+json": {
       "model_id": "",
       "version_major": 2,
       "version_minor": 0
      },
      "text/plain": [
       "FloatProgress(value=0.0, bar_style='info', description='Progress:', layout=Layout(height='25px', width='50%'),…"
      ]
     },
     "metadata": {},
     "output_type": "display_data"
    },
    {
     "name": "stdout",
     "output_type": "stream",
     "text": [
      "<pyspark.sql.session.SparkSession object at 0x7fb190f56c10>"
     ]
    }
   ],
   "source": [
    "spark"
   ]
  },
  {
   "cell_type": "markdown",
   "metadata": {},
   "source": [
    "Check <a href=\"https://livy.apache.org/\">Apache Livy</a> magic commands in Jupyter:"
   ]
  },
  {
   "cell_type": "code",
   "execution_count": 39,
   "metadata": {},
   "outputs": [
    {
     "data": {
      "text/html": [
       "\n",
       "<table>\n",
       "  <tr>\n",
       "    <th>Magic</th>\n",
       "    <th>Example</th>\n",
       "    <th>Explanation</th>\n",
       "  </tr>\n",
       "  <tr>\n",
       "    <td>info</td>\n",
       "    <td>%%info</td>\n",
       "    <td>Outputs session information for the current Livy endpoint.</td>\n",
       "  </tr>\n",
       "  <tr>\n",
       "    <td>cleanup</td>\n",
       "    <td>%%cleanup -f</td>\n",
       "    <td>Deletes all sessions for the current Livy endpoint, including this notebook's session. The force flag is mandatory.</td>\n",
       "  </tr>\n",
       "  <tr>\n",
       "    <td>delete</td>\n",
       "    <td>%%delete -f -s 0</td>\n",
       "    <td>Deletes a session by number for the current Livy endpoint. Cannot delete this kernel's session.</td>\n",
       "  </tr>\n",
       "  <tr>\n",
       "    <td>logs</td>\n",
       "    <td>%%logs</td>\n",
       "    <td>Outputs the current session's Livy logs.</td>\n",
       "  </tr>\n",
       "  <tr>\n",
       "    <td>configure</td>\n",
       "    <td>%%configure -f<br/>{\"executorMemory\": \"1000M\", \"executorCores\": 4}</td>\n",
       "    <td>Configure the session creation parameters. The force flag is mandatory if a session has already been\n",
       "    created and the session will be dropped and recreated.<br/>Look at <a href=\"https://github.com/cloudera/livy#request-body\">\n",
       "    Livy's POST /sessions Request Body</a> for a list of valid parameters. Parameters must be passed in as a JSON string.</td>\n",
       "  </tr>\n",
       "  <tr>\n",
       "    <td>spark</td>\n",
       "    <td>%%spark -o df<br/>df = spark.read.parquet('...</td>\n",
       "    <td>Executes spark commands.\n",
       "    Parameters:\n",
       "      <ul>\n",
       "        <li>-o VAR_NAME: The Spark dataframe of name VAR_NAME will be available in the %%local Python context as a\n",
       "          <a href=\"http://pandas.pydata.org/\">Pandas</a> dataframe with the same name.</li>\n",
       "        <li>-m METHOD: Sample method, either <tt>take</tt> or <tt>sample</tt>.</li>\n",
       "        <li>-n MAXROWS: The maximum number of rows of a dataframe that will be pulled from Livy to Jupyter.\n",
       "            If this number is negative, then the number of rows will be unlimited.</li>\n",
       "        <li>-r FRACTION: Fraction used for sampling.</li>\n",
       "      </ul>\n",
       "    </td>\n",
       "  </tr>\n",
       "  <tr>\n",
       "    <td>display</td>\n",
       "    <td>%%display -n 100<br/>my_spark_df</td>\n",
       "    <td>Displays Spark dataframe as a beautiful HTML table with horizontal and vertical scroll bars(if necessary).\n",
       "    Parameters:\n",
       "      <ul>\n",
       "        <li>-m METHOD: Sample method, either <tt>take</tt> or <tt>sample</tt>.</li>\n",
       "        <li>-n MAXROWS: The maximum number of rows of a dataframe to display.\n",
       "            If this number is negative, then the number of rows will be unlimited.</li>\n",
       "        <li>-r FRACTION: Fraction used for sampling.</li>\n",
       "      </ul>\n",
       "    </td>\n",
       "  </tr>\n",
       "  <tr>\n",
       "    <td>sql</td>\n",
       "    <td>%%sql -o tables -q<br/>SHOW TABLES</td>\n",
       "    <td>Executes a SQL query against the variable sqlContext (Spark v1.x) or spark (Spark v2.x).\n",
       "    Parameters:\n",
       "      <ul>\n",
       "        <li>-o VAR_NAME: The result of the SQL query will be available in the %%local Python context as a\n",
       "          <a href=\"http://pandas.pydata.org/\">Pandas</a> dataframe.</li>\n",
       "        <li>-q: The magic will return None instead of the dataframe (no visualization).</li>\n",
       "        <li>-m, -n, -r are the same as the %%spark parameters above.</li>\n",
       "      </ul>\n",
       "    </td>\n",
       "  </tr>\n",
       "  <tr>\n",
       "    <td>local</td>\n",
       "    <td>%%local<br/>a = 1</td>\n",
       "    <td>All the code in subsequent lines will be executed locally. Code must be valid Python code.</td>\n",
       "  </tr>\n",
       "</table>\n"
      ],
      "text/plain": [
       "<IPython.core.display.HTML object>"
      ]
     },
     "metadata": {},
     "output_type": "display_data"
    }
   ],
   "source": [
    "%help"
   ]
  },
  {
   "cell_type": "markdown",
   "metadata": {},
   "source": [
    "Useful: `%%spark -o df` will let the Spark Dataframe available locally as a Pandas dataframe"
   ]
  },
  {
   "cell_type": "markdown",
   "metadata": {},
   "source": [
    "# Load and Clean Dataset\n",
    "Using tiny subset (128MB) of the full dataset available (12GB) for local development.\n",
    "\n",
    "full dataset: `s3n://udacity-dsnd/sparkify/full_sparkify_event_data.json`\n",
    "\n",
    "Full dataset: `s3n://udacity-dsnd/sparkify/sparkify_event_data.json`\n"
   ]
  },
  {
   "cell_type": "code",
   "execution_count": 5,
   "metadata": {},
   "outputs": [
    {
     "data": {
      "application/vnd.jupyter.widget-view+json": {
       "model_id": "471451a65cbb4ae4b0f52c491759b133",
       "version_major": 2,
       "version_minor": 0
      },
      "text/plain": [
       "VBox()"
      ]
     },
     "metadata": {},
     "output_type": "display_data"
    },
    {
     "data": {
      "application/vnd.jupyter.widget-view+json": {
       "model_id": "",
       "version_major": 2,
       "version_minor": 0
      },
      "text/plain": [
       "FloatProgress(value=0.0, bar_style='info', description='Progress:', layout=Layout(height='25px', width='50%'),…"
      ]
     },
     "metadata": {},
     "output_type": "display_data"
    }
   ],
   "source": [
    "event_data = \"s3n://udacity-dsnd/sparkify/sparkify_event_data.json\"\n",
    "df = spark.read.json(event_data)"
   ]
  },
  {
   "cell_type": "code",
   "execution_count": 6,
   "metadata": {},
   "outputs": [
    {
     "data": {
      "application/vnd.jupyter.widget-view+json": {
       "model_id": "1369df75b95441feaf013f3ff9021670",
       "version_major": 2,
       "version_minor": 0
      },
      "text/plain": [
       "VBox()"
      ]
     },
     "metadata": {},
     "output_type": "display_data"
    },
    {
     "data": {
      "application/vnd.jupyter.widget-view+json": {
       "model_id": "",
       "version_major": 2,
       "version_minor": 0
      },
      "text/plain": [
       "FloatProgress(value=0.0, bar_style='info', description='Progress:', layout=Layout(height='25px', width='50%'),…"
      ]
     },
     "metadata": {},
     "output_type": "display_data"
    },
    {
     "name": "stdout",
     "output_type": "stream",
     "text": [
      "DataFrame[artist: string, auth: string, firstName: string, gender: string, itemInSession: bigint, lastName: string, length: double, level: string, location: string, method: string, page: string, registration: bigint, sessionId: bigint, song: string, status: bigint, ts: bigint, userAgent: string, userId: string]"
     ]
    }
   ],
   "source": [
    "# Persist data on cluster\n",
    "df.persist()"
   ]
  },
  {
   "cell_type": "code",
   "execution_count": 7,
   "metadata": {},
   "outputs": [
    {
     "data": {
      "application/vnd.jupyter.widget-view+json": {
       "model_id": "3b11803adb0a4935a23917da8bd7159f",
       "version_major": 2,
       "version_minor": 0
      },
      "text/plain": [
       "VBox()"
      ]
     },
     "metadata": {},
     "output_type": "display_data"
    },
    {
     "data": {
      "application/vnd.jupyter.widget-view+json": {
       "model_id": "",
       "version_major": 2,
       "version_minor": 0
      },
      "text/plain": [
       "FloatProgress(value=0.0, bar_style='info', description='Progress:', layout=Layout(height='25px', width='50%'),…"
      ]
     },
     "metadata": {},
     "output_type": "display_data"
    },
    {
     "name": "stdout",
     "output_type": "stream",
     "text": [
      "root\n",
      " |-- artist: string (nullable = true)\n",
      " |-- auth: string (nullable = true)\n",
      " |-- firstName: string (nullable = true)\n",
      " |-- gender: string (nullable = true)\n",
      " |-- itemInSession: long (nullable = true)\n",
      " |-- lastName: string (nullable = true)\n",
      " |-- length: double (nullable = true)\n",
      " |-- level: string (nullable = true)\n",
      " |-- location: string (nullable = true)\n",
      " |-- method: string (nullable = true)\n",
      " |-- page: string (nullable = true)\n",
      " |-- registration: long (nullable = true)\n",
      " |-- sessionId: long (nullable = true)\n",
      " |-- song: string (nullable = true)\n",
      " |-- status: long (nullable = true)\n",
      " |-- ts: long (nullable = true)\n",
      " |-- userAgent: string (nullable = true)\n",
      " |-- userId: string (nullable = true)"
     ]
    }
   ],
   "source": [
    "# Check schema and column types\n",
    "df.printSchema()"
   ]
  },
  {
   "cell_type": "code",
   "execution_count": 8,
   "metadata": {},
   "outputs": [
    {
     "data": {
      "application/vnd.jupyter.widget-view+json": {
       "model_id": "43f338c36b5f43b8a45e2316acaf7ba8",
       "version_major": 2,
       "version_minor": 0
      },
      "text/plain": [
       "VBox()"
      ]
     },
     "metadata": {},
     "output_type": "display_data"
    },
    {
     "data": {
      "application/vnd.jupyter.widget-view+json": {
       "model_id": "",
       "version_major": 2,
       "version_minor": 0
      },
      "text/plain": [
       "FloatProgress(value=0.0, bar_style='info', description='Progress:', layout=Layout(height='25px', width='50%'),…"
      ]
     },
     "metadata": {},
     "output_type": "display_data"
    },
    {
     "name": "stdout",
     "output_type": "stream",
     "text": [
      "[Row(artist='Popol Vuh', auth='Logged In', firstName='Shlok', gender='M', itemInSession=278, lastName='Johnson', length=524.32934, level='paid', location='Dallas-Fort Worth-Arlington, TX', method='PUT', page='NextSong', registration=1533734541000, sessionId=22683, song='Ich mache einen Spiegel - Dream Part 4', status=200, ts=1538352001000, userAgent='\"Mozilla/5.0 (Windows NT 6.1; WOW64) AppleWebKit/537.36 (KHTML, like Gecko) Chrome/36.0.1985.143 Safari/537.36\"', userId='1749042'), Row(artist='Los Bunkers', auth='Logged In', firstName='Vianney', gender='F', itemInSession=9, lastName='Miller', length=238.39302, level='paid', location='San Francisco-Oakland-Hayward, CA', method='PUT', page='NextSong', registration=1537500318000, sessionId=20836, song='MiÃ\\x83Â©ntele', status=200, ts=1538352002000, userAgent='\"Mozilla/5.0 (Macintosh; Intel Mac OS X 10_9_4) AppleWebKit/537.36 (KHTML, like Gecko) Chrome/36.0.1985.143 Safari/537.36\"', userId='1563081'), Row(artist='Lush', auth='Logged In', firstName='Vina', gender='F', itemInSession=109, lastName='Bailey', length=140.35546, level='paid', location='Hilo, HI', method='PUT', page='NextSong', registration=1536414505000, sessionId=4593, song='Baby Talk', status=200, ts=1538352002000, userAgent='Mozilla/5.0 (Macintosh; Intel Mac OS X 10.9; rv:31.0) Gecko/20100101 Firefox/31.0', userId='1697168'), Row(artist='Barry Tuckwell/Academy of St Martin-in-the-Fields/Sir Neville Marriner', auth='Logged In', firstName='Andres', gender='M', itemInSession=71, lastName='Foley', length=277.15873, level='paid', location='Watertown, SD', method='PUT', page='NextSong', registration=1534386660000, sessionId=6370, song='Horn Concerto No. 4 in E flat K495: II. Romance (Andante cantabile)', status=200, ts=1538352003000, userAgent='\"Mozilla/5.0 (Macintosh; Intel Mac OS X 10_9_4) AppleWebKit/537.77.4 (KHTML, like Gecko) Version/7.0.5 Safari/537.77.4\"', userId='1222580'), Row(artist='Yes', auth='Logged In', firstName='Aaliyah', gender='F', itemInSession=21, lastName='Ramirez', length=1121.25342, level='paid', location='Baltimore-Columbia-Towson, MD', method='PUT', page='NextSong', registration=1537381415000, sessionId=22316, song='Close To The Edge (I. The Solid Time Of Change_ II. Total Mass Retain_ III. I Get Up I Get Down_ IV. Seasons Of Man) (Remastered LP Version)', status=200, ts=1538352003000, userAgent='\"Mozilla/5.0 (Windows NT 6.1; WOW64) AppleWebKit/537.36 (KHTML, like Gecko) Chrome/36.0.1985.143 Safari/537.36\"', userId='1714398')]"
     ]
    }
   ],
   "source": [
    "df.head(5)"
   ]
  },
  {
   "cell_type": "code",
   "execution_count": 21,
   "metadata": {},
   "outputs": [
    {
     "data": {
      "application/vnd.jupyter.widget-view+json": {
       "model_id": "",
       "version_major": 2,
       "version_minor": 0
      },
      "text/plain": [
       "FloatProgress(value=0.0, bar_style='info', description='Progress:', layout=Layout(height='25px', width='50%'),…"
      ]
     },
     "metadata": {},
     "output_type": "display_data"
    },
    {
     "data": {
      "application/vnd.jupyter.widget-view+json": {
       "model_id": "",
       "version_major": 2,
       "version_minor": 0
      },
      "text/plain": [
       "FloatProgress(value=0.0, bar_style='info', description='Progress:', layout=Layout(height='25px', width='50%'),…"
      ]
     },
     "metadata": {},
     "output_type": "display_data"
    }
   ],
   "source": [
    "%%spark -o df_head\n",
    "df_head = df.limit(5)"
   ]
  },
  {
   "cell_type": "code",
   "execution_count": 38,
   "metadata": {},
   "outputs": [
    {
     "data": {
      "application/vnd.jupyter.widget-view+json": {
       "model_id": "9cf931b320da4a2e8ac007d23aef85a7",
       "version_major": 2,
       "version_minor": 0
      },
      "text/plain": [
       "VBox(children=(HBox(children=(HTML(value='Type:'), Button(description='Table', layout=Layout(width='70px'), st…"
      ]
     },
     "metadata": {},
     "output_type": "display_data"
    },
    {
     "data": {
      "application/vnd.jupyter.widget-view+json": {
       "model_id": "9fbea863a0ab4c6a8d9fef4d0cc007e3",
       "version_major": 2,
       "version_minor": 0
      },
      "text/plain": [
       "Output()"
      ]
     },
     "metadata": {},
     "output_type": "display_data"
    }
   ],
   "source": [
    "%local\n",
    "df_head"
   ]
  },
  {
   "cell_type": "code",
   "execution_count": 23,
   "metadata": {},
   "outputs": [
    {
     "data": {
      "application/vnd.jupyter.widget-view+json": {
       "model_id": "ab26eb39f7f64e9788762e1cf55afc9a",
       "version_major": 2,
       "version_minor": 0
      },
      "text/plain": [
       "VBox()"
      ]
     },
     "metadata": {},
     "output_type": "display_data"
    },
    {
     "data": {
      "application/vnd.jupyter.widget-view+json": {
       "model_id": "",
       "version_major": 2,
       "version_minor": 0
      },
      "text/plain": [
       "FloatProgress(value=0.0, bar_style='info', description='Progress:', layout=Layout(height='25px', width='50%'),…"
      ]
     },
     "metadata": {},
     "output_type": "display_data"
    },
    {
     "name": "stdout",
     "output_type": "stream",
     "text": [
      "Number of rows mini dataset 26259199\n",
      "Number of columns mini dataset 18\n",
      "Number of duplicated rows in mini dataset 0"
     ]
    }
   ],
   "source": [
    "print('Number of rows full dataset', df.count())\n",
    "print('Number of columns full dataset', len(df.columns))\n",
    "print('Number of duplicated rows in full dataset', df.count() - df.dropDuplicates().count())"
   ]
  },
  {
   "cell_type": "markdown",
   "metadata": {},
   "source": [
    "#### Let's check our data for numerical columns:"
   ]
  },
  {
   "cell_type": "code",
   "execution_count": 24,
   "metadata": {},
   "outputs": [
    {
     "data": {
      "application/vnd.jupyter.widget-view+json": {
       "model_id": "229378d2ecae4867a53a55baf31e005c",
       "version_major": 2,
       "version_minor": 0
      },
      "text/plain": [
       "VBox()"
      ]
     },
     "metadata": {},
     "output_type": "display_data"
    },
    {
     "data": {
      "application/vnd.jupyter.widget-view+json": {
       "model_id": "",
       "version_major": 2,
       "version_minor": 0
      },
      "text/plain": [
       "FloatProgress(value=0.0, bar_style='info', description='Progress:', layout=Layout(height='25px', width='50%'),…"
      ]
     },
     "metadata": {},
     "output_type": "display_data"
    },
    {
     "name": "stdout",
     "output_type": "stream",
     "text": [
      "['itemInSession', 'length', 'registration', 'sessionId', 'status', 'ts']"
     ]
    }
   ],
   "source": [
    "numCols = [col[0] for col in df.dtypes if not col[1]=='string']; numCols"
   ]
  },
  {
   "cell_type": "code",
   "execution_count": 25,
   "metadata": {},
   "outputs": [
    {
     "data": {
      "application/vnd.jupyter.widget-view+json": {
       "model_id": "9da1e68b538f45f69bdf233722e87bf7",
       "version_major": 2,
       "version_minor": 0
      },
      "text/plain": [
       "VBox()"
      ]
     },
     "metadata": {},
     "output_type": "display_data"
    },
    {
     "data": {
      "application/vnd.jupyter.widget-view+json": {
       "model_id": "",
       "version_major": 2,
       "version_minor": 0
      },
      "text/plain": [
       "FloatProgress(value=0.0, bar_style='info', description='Progress:', layout=Layout(height='25px', width='50%'),…"
      ]
     },
     "metadata": {},
     "output_type": "display_data"
    },
    {
     "name": "stdout",
     "output_type": "stream",
     "text": [
      "+-------+------------------+------------------+--------------------+------------------+------------------+--------------------+\n",
      "|summary|     itemInSession|            length|        registration|         sessionId|            status|                  ts|\n",
      "+-------+------------------+------------------+--------------------+------------------+------------------+--------------------+\n",
      "|  count|          26259199|          20850272|            25480720|          26259199|          26259199|            26259199|\n",
      "|   mean|106.56267561702853|248.72543296748836|1.535220665260512...|100577.99253503505|210.06768953615074|1.540905636113772...|\n",
      "| stddev|117.65812617523804| 97.28710387078067|3.2402990978250666E9| 71909.21077875949| 31.55072878819763|1.5158105552718916E9|\n",
      "|    min|                 0|             0.522|       1508018725000|                 1|               200|       1538352001000|\n",
      "|    max|              1428|        3024.66567|       1543821822000|            240381|               404|       1543622402000|\n",
      "+-------+------------------+------------------+--------------------+------------------+------------------+--------------------+"
     ]
    }
   ],
   "source": [
    "df.select(numCols).describe().show()"
   ]
  },
  {
   "cell_type": "markdown",
   "metadata": {},
   "source": [
    "For some informations above (`registration`, `sessionId`, `status`, `ts`) it doesn't make sense to analyze as numbers. We will dive deeper in the next Exploratory Data Analysis session of this notebook."
   ]
  },
  {
   "cell_type": "markdown",
   "metadata": {},
   "source": [
    "#### Let's check our data for categorical columns:"
   ]
  },
  {
   "cell_type": "code",
   "execution_count": 26,
   "metadata": {},
   "outputs": [
    {
     "data": {
      "application/vnd.jupyter.widget-view+json": {
       "model_id": "e68ff837d136407eb09519c078c637ab",
       "version_major": 2,
       "version_minor": 0
      },
      "text/plain": [
       "VBox()"
      ]
     },
     "metadata": {},
     "output_type": "display_data"
    },
    {
     "data": {
      "application/vnd.jupyter.widget-view+json": {
       "model_id": "",
       "version_major": 2,
       "version_minor": 0
      },
      "text/plain": [
       "FloatProgress(value=0.0, bar_style='info', description='Progress:', layout=Layout(height='25px', width='50%'),…"
      ]
     },
     "metadata": {},
     "output_type": "display_data"
    },
    {
     "name": "stdout",
     "output_type": "stream",
     "text": [
      "['artist', 'auth', 'firstName', 'gender', 'lastName', 'level', 'location', 'method', 'page', 'song', 'userAgent', 'userId']"
     ]
    }
   ],
   "source": [
    "text_cols = [col[0] for col in df.dtypes if col[1]=='string']; text_cols"
   ]
  },
  {
   "cell_type": "markdown",
   "metadata": {},
   "source": [
    "Although not expected by inspecting the data, `userId` is actually a string.\n",
    "\n",
    "We check other information about our text data (not interested in `firstName` and `lastName`):"
   ]
  },
  {
   "cell_type": "code",
   "execution_count": 27,
   "metadata": {},
   "outputs": [
    {
     "data": {
      "application/vnd.jupyter.widget-view+json": {
       "model_id": "f10b48de3d3f4d27af5ab459684d546d",
       "version_major": 2,
       "version_minor": 0
      },
      "text/plain": [
       "VBox()"
      ]
     },
     "metadata": {},
     "output_type": "display_data"
    },
    {
     "data": {
      "application/vnd.jupyter.widget-view+json": {
       "model_id": "",
       "version_major": 2,
       "version_minor": 0
      },
      "text/plain": [
       "FloatProgress(value=0.0, bar_style='info', description='Progress:', layout=Layout(height='25px', width='50%'),…"
      ]
     },
     "metadata": {},
     "output_type": "display_data"
    },
    {
     "name": "stdout",
     "output_type": "stream",
     "text": [
      "+-----------------------+---------------------+------------------+-------------------------+\n",
      "|numberOfDistinctArtists|numberOfDistinctSongs|numberOfuserAgents|numberOfDistinctLocations|\n",
      "+-----------------------+---------------------+------------------+-------------------------+\n",
      "|                  38337|               311148|                85|                      886|\n",
      "+-----------------------+---------------------+------------------+-------------------------+"
     ]
    }
   ],
   "source": [
    "dist_artists = df.select(F.countDistinct('artist').alias('numberOfDistinctArtists')).withColumn(\"id\", F.monotonically_increasing_id())\n",
    "\n",
    "dist_songs = df.select(['song','artist']).groupBy('song').agg(F.countDistinct('artist').alias('countDistinctArtists')).\\\n",
    "    select(F.sum('countDistinctArtists').alias('numberOfDistinctSongs')).withColumn(\"id\", F.monotonically_increasing_id())\n",
    "\n",
    "dist_user_agents = df.select(F.countDistinct('userAgent').alias('numberOfuserAgents')).withColumn(\"id\", F.monotonically_increasing_id())\n",
    "\n",
    "dist_locations = df.select(F.countDistinct('location').alias('numberOfDistinctLocations')).withColumn(\"id\", F.monotonically_increasing_id())\n",
    "\n",
    "text_cols_info = dist_artists.join(dist_songs, \"id\", \"outer\")\\\n",
    "                             .join(dist_user_agents, \"id\", \"outer\")\\\n",
    "                             .join(dist_locations, \"id\", \"outer\").drop('id')\\\n",
    "\n",
    "text_cols_info.show()"
   ]
  },
  {
   "cell_type": "markdown",
   "metadata": {},
   "source": [
    "Sparkify's full dataset contains has 38337 different artists, 311148 songs, users in 886 different locations that use 85 different types of devices/software to access the app."
   ]
  },
  {
   "cell_type": "code",
   "execution_count": 28,
   "metadata": {},
   "outputs": [
    {
     "data": {
      "application/vnd.jupyter.widget-view+json": {
       "model_id": "2935d20804c248cfa34e2731707b7a1d",
       "version_major": 2,
       "version_minor": 0
      },
      "text/plain": [
       "VBox()"
      ]
     },
     "metadata": {},
     "output_type": "display_data"
    },
    {
     "data": {
      "application/vnd.jupyter.widget-view+json": {
       "model_id": "",
       "version_major": 2,
       "version_minor": 0
      },
      "text/plain": [
       "FloatProgress(value=0.0, bar_style='info', description='Progress:', layout=Layout(height='25px', width='50%'),…"
      ]
     },
     "metadata": {},
     "output_type": "display_data"
    },
    {
     "name": "stdout",
     "output_type": "stream",
     "text": [
      "+----------+--------+\n",
      "|auth      |count   |\n",
      "+----------+--------+\n",
      "|Guest     |4194    |\n",
      "|Cancelled |5003    |\n",
      "|Logged Out|774285  |\n",
      "|Logged In |25475717|\n",
      "+----------+--------+\n",
      "\n",
      "+------+--------+\n",
      "|gender|count   |\n",
      "+------+--------+\n",
      "|null  |778479  |\n",
      "|F     |12181158|\n",
      "|M     |13299562|\n",
      "+------+--------+\n",
      "\n",
      "+-----+--------+\n",
      "|level|count   |\n",
      "+-----+--------+\n",
      "|free |5663371 |\n",
      "|paid |20595828|\n",
      "+-----+--------+\n",
      "\n",
      "+------+--------+\n",
      "|method|count   |\n",
      "+------+--------+\n",
      "|GET   |2389761 |\n",
      "|PUT   |23869438|\n",
      "+------+--------+\n",
      "\n",
      "+-------------------------+--------+\n",
      "|page                     |count   |\n",
      "+-------------------------+--------+\n",
      "|Submit Registration      |401     |\n",
      "|Register                 |802     |\n",
      "|Cancel                   |5003    |\n",
      "|Cancellation Confirmation|5003    |\n",
      "|Submit Downgrade         |6494    |\n",
      "|Submit Upgrade           |15135   |\n",
      "|Error                    |25962   |\n",
      "|Save Settings            |29516   |\n",
      "|Upgrade                  |50507   |\n",
      "|About                    |92759   |\n",
      "|Settings                 |147074  |\n",
      "|Help                     |155100  |\n",
      "|Downgrade                |184240  |\n",
      "|Thumbs Down              |239212  |\n",
      "|Logout                   |296005  |\n",
      "|Login                    |296350  |\n",
      "|Add Friend               |381664  |\n",
      "|Roll Advert              |385212  |\n",
      "|Add to Playlist          |597921  |\n",
      "|Thumbs Up                |1151465 |\n",
      "|Home                     |1343102 |\n",
      "|NextSong                 |20850272|\n",
      "+-------------------------+--------+\n",
      "\n",
      "+------+--------+\n",
      "|status|count   |\n",
      "+------+--------+\n",
      "|404   |25962   |\n",
      "|307   |2421245 |\n",
      "|200   |23811992|\n",
      "+------+--------+"
     ]
    }
   ],
   "source": [
    "# We calculate value counts for:\n",
    "text_cols_value_counts = ['auth',\n",
    "                         'gender',\n",
    "                         'level',\n",
    "                         'method',\n",
    "                         'page',\n",
    "                         'status']\n",
    "\n",
    "for column in text_cols_value_counts:\n",
    "    df.select(column).groupBy(column).count().orderBy('count').show(30, truncate=False)"
   ]
  },
  {
   "cell_type": "markdown",
   "metadata": {},
   "source": [
    "#### Loading, cleaning the dataset and checking for invalid or missing data - for example, records without userids or sessionids. "
   ]
  },
  {
   "cell_type": "code",
   "execution_count": 29,
   "metadata": {},
   "outputs": [
    {
     "data": {
      "application/vnd.jupyter.widget-view+json": {
       "model_id": "06471dd03d78435c9c5d1d137de2ac50",
       "version_major": 2,
       "version_minor": 0
      },
      "text/plain": [
       "VBox()"
      ]
     },
     "metadata": {},
     "output_type": "display_data"
    },
    {
     "data": {
      "application/vnd.jupyter.widget-view+json": {
       "model_id": "",
       "version_major": 2,
       "version_minor": 0
      },
      "text/plain": [
       "FloatProgress(value=0.0, bar_style='info', description='Progress:', layout=Layout(height='25px', width='50%'),…"
      ]
     },
     "metadata": {},
     "output_type": "display_data"
    },
    {
     "name": "stdout",
     "output_type": "stream",
     "text": [
      "   artistIsNan  authIsNan  firstNameIsNan  ...  tsIsNan  userAgentIsNan  userIdIsNan\n",
      "0            0          0               0  ...        0               0            0\n",
      "\n",
      "[1 rows x 18 columns]"
     ]
    }
   ],
   "source": [
    "#Checking if there are NaNs\n",
    "df.select([F.count(F.when(F.isnan(c), c)).alias(c+'IsNan') for c in df.columns]).toPandas()"
   ]
  },
  {
   "cell_type": "markdown",
   "metadata": {},
   "source": [
    "No Nans in the full dataset."
   ]
  },
  {
   "cell_type": "code",
   "execution_count": 30,
   "metadata": {},
   "outputs": [
    {
     "data": {
      "application/vnd.jupyter.widget-view+json": {
       "model_id": "dbe682ed8bfa4ca4b8d37dee500b5779",
       "version_major": 2,
       "version_minor": 0
      },
      "text/plain": [
       "VBox()"
      ]
     },
     "metadata": {},
     "output_type": "display_data"
    },
    {
     "data": {
      "application/vnd.jupyter.widget-view+json": {
       "model_id": "",
       "version_major": 2,
       "version_minor": 0
      },
      "text/plain": [
       "FloatProgress(value=0.0, bar_style='info', description='Progress:', layout=Layout(height='25px', width='50%'),…"
      ]
     },
     "metadata": {},
     "output_type": "display_data"
    },
    {
     "name": "stdout",
     "output_type": "stream",
     "text": [
      "   artistIsNull  authIsNull  ...  userAgentIsNull  userIdIsNull\n",
      "0       5408927           0  ...           778479             0\n",
      "\n",
      "[1 rows x 18 columns]"
     ]
    }
   ],
   "source": [
    "#Checking if there are null values\n",
    "df.select([F.count(F.when(col(c).isNull(), c)).alias(c+'IsNull') for c in df.columns]).toPandas()"
   ]
  },
  {
   "cell_type": "markdown",
   "metadata": {},
   "source": [
    "Appearently missing data is correlated (missing counts of columns consistently appear having 8346 or 58392 Null values)."
   ]
  },
  {
   "cell_type": "markdown",
   "metadata": {},
   "source": [
    "Let's check how missing values are correlated:"
   ]
  },
  {
   "cell_type": "code",
   "execution_count": 31,
   "metadata": {},
   "outputs": [
    {
     "data": {
      "application/vnd.jupyter.widget-view+json": {
       "model_id": "f7f360cf727343a68b1c6cd010028ef1",
       "version_major": 2,
       "version_minor": 0
      },
      "text/plain": [
       "VBox()"
      ]
     },
     "metadata": {},
     "output_type": "display_data"
    },
    {
     "data": {
      "application/vnd.jupyter.widget-view+json": {
       "model_id": "",
       "version_major": 2,
       "version_minor": 0
      },
      "text/plain": [
       "FloatProgress(value=0.0, bar_style='info', description='Progress:', layout=Layout(height='25px', width='50%'),…"
      ]
     },
     "metadata": {},
     "output_type": "display_data"
    }
   ],
   "source": [
    "# Check null values: 1 is null and 0 not null\n",
    "df_is_null = df.select([F.when(col(c).isNull(), 1).otherwise(0).alias(c) for c in df.columns])\n",
    "\n",
    "df_is_null_describe = df_is_null.describe()\n",
    "\n",
    "df_is_null_describe = df_is_null_describe.filter(\n",
    "    (df_is_null_describe['summary']=='stddev') | \n",
    "    (df_is_null_describe['summary'] == 'max')\n",
    ")\n",
    "\n",
    "# Handle the std equals to zero (all values are the same) and without any null value\n",
    "zero_std_max_cols = [col for col in df_is_null_describe.columns if df_is_null_describe.select(F.collect_list(col)).head().asDict()['collect_list('+col+')'] == ['0.0', '0']]\n",
    "\n",
    "# Drop all columns with Standard Deviation equals zero and no missing values\n",
    "df_is_null = df_is_null.drop(*zero_std_max_cols)\n",
    "\n",
    "# Create vectors \n",
    "assembler = VectorAssembler(inputCols=df_is_null.columns, outputCol='vector')\n",
    "assembled = assembler.transform(df_is_null).drop(*df_is_null.columns)\n",
    "\n",
    "# Calculate and print Pearson correlation matrix for missing values\n",
    "pearson_corr = Correlation.corr(assembled, 'vector').head()\n",
    "pearson_corr = pd.DataFrame(data=pearson_corr[0].toArray(), columns=df_is_null.columns, index=df_is_null.columns)"
   ]
  },
  {
   "cell_type": "code",
   "execution_count": 32,
   "metadata": {},
   "outputs": [
    {
     "data": {
      "application/vnd.jupyter.widget-view+json": {
       "model_id": "d21702fc8b0b497794fa0841c6cee5df",
       "version_major": 2,
       "version_minor": 0
      },
      "text/plain": [
       "VBox()"
      ]
     },
     "metadata": {},
     "output_type": "display_data"
    },
    {
     "data": {
      "application/vnd.jupyter.widget-view+json": {
       "model_id": "",
       "version_major": 2,
       "version_minor": 0
      },
      "text/plain": [
       "FloatProgress(value=0.0, bar_style='info', description='Progress:', layout=Layout(height='25px', width='50%'),…"
      ]
     },
     "metadata": {},
     "output_type": "display_data"
    },
    {
     "name": "stdout",
     "output_type": "stream",
     "text": [
      "<matplotlib.axes._subplots.AxesSubplot object at 0x7fb17d1f51d0>"
     ]
    }
   ],
   "source": [
    "fig, ax = plt.subplots(figsize=(8, 10))\n",
    "sns.heatmap(pearson_corr, ax=ax, annot=True);"
   ]
  },
  {
   "cell_type": "markdown",
   "metadata": {},
   "source": [
    "When there's a null in `artist` column also a null in `length` and `song` happen. Hence, this data may be related and length appears to be the length in seconds of songs. \n",
    "\n",
    "Similarly, data related to users are related and when a null happens in either `firstName`, `lastName`, `gender`, `location`, `userAgent` and `registration` the others are null too. The column registration seems to be related to the timestamp of when a user registers himself/herself in the application."
   ]
  },
  {
   "cell_type": "markdown",
   "metadata": {},
   "source": [
    "Let's check `userId`:"
   ]
  },
  {
   "cell_type": "code",
   "execution_count": 33,
   "metadata": {},
   "outputs": [
    {
     "data": {
      "application/vnd.jupyter.widget-view+json": {
       "model_id": "5737eb0c37374fc18a05bc3ba5be5521",
       "version_major": 2,
       "version_minor": 0
      },
      "text/plain": [
       "VBox()"
      ]
     },
     "metadata": {},
     "output_type": "display_data"
    },
    {
     "data": {
      "application/vnd.jupyter.widget-view+json": {
       "model_id": "",
       "version_major": 2,
       "version_minor": 0
      },
      "text/plain": [
       "FloatProgress(value=0.0, bar_style='info', description='Progress:', layout=Layout(height='25px', width='50%'),…"
      ]
     },
     "metadata": {},
     "output_type": "display_data"
    },
    {
     "name": "stdout",
     "output_type": "stream",
     "text": [
      "+-------+------------+\n",
      "| userId|userIdLength|\n",
      "+-------+------------+\n",
      "|1429562|           7|\n",
      "|1563125|           7|\n",
      "|1142300|           7|\n",
      "|1716743|           7|\n",
      "|1756414|           7|\n",
      "+-------+------------+\n",
      "only showing top 5 rows"
     ]
    }
   ],
   "source": [
    "# userId is string and shold be always with length greater than 0\n",
    "df.select('userId', F.length(col('userId')).alias('userIdLength')).distinct().orderBy(col('userIdLength')).show(5)"
   ]
  },
  {
   "cell_type": "code",
   "execution_count": 34,
   "metadata": {},
   "outputs": [
    {
     "data": {
      "application/vnd.jupyter.widget-view+json": {
       "model_id": "ef679eb7ce894aed89a49b0da59b22fb",
       "version_major": 2,
       "version_minor": 0
      },
      "text/plain": [
       "VBox()"
      ]
     },
     "metadata": {},
     "output_type": "display_data"
    },
    {
     "data": {
      "application/vnd.jupyter.widget-view+json": {
       "model_id": "",
       "version_major": 2,
       "version_minor": 0
      },
      "text/plain": [
       "FloatProgress(value=0.0, bar_style='info', description='Progress:', layout=Layout(height='25px', width='50%'),…"
      ]
     },
     "metadata": {},
     "output_type": "display_data"
    },
    {
     "name": "stdout",
     "output_type": "stream",
     "text": [
      "0"
     ]
    }
   ],
   "source": [
    "# number of users with userId equals to ''\n",
    "df.filter(df.userId=='').count()"
   ]
  },
  {
   "cell_type": "markdown",
   "metadata": {},
   "source": [
    "In the full dataset there are no users with userId equals to `''` (length of the string userId is zero). Perhaps those users without userId are those who have not signed up yet or that are signed out and are about to log in and somehow were only in the mini-dataset.\n",
    "\n",
    "We'll drop them from our dataframe (in order for the analysis of individual users make sense):"
   ]
  },
  {
   "cell_type": "code",
   "execution_count": 35,
   "metadata": {},
   "outputs": [
    {
     "data": {
      "application/vnd.jupyter.widget-view+json": {
       "model_id": "537d4ac248ba494f92440093182d2326",
       "version_major": 2,
       "version_minor": 0
      },
      "text/plain": [
       "VBox()"
      ]
     },
     "metadata": {},
     "output_type": "display_data"
    },
    {
     "data": {
      "application/vnd.jupyter.widget-view+json": {
       "model_id": "",
       "version_major": 2,
       "version_minor": 0
      },
      "text/plain": [
       "FloatProgress(value=0.0, bar_style='info', description='Progress:', layout=Layout(height='25px', width='50%'),…"
      ]
     },
     "metadata": {},
     "output_type": "display_data"
    }
   ],
   "source": [
    "# Drop userId equals to ''\n",
    "df = df.filter(df.userId!='')"
   ]
  },
  {
   "cell_type": "code",
   "execution_count": 36,
   "metadata": {},
   "outputs": [
    {
     "data": {
      "application/vnd.jupyter.widget-view+json": {
       "model_id": "ab4c85a7c8284f04b245bf45f0b57ddc",
       "version_major": 2,
       "version_minor": 0
      },
      "text/plain": [
       "VBox()"
      ]
     },
     "metadata": {},
     "output_type": "display_data"
    },
    {
     "data": {
      "application/vnd.jupyter.widget-view+json": {
       "model_id": "",
       "version_major": 2,
       "version_minor": 0
      },
      "text/plain": [
       "FloatProgress(value=0.0, bar_style='info', description='Progress:', layout=Layout(height='25px', width='50%'),…"
      ]
     },
     "metadata": {},
     "output_type": "display_data"
    },
    {
     "name": "stdout",
     "output_type": "stream",
     "text": [
      "26259199"
     ]
    }
   ],
   "source": [
    "# Full dataset has 26,259,199 rows. It should stay the same\n",
    "df.count()"
   ]
  },
  {
   "cell_type": "code",
   "execution_count": 37,
   "metadata": {},
   "outputs": [
    {
     "data": {
      "application/vnd.jupyter.widget-view+json": {
       "model_id": "179fe6a7777a44f9b18d3b81a43c47af",
       "version_major": 2,
       "version_minor": 0
      },
      "text/plain": [
       "VBox()"
      ]
     },
     "metadata": {},
     "output_type": "display_data"
    },
    {
     "data": {
      "application/vnd.jupyter.widget-view+json": {
       "model_id": "",
       "version_major": 2,
       "version_minor": 0
      },
      "text/plain": [
       "FloatProgress(value=0.0, bar_style='info', description='Progress:', layout=Layout(height='25px', width='50%'),…"
      ]
     },
     "metadata": {},
     "output_type": "display_data"
    },
    {
     "name": "stdout",
     "output_type": "stream",
     "text": [
      "There are 22278 users in the mini dataset."
     ]
    }
   ],
   "source": [
    "print(f\"There are {df.select('userId').distinct().count()} users in the full dataset.\")"
   ]
  },
  {
   "cell_type": "markdown",
   "metadata": {},
   "source": [
    "# Exploratory Data Analysis\n",
    "\n",
    "### Define Churn\n",
    "\n",
    "We create a column `Churn` to use as the label for our model. We choose the `Cancellation Confirmation` events to define the churn, which happen for both paid and free users. We also analyze the `Downgrade` events."
   ]
  },
  {
   "cell_type": "code",
   "execution_count": 45,
   "metadata": {},
   "outputs": [
    {
     "data": {
      "application/vnd.jupyter.widget-view+json": {
       "model_id": "974816bd5fdc4afcbd541431b74b7b01",
       "version_major": 2,
       "version_minor": 0
      },
      "text/plain": [
       "VBox()"
      ]
     },
     "metadata": {},
     "output_type": "display_data"
    },
    {
     "data": {
      "application/vnd.jupyter.widget-view+json": {
       "model_id": "",
       "version_major": 2,
       "version_minor": 0
      },
      "text/plain": [
       "FloatProgress(value=0.0, bar_style='info', description='Progress:', layout=Layout(height='25px', width='50%'),…"
      ]
     },
     "metadata": {},
     "output_type": "display_data"
    },
    {
     "name": "stdout",
     "output_type": "stream",
     "text": [
      "churner_ids: ['1768454', '1381915', '1298443', '1379352', '1068112', '1362621', '1276848', '1277353', '1274097', '1163202', '1809551', '1625954', '1015368', '1714714', '1467284', '1417019', '1191242', '1487256', '1231207', '1985954']\n",
      "\n",
      "Total churners in mini dataset: 5003"
     ]
    }
   ],
   "source": [
    "# Create Churn column\n",
    "churner_ids = df.select('userId').where(col('page')=='Cancellation Confirmation').toPandas()\n",
    "churner_ids = churner_ids.values.squeeze().tolist()\n",
    "print('churner_ids:', churner_ids[:20])\n",
    "print('\\nTotal churners in full dataset:', len(churner_ids))"
   ]
  },
  {
   "cell_type": "code",
   "execution_count": 46,
   "metadata": {},
   "outputs": [
    {
     "data": {
      "application/vnd.jupyter.widget-view+json": {
       "model_id": "ca99819ea0b642bab8a5b8d0a4f2a63c",
       "version_major": 2,
       "version_minor": 0
      },
      "text/plain": [
       "VBox()"
      ]
     },
     "metadata": {},
     "output_type": "display_data"
    },
    {
     "data": {
      "application/vnd.jupyter.widget-view+json": {
       "model_id": "",
       "version_major": 2,
       "version_minor": 0
      },
      "text/plain": [
       "FloatProgress(value=0.0, bar_style='info', description='Progress:', layout=Layout(height='25px', width='50%'),…"
      ]
     },
     "metadata": {},
     "output_type": "display_data"
    },
    {
     "name": "stdout",
     "output_type": "stream",
     "text": [
      "Total distinct users in mini dataset: 22278"
     ]
    }
   ],
   "source": [
    "all_ids = df.select('userId').distinct().toPandas()\n",
    "all_ids = all_ids.values.squeeze().tolist()\n",
    "print('Total distinct users in full dataset:', len(all_ids))"
   ]
  },
  {
   "cell_type": "code",
   "execution_count": 49,
   "metadata": {},
   "outputs": [
    {
     "data": {
      "application/vnd.jupyter.widget-view+json": {
       "model_id": "34b1d837c382495d9f0b97afd0b41939",
       "version_major": 2,
       "version_minor": 0
      },
      "text/plain": [
       "VBox()"
      ]
     },
     "metadata": {},
     "output_type": "display_data"
    },
    {
     "data": {
      "application/vnd.jupyter.widget-view+json": {
       "model_id": "",
       "version_major": 2,
       "version_minor": 0
      },
      "text/plain": [
       "FloatProgress(value=0.0, bar_style='info', description='Progress:', layout=Layout(height='25px', width='50%'),…"
      ]
     },
     "metadata": {},
     "output_type": "display_data"
    },
    {
     "name": "stdout",
     "output_type": "stream",
     "text": [
      "not_churner_ids: ['1000035', '1000103', '1000164', '1000168', '1000182', '1000194', '1000214', '1000233', '1000244', '1000248', '1000407', '1000409', '1000446', '1000527', '1000611', '1000625', '1000626', '1000655', '1000662', '1000908'] ...\n",
      "\n",
      "Total churners in mini dataset: 17275"
     ]
    }
   ],
   "source": [
    "not_churner_ids = np.setdiff1d(all_ids, churner_ids).tolist()\n",
    "print('not_churner_ids:', not_churner_ids[:20], '...')\n",
    "print('\\nTotal churners in full dataset:', len(not_churner_ids))"
   ]
  },
  {
   "cell_type": "code",
   "execution_count": 51,
   "metadata": {},
   "outputs": [
    {
     "data": {
      "application/vnd.jupyter.widget-view+json": {
       "model_id": "",
       "version_major": 2,
       "version_minor": 0
      },
      "text/plain": [
       "FloatProgress(value=0.0, bar_style='info', description='Progress:', layout=Layout(height='25px', width='50%'),…"
      ]
     },
     "metadata": {},
     "output_type": "display_data"
    },
    {
     "data": {
      "application/vnd.jupyter.widget-view+json": {
       "model_id": "",
       "version_major": 2,
       "version_minor": 0
      },
      "text/plain": [
       "FloatProgress(value=0.0, bar_style='info', description='Progress:', layout=Layout(height='25px', width='50%'),…"
      ]
     },
     "metadata": {},
     "output_type": "display_data"
    }
   ],
   "source": [
    "%spark -o df_head\n",
    "is_churn = udf(lambda usrIdCol: 1 if usrIdCol in churner_ids else 0, IntegerType())\n",
    "df = df.withColumn('churn', is_churn('userId'))\n",
    "\n",
    "df_head = df.limit(5)"
   ]
  },
  {
   "cell_type": "code",
   "execution_count": 55,
   "metadata": {},
   "outputs": [
    {
     "data": {
      "application/vnd.jupyter.widget-view+json": {
       "model_id": "23b175f6f07d4391b99e2d5a7bb7c4a4",
       "version_major": 2,
       "version_minor": 0
      },
      "text/plain": [
       "VBox(children=(HBox(children=(HTML(value='Type:'), Button(description='Table', layout=Layout(width='70px'), st…"
      ]
     },
     "metadata": {},
     "output_type": "display_data"
    },
    {
     "data": {
      "application/vnd.jupyter.widget-view+json": {
       "model_id": "8f57ffac7d9f4cd39210ad670aa42cad",
       "version_major": 2,
       "version_minor": 0
      },
      "text/plain": [
       "Output()"
      ]
     },
     "metadata": {},
     "output_type": "display_data"
    }
   ],
   "source": [
    "%local\n",
    "df_head"
   ]
  },
  {
   "cell_type": "markdown",
   "metadata": {},
   "source": [
    "### Explore Data\n",
    "Analyzing the behavior for users who stayed vs users who churned. \n",
    "We explore aggregates on these two groups of users, observing how much of a specific action they experienced per a certain time unit or number of songs played."
   ]
  },
  {
   "cell_type": "markdown",
   "metadata": {},
   "source": [
    "Without knowing much about the business nor the actual application, we can think the following possible reasons why users cancel the service:\n",
    "1. user is not using Sparkify\n",
    "2. Sparkify doesn't have specific songs/artists\n",
    "3. bad recommendations\n",
    "4. bad experience (streaming getting stuck, interface not intuitive in version of app, too many ads in the app, etc.)\n",
    "5. bugs (commands not responding or don't do what they should, crashes in the app, etc.)\n",
    "6. Sparkify too expensive\n",
    "7. don't have friends using Sparkify\n",
    "8. external influences (some news about company benefits/harms its image, country where users live imposes some limits, cost increase, etc.)\n",
    "\n",
    "From the hypothesis above:\n",
    "- `1.` we can check by counting number of interations in a given timeframe\n",
    "- `2.` we cannot check directly since we don't have logs for search queries which would be better (showing that the search query returned exactly what the user wanted) \n",
    "- `3.` we have the Add to Playlist, Thumbs Down and Thumbs Up `pages` which could indicate the quality of recommendations\n",
    "- `4.` and `5.` we don't have application logs which could indicate loading times, interrupting streaming. However, <a href=\"https://www.w3.org/Protocols/rfc2616/rfc2616-sec10.html#sec10.3.3\">status</a> could give us some information about the application and the Error and Help `pages`. In addition, <a href=\"https://developer.mozilla.org/en-US/docs/Web/HTTP/Headers/User-Agent\">userAgent</a> can also give us some information about Sparkify applications that are not behaving as expected (Windows, MacOS, specific browser, platform, etc.). The Roll Advert `page` indicates Advertising events and if it is affecting too much user experience (if we could reduce it or enphasize that user can upgrade plan)\n",
    "- `6.` as \"expensive\" may be an ambiguous definition and depend on many factors, with the dataset given we won't be able to infer anything.\n",
    "- `7.` Add Friend `page` could indicate that friends are also using app (in the provided dataset we don't have relationships between users which would be better)\n",
    "- `8.` again we would need more data related to the business and context to infer anything here\n",
    "\n",
    "We check the data to answer those questions and compare customers who churn with those who don't:"
   ]
  },
  {
   "cell_type": "code",
   "execution_count": 56,
   "metadata": {},
   "outputs": [
    {
     "data": {
      "application/vnd.jupyter.widget-view+json": {
       "model_id": "c72e6fd4174441c69b17dca65f38102c",
       "version_major": 2,
       "version_minor": 0
      },
      "text/plain": [
       "VBox()"
      ]
     },
     "metadata": {},
     "output_type": "display_data"
    },
    {
     "data": {
      "application/vnd.jupyter.widget-view+json": {
       "model_id": "",
       "version_major": 2,
       "version_minor": 0
      },
      "text/plain": [
       "FloatProgress(value=0.0, bar_style='info', description='Progress:', layout=Layout(height='25px', width='50%'),…"
      ]
     },
     "metadata": {},
     "output_type": "display_data"
    }
   ],
   "source": [
    "not_churn_users = df.filter(col('churn')==0)\n",
    "churn_users = df.filter(col('churn')==1)"
   ]
  },
  {
   "cell_type": "code",
   "execution_count": 57,
   "metadata": {},
   "outputs": [
    {
     "data": {
      "application/vnd.jupyter.widget-view+json": {
       "model_id": "577e3a4dd11d47ca88310544ac022d1f",
       "version_major": 2,
       "version_minor": 0
      },
      "text/plain": [
       "VBox()"
      ]
     },
     "metadata": {},
     "output_type": "display_data"
    },
    {
     "data": {
      "application/vnd.jupyter.widget-view+json": {
       "model_id": "",
       "version_major": 2,
       "version_minor": 0
      },
      "text/plain": [
       "FloatProgress(value=0.0, bar_style='info', description='Progress:', layout=Layout(height='25px', width='50%'),…"
      ]
     },
     "metadata": {},
     "output_type": "display_data"
    }
   ],
   "source": [
    "num_churn_users = churn_users.select('userId').distinct().count()\n",
    "num_not_churn_users = not_churn_users.select('userId').distinct().count()"
   ]
  },
  {
   "cell_type": "code",
   "execution_count": 58,
   "metadata": {},
   "outputs": [
    {
     "data": {
      "application/vnd.jupyter.widget-view+json": {
       "model_id": "d34c951893f74132b23b2d1909430ba1",
       "version_major": 2,
       "version_minor": 0
      },
      "text/plain": [
       "VBox()"
      ]
     },
     "metadata": {},
     "output_type": "display_data"
    },
    {
     "data": {
      "application/vnd.jupyter.widget-view+json": {
       "model_id": "",
       "version_major": 2,
       "version_minor": 0
      },
      "text/plain": [
       "FloatProgress(value=0.0, bar_style='info', description='Progress:', layout=Layout(height='25px', width='50%'),…"
      ]
     },
     "metadata": {},
     "output_type": "display_data"
    },
    {
     "name": "stdout",
     "output_type": "stream",
     "text": [
      "Number of users who churn: 5003\n",
      "Number of users who don't churns 17275\n",
      "Total (should be 225 users): 22278"
     ]
    }
   ],
   "source": [
    "# Sanity check (there should be 22278 users in total in the full dataset)\n",
    "print('Number of users who churn:', num_churn_users)\n",
    "print(\"Number of users who don't churns\", num_not_churn_users)\n",
    "print('Total (should be 26,259,199 users):', num_churn_users + num_not_churn_users)"
   ]
  },
  {
   "cell_type": "markdown",
   "metadata": {},
   "source": [
    "As we see, there is class imbalance in the fulldataset with ~22% of users who churn and ~78% of users who don't churn."
   ]
  },
  {
   "cell_type": "markdown",
   "metadata": {},
   "source": [
    "#### Some analysis"
   ]
  },
  {
   "cell_type": "code",
   "execution_count": 59,
   "metadata": {},
   "outputs": [
    {
     "data": {
      "application/vnd.jupyter.widget-view+json": {
       "model_id": "25e0cd0178024b318fd14b8da4778f01",
       "version_major": 2,
       "version_minor": 0
      },
      "text/plain": [
       "VBox()"
      ]
     },
     "metadata": {},
     "output_type": "display_data"
    },
    {
     "data": {
      "application/vnd.jupyter.widget-view+json": {
       "model_id": "",
       "version_major": 2,
       "version_minor": 0
      },
      "text/plain": [
       "FloatProgress(value=0.0, bar_style='info', description='Progress:', layout=Layout(height='25px', width='50%'),…"
      ]
     },
     "metadata": {},
     "output_type": "display_data"
    },
    {
     "name": "stdout",
     "output_type": "stream",
     "text": [
      "+-----------------------+--------------------------+\n",
      "|churnAvg(count(period))|notChurnAvg(count(period))|\n",
      "+-----------------------+--------------------------+\n",
      "|     23.048179539590876|         23.33570885918064|\n",
      "+-----------------------+--------------------------+"
     ]
    }
   ],
   "source": [
    "# How many songs do users listen to on average between visiting our home page (calculation shown in the Udacity course)\n",
    "\n",
    "fun = udf(lambda ishome : int(ishome == 'Home'), IntegerType())\n",
    "\n",
    "user_window = Window \\\n",
    "    .partitionBy('userID') \\\n",
    "    .orderBy(F.desc('ts')) \\\n",
    "    .rangeBetween(Window.unboundedPreceding, 0)\n",
    "\n",
    "cusum_churn = churn_users.filter((col('page') == 'NextSong') | (col('page') == 'Home')) \\\n",
    "    .select('userID', 'page', 'ts') \\\n",
    "    .withColumn('homevisit', fun(col('page'))) \\\n",
    "    .withColumn('period', F.sum('homevisit').over(user_window))\n",
    "\n",
    "cusum_churn = cusum_churn.filter((col('page') == 'NextSong')) \\\n",
    "    .groupBy('userID', 'period') \\\n",
    "    .agg({'period':'count'}) \\\n",
    "    .agg({'count(period)':'avg'}).withColumnRenamed('avg(count(period))', 'churnAvg(count(period))') \\\n",
    "    .withColumn(\"id\", F.monotonically_increasing_id())\n",
    "\n",
    "cusum_not_churn = not_churn_users.filter((col('page') == 'NextSong') | (col('page') == 'Home')) \\\n",
    "    .select('userID', 'page', 'ts') \\\n",
    "    .withColumn('homevisit', fun(col('page'))) \\\n",
    "    .withColumn('period', F.sum('homevisit').over(user_window))\n",
    "\n",
    "cusum_not_churn = cusum_not_churn.filter((col('page') == 'NextSong')) \\\n",
    "    .groupBy('userID', 'period') \\\n",
    "    .agg({'period':'count'}) \\\n",
    "    .agg({'count(period)':'avg'}).withColumnRenamed('avg(count(period))', 'notChurnAvg(count(period))') \\\n",
    "    .withColumn(\"id\", F.monotonically_increasing_id())\n",
    "\n",
    "result = cusum_churn.join(cusum_not_churn, \"id\", \"outer\").drop('id')\\\n",
    "\n",
    "result.show()"
   ]
  },
  {
   "cell_type": "markdown",
   "metadata": {},
   "source": [
    "Interestingly in the full-dataset the number of songs users listen to on average between visiting our home page is similar in the not churn group and in the group of users who churn."
   ]
  },
  {
   "cell_type": "code",
   "execution_count": 60,
   "metadata": {},
   "outputs": [
    {
     "data": {
      "application/vnd.jupyter.widget-view+json": {
       "model_id": "fc9b6e8abc294a90b70081e2457e6bd8",
       "version_major": 2,
       "version_minor": 0
      },
      "text/plain": [
       "VBox()"
      ]
     },
     "metadata": {},
     "output_type": "display_data"
    },
    {
     "data": {
      "application/vnd.jupyter.widget-view+json": {
       "model_id": "",
       "version_major": 2,
       "version_minor": 0
      },
      "text/plain": [
       "FloatProgress(value=0.0, bar_style='info', description='Progress:', layout=Layout(height='25px', width='50%'),…"
      ]
     },
     "metadata": {},
     "output_type": "display_data"
    }
   ],
   "source": [
    "# Calculating number of songs played given time frame\n",
    "\n",
    "def add_time_columns(df):\n",
    "    # Add hour column\n",
    "    get_hour = udf(lambda x: int(datetime.fromtimestamp(x / 1000.0).hour), IntegerType())\n",
    "    df_time = df.withColumn('hour', get_hour(df.ts))\n",
    "    songs_in_hour = df_time.filter(df_time.page == 'NextSong').groupby('hour').count().orderBy('hour')\n",
    "    songs_in_hour_pd = songs_in_hour.toPandas()\n",
    "\n",
    "    # Add weekday column\n",
    "    get_weekday = udf(lambda x: int(datetime.fromtimestamp(x / 1000.0).weekday()), IntegerType())\n",
    "    df_time = df_time.withColumn('weekday', get_weekday(df_time.ts))\n",
    "    songs_in_weekday = df_time.filter(df_time.page == 'NextSong').groupby('weekday').count().orderBy('weekday')\n",
    "    songs_in_weekday_pd = songs_in_weekday.toPandas()\n",
    "    songs_in_weekday_pd.weekday = songs_in_weekday_pd.weekday.map({0: 'Mon', 1: 'Tue', 2: 'Wed', 3: 'Thu', 4: 'Fri', 5: 'Sat', 6: 'Sun'})\n",
    "    \n",
    "    return songs_in_hour_pd, songs_in_weekday_pd\n",
    "\n",
    "churn_songs_hour, churn_songs_weekday = add_time_columns(churn_users)\n",
    "not_churn_songs_hour, not_churn_songs_weekday = add_time_columns(not_churn_users)"
   ]
  },
  {
   "cell_type": "code",
   "execution_count": 69,
   "metadata": {},
   "outputs": [
    {
     "data": {
      "application/vnd.jupyter.widget-view+json": {
       "model_id": "0defe5ac71514c7aab97719da1f83570",
       "version_major": 2,
       "version_minor": 0
      },
      "text/plain": [
       "VBox()"
      ]
     },
     "metadata": {},
     "output_type": "display_data"
    },
    {
     "data": {
      "application/vnd.jupyter.widget-view+json": {
       "model_id": "",
       "version_major": 2,
       "version_minor": 0
      },
      "text/plain": [
       "FloatProgress(value=0.0, bar_style='info', description='Progress:', layout=Layout(height='25px', width='50%'),…"
      ]
     },
     "metadata": {},
     "output_type": "display_data"
    }
   ],
   "source": [
    "fig, ax = plt.subplots(1,2, figsize=(12,5))\n",
    "ax[0].scatter(churn_songs_hour['hour'], churn_songs_hour['count']/num_churn_users, label='churn')\n",
    "ax[0].scatter(not_churn_songs_hour['hour'], not_churn_songs_hour['count']/num_not_churn_users, label='not churn')\n",
    "ax[0].set_xlim(-1, 24)\n",
    "ax[0].set_ylim(0, 1.2 * max(not_churn_songs_hour[\"count\"]/num_not_churn_users))\n",
    "ax[0].set_xlabel(\"Hour\")\n",
    "ax[0].set_ylabel(\"Songs played per user\")\n",
    "ax[0].set_title(\"Songs played by Hour\")\n",
    "ax[0].legend(loc='best')\n",
    "ax[1].scatter(churn_songs_weekday['weekday'], churn_songs_weekday['count']/num_churn_users, label='churn')\n",
    "ax[1].scatter(not_churn_songs_weekday['weekday'], not_churn_songs_weekday['count']/num_not_churn_users, label='not churn')\n",
    "ax[1].set_xlim(-0.5, 6.5)\n",
    "ax[1].set_ylim(0, 1.2 * max(not_churn_songs_weekday[\"count\"]/num_not_churn_users))\n",
    "ax[1].set_xlabel(\"Week day\")\n",
    "ax[1].set_ylabel(\"Songs played per user\")\n",
    "ax[1].set_title(\"Songs played by Week day\")\n",
    "ax[1].legend(loc='best')\n",
    "fig.tight_layout();"
   ]
  },
  {
   "cell_type": "code",
   "execution_count": 70,
   "metadata": {},
   "outputs": [
    {
     "data": {
      "application/vnd.jupyter.widget-view+json": {
       "model_id": "",
       "version_major": 2,
       "version_minor": 0
      },
      "text/plain": [
       "FloatProgress(value=0.0, bar_style='info', description='Progress:', layout=Layout(height='25px', width='50%'),…"
      ]
     },
     "metadata": {},
     "output_type": "display_data"
    },
    {
     "data": {
      "image/png": "[encoded data removed]",
      "text/plain": [
       "<IPython.core.display.Image object>"
      ]
     },
     "metadata": {},
     "output_type": "display_data"
    }
   ],
   "source": [
    "%matplot plt"
   ]
  },
  {
   "cell_type": "markdown",
   "metadata": {},
   "source": [
    "Users that churn and those who don't behave similarly w.r.t. the time, however playing less songs in the churn group."
   ]
  },
  {
   "cell_type": "code",
   "execution_count": 71,
   "metadata": {},
   "outputs": [
    {
     "data": {
      "application/vnd.jupyter.widget-view+json": {
       "model_id": "2ea728dd33374949bbe492be94dd0a8c",
       "version_major": 2,
       "version_minor": 0
      },
      "text/plain": [
       "VBox()"
      ]
     },
     "metadata": {},
     "output_type": "display_data"
    },
    {
     "data": {
      "application/vnd.jupyter.widget-view+json": {
       "model_id": "",
       "version_major": 2,
       "version_minor": 0
      },
      "text/plain": [
       "FloatProgress(value=0.0, bar_style='info', description='Progress:', layout=Layout(height='25px', width='50%'),…"
      ]
     },
     "metadata": {},
     "output_type": "display_data"
    },
    {
     "name": "stdout",
     "output_type": "stream",
     "text": [
      "Earliest record in full dataset is 2018-10-01 00:00:01\n",
      "Latest record in full dataset is 2018-12-01 00:00:02"
     ]
    }
   ],
   "source": [
    "# How the number of interactions change over time, since user registrates\n",
    "\n",
    "earliest = df.select('ts').orderBy(col('ts')).head()\n",
    "latest = df.select('ts').orderBy(col('ts'), ascending=False).head()\n",
    "\n",
    "print(f'Earliest record in full dataset is {datetime.fromtimestamp(earliest.ts / 1000.0)}')\n",
    "print(f'Latest record in full dataset is {datetime.fromtimestamp(latest.ts / 1000.0)}')"
   ]
  },
  {
   "cell_type": "code",
   "execution_count": 72,
   "metadata": {},
   "outputs": [
    {
     "data": {
      "application/vnd.jupyter.widget-view+json": {
       "model_id": "f5952998d8e643509cd27d9c05586dc7",
       "version_major": 2,
       "version_minor": 0
      },
      "text/plain": [
       "VBox()"
      ]
     },
     "metadata": {},
     "output_type": "display_data"
    },
    {
     "data": {
      "application/vnd.jupyter.widget-view+json": {
       "model_id": "",
       "version_major": 2,
       "version_minor": 0
      },
      "text/plain": [
       "FloatProgress(value=0.0, bar_style='info', description='Progress:', layout=Layout(height='25px', width='50%'),…"
      ]
     },
     "metadata": {},
     "output_type": "display_data"
    }
   ],
   "source": [
    "# Count actions per user per day\n",
    "# We randomly select 1 user who have churned and 1 user who haven't churned for comparison\n",
    "churner = np.random.choice(churner_ids, size=1, replace=False).tolist()\n",
    "not_churner = np.random.choice(not_churner_ids, size=1, replace=False).tolist()\n",
    "\n",
    "def get_actions_by_day(df, ids):\n",
    "    actions = df.where(df.userId.isin(ids))\\\n",
    "        .withColumn('day', F.date_trunc('day', F.from_unixtime(col('ts')/1000)))\\\n",
    "        .groupBy('userId', 'day', 'page').agg({'page': 'count'})\\\n",
    "        .orderBy('userId','day', 'page')\n",
    "\n",
    "    # We want each line to be a day, and columns for counts of each page action\n",
    "    actions = actions.groupBy(col('userId'), col('day')).pivot('page')\\\n",
    "        .agg(F.first('count(page)')).drop('page').orderBy('userId','day')\n",
    "\n",
    "    # In order to compare users, we transform day of the month in a running day number (e.g. if )\n",
    "    first_interactions = actions.select('userId', 'day').groupBy('userId').agg({'day': 'min'})\n",
    "    actions = actions.join(first_interactions, on='userId').withColumn('runningDaysFromFirstInteration', F.datediff('day',col('min(day)'))).drop('min(day)')\n",
    "    \n",
    "    # Fill nulls with zeros (no actions of that type in the day)\n",
    "    actions = actions.fillna(0)\n",
    "    return actions\n",
    "\n",
    "churner_actions = get_actions_by_day(df, churner)\n",
    "not_churner_actions = get_actions_by_day(df, not_churner)\n"
   ]
  },
  {
   "cell_type": "code",
   "execution_count": 73,
   "metadata": {},
   "outputs": [
    {
     "data": {
      "application/vnd.jupyter.widget-view+json": {
       "model_id": "061c3dba1021462588c4d5b4f33ad153",
       "version_major": 2,
       "version_minor": 0
      },
      "text/plain": [
       "VBox()"
      ]
     },
     "metadata": {},
     "output_type": "display_data"
    },
    {
     "data": {
      "application/vnd.jupyter.widget-view+json": {
       "model_id": "",
       "version_major": 2,
       "version_minor": 0
      },
      "text/plain": [
       "FloatProgress(value=0.0, bar_style='info', description='Progress:', layout=Layout(height='25px', width='50%'),…"
      ]
     },
     "metadata": {},
     "output_type": "display_data"
    }
   ],
   "source": [
    "churner_actions_pd = churner_actions.toPandas()\n",
    "not_churner_actions_pd = not_churner_actions.toPandas()"
   ]
  },
  {
   "cell_type": "code",
   "execution_count": 74,
   "metadata": {},
   "outputs": [
    {
     "data": {
      "application/vnd.jupyter.widget-view+json": {
       "model_id": "bbf19441a0d24bc3a942574989cf599e",
       "version_major": 2,
       "version_minor": 0
      },
      "text/plain": [
       "VBox()"
      ]
     },
     "metadata": {},
     "output_type": "display_data"
    },
    {
     "data": {
      "application/vnd.jupyter.widget-view+json": {
       "model_id": "",
       "version_major": 2,
       "version_minor": 0
      },
      "text/plain": [
       "FloatProgress(value=0.0, bar_style='info', description='Progress:', layout=Layout(height='25px', width='50%'),…"
      ]
     },
     "metadata": {},
     "output_type": "display_data"
    }
   ],
   "source": [
    "churner_actions_pd['churn'] = pd.Series(np.ones(churner_actions_pd.shape[0]))\n",
    "not_churner_actions_pd['churn'] = pd.Series(np.zeros(churner_actions_pd.shape[0]))\n",
    "churner_actions_pd.drop('day', axis=1, inplace=True)\n",
    "not_churner_actions_pd.drop('day', axis=1, inplace=True)\n",
    "actions = pd.concat([churner_actions_pd, not_churner_actions_pd])"
   ]
  },
  {
   "cell_type": "code",
   "execution_count": 75,
   "metadata": {},
   "outputs": [
    {
     "data": {
      "application/vnd.jupyter.widget-view+json": {
       "model_id": "2299370f97144a3a8b783fb7fc26571f",
       "version_major": 2,
       "version_minor": 0
      },
      "text/plain": [
       "VBox()"
      ]
     },
     "metadata": {},
     "output_type": "display_data"
    },
    {
     "data": {
      "application/vnd.jupyter.widget-view+json": {
       "model_id": "",
       "version_major": 2,
       "version_minor": 0
      },
      "text/plain": [
       "FloatProgress(value=0.0, bar_style='info', description='Progress:', layout=Layout(height='25px', width='50%'),…"
      ]
     },
     "metadata": {},
     "output_type": "display_data"
    }
   ],
   "source": [
    "cols = churner_actions_pd.columns[1:-2]"
   ]
  },
  {
   "cell_type": "code",
   "execution_count": 76,
   "metadata": {},
   "outputs": [
    {
     "data": {
      "application/vnd.jupyter.widget-view+json": {
       "model_id": "d73d92415a6c4f5388a763a69054c0bf",
       "version_major": 2,
       "version_minor": 0
      },
      "text/plain": [
       "VBox()"
      ]
     },
     "metadata": {},
     "output_type": "display_data"
    },
    {
     "data": {
      "application/vnd.jupyter.widget-view+json": {
       "model_id": "",
       "version_major": 2,
       "version_minor": 0
      },
      "text/plain": [
       "FloatProgress(value=0.0, bar_style='info', description='Progress:', layout=Layout(height='25px', width='50%'),…"
      ]
     },
     "metadata": {},
     "output_type": "display_data"
    }
   ],
   "source": [
    "ax_i = int(np.ceil(cols.shape[0]/5))\n",
    "ax_j = 5\n",
    "\n",
    "fig, ax = plt.subplots(ax_i, ax_j, figsize=(26,16))\n",
    "for i in range(ax_i):\n",
    "    for j in range(ax_j):\n",
    "        sns.lineplot(x='runningDaysFromFirstInteration', y=cols[j + 5*i], hue='churn', data=actions, ax=ax[i][j])\n",
    "        ax[i][j].set_title(f'Action \"{cols[j + 5*i]}\" vs day')\n",
    "        if (j + 5*i) == len(cols)-1:\n",
    "            break\n",
    "fig.tight_layout();"
   ]
  },
  {
   "cell_type": "code",
   "execution_count": 77,
   "metadata": {},
   "outputs": [
    {
     "data": {
      "application/vnd.jupyter.widget-view+json": {
       "model_id": "",
       "version_major": 2,
       "version_minor": 0
      },
      "text/plain": [
       "FloatProgress(value=0.0, bar_style='info', description='Progress:', layout=Layout(height='25px', width='50%'),…"
      ]
     },
     "metadata": {},
     "output_type": "display_data"
    },
    {
     "data": {
      "image/png": "[encoded data removed]",
      "text/plain": [
       "<IPython.core.display.Image object>"
      ]
     },
     "metadata": {},
     "output_type": "display_data"
    }
   ],
   "source": [
    "%matplot plt"
   ]
  },
  {
   "cell_type": "code",
   "execution_count": 78,
   "metadata": {},
   "outputs": [
    {
     "data": {
      "application/vnd.jupyter.widget-view+json": {
       "model_id": "1f905196c41746edb6564c707e0ef6e4",
       "version_major": 2,
       "version_minor": 0
      },
      "text/plain": [
       "VBox()"
      ]
     },
     "metadata": {},
     "output_type": "display_data"
    },
    {
     "data": {
      "application/vnd.jupyter.widget-view+json": {
       "model_id": "",
       "version_major": 2,
       "version_minor": 0
      },
      "text/plain": [
       "FloatProgress(value=0.0, bar_style='info', description='Progress:', layout=Layout(height='25px', width='50%'),…"
      ]
     },
     "metadata": {},
     "output_type": "display_data"
    }
   ],
   "source": [
    "# Users who Downgrade Their Accounts\n",
    "\n",
    "# We find when users downgrade their accounts and then flag those log entries. \n",
    "# Then we use a window function to create 2 phases (0 for pre-downgrade 1 for pos-downgrade) using a cumulative sum for each user.\n",
    "\n",
    "flag_downgrade_event = udf(lambda x: 1 if x == 'Submit Downgrade' else 0, IntegerType())\n",
    "\n",
    "df_downgraded = df.withColumn('downgraded', flag_downgrade_event('page'))\n",
    "\n",
    "windowval = Window.partitionBy('userId').orderBy(F.desc('ts')).rangeBetween(Window.unboundedPreceding, 0)\n",
    "\n",
    "df_downgraded = df_downgraded.withColumn('phase', F.sum('downgraded').over(windowval))\n"
   ]
  },
  {
   "cell_type": "code",
   "execution_count": 96,
   "metadata": {},
   "outputs": [
    {
     "data": {
      "application/vnd.jupyter.widget-view+json": {
       "model_id": "",
       "version_major": 2,
       "version_minor": 0
      },
      "text/plain": [
       "FloatProgress(value=0.0, bar_style='info', description='Progress:', layout=Layout(height='25px', width='50%'),…"
      ]
     },
     "metadata": {},
     "output_type": "display_data"
    },
    {
     "data": {
      "application/vnd.jupyter.widget-view+json": {
       "model_id": "",
       "version_major": 2,
       "version_minor": 0
      },
      "text/plain": [
       "FloatProgress(value=0.0, bar_style='info', description='Progress:', layout=Layout(height='25px', width='50%'),…"
      ]
     },
     "metadata": {},
     "output_type": "display_data"
    }
   ],
   "source": [
    "%spark -o df_downgraded_1994680\n",
    "# Taking userId 1994680 as example\n",
    "df_downgraded_1994680 = df_downgraded.select([\"userId\", \"firstname\", \"ts\", \"page\", \"level\", \"downgraded\", \"phase\"])\\\n",
    "                                .where(col('userId') == \"1994680\").sort(F.desc(\"ts\"))\\"
   ]
  },
  {
   "cell_type": "code",
   "execution_count": 109,
   "metadata": {},
   "outputs": [
    {
     "data": {
      "application/vnd.jupyter.widget-view+json": {
       "model_id": "f196bb3c528c47938213fe9733573715",
       "version_major": 2,
       "version_minor": 0
      },
      "text/plain": [
       "VBox(children=(HBox(children=(HTML(value='Type:'), Button(description='Table', layout=Layout(width='70px'), st…"
      ]
     },
     "metadata": {},
     "output_type": "display_data"
    },
    {
     "data": {
      "application/vnd.jupyter.widget-view+json": {
       "model_id": "46955e73cdb94f289b82aeb7edd9beac",
       "version_major": 2,
       "version_minor": 0
      },
      "text/plain": [
       "Output()"
      ]
     },
     "metadata": {},
     "output_type": "display_data"
    }
   ],
   "source": [
    "%local\n",
    "df_downgraded_1994680.iloc[7:26,:]"
   ]
  },
  {
   "cell_type": "markdown",
   "metadata": {},
   "source": [
    "# Feature Engineering"
   ]
  },
  {
   "cell_type": "markdown",
   "metadata": {},
   "source": [
    "We need to make each row of our dataset to be an user."
   ]
  },
  {
   "cell_type": "markdown",
   "metadata": {},
   "source": [
    "Possible features (considering only all account time, not aggregations in recent vs distant events):\n",
    "- artist: distinct artists listened\n",
    "- song: distinct songs listened\n",
    "- length: average length of songs listened\n",
    "- gender: one-hot encode (M/F)\n",
    "- itemInSession: average items in session\n",
    "- sessionId: can be used calculate average length of sessions\n",
    "- level: one-hot encode (Free/Paid)\n",
    "- location: percentage of interactions of user at specific location\n",
    "- page: counts by page type\n",
    "- status: counts by status codes\n",
    "- userAgent: get percentage of interactions of user using specific user agent - device, system information, platform, etc.\n",
    "- accountLifeTime: time an user has an account, from the first interaction until the present or the moment he/she cancels account"
   ]
  },
  {
   "cell_type": "code",
   "execution_count": 110,
   "metadata": {},
   "outputs": [
    {
     "data": {
      "application/vnd.jupyter.widget-view+json": {
       "model_id": "ea9702f5dff74dee96333ed99a040c86",
       "version_major": 2,
       "version_minor": 0
      },
      "text/plain": [
       "VBox()"
      ]
     },
     "metadata": {},
     "output_type": "display_data"
    },
    {
     "data": {
      "application/vnd.jupyter.widget-view+json": {
       "model_id": "",
       "version_major": 2,
       "version_minor": 0
      },
      "text/plain": [
       "FloatProgress(value=0.0, bar_style='info', description='Progress:', layout=Layout(height='25px', width='50%'),…"
      ]
     },
     "metadata": {},
     "output_type": "display_data"
    }
   ],
   "source": [
    "# Helper functions for cleaning and calculating percentages\n",
    "def get_mappings(cols, prefix):\n",
    "    mapping = dict()\n",
    "    for i, c in enumerate(cols):\n",
    "        mapping[prefix+str(i)] = c\n",
    "    return mapping\n",
    "\n",
    "def calculate_perc(percentage_df , mappings):\n",
    "    for new_name, existing_name in mappings.items():\n",
    "        percentage_df = percentage_df.withColumnRenamed(existing_name, new_name)\n",
    "        percentage_df = percentage_df.withColumn(new_name, col(new_name)/col('userTotalInterations'))\n",
    "\n",
    "    percentage_df = percentage_df.drop('userTotalInterations')\n",
    "    return percentage_df"
   ]
  },
  {
   "cell_type": "code",
   "execution_count": 111,
   "metadata": {},
   "outputs": [
    {
     "data": {
      "application/vnd.jupyter.widget-view+json": {
       "model_id": "260f7e260dc44fb689862e9a872a7cd4",
       "version_major": 2,
       "version_minor": 0
      },
      "text/plain": [
       "VBox()"
      ]
     },
     "metadata": {},
     "output_type": "display_data"
    },
    {
     "data": {
      "application/vnd.jupyter.widget-view+json": {
       "model_id": "",
       "version_major": 2,
       "version_minor": 0
      },
      "text/plain": [
       "FloatProgress(value=0.0, bar_style='info', description='Progress:', layout=Layout(height='25px', width='50%'),…"
      ]
     },
     "metadata": {},
     "output_type": "display_data"
    }
   ],
   "source": [
    "def compute_features(df):\n",
    "    '''\n",
    "    Function for computing features.\n",
    "    \n",
    "    Parameters\n",
    "    ----------\n",
    "    input: Spark dataframe with schema of raw dataset and data\n",
    "    \n",
    "    Returns\n",
    "    -------\n",
    "    df_features: Spark dataframe with computed features\n",
    "    location_mappings: dict for encoded locations\n",
    "    sys_agent_mappings: dict for encoded system information from user-agent\n",
    "    plat_agent_mappings: dict for encoded platform information from user-agent\n",
    "    '''\n",
    "    # Create `day` column for aggregating days and keeping information about month and year\n",
    "    df_features = df\n",
    "#     print('df_features RAW shape (row, cow)', df_features.count(), len(df_features.columns))\n",
    "    df_features = df_features.withColumn('day', F.date_trunc('day', F.from_unixtime(col('ts')/1000)))\n",
    "\n",
    "    # Create `userAgentSystemInformation` and `userAgentPlatform` columns for retrieving separate information from `userAgent`\n",
    "    df_features = df_features.withColumn('userAgentSystemInformation', F.regexp_extract(col('userAgent'),'(?<=\\().+?(?=\\))',0))\n",
    "    df_features = df_features.withColumn('userAgentPlatform', F.regexp_extract(col('userAgent'),'(?<=\\)).+',0))  \n",
    "    df_features = df_features.drop('userAgent')\n",
    "\n",
    "    # Intermediate DF to calculate counts of actions by page type, per user\n",
    "    page_counts = df_features.groupBy('userId', 'page')\\\n",
    "        .agg({'page': 'count'})\\\n",
    "        .groupBy(col('userId')).pivot('page')\\\n",
    "        .agg(F.first('count(page)')).drop('page')\\\n",
    "        .fillna(0)\n",
    "\n",
    "    # Intermediate DF to calculate average length of user sessions\n",
    "    session_avg_length = df_features.groupby('userId', 'sessionId')\\\n",
    "                            .agg(\n",
    "                                F.min(col('ts')).alias('startSession'), \n",
    "                                F.max(col('ts')).alias('endSession')\n",
    "                            )\\\n",
    "                            .groupby('userId')\\\n",
    "                            .agg(\n",
    "                                F.avg(col('endSession')-col('startSession')).alias('avgSessionLength')\n",
    "                            )\n",
    "\n",
    "    # Intermediate DF to calculate percentage of interactions at specific location, per user\n",
    "    location_percentage = df_features.groupBy('userId', 'location').agg({'location': 'count'})\n",
    "    total_interations = df_features.groupBy('userId').agg(F.count('userId').alias('userTotalInterations'))\n",
    "\n",
    "    location_percentage = location_percentage.groupBy(col('userId')).pivot('location')\\\n",
    "        .agg(F.first('count(location)'))\\\n",
    "        .fillna(0).join(total_interations,on='userId').drop('location')\n",
    "\n",
    "    location_cols = location_percentage.columns\n",
    "    location_cols.remove('userId')\n",
    "    location_cols.remove('userTotalInterations')\n",
    "    \n",
    "    # Deal with bad column names\n",
    "    location_mappings = get_mappings(location_cols, 'location_')\n",
    "    location_percentage = calculate_perc(location_percentage , location_mappings)\n",
    "\n",
    "\n",
    "    # Intermediate DF to calculate percentage of interactions using specific user-agent system information, per user\n",
    "    countSysInfo = df_features.groupBy('userId', 'userAgentSystemInformation')\\\n",
    "        .agg(\n",
    "            F.count('userAgentSystemInformation').alias('sysInfoCount')\n",
    "        )\n",
    "\n",
    "    total = df_features.groupBy('userId').agg(F.count('userId').alias('userTotalInterations'))\n",
    "\n",
    "    countSysInfo = countSysInfo.groupBy(col('userId')).pivot('userAgentSystemInformation')\\\n",
    "        .agg(F.first('sysInfoCount'))\\\n",
    "        .fillna(0).join(total,on='userId').drop('userAgentSystemInformation')\n",
    "\n",
    "    sys_cols = countSysInfo.columns\n",
    "    sys_cols.remove('userId')\n",
    "    sys_cols.remove('userTotalInterations')\n",
    "    \n",
    "    # Deal with bad column names\n",
    "    sys_agent_mappings = get_mappings(sys_cols, 'sys_agent_')\n",
    "    percentage_sys_info = calculate_perc(countSysInfo , sys_agent_mappings)\n",
    "    \n",
    "    # Intermediate DF to calculate percentage of interactions using specific user-agent platform information, per user\n",
    "    countPlat = df_features.groupBy('userId', 'userAgentPlatform')\\\n",
    "        .agg(\n",
    "            F.count('userAgentPlatform').alias('platformCount')\n",
    "        )\n",
    "    \n",
    "    countPlat = countPlat.groupBy(col('userId')).pivot('userAgentPlatform')\\\n",
    "        .agg(F.first('platformCount'))\\\n",
    "        .fillna(0).join(total,on='userId').drop('userAgentPlatform')\n",
    "\n",
    "    plat_cols = countPlat.columns\n",
    "    plat_cols.remove('userId')\n",
    "    plat_cols.remove('userTotalInterations')\n",
    "    \n",
    "    # Deal with bad column names\n",
    "    plat_agent_mappings = get_mappings(plat_cols, 'plat_agent_')\n",
    "    percentage_plat = calculate_perc(countPlat , plat_agent_mappings)\n",
    "    \n",
    "    \n",
    "#     print('page_counts shape (row, cow)', page_counts.count(), len(page_counts.columns))\n",
    "#     print('session_avg_length shape (row, cow)', session_avg_length.count(), len(session_avg_length.columns))\n",
    "#     print('location_percentage shape (row, cow)', location_percentage.count(), len(location_percentage.columns))\n",
    "#     print('percentageSysInfo shape (row, cow)', percentage_sys_info.count(), len(percentage_sys_info.columns))\n",
    "#     print('percentagePlat shape (row, cow)', percentage_plat.count(), len(percentage_plat.columns))\n",
    "    \n",
    "    df_features = df_features.groupby('userId')\\\n",
    "                .agg(\n",
    "                    F.countDistinct('artist').alias('distinctArtistsListened'),\n",
    "                    F.countDistinct('song').alias('distinctSongsListened'), # simplification, disregarding songs with the same name and different artists\n",
    "                    F.avg('length').alias('avgLength'),\n",
    "                    F.first(F.when(col('gender') == 'M', 1).otherwise(0)).alias('isMale'),\n",
    "                    F.avg('itemInSession').alias('avgItemsInSession'),\n",
    "                    F.sum(F.when(col('level') == 'Paid', 1).otherwise(0)).alias('interactionsPaid'),\n",
    "                    F.sum(F.when(col('level') == 'Free', 1).otherwise(0)).alias('interactionsFree'),\n",
    "                    F.sum(F.when(col('status') == 307, 1).otherwise(0)).alias('statusCount307'),\n",
    "                    F.sum(F.when(col('status') == 404, 1).otherwise(0)).alias('statusCount404'),\n",
    "                    F.sum(F.when(col('status') == 200, 1).otherwise(0)).alias('statusCount200'),\n",
    "                    F.min('day').alias('firstInteraction'),\n",
    "                    F.max('day').alias('lastInteraction'),                \n",
    "                )\n",
    "    \n",
    "#     print('df_features after AGGs shape (row, cow)', df_features.count(), len(df_features.columns))\n",
    "    \n",
    "    df_features = df_features.join(page_counts, on='userId')\\\n",
    "            .join(session_avg_length, on='userId')\\\n",
    "            .join(location_percentage, on='userId')\\\n",
    "            .join(percentage_sys_info, on='userId')\\\n",
    "            .join(percentage_plat, on='userId')\n",
    "    \n",
    "#     print('df_features after JOINs shape (row, cow)', df_features.count(), len(df_features.columns))\n",
    "\n",
    "    df_features = df_features.withColumn('accountLifeTime', F.datediff( col('lastInteraction'), col('firstInteraction') ) )\n",
    "    df_features = df_features.drop('lastInteraction','firstInteraction')\n",
    "    \n",
    "#     print('df_features after NEW COL shape (row, cow)', df_features.count(), len(df_features.columns))\n",
    "\n",
    "    # Handle NaNs, Nulls\n",
    "    df_features = df_features.fillna(0)\n",
    "    \n",
    "#     print('df_features after FILLNA shape (row, cow)', df_features.count(), len(df_features.columns))\n",
    "        \n",
    "    return df_features, location_mappings, sys_agent_mappings, plat_agent_mappings"
   ]
  },
  {
   "cell_type": "code",
   "execution_count": 112,
   "metadata": {},
   "outputs": [
    {
     "data": {
      "application/vnd.jupyter.widget-view+json": {
       "model_id": "9f3203da47e343bfa855a5dc8c64c0af",
       "version_major": 2,
       "version_minor": 0
      },
      "text/plain": [
       "VBox()"
      ]
     },
     "metadata": {},
     "output_type": "display_data"
    },
    {
     "data": {
      "application/vnd.jupyter.widget-view+json": {
       "model_id": "",
       "version_major": 2,
       "version_minor": 0
      },
      "text/plain": [
       "FloatProgress(value=0.0, bar_style='info', description='Progress:', layout=Layout(height='25px', width='50%'),…"
      ]
     },
     "metadata": {},
     "output_type": "display_data"
    },
    {
     "name": "stdout",
     "output_type": "stream",
     "text": [
      "Spent 629.4341144561768s in feature computation"
     ]
    }
   ],
   "source": [
    "start = time.time()\n",
    "df_features, location_mappings, sys_agent_mappings, plat_agent_mappings = compute_features(df)\n",
    "end = time.time()\n",
    "print(f'Spent {end-start}s in feature computation')"
   ]
  },
  {
   "cell_type": "code",
   "execution_count": 113,
   "metadata": {},
   "outputs": [
    {
     "data": {
      "application/vnd.jupyter.widget-view+json": {
       "model_id": "8e2d13070ff24249b699d8cf637c2a3f",
       "version_major": 2,
       "version_minor": 0
      },
      "text/plain": [
       "VBox()"
      ]
     },
     "metadata": {},
     "output_type": "display_data"
    },
    {
     "data": {
      "application/vnd.jupyter.widget-view+json": {
       "model_id": "",
       "version_major": 2,
       "version_minor": 0
      },
      "text/plain": [
       "FloatProgress(value=0.0, bar_style='info', description='Progress:', layout=Layout(height='25px', width='50%'),…"
      ]
     },
     "metadata": {},
     "output_type": "display_data"
    }
   ],
   "source": [
    "# Add churn column as label\n",
    "churn = df.select('userId','churn').distinct()\n",
    "df_features_label = df_features.join(churn, on='userId')\n",
    "df_features_label = df_features_label.withColumnRenamed('churn', 'label')"
   ]
  },
  {
   "cell_type": "code",
   "execution_count": 114,
   "metadata": {},
   "outputs": [
    {
     "data": {
      "application/vnd.jupyter.widget-view+json": {
       "model_id": "",
       "version_major": 2,
       "version_minor": 0
      },
      "text/plain": [
       "FloatProgress(value=0.0, bar_style='info', description='Progress:', layout=Layout(height='25px', width='50%'),…"
      ]
     },
     "metadata": {},
     "output_type": "display_data"
    },
    {
     "data": {
      "application/vnd.jupyter.widget-view+json": {
       "model_id": "",
       "version_major": 2,
       "version_minor": 0
      },
      "text/plain": [
       "FloatProgress(value=0.0, bar_style='info', description='Progress:', layout=Layout(height='25px', width='50%'),…"
      ]
     },
     "metadata": {},
     "output_type": "display_data"
    }
   ],
   "source": [
    "%spark -o df_features_label -n 5\n",
    "\n",
    "# Drop userId, as it's not a feature\n",
    "df_features_label = df_features_label.drop('userId')"
   ]
  },
  {
   "cell_type": "code",
   "execution_count": 117,
   "metadata": {},
   "outputs": [
    {
     "data": {
      "application/vnd.jupyter.widget-view+json": {
       "model_id": "3896067b5bf34bc7abaaf18485368d06",
       "version_major": 2,
       "version_minor": 0
      },
      "text/plain": [
       "VBox(children=(HBox(children=(HTML(value='Type:'), Button(description='Table', layout=Layout(width='70px'), st…"
      ]
     },
     "metadata": {},
     "output_type": "display_data"
    },
    {
     "data": {
      "application/vnd.jupyter.widget-view+json": {
       "model_id": "393c643e2afe402a9cb4a4b1100b8768",
       "version_major": 2,
       "version_minor": 0
      },
      "text/plain": [
       "Output()"
      ]
     },
     "metadata": {},
     "output_type": "display_data"
    }
   ],
   "source": [
    "%local\n",
    "df_features_label"
   ]
  },
  {
   "cell_type": "code",
   "execution_count": 120,
   "metadata": {},
   "outputs": [
    {
     "data": {
      "application/vnd.jupyter.widget-view+json": {
       "model_id": "cb3be25d5ffd47c390f2285644772253",
       "version_major": 2,
       "version_minor": 0
      },
      "text/plain": [
       "VBox()"
      ]
     },
     "metadata": {},
     "output_type": "display_data"
    },
    {
     "data": {
      "application/vnd.jupyter.widget-view+json": {
       "model_id": "",
       "version_major": 2,
       "version_minor": 0
      },
      "text/plain": [
       "FloatProgress(value=0.0, bar_style='info', description='Progress:', layout=Layout(height='25px', width='50%'),…"
      ]
     },
     "metadata": {},
     "output_type": "display_data"
    },
    {
     "name": "stdout",
     "output_type": "stream",
     "text": [
      "df_features_label shape: 22278 999"
     ]
    }
   ],
   "source": [
    "print('df_features_label shape:', df_features_label.count(), len(df_features_label.columns))"
   ]
  },
  {
   "cell_type": "code",
   "execution_count": 121,
   "metadata": {},
   "outputs": [
    {
     "data": {
      "application/vnd.jupyter.widget-view+json": {
       "model_id": "349f44f7de884e3f91858be90e3dad7a",
       "version_major": 2,
       "version_minor": 0
      },
      "text/plain": [
       "VBox()"
      ]
     },
     "metadata": {},
     "output_type": "display_data"
    },
    {
     "data": {
      "application/vnd.jupyter.widget-view+json": {
       "model_id": "",
       "version_major": 2,
       "version_minor": 0
      },
      "text/plain": [
       "FloatProgress(value=0.0, bar_style='info', description='Progress:', layout=Layout(height='25px', width='50%'),…"
      ]
     },
     "metadata": {},
     "output_type": "display_data"
    },
    {
     "name": "stdout",
     "output_type": "stream",
     "text": [
      "Saving data in s3n://emr-sparkify/processed/2020/7/1/1/..."
     ]
    }
   ],
   "source": [
    "# Save features in my S3 bucket called emr-sparkify, partitioning by date\n",
    "now = datetime.now()\n",
    "s3_path = f's3n://emr-sparkify/processed/{now.year}/{now.month}/{now.day}/{now.hour}/'\n",
    "\n",
    "print(f'Saving data in {s3_path}...')\n",
    "df_features_label.write.csv(s3_path, mode='overwrite')"
   ]
  },
  {
   "cell_type": "markdown",
   "metadata": {},
   "source": [
    "As seen, EMR has processed and saved the data partitioned in the S3 bucket:\n",
    "\n",
    "<img src=\"./media/emr-processed.png\" alt=\"s3\">"
   ]
  },
  {
   "cell_type": "markdown",
   "metadata": {},
   "source": [
    "# Modeling\n",
    "We assemble or features with `VectorAssembler` and split the full dataset into train, validation, and test sets with `randomSplit` DF method:"
   ]
  },
  {
   "cell_type": "code",
   "execution_count": 122,
   "metadata": {},
   "outputs": [
    {
     "data": {
      "application/vnd.jupyter.widget-view+json": {
       "model_id": "37a503c3d37a49f4873e9cb5b1fbe09d",
       "version_major": 2,
       "version_minor": 0
      },
      "text/plain": [
       "VBox()"
      ]
     },
     "metadata": {},
     "output_type": "display_data"
    },
    {
     "data": {
      "application/vnd.jupyter.widget-view+json": {
       "model_id": "",
       "version_major": 2,
       "version_minor": 0
      },
      "text/plain": [
       "FloatProgress(value=0.0, bar_style='info', description='Progress:', layout=Layout(height='25px', width='50%'),…"
      ]
     },
     "metadata": {},
     "output_type": "display_data"
    },
    {
     "name": "stdout",
     "output_type": "stream",
     "text": [
      "998"
     ]
    }
   ],
   "source": [
    "num_cols = df_features_label.columns\n",
    "num_cols.remove('isMale')\n",
    "len(num_cols)"
   ]
  },
  {
   "cell_type": "code",
   "execution_count": 123,
   "metadata": {},
   "outputs": [
    {
     "data": {
      "application/vnd.jupyter.widget-view+json": {
       "model_id": "36ec097973204411862c494ce0b1548a",
       "version_major": 2,
       "version_minor": 0
      },
      "text/plain": [
       "VBox()"
      ]
     },
     "metadata": {},
     "output_type": "display_data"
    },
    {
     "data": {
      "application/vnd.jupyter.widget-view+json": {
       "model_id": "",
       "version_major": 2,
       "version_minor": 0
      },
      "text/plain": [
       "FloatProgress(value=0.0, bar_style='info', description='Progress:', layout=Layout(height='25px', width='50%'),…"
      ]
     },
     "metadata": {},
     "output_type": "display_data"
    }
   ],
   "source": [
    "# After feature calculations the only categorical variable is \"isMale\", related to gender. All the others are numeric:\n",
    "num_assembler = VectorAssembler(inputCols = num_cols, outputCol = \"numVector\")\n",
    "\n",
    "# Scale numeric features\n",
    "scaler = StandardScaler(inputCol = \"numVector\", outputCol = \"numScaled\", withStd = True, withMean = True)\n",
    "\n",
    "# Add categorical variable \"isMale\":\n",
    "total_assembler = VectorAssembler(inputCols = ['isMale', 'numScaled'], outputCol = 'features')"
   ]
  },
  {
   "cell_type": "code",
   "execution_count": 124,
   "metadata": {},
   "outputs": [
    {
     "data": {
      "application/vnd.jupyter.widget-view+json": {
       "model_id": "55545ff9808941bf9a0e034c0e38618c",
       "version_major": 2,
       "version_minor": 0
      },
      "text/plain": [
       "VBox()"
      ]
     },
     "metadata": {},
     "output_type": "display_data"
    },
    {
     "data": {
      "application/vnd.jupyter.widget-view+json": {
       "model_id": "",
       "version_major": 2,
       "version_minor": 0
      },
      "text/plain": [
       "FloatProgress(value=0.0, bar_style='info', description='Progress:', layout=Layout(height='25px', width='50%'),…"
      ]
     },
     "metadata": {},
     "output_type": "display_data"
    },
    {
     "name": "stdout",
     "output_type": "stream",
     "text": [
      "Number of train+validation dataset examples (should be 80%): 17841\n",
      "Number of test dataset examples (should be 20%): 4437\n",
      "Total number of dataset examples: 22278"
     ]
    }
   ],
   "source": [
    "# Split dataset\n",
    "train_val_dataset, test_dataset = df_features_label.randomSplit([0.8, 0.2], seed = 0) \n",
    "print('Number of train+validation dataset examples (should be 80%):', train_val_dataset.count())\n",
    "print('Number of test dataset examples (should be 20%):', test_dataset.count())\n",
    "print('Total number of dataset examples:', df_features_label.count())"
   ]
  },
  {
   "cell_type": "markdown",
   "metadata": {},
   "source": [
    "##### A few observations\n",
    "Although we'll be using tree-based ensemble methods, we will standardize the values. If we want to try other models that are sensible to the scale of features, we won't have problems with that.\n",
    "\n",
    "In addition, the feature selection with those ensemble models can be easier (in our case with 204 features), since the models have the special characteristics of <a href=\"https://machinelearningmastery.com/feature-selection-with-real-and-categorical-data/\">filter, wrapper methods and built-in feature selection</a>. We could also apply some feature selection technique (e.g. performing some correlation analysis, recurrent feature selection, etc.)"
   ]
  },
  {
   "cell_type": "markdown",
   "metadata": {},
   "source": [
    "We create our custom evaluator for F1 score metric (which isn't available in Spark 2.4.6):"
   ]
  },
  {
   "cell_type": "code",
   "execution_count": 125,
   "metadata": {},
   "outputs": [
    {
     "data": {
      "application/vnd.jupyter.widget-view+json": {
       "model_id": "cdc13cb9923045a397fc018e00f4be11",
       "version_major": 2,
       "version_minor": 0
      },
      "text/plain": [
       "VBox()"
      ]
     },
     "metadata": {},
     "output_type": "display_data"
    },
    {
     "data": {
      "application/vnd.jupyter.widget-view+json": {
       "model_id": "",
       "version_major": 2,
       "version_minor": 0
      },
      "text/plain": [
       "FloatProgress(value=0.0, bar_style='info', description='Progress:', layout=Layout(height='25px', width='50%'),…"
      ]
     },
     "metadata": {},
     "output_type": "display_data"
    }
   ],
   "source": [
    "# Since in PySpark 2.4.6 (version we are using) there's no F1 score metric in BinaryClassificationEvaluator, we create our own evaluator\n",
    "class F1Evaluator(Evaluator):\n",
    "\n",
    "    def __init__(self, predictionCol = \"prediction\", labelCol=\"label\"):\n",
    "        self.predictionCol = predictionCol\n",
    "        self.labelCol = labelCol\n",
    "\n",
    "    def _evaluate(self, dataset):\n",
    "        \n",
    "        # Calculate F1 score \n",
    "        tp = dataset.where((dataset.label == 1) & (dataset.prediction == 1)).count()\n",
    "        tn = dataset.where((dataset.label == 0) & (dataset.prediction == 0)).count()\n",
    "        fp = dataset.where((dataset.label == 0) & (dataset.prediction == 1)).count()\n",
    "        fn = dataset.where((dataset.label == 1) & (dataset.prediction == 0)).count()\n",
    "        \n",
    "        # Add epsilon avoid division by zero errors\n",
    "        eps = 1e-6\n",
    "        precision = tp / float(tp + fp + eps)\n",
    "        recall = tp / float(tp + fn + eps)\n",
    "        \n",
    "        f1 = 2 * precision * recall / float(precision + recall + 0.00001)\n",
    "        \n",
    "        return f1\n",
    "\n",
    "    def isLargerBetter(self):\n",
    "        return True"
   ]
  },
  {
   "cell_type": "markdown",
   "metadata": {},
   "source": [
    "We create 2 pipelines: one for RandomForestClassifier and other for GBTClassifier."
   ]
  },
  {
   "cell_type": "code",
   "execution_count": 132,
   "metadata": {},
   "outputs": [
    {
     "data": {
      "application/vnd.jupyter.widget-view+json": {
       "model_id": "2280bb38c3154dd798983cf2b84c5617",
       "version_major": 2,
       "version_minor": 0
      },
      "text/plain": [
       "VBox()"
      ]
     },
     "metadata": {},
     "output_type": "display_data"
    },
    {
     "data": {
      "application/vnd.jupyter.widget-view+json": {
       "model_id": "",
       "version_major": 2,
       "version_minor": 0
      },
      "text/plain": [
       "FloatProgress(value=0.0, bar_style='info', description='Progress:', layout=Layout(height='25px', width='50%'),…"
      ]
     },
     "metadata": {},
     "output_type": "display_data"
    },
    {
     "name": "stdout",
     "output_type": "stream",
     "text": [
      "spark_master: emr"
     ]
    }
   ],
   "source": [
    "# set variable to run in EMR\n",
    "spark_master = 'emr'\n",
    "print('spark_master:', spark_master)"
   ]
  },
  {
   "cell_type": "code",
   "execution_count": 133,
   "metadata": {},
   "outputs": [
    {
     "data": {
      "application/vnd.jupyter.widget-view+json": {
       "model_id": "7c309c117712486f9526fbb1680503fa",
       "version_major": 2,
       "version_minor": 0
      },
      "text/plain": [
       "VBox()"
      ]
     },
     "metadata": {},
     "output_type": "display_data"
    },
    {
     "data": {
      "application/vnd.jupyter.widget-view+json": {
       "model_id": "",
       "version_major": 2,
       "version_minor": 0
      },
      "text/plain": [
       "FloatProgress(value=0.0, bar_style='info', description='Progress:', layout=Layout(height='25px', width='50%'),…"
      ]
     },
     "metadata": {},
     "output_type": "display_data"
    }
   ],
   "source": [
    "def train_pipeline(model_type, dataset):    \n",
    "    '''\n",
    "    Creates and trains pipeline doing Cross Validation.\n",
    "    Only supports RandomForestClassifier and GBTClassifier.\n",
    "    \n",
    "    Parameters\n",
    "    ----------\n",
    "    model_type: 'rf' or 'gb'. Strings for RandomForestClassifier and GBTClassifier, respectively.\n",
    "    dataset: Spark dataframe with features\n",
    "    \n",
    "    Output\n",
    "    ------\n",
    "    cv_model: trained model after cross validation\n",
    "    param_grid: param_grid used to train with grid search\n",
    "    '''\n",
    "    \n",
    "    if model_type=='rf':\n",
    "        model = RandomForestClassifier()\n",
    "    else:\n",
    "        model = GBTClassifier()\n",
    "    \n",
    "    print('Selected', model.__class__.__name__, 'model')\n",
    "    pipeline = Pipeline(stages = [num_assembler, scaler, total_assembler, model])\n",
    "\n",
    "    # We create a grid of parameters to search over with ParamGridBuilder\n",
    "    # If cluster mode: This grid will have 2 x 2 * 2 = 8 parameter settings for CrossValidator to choose from.\n",
    "    # If local model: This grid will have 1 x 1 * 1 = 1 parameter settings for CrossValidator to choose from.\n",
    "\n",
    "    if spark_master=='local':\n",
    "        print('Training locally...')\n",
    "        num_folds=2\n",
    "        if model_type=='rf':\n",
    "            param_grid = ParamGridBuilder()\\\n",
    "                .addGrid(\n",
    "                    model.numTrees, [10]\n",
    "                ).addGrid(\n",
    "                    model.maxBins, [16]\n",
    "                ).addGrid(\n",
    "                    model.maxDepth, [3]\n",
    "                ).build()\n",
    "        else:\n",
    "            param_grid = ParamGridBuilder()\\\n",
    "                .addGrid(\n",
    "                    model.maxIter, [10]\n",
    "                ).addGrid(\n",
    "                    model.stepSize, [0.3]\n",
    "                ).addGrid(\n",
    "                    model.maxDepth, [3]\n",
    "                ).build()\n",
    "    else:\n",
    "        print('Training in cluster...')\n",
    "        num_folds=3\n",
    "        if model_type=='rf':\n",
    "            param_grid = ParamGridBuilder()\\\n",
    "                .addGrid(\n",
    "                    model.numTrees, [20, 30]\n",
    "                ).addGrid(\n",
    "                    model.maxBins, [16, 32]\n",
    "                ).addGrid(\n",
    "                    model.maxDepth, [3, 5]\n",
    "                ).build()\n",
    "        else:\n",
    "            param_grid = ParamGridBuilder()\\\n",
    "                .addGrid(\n",
    "                    model.maxIter, [150, 300]\n",
    "                ).addGrid(\n",
    "                    model.stepSize, [0.1,0.3]\n",
    "                ).addGrid(\n",
    "                    model.maxDepth, [3, 5]\n",
    "                ).build()\n",
    "\n",
    "    # We wrap the pipeline in CrossValidator instance and use our F1Evaluator\n",
    "    cv = CrossValidator(estimator=pipeline, estimatorParamMaps=param_grid, evaluator=F1Evaluator(), numFolds=num_folds)\n",
    "\n",
    "    # Run cross-validation, and choose the best set of parameters.\n",
    "    print('Training', model.__class__.__name__,'...')\n",
    "    cv_model = cv.fit(dataset)\n",
    "    \n",
    "    return cv_model, param_grid"
   ]
  },
  {
   "cell_type": "markdown",
   "metadata": {},
   "source": [
    "We train using the the F1 score as evaluator of the Random Forest and Gradient-Boosted Trees models, tuning parameters as necessary with cross validation and pipelines with grid search. "
   ]
  },
  {
   "cell_type": "code",
   "execution_count": null,
   "metadata": {},
   "outputs": [],
   "source": [
    "# Train Random Forest model\n",
    "start = time.time()\n",
    "trained_rf, param_grid_rf = train_pipeline('rf', train_val_dataset)\n",
    "end = time.time()\n",
    "print(f'Spent {end-start}s for training RandomForestClassifier')"
   ]
  },
  {
   "cell_type": "code",
   "execution_count": null,
   "metadata": {},
   "outputs": [],
   "source": [
    "# Save Random Forest model in S3\n",
    "now = datetime.now()\n",
    "s3_path = f's3n://emr-sparkify/models/{trained_rf.bestModel.stages[-1].__class__.__name__}/{now.year}/{now.month}/{now.day}/{now.hour}/'\n",
    "print(f'Saving model in {s3_path}...')\n",
    "\n",
    "trained_rf.bestModel.write().overwrite().save(s3_path)"
   ]
  },
  {
   "cell_type": "code",
   "execution_count": null,
   "metadata": {},
   "outputs": [
    {
     "data": {
      "application/vnd.jupyter.widget-view+json": {
       "model_id": "e423401289b846c2b3f247bb3d29ab52",
       "version_major": 2,
       "version_minor": 0
      },
      "text/plain": [
       "VBox()"
      ]
     },
     "metadata": {},
     "output_type": "display_data"
    },
    {
     "data": {
      "application/vnd.jupyter.widget-view+json": {
       "model_id": "c438fdc3f8f94c6889bf5afb66ba7ca5",
       "version_major": 2,
       "version_minor": 0
      },
      "text/plain": [
       "FloatProgress(value=0.0, bar_style='info', description='Progress:', layout=Layout(height='25px', width='50%'),…"
      ]
     },
     "metadata": {},
     "output_type": "display_data"
    }
   ],
   "source": [
    "# Train Gradient-Boosted Trees model\n",
    "start = time.time()\n",
    "trained_gb, param_grid_gb = train_pipeline('gb', train_val_dataset)\n",
    "end = time.time()\n",
    "print(f'Spent {end-start}s for training GBTClassifier')"
   ]
  },
  {
   "cell_type": "code",
   "execution_count": null,
   "metadata": {},
   "outputs": [],
   "source": [
    "# Save Gradient-Boosted Trees model\n",
    "now = datetime.now()\n",
    "s3_path = f's3n://emr-sparkify/models/{trained_gb.bestModel.stages[-1].__class__.__name__}/{now.year}/{now.month}/{now.day}/{now.hour}/'\n",
    "print(f'Saving model in {s3_path}...')\n",
    "\n",
    "trained_gb.bestModel.write().overwrite().save(s3_path)"
   ]
  },
  {
   "cell_type": "markdown",
   "metadata": {},
   "source": [
    "Training metrics for models:"
   ]
  },
  {
   "cell_type": "code",
   "execution_count": null,
   "metadata": {},
   "outputs": [],
   "source": [
    "# Average cross-validation metrics for each grid trained with 2 folds\n",
    "for param_grid, model in [(param_grid_rf, trained_rf), (param_grid_gb, trained_gb)]:\n",
    "    print(f'Training metrics for {model.bestModel.stages[-1].__class__.__name__}:')\n",
    "    for params, metrics in zip(param_grid, model.avgMetrics):\n",
    "        print('Parameters:', params, '| Metrics:', metrics)"
   ]
  },
  {
   "cell_type": "markdown",
   "metadata": {},
   "source": [
    "Since we are dealing with RandomForest and Gradient-Boosted Trees models, we can take advantage of feature importances that are calculated and provide useful informatio for interpretability:"
   ]
  },
  {
   "cell_type": "code",
   "execution_count": null,
   "metadata": {},
   "outputs": [],
   "source": [
    "# Display feature importances for RF and GBT (there is a \"featureImportances\" attribute for both)\n",
    "col_names = dict(enumerate(['isMale'] + num_cols))\n",
    "\n",
    "for model in (trained_rf, trained_gb):\n",
    "    importances = model.bestModel.stages[-1].featureImportances \n",
    "    importances = dict(zip(importances.indices, importances.values))\n",
    "    sorted_importances = {k: v for k, v in sorted(importances.items(), key=lambda item: item[1], reverse=True)}\n",
    "    sorted_importances = {col_names[k]: [v] for k, v in sorted_importances.items() if col_names[k]!='label' }\n",
    "    importances_df = pd.DataFrame(data=sorted_importances)\n",
    "    plt.figure(figsize=(20,6))\n",
    "    plt.title(f'Importances for {model.bestModel.stages[-1].__class__.__name__}')\n",
    "    plt.xticks(rotation=30)\n",
    "    sns.barplot(data=imp_df)"
   ]
  },
  {
   "cell_type": "code",
   "execution_count": null,
   "metadata": {},
   "outputs": [],
   "source": [
    "%matplot plt"
   ]
  },
  {
   "cell_type": "code",
   "execution_count": null,
   "metadata": {},
   "outputs": [],
   "source": [
    "# print('plat_agent_21:', plat_agent_mappings['plat_agent_21']) # like Gecko\n",
    "# print('location_35:', location_mappings['location_35']) # 'Flint, MI'\n",
    "# print('location_25:', location_mappings['location_25'])# 'Corpus Christi, TX'"
   ]
  },
  {
   "cell_type": "markdown",
   "metadata": {},
   "source": [
    "Interestingly, the models indicate that there are locations where the users has a bigger chance of churning (we could investigate that further if it makes sense due to some external factor). Features related to devices doesn't seem to be relevant as `like Gecko` is not doesn't provide much information (is present in lots of user agent logs)."
   ]
  },
  {
   "cell_type": "markdown",
   "metadata": {},
   "source": [
    "We evaluate our models with the test dataset, for both F1 score and AUC:"
   ]
  },
  {
   "cell_type": "code",
   "execution_count": null,
   "metadata": {},
   "outputs": [],
   "source": [
    "# Test with f1 score and AUC score using the test dataset\n",
    "f1_evaluator = F1Evaluator()\n",
    "auc_evaluator = BinaryClassificationEvaluator()\n",
    "\n",
    "for model in (trained_rf, trained_gb):\n",
    "    # Get predictions using the test dataset\n",
    "    predictions = model.transform(test_dataset)\n",
    "    \n",
    "    # Save prediction in my S3 bucket called emr-sparkify, partitioning by date\n",
    "    now = datetime.now()\n",
    "    s3_path = f's3n://emr-sparkify/predictions/{model.bestModel.stages[-1].__class__.__name__}/{now.year}/{now.month}/{now.day}/{now.hour}/'\n",
    "\n",
    "    print(f'Saving predictions in {s3_path}...')\n",
    "    predictions.write.csv(s3_path, mode='overwrite')\n",
    "\n",
    "    f1_score = f1_evaluator.evaluate(predictions)\n",
    "    auc = auc_evaluator.evaluate(predictions)\n",
    "    \n",
    "    print(f'Model {model.bestModel.stages[-1].__class__.__name__} F1 score on test set:', f1_score)\n",
    "    print(f'Model {model.bestModel.stages[-1].__class__.__name__} AUC score on test set:', auc)"
   ]
  },
  {
   "cell_type": "markdown",
   "metadata": {},
   "source": [
    "The winning model is chosen based on test F1 score and AUC on the test dataset. Both models seemed to have the same performance. We arbitraliy choose the GBTClassificationModel"
   ]
  },
  {
   "cell_type": "markdown",
   "metadata": {},
   "source": [
    "# Conclusions"
   ]
  },
  {
   "cell_type": "markdown",
   "metadata": {},
   "source": [
    "As seen in the notebook, we were able to scale to a larger volume of data and train multiple models, performing hyperparameter optimization, compare features, and develop functions for generating features and training models. \n",
    "\n",
    "A next step would be to create a <a href=\"https://spark.apache.org/docs/latest/submitting-applications.html\">Spark application</a> with the already created `compute_features(df)` and `train_pipeline(model_type, dataset)` functions. This way we could load data from S3 and save the predictions in a batch strategy. This would allow us to automate by creating <a href=\"https://docs.aws.amazon.com/emr/latest/ReleaseGuide/emr-spark-submit-step.html\">EMR Steps</a> "
   ]
  },
  {
   "cell_type": "markdown",
   "metadata": {},
   "source": [
    "### Possible improvements \n",
    "- add new features <a href=\"#possible-features\">related to other time aggregations (e.g. weeks)</a>, related to the phase (if they are paid user, free, etc.), better process user-agent data, etc.\n",
    "- deal with class imbalance (with some downsampling, oversampling methods or with some technique for generating synthethic data like <a href=\"https://arxiv.org/pdf/1106.1813.pdf\">SMOTE</a>)\n",
    "- analyze correlations of computed feature for elimination (although ensemble trees models help with that)\n",
    "- try other models\n",
    "- transform in transient EMR cluster (for batch inferences, and batch feature calculations), shutting down cluster after training and inference\n",
    "- use spot instances in EMR cluster for cost opmitization\n",
    "- improve performance by converting json to Parquet, compression, partitioning in S3\n",
    "- adjust number of instances and types in EMR, analyse performance in Spark UI, etc.\n",
    "- generate inferenced in realtime (a lot more complex: feature store for calculating and updating features, turn training model into an rest API with MLeap, etc.)\n",
    "- add <a href=\"https://airflow.apache.org/\">AirFlow</a>, <a href=\"https://aws.amazon.com/pt/step-functions/\">AWS Step Functions</a> for orchestration, automating the calculatation features and performing inferences\n",
    "- trigger marketing campaings, promotions, incentives for user to use the app (personalized e-mails, SMSs), etc."
   ]
  },
  {
   "cell_type": "markdown",
   "metadata": {},
   "source": [
    "<a id=\"possible-features\"></a>\n",
    "#### Possible improvement: Create features related to time aggregation (e.g. statistics for last N days)\n",
    "\n",
    "Goal: from ts -> create columns with 1s and 0s, indicating whether we should select or not; then filter by 1s in newDF and reuse method `compute_features(df)`.\n",
    "\n",
    "Pseudocode - create column endTime:\n",
    "```\n",
    "if last event of user is submit cancel, `endTime = ts` of last event\n",
    "else `endTime = last ts of all users` (user is still active, hence the \"present\" is the latest time)\n",
    "```\n",
    "use: \n",
    "```\n",
    "ts_n_days = n_days * 24 * 60 * 60 * 1000\n",
    "```\n",
    "\n",
    "create column useLog: \n",
    "```\n",
    "if ts > (endTime - ts_n_days), then 1 # we select this recent event\n",
    "otherwise 0 # don't select it\n",
    "```\n",
    "Compute features related to time aggregation (using `compute_features`) and passing as input recent rows \n",
    "```\n",
    "df_recent = df.where(col('useLog')==1)\n",
    "df_features_recent = compute_features(df_recent)\n",
    "```\n",
    "There may be users who don't have any recent action. We need to keep them and put zeros in agregations.\n",
    "```\n",
    "df_all_ids = df.select('userId').toPandas()\n",
    "df_all_ids = df_all_ids.values.squeeze().tolist()\n",
    "\n",
    "df_recent_ids = df_recent.select('userId').toPandas()\n",
    "df_recent_ids = df_recent_ids.values.squeeze().tolist()\n",
    "\n",
    "not_in_df_recent_ids = np.setdiff1d(df_all_ids, df_recent_ids).tolist()\n",
    "vals = []\n",
    "for id in not_in_df_recent_ids:\n",
    "    row = []\n",
    "    for c in df_features_recent.columns:\n",
    "        if c=='userId':\n",
    "            row.append(id)\n",
    "        else:\n",
    "            row.append(0)\n",
    "    vals.append(row)\n",
    "\n",
    "zeros_df = spark.createDataFrame(vals, df_features_recent.columns)\n",
    "df_features_recent = df_features_recent.union(zeros_df).drop('isMale','accountLifeTime')\n",
    "```\n",
    "Columns related to recent events have prefix 'recent_':\n",
    "```\n",
    "cols = df_features_recent.columns\n",
    "for c in cols:\n",
    "    df_features_recent = df_features_recent.withColumnRenamed(c, 'recent_'+c)\n",
    "```\n",
    "Create final df with features from time aggregation and other (all calculated previously and recent ones):\n",
    "```\n",
    "final_df_features = df_features.join(df_features_recent, on='userId')\n",
    "```\n"
   ]
  }
 ],
 "metadata": {
  "kernelspec": {
   "display_name": "PySpark",
   "language": "",
   "name": "pysparkkernel"
  },
  "language_info": {
   "codemirror_mode": {
    "name": "python",
    "version": 2
   },
   "mimetype": "text/x-python",
   "name": "pyspark",
   "pygments_lexer": "python2"
  }
 },
 "nbformat": 4,
 "nbformat_minor": 4
}
