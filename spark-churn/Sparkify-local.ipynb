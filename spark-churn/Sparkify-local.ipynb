{
 "cells": [
  {
   "cell_type": "markdown",
   "metadata": {},
   "source": [
    "# Sparkify Project"
   ]
  },
  {
   "cell_type": "code",
   "execution_count": 45,
   "metadata": {},
   "outputs": [],
   "source": [
    "# import libraries\n",
    "from pyspark.sql import SparkSession, Window\n",
    "from pyspark.sql.functions import sum as sparkSum, isnan, when, count, col, length, countDistinct\n",
    "from pyspark.sql.functions import monotonically_increasing_id, collect_list, udf, desc\n",
    "from pyspark.sql.types import IntegerType\n",
    "from pyspark.ml.stat import Correlation\n",
    "from pyspark.ml.feature import VectorAssembler\n",
    "\n",
    "from datetime import datetime\n",
    "import pandas as pd\n",
    "import matplotlib.pyplot as plt\n",
    "import seaborn as sns"
   ]
  },
  {
   "cell_type": "code",
   "execution_count": 2,
   "metadata": {},
   "outputs": [],
   "source": [
    "# create a Spark session\n",
    "spark = SparkSession.builder\\\n",
    "    .master(\"local\")\\\n",
    "    .appName('Sparkify')\\\n",
    "    .getOrCreate()"
   ]
  },
  {
   "cell_type": "markdown",
   "metadata": {},
   "source": [
    "# Load and Clean Dataset\n",
    "Using tiny subset (128MB) of the full dataset available (12GB) for local development.\n",
    "\n",
    "Mini dataset: `s3n://udacity-dsnd/sparkify/mini_sparkify_event_data.json`\n",
    "\n",
    "Full dataset: `s3n://udacity-dsnd/sparkify/sparkify_event_data.json`\n"
   ]
  },
  {
   "cell_type": "code",
   "execution_count": 3,
   "metadata": {},
   "outputs": [],
   "source": [
    "# Uncomment to download\n",
    "\n",
    "# import requests\n",
    "# url = 'https://udacity-dsnd.s3.amazonaws.com/sparkify/mini_sparkify_event_data.json'\n",
    "\n",
    "# def download_file(url):\n",
    "#     local_filename = url.split('/')[-1]\n",
    "#     with requests.get(url, stream=True) as r:\n",
    "#         r.raise_for_status()\n",
    "#         with open(local_filename, 'wb') as f:\n",
    "#             for chunk in r.iter_content(chunk_size=8192): \n",
    "#                 f.write(chunk)\n",
    "#     return local_filename\n",
    "\n",
    "# download_file(url)"
   ]
  },
  {
   "cell_type": "code",
   "execution_count": 4,
   "metadata": {},
   "outputs": [],
   "source": [
    "event_data = \"mini_sparkify_event_data.json\"\n",
    "df = spark.read.json(event_data)"
   ]
  },
  {
   "cell_type": "code",
   "execution_count": 5,
   "metadata": {},
   "outputs": [
    {
     "name": "stdout",
     "output_type": "stream",
     "text": [
      "root\n",
      " |-- artist: string (nullable = true)\n",
      " |-- auth: string (nullable = true)\n",
      " |-- firstName: string (nullable = true)\n",
      " |-- gender: string (nullable = true)\n",
      " |-- itemInSession: long (nullable = true)\n",
      " |-- lastName: string (nullable = true)\n",
      " |-- length: double (nullable = true)\n",
      " |-- level: string (nullable = true)\n",
      " |-- location: string (nullable = true)\n",
      " |-- method: string (nullable = true)\n",
      " |-- page: string (nullable = true)\n",
      " |-- registration: long (nullable = true)\n",
      " |-- sessionId: long (nullable = true)\n",
      " |-- song: string (nullable = true)\n",
      " |-- status: long (nullable = true)\n",
      " |-- ts: long (nullable = true)\n",
      " |-- userAgent: string (nullable = true)\n",
      " |-- userId: string (nullable = true)\n",
      "\n"
     ]
    }
   ],
   "source": [
    "# Check schema and column types\n",
    "df.printSchema()"
   ]
  },
  {
   "cell_type": "code",
   "execution_count": 6,
   "metadata": {},
   "outputs": [
    {
     "data": {
      "text/plain": [
       "[Row(artist='Martha Tilston', auth='Logged In', firstName='Colin', gender='M', itemInSession=50, lastName='Freeman', length=277.89016, level='paid', location='Bakersfield, CA', method='PUT', page='NextSong', registration=1538173362000, sessionId=29, song='Rockpools', status=200, ts=1538352117000, userAgent='Mozilla/5.0 (Windows NT 6.1; WOW64; rv:31.0) Gecko/20100101 Firefox/31.0', userId='30'),\n",
       " Row(artist='Five Iron Frenzy', auth='Logged In', firstName='Micah', gender='M', itemInSession=79, lastName='Long', length=236.09424, level='free', location='Boston-Cambridge-Newton, MA-NH', method='PUT', page='NextSong', registration=1538331630000, sessionId=8, song='Canada', status=200, ts=1538352180000, userAgent='\"Mozilla/5.0 (Windows NT 6.1; WOW64) AppleWebKit/537.36 (KHTML, like Gecko) Chrome/37.0.2062.103 Safari/537.36\"', userId='9'),\n",
       " Row(artist='Adam Lambert', auth='Logged In', firstName='Colin', gender='M', itemInSession=51, lastName='Freeman', length=282.8273, level='paid', location='Bakersfield, CA', method='PUT', page='NextSong', registration=1538173362000, sessionId=29, song='Time For Miracles', status=200, ts=1538352394000, userAgent='Mozilla/5.0 (Windows NT 6.1; WOW64; rv:31.0) Gecko/20100101 Firefox/31.0', userId='30'),\n",
       " Row(artist='Enigma', auth='Logged In', firstName='Micah', gender='M', itemInSession=80, lastName='Long', length=262.71302, level='free', location='Boston-Cambridge-Newton, MA-NH', method='PUT', page='NextSong', registration=1538331630000, sessionId=8, song='Knocking On Forbidden Doors', status=200, ts=1538352416000, userAgent='\"Mozilla/5.0 (Windows NT 6.1; WOW64) AppleWebKit/537.36 (KHTML, like Gecko) Chrome/37.0.2062.103 Safari/537.36\"', userId='9'),\n",
       " Row(artist='Daft Punk', auth='Logged In', firstName='Colin', gender='M', itemInSession=52, lastName='Freeman', length=223.60771, level='paid', location='Bakersfield, CA', method='PUT', page='NextSong', registration=1538173362000, sessionId=29, song='Harder Better Faster Stronger', status=200, ts=1538352676000, userAgent='Mozilla/5.0 (Windows NT 6.1; WOW64; rv:31.0) Gecko/20100101 Firefox/31.0', userId='30')]"
      ]
     },
     "execution_count": 6,
     "metadata": {},
     "output_type": "execute_result"
    }
   ],
   "source": [
    "df.head(5)"
   ]
  },
  {
   "cell_type": "code",
   "execution_count": 7,
   "metadata": {},
   "outputs": [
    {
     "data": {
      "text/html": [
       "<div>\n",
       "<style scoped>\n",
       "    .dataframe tbody tr th:only-of-type {\n",
       "        vertical-align: middle;\n",
       "    }\n",
       "\n",
       "    .dataframe tbody tr th {\n",
       "        vertical-align: top;\n",
       "    }\n",
       "\n",
       "    .dataframe thead th {\n",
       "        text-align: right;\n",
       "    }\n",
       "</style>\n",
       "<table border=\"1\" class=\"dataframe\">\n",
       "  <thead>\n",
       "    <tr style=\"text-align: right;\">\n",
       "      <th></th>\n",
       "      <th>artist</th>\n",
       "      <th>auth</th>\n",
       "      <th>firstName</th>\n",
       "      <th>gender</th>\n",
       "      <th>itemInSession</th>\n",
       "      <th>lastName</th>\n",
       "      <th>length</th>\n",
       "      <th>level</th>\n",
       "      <th>location</th>\n",
       "      <th>method</th>\n",
       "      <th>page</th>\n",
       "      <th>registration</th>\n",
       "      <th>sessionId</th>\n",
       "      <th>song</th>\n",
       "      <th>status</th>\n",
       "      <th>ts</th>\n",
       "      <th>userAgent</th>\n",
       "      <th>userId</th>\n",
       "    </tr>\n",
       "  </thead>\n",
       "  <tbody>\n",
       "    <tr>\n",
       "      <th>0</th>\n",
       "      <td>Martha Tilston</td>\n",
       "      <td>Logged In</td>\n",
       "      <td>Colin</td>\n",
       "      <td>M</td>\n",
       "      <td>50</td>\n",
       "      <td>Freeman</td>\n",
       "      <td>277.89016</td>\n",
       "      <td>paid</td>\n",
       "      <td>Bakersfield, CA</td>\n",
       "      <td>PUT</td>\n",
       "      <td>NextSong</td>\n",
       "      <td>1538173362000</td>\n",
       "      <td>29</td>\n",
       "      <td>Rockpools</td>\n",
       "      <td>200</td>\n",
       "      <td>1538352117000</td>\n",
       "      <td>Mozilla/5.0 (Windows NT 6.1; WOW64; rv:31.0) G...</td>\n",
       "      <td>30</td>\n",
       "    </tr>\n",
       "    <tr>\n",
       "      <th>1</th>\n",
       "      <td>Five Iron Frenzy</td>\n",
       "      <td>Logged In</td>\n",
       "      <td>Micah</td>\n",
       "      <td>M</td>\n",
       "      <td>79</td>\n",
       "      <td>Long</td>\n",
       "      <td>236.09424</td>\n",
       "      <td>free</td>\n",
       "      <td>Boston-Cambridge-Newton, MA-NH</td>\n",
       "      <td>PUT</td>\n",
       "      <td>NextSong</td>\n",
       "      <td>1538331630000</td>\n",
       "      <td>8</td>\n",
       "      <td>Canada</td>\n",
       "      <td>200</td>\n",
       "      <td>1538352180000</td>\n",
       "      <td>\"Mozilla/5.0 (Windows NT 6.1; WOW64) AppleWebK...</td>\n",
       "      <td>9</td>\n",
       "    </tr>\n",
       "    <tr>\n",
       "      <th>2</th>\n",
       "      <td>Adam Lambert</td>\n",
       "      <td>Logged In</td>\n",
       "      <td>Colin</td>\n",
       "      <td>M</td>\n",
       "      <td>51</td>\n",
       "      <td>Freeman</td>\n",
       "      <td>282.82730</td>\n",
       "      <td>paid</td>\n",
       "      <td>Bakersfield, CA</td>\n",
       "      <td>PUT</td>\n",
       "      <td>NextSong</td>\n",
       "      <td>1538173362000</td>\n",
       "      <td>29</td>\n",
       "      <td>Time For Miracles</td>\n",
       "      <td>200</td>\n",
       "      <td>1538352394000</td>\n",
       "      <td>Mozilla/5.0 (Windows NT 6.1; WOW64; rv:31.0) G...</td>\n",
       "      <td>30</td>\n",
       "    </tr>\n",
       "    <tr>\n",
       "      <th>3</th>\n",
       "      <td>Enigma</td>\n",
       "      <td>Logged In</td>\n",
       "      <td>Micah</td>\n",
       "      <td>M</td>\n",
       "      <td>80</td>\n",
       "      <td>Long</td>\n",
       "      <td>262.71302</td>\n",
       "      <td>free</td>\n",
       "      <td>Boston-Cambridge-Newton, MA-NH</td>\n",
       "      <td>PUT</td>\n",
       "      <td>NextSong</td>\n",
       "      <td>1538331630000</td>\n",
       "      <td>8</td>\n",
       "      <td>Knocking On Forbidden Doors</td>\n",
       "      <td>200</td>\n",
       "      <td>1538352416000</td>\n",
       "      <td>\"Mozilla/5.0 (Windows NT 6.1; WOW64) AppleWebK...</td>\n",
       "      <td>9</td>\n",
       "    </tr>\n",
       "    <tr>\n",
       "      <th>4</th>\n",
       "      <td>Daft Punk</td>\n",
       "      <td>Logged In</td>\n",
       "      <td>Colin</td>\n",
       "      <td>M</td>\n",
       "      <td>52</td>\n",
       "      <td>Freeman</td>\n",
       "      <td>223.60771</td>\n",
       "      <td>paid</td>\n",
       "      <td>Bakersfield, CA</td>\n",
       "      <td>PUT</td>\n",
       "      <td>NextSong</td>\n",
       "      <td>1538173362000</td>\n",
       "      <td>29</td>\n",
       "      <td>Harder Better Faster Stronger</td>\n",
       "      <td>200</td>\n",
       "      <td>1538352676000</td>\n",
       "      <td>Mozilla/5.0 (Windows NT 6.1; WOW64; rv:31.0) G...</td>\n",
       "      <td>30</td>\n",
       "    </tr>\n",
       "  </tbody>\n",
       "</table>\n",
       "</div>"
      ],
      "text/plain": [
       "             artist       auth firstName gender  itemInSession lastName  \\\n",
       "0    Martha Tilston  Logged In     Colin      M             50  Freeman   \n",
       "1  Five Iron Frenzy  Logged In     Micah      M             79     Long   \n",
       "2      Adam Lambert  Logged In     Colin      M             51  Freeman   \n",
       "3            Enigma  Logged In     Micah      M             80     Long   \n",
       "4         Daft Punk  Logged In     Colin      M             52  Freeman   \n",
       "\n",
       "      length level                        location method      page  \\\n",
       "0  277.89016  paid                 Bakersfield, CA    PUT  NextSong   \n",
       "1  236.09424  free  Boston-Cambridge-Newton, MA-NH    PUT  NextSong   \n",
       "2  282.82730  paid                 Bakersfield, CA    PUT  NextSong   \n",
       "3  262.71302  free  Boston-Cambridge-Newton, MA-NH    PUT  NextSong   \n",
       "4  223.60771  paid                 Bakersfield, CA    PUT  NextSong   \n",
       "\n",
       "    registration  sessionId                           song  status  \\\n",
       "0  1538173362000         29                      Rockpools     200   \n",
       "1  1538331630000          8                         Canada     200   \n",
       "2  1538173362000         29              Time For Miracles     200   \n",
       "3  1538331630000          8    Knocking On Forbidden Doors     200   \n",
       "4  1538173362000         29  Harder Better Faster Stronger     200   \n",
       "\n",
       "              ts                                          userAgent userId  \n",
       "0  1538352117000  Mozilla/5.0 (Windows NT 6.1; WOW64; rv:31.0) G...     30  \n",
       "1  1538352180000  \"Mozilla/5.0 (Windows NT 6.1; WOW64) AppleWebK...      9  \n",
       "2  1538352394000  Mozilla/5.0 (Windows NT 6.1; WOW64; rv:31.0) G...     30  \n",
       "3  1538352416000  \"Mozilla/5.0 (Windows NT 6.1; WOW64) AppleWebK...      9  \n",
       "4  1538352676000  Mozilla/5.0 (Windows NT 6.1; WOW64; rv:31.0) G...     30  "
      ]
     },
     "execution_count": 7,
     "metadata": {},
     "output_type": "execute_result"
    }
   ],
   "source": [
    "df.limit(5).toPandas()"
   ]
  },
  {
   "cell_type": "code",
   "execution_count": 26,
   "metadata": {},
   "outputs": [
    {
     "name": "stdout",
     "output_type": "stream",
     "text": [
      "Number of rows mini dataset 278154\n",
      "Number of columns mini dataset 18\n",
      "Number of duplicated rows in mini dataset 0\n"
     ]
    }
   ],
   "source": [
    "print('Number of rows mini dataset', df.count())\n",
    "print('Number of columns mini dataset', len(df.columns))\n",
    "print('Number of duplicated rows in mini dataset', df.count() - df.dropDuplicates().count())"
   ]
  },
  {
   "cell_type": "markdown",
   "metadata": {},
   "source": [
    "#### Let's check our data for numerical columns:"
   ]
  },
  {
   "cell_type": "code",
   "execution_count": 9,
   "metadata": {},
   "outputs": [
    {
     "data": {
      "text/plain": [
       "['itemInSession', 'length', 'registration', 'sessionId', 'status', 'ts']"
      ]
     },
     "execution_count": 9,
     "metadata": {},
     "output_type": "execute_result"
    }
   ],
   "source": [
    "numCols = [col[0] for col in df.dtypes if not col[1]=='string']; numCols"
   ]
  },
  {
   "cell_type": "code",
   "execution_count": 10,
   "metadata": {},
   "outputs": [
    {
     "name": "stdout",
     "output_type": "stream",
     "text": [
      "+-------+------------------+-----------------+--------------------+-----------------+------------------+--------------------+\n",
      "|summary|     itemInSession|           length|        registration|        sessionId|            status|                  ts|\n",
      "+-------+------------------+-----------------+--------------------+-----------------+------------------+--------------------+\n",
      "|  count|            286500|           228108|              278154|           286500|            286500|              286500|\n",
      "|   mean|114.41421291448516|249.1171819778458|1.535358834084427...|1041.526554973822|210.05459685863875|1.540956889810483...|\n",
      "| stddev|129.76726201140994|99.23517921058361| 3.291321616327586E9|726.7762634630741| 31.50507848842214|1.5075439608226302E9|\n",
      "|    min|                 0|          0.78322|       1521380675000|                1|               200|       1538352117000|\n",
      "|    max|              1321|       3024.66567|       1543247354000|             2474|               404|       1543799476000|\n",
      "+-------+------------------+-----------------+--------------------+-----------------+------------------+--------------------+\n",
      "\n"
     ]
    }
   ],
   "source": [
    "df.select(numCols).describe().show()"
   ]
  },
  {
   "cell_type": "markdown",
   "metadata": {},
   "source": [
    "For some informations above (`registration`, `sessionId`, `status`, `ts`) it doesn't make sense to analyze as numbers. We will dive deeper in the next Exploratory Data Analysis session of this notebook."
   ]
  },
  {
   "cell_type": "markdown",
   "metadata": {},
   "source": [
    "#### Let's check our data for categorical columns:"
   ]
  },
  {
   "cell_type": "code",
   "execution_count": 11,
   "metadata": {},
   "outputs": [
    {
     "data": {
      "text/plain": [
       "['artist',\n",
       " 'auth',\n",
       " 'firstName',\n",
       " 'gender',\n",
       " 'lastName',\n",
       " 'level',\n",
       " 'location',\n",
       " 'method',\n",
       " 'page',\n",
       " 'song',\n",
       " 'userAgent',\n",
       " 'userId']"
      ]
     },
     "execution_count": 11,
     "metadata": {},
     "output_type": "execute_result"
    }
   ],
   "source": [
    "text_cols = [col[0] for col in df.dtypes if col[1]=='string']; text_cols"
   ]
  },
  {
   "cell_type": "markdown",
   "metadata": {},
   "source": [
    "Although not expected by inspecting the data, `userId` is actually a string.\n",
    "\n",
    "We check other information about our text data (not interested in `firstName` and `lastName`):"
   ]
  },
  {
   "cell_type": "code",
   "execution_count": 12,
   "metadata": {},
   "outputs": [
    {
     "name": "stdout",
     "output_type": "stream",
     "text": [
      "+-----------------------+---------------------+------------------+-------------------------+\n",
      "|numberOfDistinctArtists|numberOfDistinctSongs|numberOfuserAgents|numberOfDistinctLocations|\n",
      "+-----------------------+---------------------+------------------+-------------------------+\n",
      "|                  17655|                65416|                56|                      114|\n",
      "+-----------------------+---------------------+------------------+-------------------------+\n",
      "\n"
     ]
    }
   ],
   "source": [
    "dist_artists = df.select(countDistinct('artist').alias('numberOfDistinctArtists')).withColumn(\"id\", monotonically_increasing_id())\n",
    "\n",
    "dist_songs = df.select(['song','artist']).groupBy('song').agg(countDistinct('artist').alias('countDistinctArtists')).\\\n",
    "    select(sparkSum('countDistinctArtists').alias('numberOfDistinctSongs')).withColumn(\"id\", monotonically_increasing_id())\n",
    "\n",
    "dist_user_agents = df.select(countDistinct('userAgent').alias('numberOfuserAgents')).withColumn(\"id\", monotonically_increasing_id())\n",
    "\n",
    "dist_locations = df.select(countDistinct('location').alias('numberOfDistinctLocations')).withColumn(\"id\", monotonically_increasing_id())\n",
    "\n",
    "text_cols_info = dist_artists.join(dist_songs, \"id\", \"outer\")\\\n",
    "                             .join(dist_user_agents, \"id\", \"outer\")\\\n",
    "                             .join(dist_locations, \"id\", \"outer\").drop('id')\\\n",
    "\n",
    "text_cols_info.show()"
   ]
  },
  {
   "cell_type": "markdown",
   "metadata": {},
   "source": [
    "Sparkify's mini dataset contains has 17655 different artists, 65416 songs, users in 114 different locations that use 56 different types of devices/software to access the app."
   ]
  },
  {
   "cell_type": "code",
   "execution_count": 22,
   "metadata": {},
   "outputs": [
    {
     "name": "stdout",
     "output_type": "stream",
     "text": [
      "+---------+------+\n",
      "|auth     |count |\n",
      "+---------+------+\n",
      "|Cancelled|52    |\n",
      "|Logged In|278102|\n",
      "+---------+------+\n",
      "\n",
      "+------+------+\n",
      "|gender|count |\n",
      "+------+------+\n",
      "|M     |123576|\n",
      "|F     |154578|\n",
      "+------+------+\n",
      "\n",
      "+-----+------+\n",
      "|level|count |\n",
      "+-----+------+\n",
      "|free |55721 |\n",
      "|paid |222433|\n",
      "+-----+------+\n",
      "\n",
      "+------+------+\n",
      "|method|count |\n",
      "+------+------+\n",
      "|GET   |20336 |\n",
      "|PUT   |257818|\n",
      "+------+------+\n",
      "\n",
      "+-------------------------+------+\n",
      "|page                     |count |\n",
      "+-------------------------+------+\n",
      "|Cancel                   |52    |\n",
      "|Cancellation Confirmation|52    |\n",
      "|Submit Downgrade         |63    |\n",
      "|Submit Upgrade           |159   |\n",
      "|Error                    |252   |\n",
      "|Save Settings            |310   |\n",
      "|About                    |495   |\n",
      "|Upgrade                  |499   |\n",
      "|Help                     |1454  |\n",
      "|Settings                 |1514  |\n",
      "|Downgrade                |2055  |\n",
      "|Thumbs Down              |2546  |\n",
      "|Logout                   |3226  |\n",
      "|Roll Advert              |3933  |\n",
      "|Add Friend               |4277  |\n",
      "|Add to Playlist          |6526  |\n",
      "|Home                     |10082 |\n",
      "|Thumbs Up                |12551 |\n",
      "|NextSong                 |228108|\n",
      "+-------------------------+------+\n",
      "\n",
      "+------+------+\n",
      "|status|count |\n",
      "+------+------+\n",
      "|404   |252   |\n",
      "|307   |23184 |\n",
      "|200   |254718|\n",
      "+------+------+\n",
      "\n"
     ]
    }
   ],
   "source": [
    "# We calculate value counts for:\n",
    "text_cols_value_counts = ['auth',\n",
    "                         'gender',\n",
    "                         'level',\n",
    "                         'method',\n",
    "                         'page',\n",
    "                         'status']\n",
    "\n",
    "for column in text_cols_value_counts:\n",
    "    df.select(column).groupBy(column).count().orderBy('count').show(30, truncate=False)"
   ]
  },
  {
   "cell_type": "markdown",
   "metadata": {},
   "source": [
    "#### Loading, cleaning the dataset and checking for invalid or missing data - for example, records without userids or sessionids. "
   ]
  },
  {
   "cell_type": "code",
   "execution_count": 14,
   "metadata": {},
   "outputs": [
    {
     "data": {
      "text/html": [
       "<div>\n",
       "<style scoped>\n",
       "    .dataframe tbody tr th:only-of-type {\n",
       "        vertical-align: middle;\n",
       "    }\n",
       "\n",
       "    .dataframe tbody tr th {\n",
       "        vertical-align: top;\n",
       "    }\n",
       "\n",
       "    .dataframe thead th {\n",
       "        text-align: right;\n",
       "    }\n",
       "</style>\n",
       "<table border=\"1\" class=\"dataframe\">\n",
       "  <thead>\n",
       "    <tr style=\"text-align: right;\">\n",
       "      <th></th>\n",
       "      <th>artistIsNan</th>\n",
       "      <th>authIsNan</th>\n",
       "      <th>firstNameIsNan</th>\n",
       "      <th>genderIsNan</th>\n",
       "      <th>itemInSessionIsNan</th>\n",
       "      <th>lastNameIsNan</th>\n",
       "      <th>lengthIsNan</th>\n",
       "      <th>levelIsNan</th>\n",
       "      <th>locationIsNan</th>\n",
       "      <th>methodIsNan</th>\n",
       "      <th>pageIsNan</th>\n",
       "      <th>registrationIsNan</th>\n",
       "      <th>sessionIdIsNan</th>\n",
       "      <th>songIsNan</th>\n",
       "      <th>statusIsNan</th>\n",
       "      <th>tsIsNan</th>\n",
       "      <th>userAgentIsNan</th>\n",
       "      <th>userIdIsNan</th>\n",
       "    </tr>\n",
       "  </thead>\n",
       "  <tbody>\n",
       "    <tr>\n",
       "      <th>0</th>\n",
       "      <td>0</td>\n",
       "      <td>0</td>\n",
       "      <td>0</td>\n",
       "      <td>0</td>\n",
       "      <td>0</td>\n",
       "      <td>0</td>\n",
       "      <td>0</td>\n",
       "      <td>0</td>\n",
       "      <td>0</td>\n",
       "      <td>0</td>\n",
       "      <td>0</td>\n",
       "      <td>0</td>\n",
       "      <td>0</td>\n",
       "      <td>0</td>\n",
       "      <td>0</td>\n",
       "      <td>0</td>\n",
       "      <td>0</td>\n",
       "      <td>0</td>\n",
       "    </tr>\n",
       "  </tbody>\n",
       "</table>\n",
       "</div>"
      ],
      "text/plain": [
       "   artistIsNan  authIsNan  firstNameIsNan  genderIsNan  itemInSessionIsNan  \\\n",
       "0            0          0               0            0                   0   \n",
       "\n",
       "   lastNameIsNan  lengthIsNan  levelIsNan  locationIsNan  methodIsNan  \\\n",
       "0              0            0           0              0            0   \n",
       "\n",
       "   pageIsNan  registrationIsNan  sessionIdIsNan  songIsNan  statusIsNan  \\\n",
       "0          0                  0               0          0            0   \n",
       "\n",
       "   tsIsNan  userAgentIsNan  userIdIsNan  \n",
       "0        0               0            0  "
      ]
     },
     "execution_count": 14,
     "metadata": {},
     "output_type": "execute_result"
    }
   ],
   "source": [
    "#Checking if there are NaNs\n",
    "df.select([count(when(isnan(c), c)).alias(c+'IsNan') for c in df.columns]).toPandas()"
   ]
  },
  {
   "cell_type": "markdown",
   "metadata": {},
   "source": [
    "No Nans in the mini-dataset."
   ]
  },
  {
   "cell_type": "code",
   "execution_count": 15,
   "metadata": {},
   "outputs": [
    {
     "data": {
      "text/html": [
       "<div>\n",
       "<style scoped>\n",
       "    .dataframe tbody tr th:only-of-type {\n",
       "        vertical-align: middle;\n",
       "    }\n",
       "\n",
       "    .dataframe tbody tr th {\n",
       "        vertical-align: top;\n",
       "    }\n",
       "\n",
       "    .dataframe thead th {\n",
       "        text-align: right;\n",
       "    }\n",
       "</style>\n",
       "<table border=\"1\" class=\"dataframe\">\n",
       "  <thead>\n",
       "    <tr style=\"text-align: right;\">\n",
       "      <th></th>\n",
       "      <th>artistIsNull</th>\n",
       "      <th>authIsNull</th>\n",
       "      <th>firstNameIsNull</th>\n",
       "      <th>genderIsNull</th>\n",
       "      <th>itemInSessionIsNull</th>\n",
       "      <th>lastNameIsNull</th>\n",
       "      <th>lengthIsNull</th>\n",
       "      <th>levelIsNull</th>\n",
       "      <th>locationIsNull</th>\n",
       "      <th>methodIsNull</th>\n",
       "      <th>pageIsNull</th>\n",
       "      <th>registrationIsNull</th>\n",
       "      <th>sessionIdIsNull</th>\n",
       "      <th>songIsNull</th>\n",
       "      <th>statusIsNull</th>\n",
       "      <th>tsIsNull</th>\n",
       "      <th>userAgentIsNull</th>\n",
       "      <th>userIdIsNull</th>\n",
       "    </tr>\n",
       "  </thead>\n",
       "  <tbody>\n",
       "    <tr>\n",
       "      <th>0</th>\n",
       "      <td>58392</td>\n",
       "      <td>0</td>\n",
       "      <td>8346</td>\n",
       "      <td>8346</td>\n",
       "      <td>0</td>\n",
       "      <td>8346</td>\n",
       "      <td>58392</td>\n",
       "      <td>0</td>\n",
       "      <td>8346</td>\n",
       "      <td>0</td>\n",
       "      <td>0</td>\n",
       "      <td>8346</td>\n",
       "      <td>0</td>\n",
       "      <td>58392</td>\n",
       "      <td>0</td>\n",
       "      <td>0</td>\n",
       "      <td>8346</td>\n",
       "      <td>0</td>\n",
       "    </tr>\n",
       "  </tbody>\n",
       "</table>\n",
       "</div>"
      ],
      "text/plain": [
       "   artistIsNull  authIsNull  firstNameIsNull  genderIsNull  \\\n",
       "0         58392           0             8346          8346   \n",
       "\n",
       "   itemInSessionIsNull  lastNameIsNull  lengthIsNull  levelIsNull  \\\n",
       "0                    0            8346         58392            0   \n",
       "\n",
       "   locationIsNull  methodIsNull  pageIsNull  registrationIsNull  \\\n",
       "0            8346             0           0                8346   \n",
       "\n",
       "   sessionIdIsNull  songIsNull  statusIsNull  tsIsNull  userAgentIsNull  \\\n",
       "0                0       58392             0         0             8346   \n",
       "\n",
       "   userIdIsNull  \n",
       "0             0  "
      ]
     },
     "execution_count": 15,
     "metadata": {},
     "output_type": "execute_result"
    }
   ],
   "source": [
    "#Checking if there are null values\n",
    "df.select([count(when(col(c).isNull(), c)).alias(c+'IsNull') for c in df.columns]).toPandas()"
   ]
  },
  {
   "cell_type": "markdown",
   "metadata": {},
   "source": [
    "Appearently missing data is correlated (missing counts of columns consistently appear having 8346 or 58392 Null values)."
   ]
  },
  {
   "cell_type": "markdown",
   "metadata": {},
   "source": [
    "Let's check how missing values are correlated:"
   ]
  },
  {
   "cell_type": "code",
   "execution_count": 16,
   "metadata": {},
   "outputs": [],
   "source": [
    "# Check null values: 1 is null and 0 not null\n",
    "df_is_null = df.select([when(col(c).isNull(), 1).otherwise(0).alias(c) for c in df.columns])\n",
    "\n",
    "df_is_null_describe = df_is_null.describe()\n",
    "\n",
    "df_is_null_describe = df_is_null_describe.filter(\n",
    "    (df_is_null_describe['summary']=='stddev') | \n",
    "    (df_is_null_describe['summary'] == 'max')\n",
    ")\n",
    "\n",
    "# Handle the std equals to zero (all values are the same) and without any null value\n",
    "zero_std_max_cols = [col for col in df_is_null_describe.columns if df_is_null_describe.select(collect_list(col)).head().asDict()['collect_list('+col+')'] == ['0.0', '0']]\n",
    "\n",
    "# Drop all columns with Standard Deviation equals zero and no missing values\n",
    "df_is_null = df_is_null.drop(*zero_std_max_cols)\n",
    "\n",
    "# Create vectors \n",
    "assembler = VectorAssembler(inputCols=df_is_null.columns, outputCol='vector')\n",
    "assembled = assembler.transform(df_is_null).drop(*df_is_null.columns)\n",
    "\n",
    "# Calculate and print Pearson correlation matrix for missing values\n",
    "pearson_corr = Correlation.corr(assembled, 'vector').head()\n",
    "pearson_corr = pd.DataFrame(data=pearson_corr[0].toArray(), columns=df_is_null.columns, index=df_is_null.columns)"
   ]
  },
  {
   "cell_type": "code",
   "execution_count": 17,
   "metadata": {},
   "outputs": [
    {
     "data": {
      "image/png": "[encoded data removed]",
      "text/plain": [
       "<Figure size 576x720 with 2 Axes>"
      ]
     },
     "metadata": {
      "needs_background": "light"
     },
     "output_type": "display_data"
    }
   ],
   "source": [
    "fig, ax = plt.subplots(figsize=(8, 10))\n",
    "sns.heatmap(pearson_corr, ax=ax, annot=True);"
   ]
  },
  {
   "cell_type": "markdown",
   "metadata": {},
   "source": [
    "When there's a null in `artist` column also a null in `length` and `song` happen. Hence, this data may be related and length appears to be the length in seconds of songs. \n",
    "\n",
    "Similarly, data related to users are related and when a null happens in either `firstName`, `lastName`, `gender`, `location`, `userAgent` and `registration` the others are null too. The column registration seems to be related to the timestamp of when a user registers himself/herself in the application."
   ]
  },
  {
   "cell_type": "markdown",
   "metadata": {},
   "source": [
    "Let's check `userId`:"
   ]
  },
  {
   "cell_type": "code",
   "execution_count": 18,
   "metadata": {},
   "outputs": [
    {
     "name": "stdout",
     "output_type": "stream",
     "text": [
      "+------+------------+\n",
      "|userId|userIdLength|\n",
      "+------+------------+\n",
      "|      |           0|\n",
      "|     6|           1|\n",
      "|     3|           1|\n",
      "|     5|           1|\n",
      "|     4|           1|\n",
      "+------+------------+\n",
      "only showing top 5 rows\n",
      "\n"
     ]
    }
   ],
   "source": [
    "# userId is string and shold be always with length greater than 0\n",
    "df.select('userId', length(col('userId')).alias('userIdLength')).distinct().orderBy(col('userIdLength')).show(5)"
   ]
  },
  {
   "cell_type": "code",
   "execution_count": 19,
   "metadata": {},
   "outputs": [
    {
     "data": {
      "text/plain": [
       "8346"
      ]
     },
     "execution_count": 19,
     "metadata": {},
     "output_type": "execute_result"
    }
   ],
   "source": [
    "# number of users with userId equals to ''\n",
    "df.filter(df.userId=='').count()"
   ]
  },
  {
   "cell_type": "markdown",
   "metadata": {},
   "source": [
    "In the mini dataset there are 8346 users with userId equals to `''` (length of the string userId is zero). Perhaps those users without userId are those who have not signed up yet or that are signed out and are about to log in.\n",
    "\n",
    "We'll drop them from our dataframe (in order for the analysis of individual users make sense):"
   ]
  },
  {
   "cell_type": "code",
   "execution_count": 20,
   "metadata": {},
   "outputs": [],
   "source": [
    "# Drop userId equals to ''\n",
    "df = df.filter(df.userId!='')"
   ]
  },
  {
   "cell_type": "code",
   "execution_count": 21,
   "metadata": {},
   "outputs": [
    {
     "data": {
      "text/plain": [
       "278154"
      ]
     },
     "execution_count": 21,
     "metadata": {},
     "output_type": "execute_result"
    }
   ],
   "source": [
    "# Mini dataset has 286,500 rows. Hence we expect 286,500 - 8,346 = 278,154\n",
    "df.count()"
   ]
  },
  {
   "cell_type": "code",
   "execution_count": 29,
   "metadata": {},
   "outputs": [
    {
     "name": "stdout",
     "output_type": "stream",
     "text": [
      "There are 225 users in the mini dataset.\n"
     ]
    }
   ],
   "source": [
    "print(f\"There are {df.select('userId').distinct().count()} users in the mini dataset.\")"
   ]
  },
  {
   "cell_type": "markdown",
   "metadata": {},
   "source": [
    "# Exploratory Data Analysis\n",
    "\n",
    "### Define Churn\n",
    "\n",
    "We create a column `Churn` to use as the label for our model. We choose the `Cancellation Confirmation` events to define the churn, which happen for both paid and free users. We also analyze the `Downgrade` events.\n",
    "\n",
    "### Explore Data\n",
    "Analyzing the behavior for users who stayed vs users who churned. \n",
    "We explore aggregates on these two groups of users, observing how much of a specific action they experienced per a certain time unit or number of songs played."
   ]
  },
  {
   "cell_type": "markdown",
   "metadata": {},
   "source": [
    "Without knowing much about the business nor the actual application, we can think the following possible reasons why users cancel the service:\n",
    "1. user is not using Sparkify\n",
    "2. Sparkify doesn't have specific songs/artists\n",
    "3. bad recommendations\n",
    "4. bad experience (streaming getting stuck, interface not intuitive in version of app, too many ads in the app, etc.)\n",
    "5. bugs (commands not responding or don't do what they should, crashes in the app, etc.)\n",
    "6. Sparkify too expensive\n",
    "7. don't have friends using Sparkify\n",
    "8. external influences (some news about company benefits/harms its image, country where users live imposes some limits, cost increase, etc.)\n",
    "\n",
    "From the hypothesis above:\n",
    "- `1.` we can check by counting number of interations in a given timeframe\n",
    "- `2.` we cannot check directly since we don't have logs for search queries which would be better (showing that the search query returned exactly what the user wanted) \n",
    "- `3.` we have the Add to Playlist, Thumbs Down and Thumbs Up `pages` which could indicate the quality of recommendations\n",
    "- `4.` and `5.` we don't have application logs which could indicate loading times, interrupting streaming. However, <a href=\"https://www.w3.org/Protocols/rfc2616/rfc2616-sec10.html#sec10.3.3\">status</a> could give us some information about the application and the Error and Help `pages`. In addition, <a href=\"https://developer.mozilla.org/en-US/docs/Web/HTTP/Headers/User-Agent\">userAgent</a> can also give us some information about Sparkify applications that are not behaving as expected (Windows, MacOS, specific browser, platform, etc.). The Roll Advert `page` indicates Advertising events and if it is affecting too much user experience (if we could reduce it or enphasize that user can upgrade plan)\n",
    "- `6.` as \"expensive\" may be an ambiguous definition and depend on many factors, with the dataset given we won't be able to infer anything.\n",
    "- `7.` Add Friend `page` could indicate that friends are also using app (in the provided dataset we don't have relationships between users which would be better)\n",
    "- `8.` again we would need more data related to the business and context to infer anything here\n",
    "\n",
    "We check the data to answer those questions and compare customers who churn with those who don't:"
   ]
  },
  {
   "cell_type": "markdown",
   "metadata": {},
   "source": [
    "#### 1. Understand how often users interact with Sparkify"
   ]
  },
  {
   "cell_type": "code",
   "execution_count": 36,
   "metadata": {},
   "outputs": [
    {
     "name": "stdout",
     "output_type": "stream",
     "text": [
      "+------------------+\n",
      "|avg(count(period))|\n",
      "+------------------+\n",
      "| 23.60389072847682|\n",
      "+------------------+\n",
      "\n"
     ]
    }
   ],
   "source": [
    "# a. How many songs do users listen to on average between visiting our home page (as seen in the Udacity course)\n",
    "\n",
    "fun = udf(lambda ishome : int(ishome == 'Home'), IntegerType())\n",
    "\n",
    "user_window = Window \\\n",
    "    .partitionBy('userID') \\\n",
    "    .orderBy(desc('ts')) \\\n",
    "    .rangeBetween(Window.unboundedPreceding, 0)\n",
    "\n",
    "cusum = df.filter((df.page == 'NextSong') | (df.page == 'Home')) \\\n",
    "    .select('userID', 'page', 'ts') \\\n",
    "    .withColumn('homevisit', fun(col('page'))) \\\n",
    "    .withColumn('period', sparkSum('homevisit').over(user_window))\n",
    "\n",
    "cusum.filter((cusum.page == 'NextSong')) \\\n",
    "    .groupBy('userID', 'period') \\\n",
    "    .agg({'period':'count'}) \\\n",
    "    .agg({'count(period)':'avg'}).show()"
   ]
  },
  {
   "cell_type": "code",
   "execution_count": 79,
   "metadata": {},
   "outputs": [
    {
     "data": {
      "image/png": "[encoded data removed]",
      "text/plain": [
       "<Figure size 1152x576 with 2 Axes>"
      ]
     },
     "metadata": {
      "needs_background": "light"
     },
     "output_type": "display_data"
    }
   ],
   "source": [
    "# b. Calculating number of songs played given time frame\n",
    "\n",
    "get_hour = udf(lambda x: int(datetime.fromtimestamp(x / 1000.0).hour), IntegerType())\n",
    "df_hour = df.withColumn('hour', get_hour(df.ts))\n",
    "songs_in_hour = df_hour.filter(df_hour.page == 'NextSong').groupby('hour').count().orderBy('hour')\n",
    "songs_in_hour_pd = songs_in_hour.toPandas()\n",
    "\n",
    "get_weekday = udf(lambda x: int(datetime.fromtimestamp(x / 1000.0).weekday()), IntegerType())\n",
    "df_weekday = df.withColumn('weekday', get_weekday(df.ts))\n",
    "songs_in_weekday = df_weekday.filter(df_weekday.page == 'NextSong').groupby('weekday').count().orderBy('weekday')\n",
    "songs_in_weekday_pd = songs_in_weekday.toPandas()\n",
    "\n",
    "fig, ax = plt.subplots(1,2, figsize=(12,8))\n",
    "ax[0].scatter(songs_in_hour_pd['hour'], songs_in_hour_pd['count'])\n",
    "ax[0].set_xlim(-1, 24);\n",
    "ax[0].set_ylim(0, 1.2 * max(songs_in_hour_pd[\"count\"]))\n",
    "ax[0].set_xlabel(\"Hour\")\n",
    "ax[0].set_ylabel(\"Songs played\")\n",
    "ax[0].set_title(\"Songs played by Hour\")\n",
    "ax[1].scatter(songs_in_weekday_pd['weekday'], songs_in_weekday_pd['count'])\n",
    "ax[1].set_xlim(-1, 7);\n",
    "ax[1].set_ylim(0, 1.2 * max(songs_in_weekday_pd[\"count\"]))\n",
    "ax[1].set_xlabel(\"Week day\")\n",
    "ax[1].set_ylabel(\"Songs played\")\n",
    "ax[1].set_title(\"Songs played by Week day\")\n",
    "fig.tight_layout();"
   ]
  },
  {
   "cell_type": "code",
   "execution_count": null,
   "metadata": {},
   "outputs": [],
   "source": [
    "# c. how number of interactions change over time, since user registrates\n",
    "\n",
    "# d. is it different between paid users and free\n",
    "\n",
    "# e. is it different between users who churn and those who don't"
   ]
  },
  {
   "cell_type": "markdown",
   "metadata": {},
   "source": [
    "#### 2. Analysis of Sparkify's catalog of songs/artists\n",
    "For that we would need more data (e.g. user's search queries and if query returned exactly what the user wanted or if it wasn't available in the platform)."
   ]
  },
  {
   "cell_type": "markdown",
   "metadata": {},
   "source": [
    "#### 3. Quality of recommendations"
   ]
  },
  {
   "cell_type": "code",
   "execution_count": null,
   "metadata": {},
   "outputs": [],
   "source": []
  },
  {
   "cell_type": "markdown",
   "metadata": {},
   "source": [
    "#### 4. User experience and 5. Code quality of app\n",
    "- e.g. streaming getting stuck, interface not intuitive in version of app, too many ads in the app, etc.\n",
    "- bugs (commands not responding or don't do what they should, crashes in the app, etc.)"
   ]
  },
  {
   "cell_type": "code",
   "execution_count": null,
   "metadata": {},
   "outputs": [],
   "source": []
  },
  {
   "cell_type": "markdown",
   "metadata": {},
   "source": [
    "#### 6. Sparkify price\n",
    "As previously stated, \"expensive\" may be an ambiguous definition and depend on many factors, with the dataset given we won't be able to infer anything."
   ]
  },
  {
   "cell_type": "markdown",
   "metadata": {},
   "source": [
    "#### 7. Users with friends also using Sparkify"
   ]
  },
  {
   "cell_type": "code",
   "execution_count": null,
   "metadata": {},
   "outputs": [],
   "source": []
  },
  {
   "cell_type": "markdown",
   "metadata": {},
   "source": [
    "#### 8. External influences \n",
    "We would need more data related to the business and context to infer anything here."
   ]
  },
  {
   "cell_type": "markdown",
   "metadata": {},
   "source": [
    "#### Other analysis:\n",
    "\n",
    "#### Users Downgrade Their Accounts"
   ]
  },
  {
   "cell_type": "code",
   "execution_count": null,
   "metadata": {},
   "outputs": [],
   "source": [
    "# We find when users downgrade their accounts and then flag those log entries. Then we use a window function and cumulative sum to distinguish each user's data as either pre or post downgrade events.\n",
    "\n",
    "user_log_valid.filter(\"page = 'Submit Downgrade'\").show()\n",
    "\n",
    "user_log.select([\"userId\", \"firstname\", \"page\", \"level\", \"song\"]).where(user_log.userId == \"1138\").collect()\n",
    "\n",
    "flag_downgrade_event = udf(lambda x: 1 if x == \"Submit Downgrade\" else 0, IntegerType())\n",
    "\n",
    "user_log_valid = user_log_valid.withColumn(\"downgraded\", flag_downgrade_event(\"page\"))\n",
    "\n",
    "user_log_valid.head()\n",
    "\n",
    "windowval = Window.partitionBy(\"userId\").orderBy(desc(\"ts\")).rangeBetween(Window.unboundedPreceding, 0)\n",
    "\n",
    "user_log_valid = user_log_valid.withColumn(\"phase\", Fsum(\"downgraded\").over(windowval))\n",
    "\n",
    "user_log_valid.select([\"userId\", \"firstname\", \"ts\", \"page\", \"level\", \"phase\"]).where(user_log.userId == \"1138\").sort(\"ts\").collect()"
   ]
  },
  {
   "cell_type": "markdown",
   "metadata": {},
   "source": [
    "# Feature Engineering"
   ]
  },
  {
   "cell_type": "code",
   "execution_count": null,
   "metadata": {},
   "outputs": [],
   "source": []
  },
  {
   "cell_type": "markdown",
   "metadata": {},
   "source": [
    "# Modeling\n",
    "We split the full dataset into train, test, and validation sets. "
   ]
  },
  {
   "cell_type": "code",
   "execution_count": null,
   "metadata": {},
   "outputs": [],
   "source": []
  },
  {
   "cell_type": "markdown",
   "metadata": {},
   "source": [
    "We evaluate the accuracy of the various models, tuning parameters as necessary. "
   ]
  },
  {
   "cell_type": "markdown",
   "metadata": {},
   "source": [
    "The winning model is chosen based on test accuracy and we report the results of the model on the validation set. Since the churned users are a fairly small subset, we use F1 score as the metric to optimize."
   ]
  },
  {
   "cell_type": "code",
   "execution_count": null,
   "metadata": {},
   "outputs": [],
   "source": []
  },
  {
   "cell_type": "markdown",
   "metadata": {},
   "source": [
    "# Final Steps"
   ]
  },
  {
   "cell_type": "code",
   "execution_count": null,
   "metadata": {},
   "outputs": [],
   "source": [
    "# TODO: Transform in transient EMR cluster (batch inference)\n",
    "# Considerations \n",
    "# - use spot instances\n",
    "# - realtime (a lot more complex: feature store, turn training model into an rest API with MLeap, etc.)\n",
    "# - trigger maketing campaings, promotions, incentives for user to use the app (personalized e-mails, SMSs), etc."
   ]
  }
 ],
 "metadata": {
  "kernelspec": {
   "display_name": "Spark",
   "language": "python",
   "name": "spark"
  },
  "language_info": {
   "codemirror_mode": {
    "name": "ipython",
    "version": 3
   },
   "file_extension": ".py",
   "mimetype": "text/x-python",
   "name": "python",
   "nbconvert_exporter": "python",
   "pygments_lexer": "ipython3",
   "version": "3.7.7"
  }
 },
 "nbformat": 4,
 "nbformat_minor": 4
}
