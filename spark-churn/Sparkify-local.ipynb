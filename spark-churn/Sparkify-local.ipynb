{
 "cells": [
  {
   "cell_type": "markdown",
   "metadata": {},
   "source": [
    "# Sparkify Project"
   ]
  },
  {
   "cell_type": "code",
   "execution_count": 1,
   "metadata": {},
   "outputs": [],
   "source": [
    "# import libraries\n",
    "from pyspark.sql import SparkSession, Window\n",
    "import pyspark.sql.functions as F\n",
    "from  pyspark.sql.functions import col, udf\n",
    "from pyspark.sql.types import IntegerType, FloatType\n",
    "from pyspark.ml.stat import Correlation\n",
    "from pyspark.ml import Pipeline\n",
    "from pyspark.ml.feature import VectorAssembler, StandardScaler\n",
    "from pyspark.ml.evaluation import BinaryClassificationEvaluator, Evaluator\n",
    "from pyspark.ml.classification import RandomForestClassifier, GBTClassifier\n",
    "from pyspark.ml.tuning import CrossValidator, ParamGridBuilder\n",
    "\n",
    "import time\n",
    "from datetime import datetime\n",
    "import numpy as np\n",
    "import pandas as pd\n",
    "import matplotlib.pyplot as plt\n",
    "import seaborn as sns"
   ]
  },
  {
   "cell_type": "code",
   "execution_count": 2,
   "metadata": {},
   "outputs": [],
   "source": [
    "# create a Spark session\n",
    "spark = SparkSession.builder\\\n",
    "    .master(\"local\")\\\n",
    "    .appName('Sparkify')\\\n",
    "    .getOrCreate()"
   ]
  },
  {
   "cell_type": "code",
   "execution_count": 3,
   "metadata": {},
   "outputs": [
    {
     "data": {
      "text/html": [
       "\n",
       "            <div>\n",
       "                <p><b>SparkSession - in-memory</b></p>\n",
       "                \n",
       "        <div>\n",
       "            <p><b>SparkContext</b></p>\n",
       "\n",
       "            <p><a href=\"http://192.168.15.14:4040\">Spark UI</a></p>\n",
       "\n",
       "            <dl>\n",
       "              <dt>Version</dt>\n",
       "                <dd><code>v2.4.6</code></dd>\n",
       "              <dt>Master</dt>\n",
       "                <dd><code>local</code></dd>\n",
       "              <dt>AppName</dt>\n",
       "                <dd><code>Sparkify</code></dd>\n",
       "            </dl>\n",
       "        </div>\n",
       "        \n",
       "            </div>\n",
       "        "
      ],
      "text/plain": [
       "<pyspark.sql.session.SparkSession at 0x1a2332a150>"
      ]
     },
     "execution_count": 3,
     "metadata": {},
     "output_type": "execute_result"
    }
   ],
   "source": [
    "spark"
   ]
  },
  {
   "cell_type": "markdown",
   "metadata": {},
   "source": [
    "# Load and Clean Dataset\n",
    "Using tiny subset (128MB) of the full dataset available (12GB) for local development.\n",
    "\n",
    "Mini dataset: `s3n://udacity-dsnd/sparkify/mini_sparkify_event_data.json`\n",
    "\n",
    "Full dataset: `s3n://udacity-dsnd/sparkify/sparkify_event_data.json`\n"
   ]
  },
  {
   "cell_type": "code",
   "execution_count": 4,
   "metadata": {},
   "outputs": [],
   "source": [
    "# Uncomment to download\n",
    "\n",
    "# import requests\n",
    "# url = 'https://udacity-dsnd.s3.amazonaws.com/sparkify/mini_sparkify_event_data.json'\n",
    "\n",
    "# def download_file(url):\n",
    "#     local_filename = url.split('/')[-1]\n",
    "#     with requests.get(url, stream=True) as r:\n",
    "#         r.raise_for_status()\n",
    "#         with open(local_filename, 'wb') as f:\n",
    "#             for chunk in r.iter_content(chunk_size=8192): \n",
    "#                 f.write(chunk)\n",
    "#     return local_filename\n",
    "\n",
    "# download_file(url)"
   ]
  },
  {
   "cell_type": "code",
   "execution_count": 5,
   "metadata": {},
   "outputs": [],
   "source": [
    "event_data = \"mini_sparkify_event_data.json\"\n",
    "df = spark.read.json(event_data)"
   ]
  },
  {
   "cell_type": "code",
   "execution_count": 6,
   "metadata": {},
   "outputs": [
    {
     "name": "stdout",
     "output_type": "stream",
     "text": [
      "root\n",
      " |-- artist: string (nullable = true)\n",
      " |-- auth: string (nullable = true)\n",
      " |-- firstName: string (nullable = true)\n",
      " |-- gender: string (nullable = true)\n",
      " |-- itemInSession: long (nullable = true)\n",
      " |-- lastName: string (nullable = true)\n",
      " |-- length: double (nullable = true)\n",
      " |-- level: string (nullable = true)\n",
      " |-- location: string (nullable = true)\n",
      " |-- method: string (nullable = true)\n",
      " |-- page: string (nullable = true)\n",
      " |-- registration: long (nullable = true)\n",
      " |-- sessionId: long (nullable = true)\n",
      " |-- song: string (nullable = true)\n",
      " |-- status: long (nullable = true)\n",
      " |-- ts: long (nullable = true)\n",
      " |-- userAgent: string (nullable = true)\n",
      " |-- userId: string (nullable = true)\n",
      "\n"
     ]
    }
   ],
   "source": [
    "# Check schema and column types\n",
    "df.printSchema()"
   ]
  },
  {
   "cell_type": "code",
   "execution_count": 7,
   "metadata": {},
   "outputs": [
    {
     "data": {
      "text/plain": [
       "[Row(artist='Martha Tilston', auth='Logged In', firstName='Colin', gender='M', itemInSession=50, lastName='Freeman', length=277.89016, level='paid', location='Bakersfield, CA', method='PUT', page='NextSong', registration=1538173362000, sessionId=29, song='Rockpools', status=200, ts=1538352117000, userAgent='Mozilla/5.0 (Windows NT 6.1; WOW64; rv:31.0) Gecko/20100101 Firefox/31.0', userId='30'),\n",
       " Row(artist='Five Iron Frenzy', auth='Logged In', firstName='Micah', gender='M', itemInSession=79, lastName='Long', length=236.09424, level='free', location='Boston-Cambridge-Newton, MA-NH', method='PUT', page='NextSong', registration=1538331630000, sessionId=8, song='Canada', status=200, ts=1538352180000, userAgent='\"Mozilla/5.0 (Windows NT 6.1; WOW64) AppleWebKit/537.36 (KHTML, like Gecko) Chrome/37.0.2062.103 Safari/537.36\"', userId='9'),\n",
       " Row(artist='Adam Lambert', auth='Logged In', firstName='Colin', gender='M', itemInSession=51, lastName='Freeman', length=282.8273, level='paid', location='Bakersfield, CA', method='PUT', page='NextSong', registration=1538173362000, sessionId=29, song='Time For Miracles', status=200, ts=1538352394000, userAgent='Mozilla/5.0 (Windows NT 6.1; WOW64; rv:31.0) Gecko/20100101 Firefox/31.0', userId='30'),\n",
       " Row(artist='Enigma', auth='Logged In', firstName='Micah', gender='M', itemInSession=80, lastName='Long', length=262.71302, level='free', location='Boston-Cambridge-Newton, MA-NH', method='PUT', page='NextSong', registration=1538331630000, sessionId=8, song='Knocking On Forbidden Doors', status=200, ts=1538352416000, userAgent='\"Mozilla/5.0 (Windows NT 6.1; WOW64) AppleWebKit/537.36 (KHTML, like Gecko) Chrome/37.0.2062.103 Safari/537.36\"', userId='9'),\n",
       " Row(artist='Daft Punk', auth='Logged In', firstName='Colin', gender='M', itemInSession=52, lastName='Freeman', length=223.60771, level='paid', location='Bakersfield, CA', method='PUT', page='NextSong', registration=1538173362000, sessionId=29, song='Harder Better Faster Stronger', status=200, ts=1538352676000, userAgent='Mozilla/5.0 (Windows NT 6.1; WOW64; rv:31.0) Gecko/20100101 Firefox/31.0', userId='30')]"
      ]
     },
     "execution_count": 7,
     "metadata": {},
     "output_type": "execute_result"
    }
   ],
   "source": [
    "df.head(5)"
   ]
  },
  {
   "cell_type": "code",
   "execution_count": 8,
   "metadata": {},
   "outputs": [
    {
     "data": {
      "text/html": [
       "<div>\n",
       "<style scoped>\n",
       "    .dataframe tbody tr th:only-of-type {\n",
       "        vertical-align: middle;\n",
       "    }\n",
       "\n",
       "    .dataframe tbody tr th {\n",
       "        vertical-align: top;\n",
       "    }\n",
       "\n",
       "    .dataframe thead th {\n",
       "        text-align: right;\n",
       "    }\n",
       "</style>\n",
       "<table border=\"1\" class=\"dataframe\">\n",
       "  <thead>\n",
       "    <tr style=\"text-align: right;\">\n",
       "      <th></th>\n",
       "      <th>artist</th>\n",
       "      <th>auth</th>\n",
       "      <th>firstName</th>\n",
       "      <th>gender</th>\n",
       "      <th>itemInSession</th>\n",
       "      <th>lastName</th>\n",
       "      <th>length</th>\n",
       "      <th>level</th>\n",
       "      <th>location</th>\n",
       "      <th>method</th>\n",
       "      <th>page</th>\n",
       "      <th>registration</th>\n",
       "      <th>sessionId</th>\n",
       "      <th>song</th>\n",
       "      <th>status</th>\n",
       "      <th>ts</th>\n",
       "      <th>userAgent</th>\n",
       "      <th>userId</th>\n",
       "    </tr>\n",
       "  </thead>\n",
       "  <tbody>\n",
       "    <tr>\n",
       "      <th>0</th>\n",
       "      <td>Martha Tilston</td>\n",
       "      <td>Logged In</td>\n",
       "      <td>Colin</td>\n",
       "      <td>M</td>\n",
       "      <td>50</td>\n",
       "      <td>Freeman</td>\n",
       "      <td>277.89016</td>\n",
       "      <td>paid</td>\n",
       "      <td>Bakersfield, CA</td>\n",
       "      <td>PUT</td>\n",
       "      <td>NextSong</td>\n",
       "      <td>1538173362000</td>\n",
       "      <td>29</td>\n",
       "      <td>Rockpools</td>\n",
       "      <td>200</td>\n",
       "      <td>1538352117000</td>\n",
       "      <td>Mozilla/5.0 (Windows NT 6.1; WOW64; rv:31.0) G...</td>\n",
       "      <td>30</td>\n",
       "    </tr>\n",
       "    <tr>\n",
       "      <th>1</th>\n",
       "      <td>Five Iron Frenzy</td>\n",
       "      <td>Logged In</td>\n",
       "      <td>Micah</td>\n",
       "      <td>M</td>\n",
       "      <td>79</td>\n",
       "      <td>Long</td>\n",
       "      <td>236.09424</td>\n",
       "      <td>free</td>\n",
       "      <td>Boston-Cambridge-Newton, MA-NH</td>\n",
       "      <td>PUT</td>\n",
       "      <td>NextSong</td>\n",
       "      <td>1538331630000</td>\n",
       "      <td>8</td>\n",
       "      <td>Canada</td>\n",
       "      <td>200</td>\n",
       "      <td>1538352180000</td>\n",
       "      <td>\"Mozilla/5.0 (Windows NT 6.1; WOW64) AppleWebK...</td>\n",
       "      <td>9</td>\n",
       "    </tr>\n",
       "    <tr>\n",
       "      <th>2</th>\n",
       "      <td>Adam Lambert</td>\n",
       "      <td>Logged In</td>\n",
       "      <td>Colin</td>\n",
       "      <td>M</td>\n",
       "      <td>51</td>\n",
       "      <td>Freeman</td>\n",
       "      <td>282.82730</td>\n",
       "      <td>paid</td>\n",
       "      <td>Bakersfield, CA</td>\n",
       "      <td>PUT</td>\n",
       "      <td>NextSong</td>\n",
       "      <td>1538173362000</td>\n",
       "      <td>29</td>\n",
       "      <td>Time For Miracles</td>\n",
       "      <td>200</td>\n",
       "      <td>1538352394000</td>\n",
       "      <td>Mozilla/5.0 (Windows NT 6.1; WOW64; rv:31.0) G...</td>\n",
       "      <td>30</td>\n",
       "    </tr>\n",
       "    <tr>\n",
       "      <th>3</th>\n",
       "      <td>Enigma</td>\n",
       "      <td>Logged In</td>\n",
       "      <td>Micah</td>\n",
       "      <td>M</td>\n",
       "      <td>80</td>\n",
       "      <td>Long</td>\n",
       "      <td>262.71302</td>\n",
       "      <td>free</td>\n",
       "      <td>Boston-Cambridge-Newton, MA-NH</td>\n",
       "      <td>PUT</td>\n",
       "      <td>NextSong</td>\n",
       "      <td>1538331630000</td>\n",
       "      <td>8</td>\n",
       "      <td>Knocking On Forbidden Doors</td>\n",
       "      <td>200</td>\n",
       "      <td>1538352416000</td>\n",
       "      <td>\"Mozilla/5.0 (Windows NT 6.1; WOW64) AppleWebK...</td>\n",
       "      <td>9</td>\n",
       "    </tr>\n",
       "    <tr>\n",
       "      <th>4</th>\n",
       "      <td>Daft Punk</td>\n",
       "      <td>Logged In</td>\n",
       "      <td>Colin</td>\n",
       "      <td>M</td>\n",
       "      <td>52</td>\n",
       "      <td>Freeman</td>\n",
       "      <td>223.60771</td>\n",
       "      <td>paid</td>\n",
       "      <td>Bakersfield, CA</td>\n",
       "      <td>PUT</td>\n",
       "      <td>NextSong</td>\n",
       "      <td>1538173362000</td>\n",
       "      <td>29</td>\n",
       "      <td>Harder Better Faster Stronger</td>\n",
       "      <td>200</td>\n",
       "      <td>1538352676000</td>\n",
       "      <td>Mozilla/5.0 (Windows NT 6.1; WOW64; rv:31.0) G...</td>\n",
       "      <td>30</td>\n",
       "    </tr>\n",
       "  </tbody>\n",
       "</table>\n",
       "</div>"
      ],
      "text/plain": [
       "             artist       auth firstName gender  itemInSession lastName  \\\n",
       "0    Martha Tilston  Logged In     Colin      M             50  Freeman   \n",
       "1  Five Iron Frenzy  Logged In     Micah      M             79     Long   \n",
       "2      Adam Lambert  Logged In     Colin      M             51  Freeman   \n",
       "3            Enigma  Logged In     Micah      M             80     Long   \n",
       "4         Daft Punk  Logged In     Colin      M             52  Freeman   \n",
       "\n",
       "      length level                        location method      page  \\\n",
       "0  277.89016  paid                 Bakersfield, CA    PUT  NextSong   \n",
       "1  236.09424  free  Boston-Cambridge-Newton, MA-NH    PUT  NextSong   \n",
       "2  282.82730  paid                 Bakersfield, CA    PUT  NextSong   \n",
       "3  262.71302  free  Boston-Cambridge-Newton, MA-NH    PUT  NextSong   \n",
       "4  223.60771  paid                 Bakersfield, CA    PUT  NextSong   \n",
       "\n",
       "    registration  sessionId                           song  status  \\\n",
       "0  1538173362000         29                      Rockpools     200   \n",
       "1  1538331630000          8                         Canada     200   \n",
       "2  1538173362000         29              Time For Miracles     200   \n",
       "3  1538331630000          8    Knocking On Forbidden Doors     200   \n",
       "4  1538173362000         29  Harder Better Faster Stronger     200   \n",
       "\n",
       "              ts                                          userAgent userId  \n",
       "0  1538352117000  Mozilla/5.0 (Windows NT 6.1; WOW64; rv:31.0) G...     30  \n",
       "1  1538352180000  \"Mozilla/5.0 (Windows NT 6.1; WOW64) AppleWebK...      9  \n",
       "2  1538352394000  Mozilla/5.0 (Windows NT 6.1; WOW64; rv:31.0) G...     30  \n",
       "3  1538352416000  \"Mozilla/5.0 (Windows NT 6.1; WOW64) AppleWebK...      9  \n",
       "4  1538352676000  Mozilla/5.0 (Windows NT 6.1; WOW64; rv:31.0) G...     30  "
      ]
     },
     "execution_count": 8,
     "metadata": {},
     "output_type": "execute_result"
    }
   ],
   "source": [
    "df.limit(5).toPandas()"
   ]
  },
  {
   "cell_type": "code",
   "execution_count": 9,
   "metadata": {},
   "outputs": [
    {
     "name": "stdout",
     "output_type": "stream",
     "text": [
      "Number of rows mini dataset 286500\n",
      "Number of columns mini dataset 18\n",
      "Number of duplicated rows in mini dataset 0\n"
     ]
    }
   ],
   "source": [
    "print('Number of rows mini dataset', df.count())\n",
    "print('Number of columns mini dataset', len(df.columns))\n",
    "print('Number of duplicated rows in mini dataset', df.count() - df.dropDuplicates().count())"
   ]
  },
  {
   "cell_type": "markdown",
   "metadata": {},
   "source": [
    "#### Let's check our data for numerical columns:"
   ]
  },
  {
   "cell_type": "code",
   "execution_count": 10,
   "metadata": {},
   "outputs": [
    {
     "data": {
      "text/plain": [
       "['itemInSession', 'length', 'registration', 'sessionId', 'status', 'ts']"
      ]
     },
     "execution_count": 10,
     "metadata": {},
     "output_type": "execute_result"
    }
   ],
   "source": [
    "numCols = [col[0] for col in df.dtypes if not col[1]=='string']; numCols"
   ]
  },
  {
   "cell_type": "code",
   "execution_count": 11,
   "metadata": {},
   "outputs": [
    {
     "name": "stdout",
     "output_type": "stream",
     "text": [
      "+-------+------------------+-----------------+--------------------+-----------------+------------------+--------------------+\n",
      "|summary|     itemInSession|           length|        registration|        sessionId|            status|                  ts|\n",
      "+-------+------------------+-----------------+--------------------+-----------------+------------------+--------------------+\n",
      "|  count|            286500|           228108|              278154|           286500|            286500|              286500|\n",
      "|   mean|114.41421291448516|249.1171819778458|1.535358834084427...|1041.526554973822|210.05459685863875|1.540956889810483...|\n",
      "| stddev|129.76726201140994|99.23517921058361| 3.291321616327586E9|726.7762634630741| 31.50507848842214|1.5075439608226302E9|\n",
      "|    min|                 0|          0.78322|       1521380675000|                1|               200|       1538352117000|\n",
      "|    max|              1321|       3024.66567|       1543247354000|             2474|               404|       1543799476000|\n",
      "+-------+------------------+-----------------+--------------------+-----------------+------------------+--------------------+\n",
      "\n"
     ]
    }
   ],
   "source": [
    "df.select(numCols).describe().show()"
   ]
  },
  {
   "cell_type": "markdown",
   "metadata": {},
   "source": [
    "For some informations above (`registration`, `sessionId`, `status`, `ts`) it doesn't make sense to analyze as numbers. We will dive deeper in the next Exploratory Data Analysis session of this notebook."
   ]
  },
  {
   "cell_type": "markdown",
   "metadata": {},
   "source": [
    "#### Let's check our data for categorical columns:"
   ]
  },
  {
   "cell_type": "code",
   "execution_count": 12,
   "metadata": {},
   "outputs": [
    {
     "data": {
      "text/plain": [
       "['artist',\n",
       " 'auth',\n",
       " 'firstName',\n",
       " 'gender',\n",
       " 'lastName',\n",
       " 'level',\n",
       " 'location',\n",
       " 'method',\n",
       " 'page',\n",
       " 'song',\n",
       " 'userAgent',\n",
       " 'userId']"
      ]
     },
     "execution_count": 12,
     "metadata": {},
     "output_type": "execute_result"
    }
   ],
   "source": [
    "text_cols = [col[0] for col in df.dtypes if col[1]=='string']; text_cols"
   ]
  },
  {
   "cell_type": "markdown",
   "metadata": {},
   "source": [
    "Although not expected by inspecting the data, `userId` is actually a string.\n",
    "\n",
    "We check other information about our text data (not interested in `firstName` and `lastName`):"
   ]
  },
  {
   "cell_type": "code",
   "execution_count": 13,
   "metadata": {},
   "outputs": [
    {
     "name": "stdout",
     "output_type": "stream",
     "text": [
      "+-----------------------+---------------------+------------------+-------------------------+\n",
      "|numberOfDistinctArtists|numberOfDistinctSongs|numberOfuserAgents|numberOfDistinctLocations|\n",
      "+-----------------------+---------------------+------------------+-------------------------+\n",
      "|                  17655|                65416|                56|                      114|\n",
      "+-----------------------+---------------------+------------------+-------------------------+\n",
      "\n"
     ]
    }
   ],
   "source": [
    "dist_artists = df.select(F.countDistinct('artist').alias('numberOfDistinctArtists')).withColumn(\"id\", F.monotonically_increasing_id())\n",
    "\n",
    "dist_songs = df.select(['song','artist']).groupBy('song').agg(F.countDistinct('artist').alias('countDistinctArtists')).\\\n",
    "    select(F.sum('countDistinctArtists').alias('numberOfDistinctSongs')).withColumn(\"id\", F.monotonically_increasing_id())\n",
    "\n",
    "dist_user_agents = df.select(F.countDistinct('userAgent').alias('numberOfuserAgents')).withColumn(\"id\", F.monotonically_increasing_id())\n",
    "\n",
    "dist_locations = df.select(F.countDistinct('location').alias('numberOfDistinctLocations')).withColumn(\"id\", F.monotonically_increasing_id())\n",
    "\n",
    "text_cols_info = dist_artists.join(dist_songs, \"id\", \"outer\")\\\n",
    "                             .join(dist_user_agents, \"id\", \"outer\")\\\n",
    "                             .join(dist_locations, \"id\", \"outer\").drop('id')\\\n",
    "\n",
    "text_cols_info.show()"
   ]
  },
  {
   "cell_type": "markdown",
   "metadata": {},
   "source": [
    "Sparkify's mini dataset contains has 17655 different artists, 65416 songs, users in 114 different locations that use 56 different types of devices/software to access the app."
   ]
  },
  {
   "cell_type": "code",
   "execution_count": 14,
   "metadata": {},
   "outputs": [
    {
     "name": "stdout",
     "output_type": "stream",
     "text": [
      "+----------+------+\n",
      "|auth      |count |\n",
      "+----------+------+\n",
      "|Cancelled |52    |\n",
      "|Guest     |97    |\n",
      "|Logged Out|8249  |\n",
      "|Logged In |278102|\n",
      "+----------+------+\n",
      "\n",
      "+------+------+\n",
      "|gender|count |\n",
      "+------+------+\n",
      "|null  |8346  |\n",
      "|M     |123576|\n",
      "|F     |154578|\n",
      "+------+------+\n",
      "\n",
      "+-----+------+\n",
      "|level|count |\n",
      "+-----+------+\n",
      "|free |58338 |\n",
      "|paid |228162|\n",
      "+-----+------+\n",
      "\n",
      "+------+------+\n",
      "|method|count |\n",
      "+------+------+\n",
      "|GET   |25436 |\n",
      "|PUT   |261064|\n",
      "+------+------+\n",
      "\n",
      "+-------------------------+------+\n",
      "|page                     |count |\n",
      "+-------------------------+------+\n",
      "|Submit Registration      |5     |\n",
      "|Register                 |18    |\n",
      "|Cancel                   |52    |\n",
      "|Cancellation Confirmation|52    |\n",
      "|Submit Downgrade         |63    |\n",
      "|Submit Upgrade           |159   |\n",
      "|Error                    |258   |\n",
      "|Save Settings            |310   |\n",
      "|Upgrade                  |499   |\n",
      "|About                    |924   |\n",
      "|Settings                 |1514  |\n",
      "|Help                     |1726  |\n",
      "|Downgrade                |2055  |\n",
      "|Thumbs Down              |2546  |\n",
      "|Logout                   |3226  |\n",
      "|Login                    |3241  |\n",
      "|Roll Advert              |3933  |\n",
      "|Add Friend               |4277  |\n",
      "|Add to Playlist          |6526  |\n",
      "|Thumbs Up                |12551 |\n",
      "|Home                     |14457 |\n",
      "|NextSong                 |228108|\n",
      "+-------------------------+------+\n",
      "\n",
      "+------+------+\n",
      "|status|count |\n",
      "+------+------+\n",
      "|404   |258   |\n",
      "|307   |26430 |\n",
      "|200   |259812|\n",
      "+------+------+\n",
      "\n"
     ]
    }
   ],
   "source": [
    "# We calculate value counts for:\n",
    "text_cols_value_counts = ['auth',\n",
    "                         'gender',\n",
    "                         'level',\n",
    "                         'method',\n",
    "                         'page',\n",
    "                         'status']\n",
    "\n",
    "for column in text_cols_value_counts:\n",
    "    df.select(column).groupBy(column).count().orderBy('count').show(30, truncate=False)"
   ]
  },
  {
   "cell_type": "markdown",
   "metadata": {},
   "source": [
    "#### Loading, cleaning the dataset and checking for invalid or missing data - for example, records without userids or sessionids. "
   ]
  },
  {
   "cell_type": "code",
   "execution_count": 15,
   "metadata": {},
   "outputs": [
    {
     "data": {
      "text/html": [
       "<div>\n",
       "<style scoped>\n",
       "    .dataframe tbody tr th:only-of-type {\n",
       "        vertical-align: middle;\n",
       "    }\n",
       "\n",
       "    .dataframe tbody tr th {\n",
       "        vertical-align: top;\n",
       "    }\n",
       "\n",
       "    .dataframe thead th {\n",
       "        text-align: right;\n",
       "    }\n",
       "</style>\n",
       "<table border=\"1\" class=\"dataframe\">\n",
       "  <thead>\n",
       "    <tr style=\"text-align: right;\">\n",
       "      <th></th>\n",
       "      <th>artistIsNan</th>\n",
       "      <th>authIsNan</th>\n",
       "      <th>firstNameIsNan</th>\n",
       "      <th>genderIsNan</th>\n",
       "      <th>itemInSessionIsNan</th>\n",
       "      <th>lastNameIsNan</th>\n",
       "      <th>lengthIsNan</th>\n",
       "      <th>levelIsNan</th>\n",
       "      <th>locationIsNan</th>\n",
       "      <th>methodIsNan</th>\n",
       "      <th>pageIsNan</th>\n",
       "      <th>registrationIsNan</th>\n",
       "      <th>sessionIdIsNan</th>\n",
       "      <th>songIsNan</th>\n",
       "      <th>statusIsNan</th>\n",
       "      <th>tsIsNan</th>\n",
       "      <th>userAgentIsNan</th>\n",
       "      <th>userIdIsNan</th>\n",
       "    </tr>\n",
       "  </thead>\n",
       "  <tbody>\n",
       "    <tr>\n",
       "      <th>0</th>\n",
       "      <td>0</td>\n",
       "      <td>0</td>\n",
       "      <td>0</td>\n",
       "      <td>0</td>\n",
       "      <td>0</td>\n",
       "      <td>0</td>\n",
       "      <td>0</td>\n",
       "      <td>0</td>\n",
       "      <td>0</td>\n",
       "      <td>0</td>\n",
       "      <td>0</td>\n",
       "      <td>0</td>\n",
       "      <td>0</td>\n",
       "      <td>0</td>\n",
       "      <td>0</td>\n",
       "      <td>0</td>\n",
       "      <td>0</td>\n",
       "      <td>0</td>\n",
       "    </tr>\n",
       "  </tbody>\n",
       "</table>\n",
       "</div>"
      ],
      "text/plain": [
       "   artistIsNan  authIsNan  firstNameIsNan  genderIsNan  itemInSessionIsNan  \\\n",
       "0            0          0               0            0                   0   \n",
       "\n",
       "   lastNameIsNan  lengthIsNan  levelIsNan  locationIsNan  methodIsNan  \\\n",
       "0              0            0           0              0            0   \n",
       "\n",
       "   pageIsNan  registrationIsNan  sessionIdIsNan  songIsNan  statusIsNan  \\\n",
       "0          0                  0               0          0            0   \n",
       "\n",
       "   tsIsNan  userAgentIsNan  userIdIsNan  \n",
       "0        0               0            0  "
      ]
     },
     "execution_count": 15,
     "metadata": {},
     "output_type": "execute_result"
    }
   ],
   "source": [
    "#Checking if there are NaNs\n",
    "df.select([F.count(F.when(F.isnan(c), c)).alias(c+'IsNan') for c in df.columns]).toPandas()"
   ]
  },
  {
   "cell_type": "markdown",
   "metadata": {},
   "source": [
    "No Nans in the mini-dataset."
   ]
  },
  {
   "cell_type": "code",
   "execution_count": 16,
   "metadata": {},
   "outputs": [
    {
     "data": {
      "text/html": [
       "<div>\n",
       "<style scoped>\n",
       "    .dataframe tbody tr th:only-of-type {\n",
       "        vertical-align: middle;\n",
       "    }\n",
       "\n",
       "    .dataframe tbody tr th {\n",
       "        vertical-align: top;\n",
       "    }\n",
       "\n",
       "    .dataframe thead th {\n",
       "        text-align: right;\n",
       "    }\n",
       "</style>\n",
       "<table border=\"1\" class=\"dataframe\">\n",
       "  <thead>\n",
       "    <tr style=\"text-align: right;\">\n",
       "      <th></th>\n",
       "      <th>artistIsNull</th>\n",
       "      <th>authIsNull</th>\n",
       "      <th>firstNameIsNull</th>\n",
       "      <th>genderIsNull</th>\n",
       "      <th>itemInSessionIsNull</th>\n",
       "      <th>lastNameIsNull</th>\n",
       "      <th>lengthIsNull</th>\n",
       "      <th>levelIsNull</th>\n",
       "      <th>locationIsNull</th>\n",
       "      <th>methodIsNull</th>\n",
       "      <th>pageIsNull</th>\n",
       "      <th>registrationIsNull</th>\n",
       "      <th>sessionIdIsNull</th>\n",
       "      <th>songIsNull</th>\n",
       "      <th>statusIsNull</th>\n",
       "      <th>tsIsNull</th>\n",
       "      <th>userAgentIsNull</th>\n",
       "      <th>userIdIsNull</th>\n",
       "    </tr>\n",
       "  </thead>\n",
       "  <tbody>\n",
       "    <tr>\n",
       "      <th>0</th>\n",
       "      <td>58392</td>\n",
       "      <td>0</td>\n",
       "      <td>8346</td>\n",
       "      <td>8346</td>\n",
       "      <td>0</td>\n",
       "      <td>8346</td>\n",
       "      <td>58392</td>\n",
       "      <td>0</td>\n",
       "      <td>8346</td>\n",
       "      <td>0</td>\n",
       "      <td>0</td>\n",
       "      <td>8346</td>\n",
       "      <td>0</td>\n",
       "      <td>58392</td>\n",
       "      <td>0</td>\n",
       "      <td>0</td>\n",
       "      <td>8346</td>\n",
       "      <td>0</td>\n",
       "    </tr>\n",
       "  </tbody>\n",
       "</table>\n",
       "</div>"
      ],
      "text/plain": [
       "   artistIsNull  authIsNull  firstNameIsNull  genderIsNull  \\\n",
       "0         58392           0             8346          8346   \n",
       "\n",
       "   itemInSessionIsNull  lastNameIsNull  lengthIsNull  levelIsNull  \\\n",
       "0                    0            8346         58392            0   \n",
       "\n",
       "   locationIsNull  methodIsNull  pageIsNull  registrationIsNull  \\\n",
       "0            8346             0           0                8346   \n",
       "\n",
       "   sessionIdIsNull  songIsNull  statusIsNull  tsIsNull  userAgentIsNull  \\\n",
       "0                0       58392             0         0             8346   \n",
       "\n",
       "   userIdIsNull  \n",
       "0             0  "
      ]
     },
     "execution_count": 16,
     "metadata": {},
     "output_type": "execute_result"
    }
   ],
   "source": [
    "#Checking if there are null values\n",
    "df.select([F.count(F.when(col(c).isNull(), c)).alias(c+'IsNull') for c in df.columns]).toPandas()"
   ]
  },
  {
   "cell_type": "markdown",
   "metadata": {},
   "source": [
    "Appearently missing data is correlated (missing counts of columns consistently appear having 8346 or 58392 Null values)."
   ]
  },
  {
   "cell_type": "markdown",
   "metadata": {},
   "source": [
    "Let's check how missing values are correlated:"
   ]
  },
  {
   "cell_type": "code",
   "execution_count": 17,
   "metadata": {},
   "outputs": [],
   "source": [
    "# Check null values: 1 is null and 0 not null\n",
    "df_is_null = df.select([F.when(col(c).isNull(), 1).otherwise(0).alias(c) for c in df.columns])\n",
    "\n",
    "df_is_null_describe = df_is_null.describe()\n",
    "\n",
    "df_is_null_describe = df_is_null_describe.filter(\n",
    "    (df_is_null_describe['summary']=='stddev') | \n",
    "    (df_is_null_describe['summary'] == 'max')\n",
    ")\n",
    "\n",
    "# Handle the std equals to zero (all values are the same) and without any null value\n",
    "zero_std_max_cols = [col for col in df_is_null_describe.columns if df_is_null_describe.select(F.collect_list(col)).head().asDict()['collect_list('+col+')'] == ['0.0', '0']]\n",
    "\n",
    "# Drop all columns with Standard Deviation equals zero and no missing values\n",
    "df_is_null = df_is_null.drop(*zero_std_max_cols)\n",
    "\n",
    "# Create vectors \n",
    "assembler = VectorAssembler(inputCols=df_is_null.columns, outputCol='vector')\n",
    "assembled = assembler.transform(df_is_null).drop(*df_is_null.columns)\n",
    "\n",
    "# Calculate and print Pearson correlation matrix for missing values\n",
    "pearson_corr = Correlation.corr(assembled, 'vector').head()\n",
    "pearson_corr = pd.DataFrame(data=pearson_corr[0].toArray(), columns=df_is_null.columns, index=df_is_null.columns)"
   ]
  },
  {
   "cell_type": "code",
   "execution_count": 18,
   "metadata": {},
   "outputs": [
    {
     "data": {
      "image/png": "[encoded data removed]",
      "text/plain": [
       "<Figure size 576x720 with 2 Axes>"
      ]
     },
     "metadata": {
      "needs_background": "light"
     },
     "output_type": "display_data"
    }
   ],
   "source": [
    "fig, ax = plt.subplots(figsize=(8, 10))\n",
    "sns.heatmap(pearson_corr, ax=ax, annot=True);"
   ]
  },
  {
   "cell_type": "markdown",
   "metadata": {},
   "source": [
    "When there's a null in `artist` column also a null in `length` and `song` happen. Hence, this data may be related and length appears to be the length in seconds of songs. \n",
    "\n",
    "Similarly, data related to users are related and when a null happens in either `firstName`, `lastName`, `gender`, `location`, `userAgent` and `registration` the others are null too. The column registration seems to be related to the timestamp of when a user registers himself/herself in the application."
   ]
  },
  {
   "cell_type": "markdown",
   "metadata": {},
   "source": [
    "Let's check `userId`:"
   ]
  },
  {
   "cell_type": "code",
   "execution_count": 19,
   "metadata": {},
   "outputs": [
    {
     "name": "stdout",
     "output_type": "stream",
     "text": [
      "+------+------------+\n",
      "|userId|userIdLength|\n",
      "+------+------------+\n",
      "|      |           0|\n",
      "|     6|           1|\n",
      "|     3|           1|\n",
      "|     5|           1|\n",
      "|     4|           1|\n",
      "+------+------------+\n",
      "only showing top 5 rows\n",
      "\n"
     ]
    }
   ],
   "source": [
    "# userId is string and shold be always with length greater than 0\n",
    "df.select('userId', F.length(col('userId')).alias('userIdLength')).distinct().orderBy(col('userIdLength')).show(5)"
   ]
  },
  {
   "cell_type": "code",
   "execution_count": 20,
   "metadata": {},
   "outputs": [
    {
     "data": {
      "text/plain": [
       "8346"
      ]
     },
     "execution_count": 20,
     "metadata": {},
     "output_type": "execute_result"
    }
   ],
   "source": [
    "# number of users with userId equals to ''\n",
    "df.filter(df.userId=='').count()"
   ]
  },
  {
   "cell_type": "markdown",
   "metadata": {},
   "source": [
    "In the mini dataset there are 8346 users with userId equals to `''` (length of the string userId is zero). Perhaps those users without userId are those who have not signed up yet or that are signed out and are about to log in.\n",
    "\n",
    "We'll drop them from our dataframe (in order for the analysis of individual users make sense):"
   ]
  },
  {
   "cell_type": "code",
   "execution_count": 21,
   "metadata": {},
   "outputs": [],
   "source": [
    "# Drop userId equals to ''\n",
    "df = df.filter(df.userId!='')"
   ]
  },
  {
   "cell_type": "code",
   "execution_count": 22,
   "metadata": {},
   "outputs": [
    {
     "data": {
      "text/plain": [
       "278154"
      ]
     },
     "execution_count": 22,
     "metadata": {},
     "output_type": "execute_result"
    }
   ],
   "source": [
    "# Mini dataset has 286,500 rows. Hence we expect 286,500 - 8,346 = 278,154\n",
    "df.count()"
   ]
  },
  {
   "cell_type": "code",
   "execution_count": 23,
   "metadata": {},
   "outputs": [
    {
     "name": "stdout",
     "output_type": "stream",
     "text": [
      "There are 225 users in the mini dataset.\n"
     ]
    }
   ],
   "source": [
    "print(f\"There are {df.select('userId').distinct().count()} users in the mini dataset.\")"
   ]
  },
  {
   "cell_type": "markdown",
   "metadata": {},
   "source": [
    "# Exploratory Data Analysis\n",
    "\n",
    "### Define Churn\n",
    "\n",
    "We create a column `Churn` to use as the label for our model. We choose the `Cancellation Confirmation` events to define the churn, which happen for both paid and free users. We also analyze the `Downgrade` events."
   ]
  },
  {
   "cell_type": "code",
   "execution_count": 24,
   "metadata": {},
   "outputs": [
    {
     "name": "stdout",
     "output_type": "stream",
     "text": [
      "churner_ids: ['18', '32', '125', '105', '17', '143', '101', '129', '121', '51', '87', '122', '12', '58', '73', '3', '106', '103', '28', '54', '29', '70', '53', '100011', '100001', '100024', '100006', '100019', '100003', '100023', '100005', '100017', '100025', '100009', '100012', '100013', '100022', '100014', '100015', '100021', '100007', '200001', '200024', '200011', '200021', '200018', '200015', '200017', '200016', '200020', '300007', '300001']\n",
      "\n",
      "Total churners in mini dataset: 52\n"
     ]
    }
   ],
   "source": [
    "# Create Churn column\n",
    "churner_ids = df.select('userId').where(col('page')=='Cancellation Confirmation').toPandas()\n",
    "\n",
    "churner_ids = churner_ids.values.squeeze().tolist()\n",
    "print('churner_ids:', churner_ids)\n",
    "print('\\nTotal churners in mini dataset:', len(churner_ids))"
   ]
  },
  {
   "cell_type": "code",
   "execution_count": 25,
   "metadata": {},
   "outputs": [
    {
     "name": "stdout",
     "output_type": "stream",
     "text": [
      "Total distinct users in mini dataset: 225\n"
     ]
    }
   ],
   "source": [
    "all_ids = df.select('userId').distinct().toPandas()\n",
    "all_ids = all_ids.values.squeeze().tolist()\n",
    "print('Total distinct users in mini dataset:', len(all_ids))"
   ]
  },
  {
   "cell_type": "code",
   "execution_count": 26,
   "metadata": {},
   "outputs": [
    {
     "name": "stdout",
     "output_type": "stream",
     "text": [
      "not_churner_ids: ['10', '100', '100002', '100004', '100008', '100010', '100016', '100018', '102', '104', '107', '108', '109', '11', '110', '111', '112', '113', '114', '115', '116', '117', '118', '119', '120', '123', '124', '126', '127', '128', '13', '131', '132', '133', '134', '135', '136', '137', '138', '139', '14', '140', '141', '142', '144', '145', '146', '147', '148', '149', '15', '150', '151', '152', '153', '154', '155', '156', '16', '19', '2', '20', '200002', '200003', '200004', '200005', '200006', '200007', '200008', '200009', '200010', '200012', '200014', '200019', '200022', '200023', '200025', '21', '22', '23', '24', '25', '26', '27', '30', '300002', '300003', '300004', '300005', '300006', '300008', '300009', '300010', '300011', '300012', '300013', '300014', '300015', '300016', '300017', '300018', '300019', '300020', '300021', '300022', '300023', '300024', '300025', '33', '34', '35', '36', '37', '38', '39', '4', '40', '41', '42', '43', '44', '45', '46', '47', '49', '5', '50', '52', '55', '56', '57', '59', '6', '60', '61', '62', '63', '64', '65', '66', '67', '68', '69', '7', '71', '72', '74', '75', '76', '77', '78', '79', '8', '80', '81', '82', '83', '84', '85', '86', '88', '89', '9', '90', '91', '92', '93', '94', '95', '96', '97', '98', '99']\n",
      "\n",
      "Total churners in mini dataset: 173\n"
     ]
    }
   ],
   "source": [
    "not_churner_ids = np.setdiff1d(all_ids, churner_ids).tolist()\n",
    "print('not_churner_ids:', not_churner_ids)\n",
    "print('\\nTotal churners in mini dataset:', len(not_churner_ids))"
   ]
  },
  {
   "cell_type": "code",
   "execution_count": 27,
   "metadata": {},
   "outputs": [
    {
     "data": {
      "text/html": [
       "<div>\n",
       "<style scoped>\n",
       "    .dataframe tbody tr th:only-of-type {\n",
       "        vertical-align: middle;\n",
       "    }\n",
       "\n",
       "    .dataframe tbody tr th {\n",
       "        vertical-align: top;\n",
       "    }\n",
       "\n",
       "    .dataframe thead th {\n",
       "        text-align: right;\n",
       "    }\n",
       "</style>\n",
       "<table border=\"1\" class=\"dataframe\">\n",
       "  <thead>\n",
       "    <tr style=\"text-align: right;\">\n",
       "      <th></th>\n",
       "      <th>artist</th>\n",
       "      <th>auth</th>\n",
       "      <th>firstName</th>\n",
       "      <th>gender</th>\n",
       "      <th>itemInSession</th>\n",
       "      <th>lastName</th>\n",
       "      <th>length</th>\n",
       "      <th>level</th>\n",
       "      <th>location</th>\n",
       "      <th>method</th>\n",
       "      <th>page</th>\n",
       "      <th>registration</th>\n",
       "      <th>sessionId</th>\n",
       "      <th>song</th>\n",
       "      <th>status</th>\n",
       "      <th>ts</th>\n",
       "      <th>userAgent</th>\n",
       "      <th>userId</th>\n",
       "      <th>churn</th>\n",
       "    </tr>\n",
       "  </thead>\n",
       "  <tbody>\n",
       "    <tr>\n",
       "      <th>0</th>\n",
       "      <td>Martha Tilston</td>\n",
       "      <td>Logged In</td>\n",
       "      <td>Colin</td>\n",
       "      <td>M</td>\n",
       "      <td>50</td>\n",
       "      <td>Freeman</td>\n",
       "      <td>277.89016</td>\n",
       "      <td>paid</td>\n",
       "      <td>Bakersfield, CA</td>\n",
       "      <td>PUT</td>\n",
       "      <td>NextSong</td>\n",
       "      <td>1538173362000</td>\n",
       "      <td>29</td>\n",
       "      <td>Rockpools</td>\n",
       "      <td>200</td>\n",
       "      <td>1538352117000</td>\n",
       "      <td>Mozilla/5.0 (Windows NT 6.1; WOW64; rv:31.0) G...</td>\n",
       "      <td>30</td>\n",
       "      <td>0</td>\n",
       "    </tr>\n",
       "    <tr>\n",
       "      <th>1</th>\n",
       "      <td>Five Iron Frenzy</td>\n",
       "      <td>Logged In</td>\n",
       "      <td>Micah</td>\n",
       "      <td>M</td>\n",
       "      <td>79</td>\n",
       "      <td>Long</td>\n",
       "      <td>236.09424</td>\n",
       "      <td>free</td>\n",
       "      <td>Boston-Cambridge-Newton, MA-NH</td>\n",
       "      <td>PUT</td>\n",
       "      <td>NextSong</td>\n",
       "      <td>1538331630000</td>\n",
       "      <td>8</td>\n",
       "      <td>Canada</td>\n",
       "      <td>200</td>\n",
       "      <td>1538352180000</td>\n",
       "      <td>\"Mozilla/5.0 (Windows NT 6.1; WOW64) AppleWebK...</td>\n",
       "      <td>9</td>\n",
       "      <td>0</td>\n",
       "    </tr>\n",
       "    <tr>\n",
       "      <th>2</th>\n",
       "      <td>Adam Lambert</td>\n",
       "      <td>Logged In</td>\n",
       "      <td>Colin</td>\n",
       "      <td>M</td>\n",
       "      <td>51</td>\n",
       "      <td>Freeman</td>\n",
       "      <td>282.82730</td>\n",
       "      <td>paid</td>\n",
       "      <td>Bakersfield, CA</td>\n",
       "      <td>PUT</td>\n",
       "      <td>NextSong</td>\n",
       "      <td>1538173362000</td>\n",
       "      <td>29</td>\n",
       "      <td>Time For Miracles</td>\n",
       "      <td>200</td>\n",
       "      <td>1538352394000</td>\n",
       "      <td>Mozilla/5.0 (Windows NT 6.1; WOW64; rv:31.0) G...</td>\n",
       "      <td>30</td>\n",
       "      <td>0</td>\n",
       "    </tr>\n",
       "    <tr>\n",
       "      <th>3</th>\n",
       "      <td>Enigma</td>\n",
       "      <td>Logged In</td>\n",
       "      <td>Micah</td>\n",
       "      <td>M</td>\n",
       "      <td>80</td>\n",
       "      <td>Long</td>\n",
       "      <td>262.71302</td>\n",
       "      <td>free</td>\n",
       "      <td>Boston-Cambridge-Newton, MA-NH</td>\n",
       "      <td>PUT</td>\n",
       "      <td>NextSong</td>\n",
       "      <td>1538331630000</td>\n",
       "      <td>8</td>\n",
       "      <td>Knocking On Forbidden Doors</td>\n",
       "      <td>200</td>\n",
       "      <td>1538352416000</td>\n",
       "      <td>\"Mozilla/5.0 (Windows NT 6.1; WOW64) AppleWebK...</td>\n",
       "      <td>9</td>\n",
       "      <td>0</td>\n",
       "    </tr>\n",
       "    <tr>\n",
       "      <th>4</th>\n",
       "      <td>Daft Punk</td>\n",
       "      <td>Logged In</td>\n",
       "      <td>Colin</td>\n",
       "      <td>M</td>\n",
       "      <td>52</td>\n",
       "      <td>Freeman</td>\n",
       "      <td>223.60771</td>\n",
       "      <td>paid</td>\n",
       "      <td>Bakersfield, CA</td>\n",
       "      <td>PUT</td>\n",
       "      <td>NextSong</td>\n",
       "      <td>1538173362000</td>\n",
       "      <td>29</td>\n",
       "      <td>Harder Better Faster Stronger</td>\n",
       "      <td>200</td>\n",
       "      <td>1538352676000</td>\n",
       "      <td>Mozilla/5.0 (Windows NT 6.1; WOW64; rv:31.0) G...</td>\n",
       "      <td>30</td>\n",
       "      <td>0</td>\n",
       "    </tr>\n",
       "  </tbody>\n",
       "</table>\n",
       "</div>"
      ],
      "text/plain": [
       "             artist       auth firstName gender  itemInSession lastName  \\\n",
       "0    Martha Tilston  Logged In     Colin      M             50  Freeman   \n",
       "1  Five Iron Frenzy  Logged In     Micah      M             79     Long   \n",
       "2      Adam Lambert  Logged In     Colin      M             51  Freeman   \n",
       "3            Enigma  Logged In     Micah      M             80     Long   \n",
       "4         Daft Punk  Logged In     Colin      M             52  Freeman   \n",
       "\n",
       "      length level                        location method      page  \\\n",
       "0  277.89016  paid                 Bakersfield, CA    PUT  NextSong   \n",
       "1  236.09424  free  Boston-Cambridge-Newton, MA-NH    PUT  NextSong   \n",
       "2  282.82730  paid                 Bakersfield, CA    PUT  NextSong   \n",
       "3  262.71302  free  Boston-Cambridge-Newton, MA-NH    PUT  NextSong   \n",
       "4  223.60771  paid                 Bakersfield, CA    PUT  NextSong   \n",
       "\n",
       "    registration  sessionId                           song  status  \\\n",
       "0  1538173362000         29                      Rockpools     200   \n",
       "1  1538331630000          8                         Canada     200   \n",
       "2  1538173362000         29              Time For Miracles     200   \n",
       "3  1538331630000          8    Knocking On Forbidden Doors     200   \n",
       "4  1538173362000         29  Harder Better Faster Stronger     200   \n",
       "\n",
       "              ts                                          userAgent userId  \\\n",
       "0  1538352117000  Mozilla/5.0 (Windows NT 6.1; WOW64; rv:31.0) G...     30   \n",
       "1  1538352180000  \"Mozilla/5.0 (Windows NT 6.1; WOW64) AppleWebK...      9   \n",
       "2  1538352394000  Mozilla/5.0 (Windows NT 6.1; WOW64; rv:31.0) G...     30   \n",
       "3  1538352416000  \"Mozilla/5.0 (Windows NT 6.1; WOW64) AppleWebK...      9   \n",
       "4  1538352676000  Mozilla/5.0 (Windows NT 6.1; WOW64; rv:31.0) G...     30   \n",
       "\n",
       "   churn  \n",
       "0      0  \n",
       "1      0  \n",
       "2      0  \n",
       "3      0  \n",
       "4      0  "
      ]
     },
     "execution_count": 27,
     "metadata": {},
     "output_type": "execute_result"
    }
   ],
   "source": [
    "is_churn = udf(lambda usrIdCol: 1 if usrIdCol in churner_ids else 0, IntegerType())\n",
    "df = df.withColumn('churn', is_churn('userId'))\n",
    "\n",
    "df.limit(5).toPandas()"
   ]
  },
  {
   "cell_type": "markdown",
   "metadata": {},
   "source": [
    "### Explore Data\n",
    "Analyzing the behavior for users who stayed vs users who churned. \n",
    "We explore aggregates on these two groups of users, observing how much of a specific action they experienced per a certain time unit or number of songs played."
   ]
  },
  {
   "cell_type": "markdown",
   "metadata": {},
   "source": [
    "Without knowing much about the business nor the actual application, we can think the following possible reasons why users cancel the service:\n",
    "1. user is not using Sparkify\n",
    "2. Sparkify doesn't have specific songs/artists\n",
    "3. bad recommendations\n",
    "4. bad experience (streaming getting stuck, interface not intuitive in version of app, too many ads in the app, etc.)\n",
    "5. bugs (commands not responding or don't do what they should, crashes in the app, etc.)\n",
    "6. Sparkify too expensive\n",
    "7. don't have friends using Sparkify\n",
    "8. external influences (some news about company benefits/harms its image, country where users live imposes some limits, cost increase, etc.)\n",
    "\n",
    "From the hypothesis above:\n",
    "- `1.` we can check by counting number of interations in a given timeframe\n",
    "- `2.` we cannot check directly since we don't have logs for search queries which would be better (showing that the search query returned exactly what the user wanted) \n",
    "- `3.` we have the Add to Playlist, Thumbs Down and Thumbs Up `pages` which could indicate the quality of recommendations\n",
    "- `4.` and `5.` we don't have application logs which could indicate loading times, interrupting streaming. However, <a href=\"https://www.w3.org/Protocols/rfc2616/rfc2616-sec10.html#sec10.3.3\">status</a> could give us some information about the application and the Error and Help `pages`. In addition, <a href=\"https://developer.mozilla.org/en-US/docs/Web/HTTP/Headers/User-Agent\">userAgent</a> can also give us some information about Sparkify applications that are not behaving as expected (Windows, MacOS, specific browser, platform, etc.). The Roll Advert `page` indicates Advertising events and if it is affecting too much user experience (if we could reduce it or enphasize that user can upgrade plan)\n",
    "- `6.` as \"expensive\" may be an ambiguous definition and depend on many factors, with the dataset given we won't be able to infer anything.\n",
    "- `7.` Add Friend `page` could indicate that friends are also using app (in the provided dataset we don't have relationships between users which would be better)\n",
    "- `8.` again we would need more data related to the business and context to infer anything here\n",
    "\n",
    "We check the data to answer those questions and compare customers who churn with those who don't:"
   ]
  },
  {
   "cell_type": "code",
   "execution_count": 28,
   "metadata": {},
   "outputs": [],
   "source": [
    "not_churn_users = df.filter(col('churn')==0)\n",
    "churn_users = df.filter(col('churn')==1)"
   ]
  },
  {
   "cell_type": "code",
   "execution_count": 29,
   "metadata": {},
   "outputs": [],
   "source": [
    "num_churn_users = churn_users.select('userId').distinct().count()\n",
    "num_not_churn_users = not_churn_users.select('userId').distinct().count()"
   ]
  },
  {
   "cell_type": "code",
   "execution_count": 30,
   "metadata": {},
   "outputs": [
    {
     "name": "stdout",
     "output_type": "stream",
     "text": [
      "Number of users who churn: 52\n",
      "Number of users who don't churns 173\n",
      "Total (should be 225 users): 225\n"
     ]
    }
   ],
   "source": [
    "# Sanity check (there should be 225 users in total in the mini dataset)\n",
    "print('Number of users who churn:', num_churn_users)\n",
    "print(\"Number of users who don't churns\", num_not_churn_users)\n",
    "print('Total (should be 225 users):', num_churn_users + num_not_churn_users)"
   ]
  },
  {
   "cell_type": "markdown",
   "metadata": {},
   "source": [
    "As we see, there is class imbalance in the minidataset with ~25% of users who churn and ~75% of users who don't churn."
   ]
  },
  {
   "cell_type": "markdown",
   "metadata": {},
   "source": [
    "#### Some analysis"
   ]
  },
  {
   "cell_type": "code",
   "execution_count": 31,
   "metadata": {},
   "outputs": [
    {
     "name": "stdout",
     "output_type": "stream",
     "text": [
      "+-----------------------+--------------------------+\n",
      "|churnAvg(count(period))|notChurnAvg(count(period))|\n",
      "+-----------------------+--------------------------+\n",
      "|       22.6612702366127|         23.79175974187143|\n",
      "+-----------------------+--------------------------+\n",
      "\n"
     ]
    }
   ],
   "source": [
    "# How many songs do users listen to on average between visiting our home page (calculation shown in the Udacity course)\n",
    "\n",
    "fun = udf(lambda ishome : int(ishome == 'Home'), IntegerType())\n",
    "\n",
    "user_window = Window \\\n",
    "    .partitionBy('userID') \\\n",
    "    .orderBy(F.desc('ts')) \\\n",
    "    .rangeBetween(Window.unboundedPreceding, 0)\n",
    "\n",
    "cusum_churn = churn_users.filter((col('page') == 'NextSong') | (col('page') == 'Home')) \\\n",
    "    .select('userID', 'page', 'ts') \\\n",
    "    .withColumn('homevisit', fun(col('page'))) \\\n",
    "    .withColumn('period', F.sum('homevisit').over(user_window))\n",
    "\n",
    "cusum_churn = cusum_churn.filter((col('page') == 'NextSong')) \\\n",
    "    .groupBy('userID', 'period') \\\n",
    "    .agg({'period':'count'}) \\\n",
    "    .agg({'count(period)':'avg'}).withColumnRenamed('avg(count(period))', 'churnAvg(count(period))') \\\n",
    "    .withColumn(\"id\", F.monotonically_increasing_id())\n",
    "\n",
    "cusum_not_churn = not_churn_users.filter((col('page') == 'NextSong') | (col('page') == 'Home')) \\\n",
    "    .select('userID', 'page', 'ts') \\\n",
    "    .withColumn('homevisit', fun(col('page'))) \\\n",
    "    .withColumn('period', F.sum('homevisit').over(user_window))\n",
    "\n",
    "cusum_not_churn = cusum_not_churn.filter((col('page') == 'NextSong')) \\\n",
    "    .groupBy('userID', 'period') \\\n",
    "    .agg({'period':'count'}) \\\n",
    "    .agg({'count(period)':'avg'}).withColumnRenamed('avg(count(period))', 'notChurnAvg(count(period))') \\\n",
    "    .withColumn(\"id\", F.monotonically_increasing_id())\n",
    "\n",
    "result = cusum_churn.join(cusum_not_churn, \"id\", \"outer\").drop('id')\\\n",
    "\n",
    "result.show()"
   ]
  },
  {
   "cell_type": "markdown",
   "metadata": {},
   "source": [
    "As we may have expected in the mini-dataset the number of songs users listen to on average between visiting our home page is higher in the not churn group than in the group of users who churn (they use more the Sparkify app, which could indicate they like it more)."
   ]
  },
  {
   "cell_type": "code",
   "execution_count": 32,
   "metadata": {},
   "outputs": [],
   "source": [
    "# Calculating number of songs played given time frame\n",
    "\n",
    "def add_time_columns(df):\n",
    "    # Add hour column\n",
    "    get_hour = udf(lambda x: int(datetime.fromtimestamp(x / 1000.0).hour), IntegerType())\n",
    "    df_time = df.withColumn('hour', get_hour(df.ts))\n",
    "    songs_in_hour = df_time.filter(df_time.page == 'NextSong').groupby('hour').count().orderBy('hour')\n",
    "    songs_in_hour_pd = songs_in_hour.toPandas()\n",
    "\n",
    "    # Add weekday column\n",
    "    get_weekday = udf(lambda x: int(datetime.fromtimestamp(x / 1000.0).weekday()), IntegerType())\n",
    "    df_time = df_time.withColumn('weekday', get_weekday(df_time.ts))\n",
    "    songs_in_weekday = df_time.filter(df_time.page == 'NextSong').groupby('weekday').count().orderBy('weekday')\n",
    "    songs_in_weekday_pd = songs_in_weekday.toPandas()\n",
    "    songs_in_weekday_pd.weekday = songs_in_weekday_pd.weekday.map({0: 'Mon', 1: 'Tue', 2: 'Wed', 3: 'Thu', 4: 'Fri', 5: 'Sat', 6: 'Sun'})\n",
    "    \n",
    "    return songs_in_hour_pd, songs_in_weekday_pd\n",
    "\n",
    "churn_songs_hour, churn_songs_weekday = add_time_columns(churn_users)\n",
    "not_churn_songs_hour, not_churn_songs_weekday = add_time_columns(not_churn_users)"
   ]
  },
  {
   "cell_type": "code",
   "execution_count": 33,
   "metadata": {},
   "outputs": [
    {
     "data": {
      "image/png": "[encoded data removed]",
      "text/plain": [
       "<Figure size 864x360 with 2 Axes>"
      ]
     },
     "metadata": {
      "needs_background": "light"
     },
     "output_type": "display_data"
    }
   ],
   "source": [
    "fig, ax = plt.subplots(1,2, figsize=(12,5))\n",
    "ax[0].scatter(churn_songs_hour['hour'], churn_songs_hour['count']/num_churn_users, label='churn')\n",
    "ax[0].scatter(not_churn_songs_hour['hour'], not_churn_songs_hour['count']/num_not_churn_users, label='not churn')\n",
    "ax[0].set_xlim(-1, 24)\n",
    "ax[0].set_ylim(0, 1.2 * max(not_churn_songs_hour[\"count\"]/num_not_churn_users))\n",
    "ax[0].set_xlabel(\"Hour\")\n",
    "ax[0].set_ylabel(\"Songs played per user\")\n",
    "ax[0].set_title(\"Songs played by Hour\")\n",
    "ax[0].legend(loc='best')\n",
    "ax[1].scatter(churn_songs_weekday['weekday'], churn_songs_weekday['count']/num_churn_users, label='churn')\n",
    "ax[1].scatter(not_churn_songs_weekday['weekday'], not_churn_songs_weekday['count']/num_not_churn_users, label='not churn')\n",
    "ax[1].set_xlim(-0.5, 6.5)\n",
    "ax[1].set_ylim(0, 1.2 * max(not_churn_songs_weekday[\"count\"]/num_not_churn_users))\n",
    "ax[1].set_xlabel(\"Week day\")\n",
    "ax[1].set_ylabel(\"Songs played per user\")\n",
    "ax[1].set_title(\"Songs played by Week day\")\n",
    "ax[1].legend(loc='best')\n",
    "fig.tight_layout();"
   ]
  },
  {
   "cell_type": "markdown",
   "metadata": {},
   "source": [
    "Users that churn and those who don't behave similarly w.r.t. the time, however playing less songs in the churn group."
   ]
  },
  {
   "cell_type": "code",
   "execution_count": 34,
   "metadata": {},
   "outputs": [
    {
     "name": "stdout",
     "output_type": "stream",
     "text": [
      "Earliest record in mini dataset is 2018-09-30 21:01:57\n",
      "Latest record in mini dataset is 2018-12-02 23:11:16\n"
     ]
    }
   ],
   "source": [
    "# How the number of interactions change over time, since user registrates\n",
    "\n",
    "earliest = df.select('ts').orderBy(col('ts')).head()\n",
    "latest = df.select('ts').orderBy(col('ts'), ascending=False).head()\n",
    "\n",
    "print(f'Earliest record in mini dataset is {datetime.fromtimestamp(earliest.ts / 1000.0)}')\n",
    "print(f'Latest record in mini dataset is {datetime.fromtimestamp(latest.ts / 1000.0)}')"
   ]
  },
  {
   "cell_type": "code",
   "execution_count": 35,
   "metadata": {},
   "outputs": [],
   "source": [
    "# Count actions per user per day\n",
    "# We randomly select 1 user who have churned and 1 user who haven't churned for comparison\n",
    "churner = np.random.choice(churner_ids, size=1, replace=False).tolist()\n",
    "not_churner = np.random.choice(not_churner_ids, size=1, replace=False).tolist()\n",
    "\n",
    "def get_actions_by_day(df, ids):\n",
    "    actions = df.where(df.userId.isin(ids))\\\n",
    "        .withColumn('day', F.date_trunc('day', F.from_unixtime(col('ts')/1000)))\\\n",
    "        .groupBy('userId', 'day', 'page').agg({'page': 'count'})\\\n",
    "        .orderBy('userId','day', 'page')\n",
    "\n",
    "    # We want each line to be a day, and columns for counts of each page action\n",
    "    actions = actions.groupBy(col('userId'), col('day')).pivot('page')\\\n",
    "        .agg(F.first('count(page)')).drop('page').orderBy('userId','day')\n",
    "\n",
    "    # In order to compare users, we transform day of the month in a running day number (e.g. if )\n",
    "    first_interactions = actions.select('userId', 'day').groupBy('userId').agg({'day': 'min'})\n",
    "    actions = actions.join(first_interactions, on='userId').withColumn('runningDaysFromFirstInteration', F.datediff('day',col('min(day)'))).drop('min(day)')\n",
    "    \n",
    "    # Fill nulls with zeros (no actions of that type in the day)\n",
    "    actions = actions.fillna(0)\n",
    "    return actions\n",
    "\n",
    "churner_actions = get_actions_by_day(df, churner)\n",
    "not_churner_actions = get_actions_by_day(df, not_churner)\n"
   ]
  },
  {
   "cell_type": "code",
   "execution_count": 36,
   "metadata": {},
   "outputs": [],
   "source": [
    "churner_actions_pd = churner_actions.toPandas()\n",
    "not_churner_actions_pd = not_churner_actions.toPandas()"
   ]
  },
  {
   "cell_type": "code",
   "execution_count": 37,
   "metadata": {},
   "outputs": [],
   "source": [
    "churner_actions_pd['churn'] = pd.Series(np.ones(churner_actions_pd.shape[0]))\n",
    "not_churner_actions_pd['churn'] = pd.Series(np.zeros(churner_actions_pd.shape[0]))\n",
    "churner_actions_pd.drop('day', axis=1, inplace=True)\n",
    "not_churner_actions_pd.drop('day', axis=1, inplace=True)\n",
    "actions = pd.concat([churner_actions_pd, not_churner_actions_pd])"
   ]
  },
  {
   "cell_type": "code",
   "execution_count": 38,
   "metadata": {},
   "outputs": [],
   "source": [
    "cols = churner_actions_pd.columns[1:-2]"
   ]
  },
  {
   "cell_type": "code",
   "execution_count": 39,
   "metadata": {},
   "outputs": [
    {
     "data": {
      "image/png": "[encoded data removed]",
      "text/plain": [
       "<Figure size 1872x1152 with 15 Axes>"
      ]
     },
     "metadata": {
      "needs_background": "light"
     },
     "output_type": "display_data"
    }
   ],
   "source": [
    "ax_i = int(np.ceil(cols.shape[0]/5))\n",
    "ax_j = 5\n",
    "\n",
    "fig, ax = plt.subplots(ax_i, ax_j, figsize=(26,16))\n",
    "for i in range(ax_i):\n",
    "    for j in range(ax_j):\n",
    "        sns.lineplot(x='runningDaysFromFirstInteration', y=cols[j + 5*i], hue='churn', data=actions, ax=ax[i][j])\n",
    "        ax[i][j].set_title(f'Action \"{cols[j + 5*i]}\" vs day')\n",
    "        if (j + 5*i) == len(cols)-1:\n",
    "            break\n",
    "fig.tight_layout();"
   ]
  },
  {
   "cell_type": "code",
   "execution_count": 40,
   "metadata": {},
   "outputs": [],
   "source": [
    "# Users who Downgrade Their Accounts\n",
    "\n",
    "# We find when users downgrade their accounts and then flag those log entries. \n",
    "# Then we use a window function to create 2 phases (0 for pre-downgrade 1 for pos-downgrade) using a cumulative sum for each user.\n",
    "\n",
    "flag_downgrade_event = udf(lambda x: 1 if x == 'Submit Downgrade' else 0, IntegerType())\n",
    "\n",
    "df_downgraded = df.withColumn('downgraded', flag_downgrade_event('page'))\n",
    "\n",
    "windowval = Window.partitionBy('userId').orderBy(F.desc('ts')).rangeBetween(Window.unboundedPreceding, 0)\n",
    "\n",
    "df_downgraded = df_downgraded.withColumn('phase', F.sum('downgraded').over(windowval))\n"
   ]
  },
  {
   "cell_type": "code",
   "execution_count": 41,
   "metadata": {},
   "outputs": [
    {
     "data": {
      "text/html": [
       "<div>\n",
       "<style scoped>\n",
       "    .dataframe tbody tr th:only-of-type {\n",
       "        vertical-align: middle;\n",
       "    }\n",
       "\n",
       "    .dataframe tbody tr th {\n",
       "        vertical-align: top;\n",
       "    }\n",
       "\n",
       "    .dataframe thead th {\n",
       "        text-align: right;\n",
       "    }\n",
       "</style>\n",
       "<table border=\"1\" class=\"dataframe\">\n",
       "  <thead>\n",
       "    <tr style=\"text-align: right;\">\n",
       "      <th></th>\n",
       "      <th>userId</th>\n",
       "      <th>firstname</th>\n",
       "      <th>ts</th>\n",
       "      <th>page</th>\n",
       "      <th>level</th>\n",
       "      <th>downgraded</th>\n",
       "      <th>phase</th>\n",
       "    </tr>\n",
       "  </thead>\n",
       "  <tbody>\n",
       "    <tr>\n",
       "      <th>750</th>\n",
       "      <td>12</td>\n",
       "      <td>Sophia</td>\n",
       "      <td>1539145072000</td>\n",
       "      <td>NextSong</td>\n",
       "      <td>free</td>\n",
       "      <td>0</td>\n",
       "      <td>0</td>\n",
       "    </tr>\n",
       "    <tr>\n",
       "      <th>751</th>\n",
       "      <td>12</td>\n",
       "      <td>Sophia</td>\n",
       "      <td>1539144893000</td>\n",
       "      <td>NextSong</td>\n",
       "      <td>free</td>\n",
       "      <td>0</td>\n",
       "      <td>0</td>\n",
       "    </tr>\n",
       "    <tr>\n",
       "      <th>752</th>\n",
       "      <td>12</td>\n",
       "      <td>Sophia</td>\n",
       "      <td>1539144451000</td>\n",
       "      <td>NextSong</td>\n",
       "      <td>free</td>\n",
       "      <td>0</td>\n",
       "      <td>0</td>\n",
       "    </tr>\n",
       "    <tr>\n",
       "      <th>753</th>\n",
       "      <td>12</td>\n",
       "      <td>Sophia</td>\n",
       "      <td>1539144367000</td>\n",
       "      <td>Home</td>\n",
       "      <td>free</td>\n",
       "      <td>0</td>\n",
       "      <td>0</td>\n",
       "    </tr>\n",
       "    <tr>\n",
       "      <th>754</th>\n",
       "      <td>12</td>\n",
       "      <td>Sophia</td>\n",
       "      <td>1539144164000</td>\n",
       "      <td>NextSong</td>\n",
       "      <td>free</td>\n",
       "      <td>0</td>\n",
       "      <td>0</td>\n",
       "    </tr>\n",
       "    <tr>\n",
       "      <th>755</th>\n",
       "      <td>12</td>\n",
       "      <td>Sophia</td>\n",
       "      <td>1539144134000</td>\n",
       "      <td>Home</td>\n",
       "      <td>free</td>\n",
       "      <td>0</td>\n",
       "      <td>0</td>\n",
       "    </tr>\n",
       "    <tr>\n",
       "      <th>756</th>\n",
       "      <td>12</td>\n",
       "      <td>Sophia</td>\n",
       "      <td>1539144047000</td>\n",
       "      <td>Submit Downgrade</td>\n",
       "      <td>paid</td>\n",
       "      <td>1</td>\n",
       "      <td>1</td>\n",
       "    </tr>\n",
       "    <tr>\n",
       "      <th>757</th>\n",
       "      <td>12</td>\n",
       "      <td>Sophia</td>\n",
       "      <td>1539144046000</td>\n",
       "      <td>Downgrade</td>\n",
       "      <td>paid</td>\n",
       "      <td>0</td>\n",
       "      <td>1</td>\n",
       "    </tr>\n",
       "    <tr>\n",
       "      <th>758</th>\n",
       "      <td>12</td>\n",
       "      <td>Sophia</td>\n",
       "      <td>1539143767000</td>\n",
       "      <td>NextSong</td>\n",
       "      <td>paid</td>\n",
       "      <td>0</td>\n",
       "      <td>1</td>\n",
       "    </tr>\n",
       "    <tr>\n",
       "      <th>759</th>\n",
       "      <td>12</td>\n",
       "      <td>Sophia</td>\n",
       "      <td>1539143499000</td>\n",
       "      <td>NextSong</td>\n",
       "      <td>paid</td>\n",
       "      <td>0</td>\n",
       "      <td>1</td>\n",
       "    </tr>\n",
       "    <tr>\n",
       "      <th>760</th>\n",
       "      <td>12</td>\n",
       "      <td>Sophia</td>\n",
       "      <td>1539143232000</td>\n",
       "      <td>NextSong</td>\n",
       "      <td>paid</td>\n",
       "      <td>0</td>\n",
       "      <td>1</td>\n",
       "    </tr>\n",
       "    <tr>\n",
       "      <th>761</th>\n",
       "      <td>12</td>\n",
       "      <td>Sophia</td>\n",
       "      <td>1539143001000</td>\n",
       "      <td>NextSong</td>\n",
       "      <td>paid</td>\n",
       "      <td>0</td>\n",
       "      <td>1</td>\n",
       "    </tr>\n",
       "    <tr>\n",
       "      <th>762</th>\n",
       "      <td>12</td>\n",
       "      <td>Sophia</td>\n",
       "      <td>1539142773000</td>\n",
       "      <td>Thumbs Up</td>\n",
       "      <td>paid</td>\n",
       "      <td>0</td>\n",
       "      <td>1</td>\n",
       "    </tr>\n",
       "    <tr>\n",
       "      <th>763</th>\n",
       "      <td>12</td>\n",
       "      <td>Sophia</td>\n",
       "      <td>1539142772000</td>\n",
       "      <td>NextSong</td>\n",
       "      <td>paid</td>\n",
       "      <td>0</td>\n",
       "      <td>1</td>\n",
       "    </tr>\n",
       "    <tr>\n",
       "      <th>764</th>\n",
       "      <td>12</td>\n",
       "      <td>Sophia</td>\n",
       "      <td>1539142542000</td>\n",
       "      <td>NextSong</td>\n",
       "      <td>paid</td>\n",
       "      <td>0</td>\n",
       "      <td>1</td>\n",
       "    </tr>\n",
       "  </tbody>\n",
       "</table>\n",
       "</div>"
      ],
      "text/plain": [
       "    userId firstname             ts              page level  downgraded  phase\n",
       "750     12    Sophia  1539145072000          NextSong  free           0      0\n",
       "751     12    Sophia  1539144893000          NextSong  free           0      0\n",
       "752     12    Sophia  1539144451000          NextSong  free           0      0\n",
       "753     12    Sophia  1539144367000              Home  free           0      0\n",
       "754     12    Sophia  1539144164000          NextSong  free           0      0\n",
       "755     12    Sophia  1539144134000              Home  free           0      0\n",
       "756     12    Sophia  1539144047000  Submit Downgrade  paid           1      1\n",
       "757     12    Sophia  1539144046000         Downgrade  paid           0      1\n",
       "758     12    Sophia  1539143767000          NextSong  paid           0      1\n",
       "759     12    Sophia  1539143499000          NextSong  paid           0      1\n",
       "760     12    Sophia  1539143232000          NextSong  paid           0      1\n",
       "761     12    Sophia  1539143001000          NextSong  paid           0      1\n",
       "762     12    Sophia  1539142773000         Thumbs Up  paid           0      1\n",
       "763     12    Sophia  1539142772000          NextSong  paid           0      1\n",
       "764     12    Sophia  1539142542000          NextSong  paid           0      1"
      ]
     },
     "execution_count": 41,
     "metadata": {},
     "output_type": "execute_result"
    }
   ],
   "source": [
    "# Taking userId 12 as example\n",
    "df_downgraded.select([\"userId\", \"firstname\", \"ts\", \"page\", \"level\", \"downgraded\", \"phase\"]).where(col('userId') == \"12\").sort(F.desc(\"ts\"))\\\n",
    "    .toPandas().iloc[750:765,:]"
   ]
  },
  {
   "cell_type": "markdown",
   "metadata": {},
   "source": [
    "# Feature Engineering"
   ]
  },
  {
   "cell_type": "markdown",
   "metadata": {},
   "source": [
    "We need to make each row of our dataset to be an user."
   ]
  },
  {
   "cell_type": "markdown",
   "metadata": {},
   "source": [
    "Possible features (considering only all account time, not aggregations in recent vs distant events):\n",
    "- artist: distinct artists listened\n",
    "- song: distinct songs listened\n",
    "- length: average length of songs listened\n",
    "- gender: one-hot encode (M/F)\n",
    "- itemInSession: average items in session\n",
    "- sessionId: can be used calculate average length of sessions\n",
    "- level: one-hot encode (Free/Paid)\n",
    "- location: percentage of interactions of user at specific location\n",
    "- page: counts by page type\n",
    "- status: counts by status codes\n",
    "- userAgent: get percentage of interactions of user using specific user agent - device, system information, platform, etc.\n",
    "- accountLifeTime: time an user has an account, from the first interaction until the present or the moment he/she cancels account"
   ]
  },
  {
   "cell_type": "code",
   "execution_count": 42,
   "metadata": {},
   "outputs": [],
   "source": [
    "# Helper functions for cleaning and calculating percentages\n",
    "def get_mappings(cols, prefix):\n",
    "    mapping = dict()\n",
    "    for i, c in enumerate(cols):\n",
    "        mapping[prefix+str(i)] = c\n",
    "    return mapping\n",
    "\n",
    "def calculate_perc(percentage_df , mappings):\n",
    "    for new_name, existing_name in mappings.items():\n",
    "        percentage_df = percentage_df.withColumnRenamed(existing_name, new_name)\n",
    "        percentage_df = percentage_df.withColumn(new_name, col(new_name)/col('userTotalInterations'))\n",
    "\n",
    "    percentage_df = percentage_df.drop('userTotalInterations')\n",
    "    return percentage_df"
   ]
  },
  {
   "cell_type": "code",
   "execution_count": 43,
   "metadata": {},
   "outputs": [],
   "source": [
    "def compute_features(df):\n",
    "    '''\n",
    "    Function for computing features.\n",
    "    \n",
    "    Parameters\n",
    "    ----------\n",
    "    input: Spark dataframe with schema of raw dataset and data\n",
    "    \n",
    "    Returns\n",
    "    -------\n",
    "    df_features: Spark dataframe with computed features\n",
    "    location_mappings: dict for encoded locations\n",
    "    sys_agent_mappings: dict for encoded system information from user-agent\n",
    "    plat_agent_mappings: dict for encoded platform information from user-agent\n",
    "    '''\n",
    "    # Create `day` column for aggregating days and keeping information about month and year\n",
    "    df_features = df\n",
    "#     print('df_features RAW shape (row, cow)', df_features.count(), len(df_features.columns))\n",
    "    df_features = df_features.withColumn('day', F.date_trunc('day', F.from_unixtime(col('ts')/1000)))\n",
    "\n",
    "    # Create `userAgentSystemInformation` and `userAgentPlatform` columns for retrieving separate information from `userAgent`\n",
    "    df_features = df_features.withColumn('userAgentSystemInformation', F.regexp_extract(col('userAgent'),'(?<=\\().+?(?=\\))',0))\n",
    "    df_features = df_features.withColumn('userAgentPlatform', F.regexp_extract(col('userAgent'),'(?<=\\)).+',0))  \n",
    "    df_features = df_features.drop('userAgent')\n",
    "\n",
    "    # Intermediate DF to calculate counts of actions by page type, per user\n",
    "    page_counts = df_features.groupBy('userId', 'page')\\\n",
    "        .agg({'page': 'count'})\\\n",
    "        .groupBy(col('userId')).pivot('page')\\\n",
    "        .agg(F.first('count(page)')).drop('page')\\\n",
    "        .fillna(0)\n",
    "\n",
    "    # Intermediate DF to calculate average length of user sessions\n",
    "    session_avg_length = df_features.groupby('userId', 'sessionId')\\\n",
    "                            .agg(\n",
    "                                F.min(col('ts')).alias('startSession'), \n",
    "                                F.max(col('ts')).alias('endSession')\n",
    "                            )\\\n",
    "                            .groupby('userId')\\\n",
    "                            .agg(\n",
    "                                F.avg(col('endSession')-col('startSession')).alias('avgSessionLength')\n",
    "                            )\n",
    "\n",
    "    # Intermediate DF to calculate percentage of interactions at specific location, per user\n",
    "    location_percentage = df_features.groupBy('userId', 'location').agg({'location': 'count'})\n",
    "    total_interations = df_features.groupBy('userId').agg(F.count('userId').alias('userTotalInterations'))\n",
    "\n",
    "    location_percentage = location_percentage.groupBy(col('userId')).pivot('location')\\\n",
    "        .agg(F.first('count(location)'))\\\n",
    "        .fillna(0).join(total_interations,on='userId').drop('location')\n",
    "\n",
    "    location_cols = location_percentage.columns\n",
    "    location_cols.remove('userId')\n",
    "    location_cols.remove('userTotalInterations')\n",
    "    \n",
    "    # Deal with bad column names\n",
    "    location_mappings = get_mappings(location_cols, 'location_')\n",
    "    location_percentage = calculate_perc(location_percentage , location_mappings)\n",
    "\n",
    "\n",
    "    # Intermediate DF to calculate percentage of interactions using specific user-agent system information, per user\n",
    "    countSysInfo = df_features.groupBy('userId', 'userAgentSystemInformation')\\\n",
    "        .agg(\n",
    "            F.count('userAgentSystemInformation').alias('sysInfoCount')\n",
    "        )\n",
    "\n",
    "    total = df_features.groupBy('userId').agg(F.count('userId').alias('userTotalInterations'))\n",
    "\n",
    "    countSysInfo = countSysInfo.groupBy(col('userId')).pivot('userAgentSystemInformation')\\\n",
    "        .agg(F.first('sysInfoCount'))\\\n",
    "        .fillna(0).join(total,on='userId').drop('userAgentSystemInformation')\n",
    "\n",
    "    sys_cols = countSysInfo.columns\n",
    "    sys_cols.remove('userId')\n",
    "    sys_cols.remove('userTotalInterations')\n",
    "    \n",
    "    # Deal with bad column names\n",
    "    sys_agent_mappings = get_mappings(sys_cols, 'sys_agent_')\n",
    "    percentage_sys_info = calculate_perc(countSysInfo , sys_agent_mappings)\n",
    "    \n",
    "    # Intermediate DF to calculate percentage of interactions using specific user-agent platform information, per user\n",
    "    countPlat = df_features.groupBy('userId', 'userAgentPlatform')\\\n",
    "        .agg(\n",
    "            F.count('userAgentPlatform').alias('platformCount')\n",
    "        )\n",
    "    \n",
    "    countPlat = countPlat.groupBy(col('userId')).pivot('userAgentPlatform')\\\n",
    "        .agg(F.first('platformCount'))\\\n",
    "        .fillna(0).join(total,on='userId').drop('userAgentPlatform')\n",
    "\n",
    "    plat_cols = countPlat.columns\n",
    "    plat_cols.remove('userId')\n",
    "    plat_cols.remove('userTotalInterations')\n",
    "    \n",
    "    # Deal with bad column names\n",
    "    plat_agent_mappings = get_mappings(plat_cols, 'plat_agent_')\n",
    "    percentage_plat = calculate_perc(countPlat , plat_agent_mappings)\n",
    "    \n",
    "    \n",
    "#     print('page_counts shape (row, cow)', page_counts.count(), len(page_counts.columns))\n",
    "#     print('session_avg_length shape (row, cow)', session_avg_length.count(), len(session_avg_length.columns))\n",
    "#     print('location_percentage shape (row, cow)', location_percentage.count(), len(location_percentage.columns))\n",
    "#     print('percentageSysInfo shape (row, cow)', percentage_sys_info.count(), len(percentage_sys_info.columns))\n",
    "#     print('percentagePlat shape (row, cow)', percentage_plat.count(), len(percentage_plat.columns))\n",
    "    \n",
    "    df_features = df_features.groupby('userId')\\\n",
    "                .agg(\n",
    "                    F.countDistinct('artist').alias('distinctArtistsListened'),\n",
    "                    F.countDistinct('song').alias('distinctSongsListened'), # simplification, disregarding songs with the same name and different artists\n",
    "                    F.avg('length').alias('avgLength'),\n",
    "                    F.first(F.when(col('gender') == 'M', 1).otherwise(0)).alias('isMale'),\n",
    "                    F.avg('itemInSession').alias('avgItemsInSession'),\n",
    "                    F.sum(F.when(col('level') == 'Paid', 1).otherwise(0)).alias('interactionsPaid'),\n",
    "                    F.sum(F.when(col('level') == 'Free', 1).otherwise(0)).alias('interactionsFree'),\n",
    "                    F.sum(F.when(col('status') == 307, 1).otherwise(0)).alias('statusCount307'),\n",
    "                    F.sum(F.when(col('status') == 404, 1).otherwise(0)).alias('statusCount404'),\n",
    "                    F.sum(F.when(col('status') == 200, 1).otherwise(0)).alias('statusCount200'),\n",
    "                    F.min('day').alias('firstInteraction'),\n",
    "                    F.max('day').alias('lastInteraction'),                \n",
    "                )\n",
    "    \n",
    "#     print('df_features after AGGs shape (row, cow)', df_features.count(), len(df_features.columns))\n",
    "    \n",
    "    df_features = df_features.join(page_counts, on='userId')\\\n",
    "            .join(session_avg_length, on='userId')\\\n",
    "            .join(location_percentage, on='userId')\\\n",
    "            .join(percentage_sys_info, on='userId')\\\n",
    "            .join(percentage_plat, on='userId')\n",
    "    \n",
    "#     print('df_features after JOINs shape (row, cow)', df_features.count(), len(df_features.columns))\n",
    "\n",
    "    df_features = df_features.withColumn('accountLifeTime', F.datediff( col('lastInteraction'), col('firstInteraction') ) )\n",
    "    df_features = df_features.drop('lastInteraction','firstInteraction')\n",
    "    \n",
    "#     print('df_features after NEW COL shape (row, cow)', df_features.count(), len(df_features.columns))\n",
    "\n",
    "    # Handle NaNs, Nulls\n",
    "    df_features = df_features.fillna(0)\n",
    "    \n",
    "#     print('df_features after FILLNA shape (row, cow)', df_features.count(), len(df_features.columns))\n",
    "        \n",
    "    return df_features, location_mappings, sys_agent_mappings, plat_agent_mappings"
   ]
  },
  {
   "cell_type": "code",
   "execution_count": 44,
   "metadata": {},
   "outputs": [
    {
     "name": "stdout",
     "output_type": "stream",
     "text": [
      "Spent 24.63486886024475s in feature computation\n"
     ]
    }
   ],
   "source": [
    "start = time.time()\n",
    "df_features, location_mappings, sys_agent_mappings, plat_agent_mappings = compute_features(df)\n",
    "end = time.time()\n",
    "print(f'Spent {end-start}s in feature computation')"
   ]
  },
  {
   "cell_type": "code",
   "execution_count": 45,
   "metadata": {},
   "outputs": [],
   "source": [
    "# Add churn column as label\n",
    "churn = df.select('userId','churn').distinct()\n",
    "df_features_label = df_features.join(churn, on='userId')\n",
    "df_features_label = df_features_label.withColumnRenamed('churn', 'label')"
   ]
  },
  {
   "cell_type": "code",
   "execution_count": 46,
   "metadata": {},
   "outputs": [
    {
     "data": {
      "text/html": [
       "<div>\n",
       "<style scoped>\n",
       "    .dataframe tbody tr th:only-of-type {\n",
       "        vertical-align: middle;\n",
       "    }\n",
       "\n",
       "    .dataframe tbody tr th {\n",
       "        vertical-align: top;\n",
       "    }\n",
       "\n",
       "    .dataframe thead th {\n",
       "        text-align: right;\n",
       "    }\n",
       "</style>\n",
       "<table border=\"1\" class=\"dataframe\">\n",
       "  <thead>\n",
       "    <tr style=\"text-align: right;\">\n",
       "      <th></th>\n",
       "      <th>distinctArtistsListened</th>\n",
       "      <th>distinctSongsListened</th>\n",
       "      <th>avgLength</th>\n",
       "      <th>isMale</th>\n",
       "      <th>avgItemsInSession</th>\n",
       "      <th>interactionsPaid</th>\n",
       "      <th>interactionsFree</th>\n",
       "      <th>statusCount307</th>\n",
       "      <th>statusCount404</th>\n",
       "      <th>statusCount200</th>\n",
       "      <th>...</th>\n",
       "      <th>plat_agent_14</th>\n",
       "      <th>plat_agent_15</th>\n",
       "      <th>plat_agent_16</th>\n",
       "      <th>plat_agent_17</th>\n",
       "      <th>plat_agent_18</th>\n",
       "      <th>plat_agent_19</th>\n",
       "      <th>plat_agent_20</th>\n",
       "      <th>plat_agent_21</th>\n",
       "      <th>accountLifeTime</th>\n",
       "      <th>label</th>\n",
       "    </tr>\n",
       "  </thead>\n",
       "  <tbody>\n",
       "    <tr>\n",
       "      <th>0</th>\n",
       "      <td>252</td>\n",
       "      <td>269</td>\n",
       "      <td>243.421445</td>\n",
       "      <td>0</td>\n",
       "      <td>35.895013</td>\n",
       "      <td>0</td>\n",
       "      <td>0</td>\n",
       "      <td>31</td>\n",
       "      <td>0</td>\n",
       "      <td>350</td>\n",
       "      <td>...</td>\n",
       "      <td>0.0</td>\n",
       "      <td>0.0</td>\n",
       "      <td>0.0</td>\n",
       "      <td>0.0</td>\n",
       "      <td>0.0</td>\n",
       "      <td>0.0</td>\n",
       "      <td>0.0</td>\n",
       "      <td>0.0</td>\n",
       "      <td>44</td>\n",
       "      <td>0</td>\n",
       "    </tr>\n",
       "    <tr>\n",
       "      <th>1</th>\n",
       "      <td>339</td>\n",
       "      <td>378</td>\n",
       "      <td>242.916992</td>\n",
       "      <td>1</td>\n",
       "      <td>60.578059</td>\n",
       "      <td>0</td>\n",
       "      <td>0</td>\n",
       "      <td>37</td>\n",
       "      <td>0</td>\n",
       "      <td>437</td>\n",
       "      <td>...</td>\n",
       "      <td>0.0</td>\n",
       "      <td>0.0</td>\n",
       "      <td>0.0</td>\n",
       "      <td>0.0</td>\n",
       "      <td>0.0</td>\n",
       "      <td>0.0</td>\n",
       "      <td>0.0</td>\n",
       "      <td>0.0</td>\n",
       "      <td>45</td>\n",
       "      <td>0</td>\n",
       "    </tr>\n",
       "    <tr>\n",
       "      <th>2</th>\n",
       "      <td>8</td>\n",
       "      <td>8</td>\n",
       "      <td>261.139138</td>\n",
       "      <td>1</td>\n",
       "      <td>5.000000</td>\n",
       "      <td>0</td>\n",
       "      <td>0</td>\n",
       "      <td>1</td>\n",
       "      <td>0</td>\n",
       "      <td>10</td>\n",
       "      <td>...</td>\n",
       "      <td>0.0</td>\n",
       "      <td>0.0</td>\n",
       "      <td>0.0</td>\n",
       "      <td>0.0</td>\n",
       "      <td>0.0</td>\n",
       "      <td>0.0</td>\n",
       "      <td>0.0</td>\n",
       "      <td>0.0</td>\n",
       "      <td>0</td>\n",
       "      <td>1</td>\n",
       "    </tr>\n",
       "    <tr>\n",
       "      <th>3</th>\n",
       "      <td>2232</td>\n",
       "      <td>3339</td>\n",
       "      <td>248.176537</td>\n",
       "      <td>0</td>\n",
       "      <td>165.099275</td>\n",
       "      <td>0</td>\n",
       "      <td>0</td>\n",
       "      <td>351</td>\n",
       "      <td>6</td>\n",
       "      <td>4468</td>\n",
       "      <td>...</td>\n",
       "      <td>0.0</td>\n",
       "      <td>0.0</td>\n",
       "      <td>0.0</td>\n",
       "      <td>0.0</td>\n",
       "      <td>0.0</td>\n",
       "      <td>0.0</td>\n",
       "      <td>0.0</td>\n",
       "      <td>0.0</td>\n",
       "      <td>60</td>\n",
       "      <td>0</td>\n",
       "    </tr>\n",
       "    <tr>\n",
       "      <th>4</th>\n",
       "      <td>1385</td>\n",
       "      <td>1854</td>\n",
       "      <td>247.880551</td>\n",
       "      <td>1</td>\n",
       "      <td>200.603490</td>\n",
       "      <td>0</td>\n",
       "      <td>0</td>\n",
       "      <td>175</td>\n",
       "      <td>1</td>\n",
       "      <td>2288</td>\n",
       "      <td>...</td>\n",
       "      <td>0.0</td>\n",
       "      <td>0.0</td>\n",
       "      <td>0.0</td>\n",
       "      <td>0.0</td>\n",
       "      <td>0.0</td>\n",
       "      <td>0.0</td>\n",
       "      <td>0.0</td>\n",
       "      <td>0.0</td>\n",
       "      <td>16</td>\n",
       "      <td>1</td>\n",
       "    </tr>\n",
       "  </tbody>\n",
       "</table>\n",
       "<p>5 rows × 205 columns</p>\n",
       "</div>"
      ],
      "text/plain": [
       "   distinctArtistsListened  distinctSongsListened   avgLength  isMale  \\\n",
       "0                      252                    269  243.421445       0   \n",
       "1                      339                    378  242.916992       1   \n",
       "2                        8                      8  261.139138       1   \n",
       "3                     2232                   3339  248.176537       0   \n",
       "4                     1385                   1854  247.880551       1   \n",
       "\n",
       "   avgItemsInSession  interactionsPaid  interactionsFree  statusCount307  \\\n",
       "0          35.895013                 0                 0              31   \n",
       "1          60.578059                 0                 0              37   \n",
       "2           5.000000                 0                 0               1   \n",
       "3         165.099275                 0                 0             351   \n",
       "4         200.603490                 0                 0             175   \n",
       "\n",
       "   statusCount404  statusCount200  ...  plat_agent_14  plat_agent_15  \\\n",
       "0               0             350  ...            0.0            0.0   \n",
       "1               0             437  ...            0.0            0.0   \n",
       "2               0              10  ...            0.0            0.0   \n",
       "3               6            4468  ...            0.0            0.0   \n",
       "4               1            2288  ...            0.0            0.0   \n",
       "\n",
       "   plat_agent_16  plat_agent_17  plat_agent_18  plat_agent_19  plat_agent_20  \\\n",
       "0            0.0            0.0            0.0            0.0            0.0   \n",
       "1            0.0            0.0            0.0            0.0            0.0   \n",
       "2            0.0            0.0            0.0            0.0            0.0   \n",
       "3            0.0            0.0            0.0            0.0            0.0   \n",
       "4            0.0            0.0            0.0            0.0            0.0   \n",
       "\n",
       "   plat_agent_21  accountLifeTime  label  \n",
       "0            0.0               44      0  \n",
       "1            0.0               45      0  \n",
       "2            0.0                0      1  \n",
       "3            0.0               60      0  \n",
       "4            0.0               16      1  \n",
       "\n",
       "[5 rows x 205 columns]"
      ]
     },
     "execution_count": 46,
     "metadata": {},
     "output_type": "execute_result"
    }
   ],
   "source": [
    "# Drop userId, as it's not a feature\n",
    "df_features_label = df_features_label.drop('userId')\n",
    "df_features_label.toPandas().head()"
   ]
  },
  {
   "cell_type": "code",
   "execution_count": 47,
   "metadata": {},
   "outputs": [
    {
     "name": "stdout",
     "output_type": "stream",
     "text": [
      "df_features_label shape: 225 205\n"
     ]
    }
   ],
   "source": [
    "print('df_features_label shape:', df_features_label.count(), len(df_features_label.columns))"
   ]
  },
  {
   "cell_type": "code",
   "execution_count": 48,
   "metadata": {},
   "outputs": [
    {
     "name": "stdout",
     "output_type": "stream",
     "text": [
      "Saving data in processed/2020/7/1/21/8...\n"
     ]
    }
   ],
   "source": [
    "# Save features locally, partitioning by date\n",
    "now = datetime.now()\n",
    "path = f'processed/{now.year}/{now.month}/{now.day}/{now.hour}/{now.minute}'\n",
    "\n",
    "print(f'Saving data in {path}...')\n",
    "df_features_label.write.csv(path, mode='overwrite', header=True)"
   ]
  },
  {
   "cell_type": "markdown",
   "metadata": {},
   "source": [
    "# Modeling\n",
    "We assemble or features with `VectorAssembler` and split the full dataset into train, validation, and test sets with `randomSplit` DF method:"
   ]
  },
  {
   "cell_type": "code",
   "execution_count": 49,
   "metadata": {},
   "outputs": [
    {
     "data": {
      "text/plain": [
       "204"
      ]
     },
     "execution_count": 49,
     "metadata": {},
     "output_type": "execute_result"
    }
   ],
   "source": [
    "num_cols = df_features_label.columns\n",
    "num_cols.remove('isMale')\n",
    "len(num_cols)"
   ]
  },
  {
   "cell_type": "code",
   "execution_count": 50,
   "metadata": {},
   "outputs": [],
   "source": [
    "# After feature calculations the only categorical variable is \"isMale\", related to gender. All the others are numeric:\n",
    "num_assembler = VectorAssembler(inputCols = num_cols, outputCol = \"numVector\")\n",
    "\n",
    "# Scale numeric features\n",
    "scaler = StandardScaler(inputCol = \"numVector\", outputCol = \"numScaled\", withStd = True, withMean = True)\n",
    "\n",
    "# Add categorical variable \"isMale\":\n",
    "total_assembler = VectorAssembler(inputCols = ['isMale', 'numScaled'], outputCol = 'features')"
   ]
  },
  {
   "cell_type": "code",
   "execution_count": 51,
   "metadata": {},
   "outputs": [],
   "source": [
    "# Split dataset\n",
    "train_val_dataset, test_dataset = df_features_label.randomSplit([0.8, 0.2], seed = 0) "
   ]
  },
  {
   "cell_type": "code",
   "execution_count": 51,
   "metadata": {},
   "outputs": [
    {
     "name": "stdout",
     "output_type": "stream",
     "text": [
      "Number of train+validation dataset examples (should be 80%): 175\n",
      "Number of test dataset examples (should be 20%): 50\n",
      "Total number of dataset examples: 225\n"
     ]
    }
   ],
   "source": [
    "print('Number of train+validation dataset examples (should be 80%):', train_val_dataset.count())\n",
    "print('Number of test dataset examples (should be 20%):', test_dataset.count())\n",
    "print('Total number of dataset examples:', df_features_label.count())"
   ]
  },
  {
   "cell_type": "markdown",
   "metadata": {},
   "source": [
    "##### A few observations\n",
    "Although we'll be using tree-based ensemble methods, we will standardize the values. If we want to try other models that are sensible to the scale of features, we won't have problems with that.\n",
    "\n",
    "In addition, the feature selection with those ensemble models can be easier (in our case with 204 features), since the models have the special characteristics of <a href=\"https://machinelearningmastery.com/feature-selection-with-real-and-categorical-data/\">filter, wrapper methods and built-in feature selection</a>. We could also apply some feature selection technique (e.g. performing some correlation analysis, recurrent feature selection, etc.)"
   ]
  },
  {
   "cell_type": "markdown",
   "metadata": {},
   "source": [
    "We create our custom evaluator for F1 score metric (which isn't available in Spark 2.4.6):"
   ]
  },
  {
   "cell_type": "code",
   "execution_count": 52,
   "metadata": {},
   "outputs": [],
   "source": [
    "# Since in PySpark 2.4.6 (version we are using) there's no F1 score metric in BinaryClassificationEvaluator, we create our own evaluator\n",
    "class F1Evaluator(Evaluator):\n",
    "\n",
    "    def __init__(self, predictionCol = \"prediction\", labelCol=\"label\"):\n",
    "        self.predictionCol = predictionCol\n",
    "        self.labelCol = labelCol\n",
    "\n",
    "    def _evaluate(self, dataset):\n",
    "        \n",
    "        # Calculate F1 score \n",
    "        tp = dataset.where((dataset.label == 1) & (dataset.prediction == 1)).count()\n",
    "        tn = dataset.where((dataset.label == 0) & (dataset.prediction == 0)).count()\n",
    "        fp = dataset.where((dataset.label == 0) & (dataset.prediction == 1)).count()\n",
    "        fn = dataset.where((dataset.label == 1) & (dataset.prediction == 0)).count()\n",
    "        \n",
    "        # Add epsilon avoid division by zero errors\n",
    "        eps = 1e-6\n",
    "        precision = tp / float(tp + fp + eps)\n",
    "        recall = tp / float(tp + fn + eps)\n",
    "        \n",
    "        f1 = 2 * precision * recall / float(precision + recall + 0.00001)\n",
    "        \n",
    "        return f1\n",
    "\n",
    "    def isLargerBetter(self):\n",
    "        return True"
   ]
  },
  {
   "cell_type": "markdown",
   "metadata": {},
   "source": [
    "We create 2 pipelines: one for RandomForestClassifier and other for GBTClassifier."
   ]
  },
  {
   "cell_type": "code",
   "execution_count": 53,
   "metadata": {},
   "outputs": [
    {
     "name": "stdout",
     "output_type": "stream",
     "text": [
      "spark_master: local\n"
     ]
    }
   ],
   "source": [
    "# create variable to verify if we are running locally. It will take too much time to run locally\n",
    "spark_master = dict(spark.sparkContext.getConf().getAll())['spark.master']\n",
    "print('spark_master:', spark_master)"
   ]
  },
  {
   "cell_type": "code",
   "execution_count": 55,
   "metadata": {},
   "outputs": [],
   "source": [
    "def train_pipeline(model_type, dataset):    \n",
    "    '''\n",
    "    Creates and trains pipeline doing Cross Validation.\n",
    "    Only supports RandomForestClassifier and GBTClassifier.\n",
    "    \n",
    "    Parameters\n",
    "    ----------\n",
    "    model_type: 'rf' or 'gb'. Strings for RandomForestClassifier and GBTClassifier, respectively.\n",
    "    dataset: Spark dataframe with features\n",
    "    \n",
    "    Output\n",
    "    ------\n",
    "    cv_model: trained model after cross validation\n",
    "    param_grid: param_grid used to train with grid search\n",
    "    '''\n",
    "    \n",
    "    if model_type=='rf':\n",
    "        model = RandomForestClassifier()\n",
    "    else:\n",
    "        model = GBTClassifier()\n",
    "    \n",
    "    print('Selected', model.__class__.__name__, 'model')\n",
    "    pipeline = Pipeline(stages = [num_assembler, scaler, total_assembler, model])\n",
    "\n",
    "    # We create a grid of parameters to search over with ParamGridBuilder\n",
    "    # If cluster mode: This grid will have 2 x 2 * 2 = 8 parameter settings for CrossValidator to choose from.\n",
    "    # If local model: This grid will have 1 x 1 * 1 = 1 parameter settings for CrossValidator to choose from.\n",
    "\n",
    "    if spark_master=='local':\n",
    "        print('Training locally...')\n",
    "        num_folds=2\n",
    "        if model_type=='rf':\n",
    "            param_grid = ParamGridBuilder()\\\n",
    "                .addGrid(\n",
    "                    model.numTrees, [10]\n",
    "                ).addGrid(\n",
    "                    model.maxBins, [16]\n",
    "                ).addGrid(\n",
    "                    model.maxDepth, [3]\n",
    "                ).build()\n",
    "        else:\n",
    "            param_grid = ParamGridBuilder()\\\n",
    "                .addGrid(\n",
    "                    model.maxIter, [10]\n",
    "                ).addGrid(\n",
    "                    model.stepSize, [0.3]\n",
    "                ).addGrid(\n",
    "                    model.maxDepth, [3]\n",
    "                ).build()\n",
    "    else:\n",
    "        print('Training in cluster...')\n",
    "        num_folds=3\n",
    "        if model_type=='rf':\n",
    "            param_grid = ParamGridBuilder()\\\n",
    "                .addGrid(\n",
    "                    model.numTrees, [20, 30]\n",
    "                ).addGrid(\n",
    "                    model.maxBins, [16, 32]\n",
    "                ).addGrid(\n",
    "                    model.maxDepth, [3, 5]\n",
    "                ).build()\n",
    "        else:\n",
    "            param_grid = ParamGridBuilder()\\\n",
    "                .addGrid(\n",
    "                    model.maxIter, [150, 300]\n",
    "                ).addGrid(\n",
    "                    model.stepSize, [0.1,0.3]\n",
    "                ).addGrid(\n",
    "                    model.maxDepth, [3, 5]\n",
    "                ).build()\n",
    "\n",
    "    # We wrap the pipeline in CrossValidator instance and use our F1Evaluator\n",
    "    cv = CrossValidator(estimator=pipeline, estimatorParamMaps=param_grid, evaluator=F1Evaluator(), numFolds=num_folds)\n",
    "\n",
    "    # Run cross-validation, and choose the best set of parameters.\n",
    "    print('Training', model.__class__.__name__,'...')\n",
    "    cv_model = cv.fit(dataset)\n",
    "    \n",
    "    return cv_model, param_grid"
   ]
  },
  {
   "cell_type": "markdown",
   "metadata": {},
   "source": [
    "We train using the the F1 score as evaluator of the Random Forest and Gradient-Boosted Trees models, tuning parameters as necessary with cross validation and pipelines with grid search. "
   ]
  },
  {
   "cell_type": "code",
   "execution_count": 56,
   "metadata": {},
   "outputs": [
    {
     "name": "stdout",
     "output_type": "stream",
     "text": [
      "Selected RandomForestClassifier model\n",
      "Training locally...\n",
      "Training RandomForestClassifier ...\n",
      "Spent 1144.1241278648376s for training RandomForestClassifier\n"
     ]
    }
   ],
   "source": [
    "# Train Random Forest model\n",
    "start = time.time()\n",
    "trained_rf, param_grid_rf = train_pipeline('rf', train_val_dataset)\n",
    "end = time.time()\n",
    "print(f'Spent {end-start}s for training RandomForestClassifier')"
   ]
  },
  {
   "cell_type": "code",
   "execution_count": 57,
   "metadata": {},
   "outputs": [],
   "source": [
    "# Save Random Forest model\n",
    "trained_rf.bestModel.write().overwrite().save('models/mini_rf')"
   ]
  },
  {
   "cell_type": "code",
   "execution_count": 58,
   "metadata": {},
   "outputs": [
    {
     "name": "stdout",
     "output_type": "stream",
     "text": [
      "Selected GBTClassifier model\n",
      "Training locally...\n",
      "Training GBTClassifier ...\n",
      "Spent 1642.9231848716736s for training GBTClassifier\n"
     ]
    }
   ],
   "source": [
    "# Train Gradient-Boosted Trees model\n",
    "start = time.time()\n",
    "trained_gb, param_grid_gb = train_pipeline('gb', train_val_dataset)\n",
    "end = time.time()\n",
    "print(f'Spent {end-start}s for training GBTClassifier')"
   ]
  },
  {
   "cell_type": "code",
   "execution_count": 59,
   "metadata": {},
   "outputs": [],
   "source": [
    "# Save Gradient-Boosted Trees model\n",
    "trained_gb.bestModel.write().overwrite().save('models/mini_gb')"
   ]
  },
  {
   "cell_type": "markdown",
   "metadata": {},
   "source": [
    "Training metrics for models:"
   ]
  },
  {
   "cell_type": "code",
   "execution_count": 64,
   "metadata": {},
   "outputs": [
    {
     "name": "stdout",
     "output_type": "stream",
     "text": [
      "Training metrics for RandomForestClassificationModel:\n",
      "Parameters: {Param(parent='RandomForestClassifier_b7f63930a164', name='numTrees', doc='Number of trees to train (>= 1).'): 10, Param(parent='RandomForestClassifier_b7f63930a164', name='maxBins', doc='Max number of bins for discretizing continuous features.  Must be >=2 and >= number of categories for any categorical feature.'): 16, Param(parent='RandomForestClassifier_b7f63930a164', name='maxDepth', doc='Maximum depth of the tree. (>= 0) E.g., depth 0 means 1 leaf node; depth 1 means 1 internal node + 2 leaf nodes.'): 3} \n",
      "Metrics: 0.9999949541916686\n",
      "Training metrics for GBTClassificationModel:\n",
      "Parameters: {Param(parent='GBTClassifier_2f85eb99c843', name='maxIter', doc='max number of iterations (>= 0).'): 10, Param(parent='GBTClassifier_2f85eb99c843', name='stepSize', doc='Step size (a.k.a. learning rate) in interval (0, 1] for shrinking the contribution of each estimator.'): 0.3, Param(parent='GBTClassifier_2f85eb99c843', name='maxDepth', doc='Maximum depth of the tree. (>= 0) E.g., depth 0 means 1 leaf node; depth 1 means 1 internal node + 2 leaf nodes.'): 3} \n",
      "Metrics: 0.9999949541916686\n"
     ]
    }
   ],
   "source": [
    "# Average cross-validation metrics for each grid trained with 2 folds\n",
    "for param_grid, model in [(param_grid_rf, trained_rf), (param_grid_gb, trained_gb)]:\n",
    "    print(f'Training metrics for {model.bestModel.stages[-1].__class__.__name__}:')\n",
    "    for params, metrics in zip(param_grid, model.avgMetrics):\n",
    "        print('Parameters:', params, '\\nMetrics:', metrics)"
   ]
  },
  {
   "cell_type": "markdown",
   "metadata": {},
   "source": [
    "Since we are dealing with RandomForest and Gradient-Boosted Trees models, we can take advantage of feature importances that are calculated and provide useful informatio for interpretability:"
   ]
  },
  {
   "cell_type": "code",
   "execution_count": 70,
   "metadata": {},
   "outputs": [
    {
     "data": {
      "image/png": "[encoded data removed]",
      "text/plain": [
       "<Figure size 1440x432 with 1 Axes>"
      ]
     },
     "metadata": {
      "needs_background": "light"
     },
     "output_type": "display_data"
    },
    {
     "data": {
      "image/png": "[encoded data removed]",
      "text/plain": [
       "<Figure size 1440x432 with 1 Axes>"
      ]
     },
     "metadata": {
      "needs_background": "light"
     },
     "output_type": "display_data"
    }
   ],
   "source": [
    "# Display feature importances for RF and GBT (there is a \"featureImportances\" attribute for both)\n",
    "col_names = dict(enumerate(['isMale'] + num_cols))\n",
    "\n",
    "for model in (trained_rf, trained_gb):\n",
    "    importances = model.bestModel.stages[-1].featureImportances \n",
    "    importances = dict(zip(importances.indices, importances.values))\n",
    "    sorted_importances = {k: v for k, v in sorted(importances.items(), key=lambda item: item[1], reverse=True)}\n",
    "    sorted_importances = {col_names[k]: [v] for k, v in sorted_importances.items() if col_names[k]!='label' }\n",
    "    importances_df = pd.DataFrame(data=sorted_importances)\n",
    "    plt.figure(figsize=(20,6))\n",
    "    plt.title(f'Importances for {model.bestModel.stages[-1].__class__.__name__}')\n",
    "    plt.xticks(rotation=30)\n",
    "    sns.barplot(data=importances_df)"
   ]
  },
  {
   "cell_type": "code",
   "execution_count": 71,
   "metadata": {},
   "outputs": [
    {
     "name": "stdout",
     "output_type": "stream",
     "text": [
      "plat_agent_21:  like Gecko\n",
      "location_35: Flint, MI\n",
      "location_25: Corpus Christi, TX\n"
     ]
    }
   ],
   "source": [
    "print('plat_agent_21:', plat_agent_mappings['plat_agent_21']) # like Gecko\n",
    "print('location_35:', location_mappings['location_35']) # 'Flint, MI'\n",
    "print('location_25:', location_mappings['location_25'])# 'Corpus Christi, TX'"
   ]
  },
  {
   "cell_type": "markdown",
   "metadata": {},
   "source": [
    "Interestingly, the models indicate that there are locations where the users has a bigger chance of churning (we could investigate that further if it makes sense due to some external factor). Features related to devices doesn't seem to be relevant as `like Gecko` is not doesn't provide much information (is present in lots of user agent logs)."
   ]
  },
  {
   "cell_type": "markdown",
   "metadata": {},
   "source": [
    "We evaluate our models with the test dataset, for both F1 score and AUC:"
   ]
  },
  {
   "cell_type": "code",
   "execution_count": 72,
   "metadata": {},
   "outputs": [
    {
     "name": "stdout",
     "output_type": "stream",
     "text": [
      "Model RandomForestClassificationModel F1 score on test set: 0.9999948750250157\n",
      "Model RandomForestClassificationModel AUC score on test set: 1.0\n",
      "Model GBTClassificationModel F1 score on test set: 0.9999948750250157\n",
      "Model GBTClassificationModel AUC score on test set: 1.0\n"
     ]
    }
   ],
   "source": [
    "# Test with f1 score and AUC score using the test dataset\n",
    "f1_evaluator = F1Evaluator()\n",
    "auc_evaluator = BinaryClassificationEvaluator()\n",
    "\n",
    "for model in (trained_rf, trained_gb):\n",
    "    # Get predictions using the test dataset\n",
    "    predictions = model.transform(test_dataset)\n",
    "\n",
    "    f1_score = f1_evaluator.evaluate(predictions)\n",
    "    auc = auc_evaluator.evaluate(predictions)\n",
    "    \n",
    "    print(f'Model {model.bestModel.stages[-1].__class__.__name__} F1 score on test set:', f1_score)\n",
    "    print(f'Model {model.bestModel.stages[-1].__class__.__name__} AUC score on test set:', auc)"
   ]
  },
  {
   "cell_type": "markdown",
   "metadata": {},
   "source": [
    "The winning model is chosen based on test F1 score and AUC on the test dataset. Both models seemed to have the same performance."
   ]
  },
  {
   "cell_type": "markdown",
   "metadata": {},
   "source": [
    "# Conclusions"
   ]
  },
  {
   "cell_type": "markdown",
   "metadata": {},
   "source": [
    "As seen in the notebook, we were able to scale to a larger volume of data and train multiple models, performing hyperparameter optimization, compare features, and develop functions for generating features and training models. \n",
    "\n",
    "A next step would be to create a <a href=\"https://spark.apache.org/docs/latest/submitting-applications.html\">Spark application</a> with the already created `compute_features(df)` and `train_pipeline(model_type, dataset)` functions and creating a function for loading the model, performing inference and saving the results in S3. This way we could load data from S3 and save the predictions in a batch strategy. This would allow us to automate by creating <a href=\"https://docs.aws.amazon.com/emr/latest/ReleaseGuide/emr-spark-submit-step.html\">EMR Steps</a> "
   ]
  },
  {
   "cell_type": "markdown",
   "metadata": {},
   "source": [
    "### Possible improvements \n",
    "- add new features <a href=\"#possible-features\">related to other time aggregations (e.g. weeks)</a>, related to the phase (if they are paid user, free, etc.), better process user-agent data, etc.\n",
    "- deal with class imbalance (with some downsampling, oversampling methods or with some technique for generating synthethic data like <a href=\"https://arxiv.org/pdf/1106.1813.pdf\">SMOTE</a>)\n",
    "- perform more feature selection - analyze correlations of computed feature for elimination (although ensemble trees models help with that), drop \"Cancel\" features since they are already an event associated with churn. The models performances have high correlations with \"Cancel\" features and when cancel actions occur we wouldn't be able to act in advance (the predictive power of the models is low, since they are predicting the obvious)\n",
    "- try other models\n",
    "- transform in transient EMR cluster (for batch inferences, and batch feature calculations), shutting down cluster after training and inference\n",
    "- use spot instances in EMR cluster for cost opmitization\n",
    "- improve performance by converting json to Parquet, compression, partitioning in S3\n",
    "- adjust number of instances and types in EMR, analyse performance in Spark UI, etc.\n",
    "- generate inferenced in realtime (a lot more complex: feature store for calculating and updating features, turn training model into an rest API with MLeap, etc.)\n",
    "- add <a href=\"https://airflow.apache.org/\">AirFlow</a>, <a href=\"https://aws.amazon.com/pt/step-functions/\">AWS Step Functions</a> for orchestration, automating the calculatation features and performing inferences\n",
    "- trigger marketing campaings, promotions, incentives for user to use the app (personalized e-mails, SMSs), etc."
   ]
  },
  {
   "cell_type": "markdown",
   "metadata": {},
   "source": [
    "<a id=\"possible-features\"></a>\n",
    "#### Possible improvement: Create features related to time aggregation (e.g. statistics for last N days)\n",
    "\n",
    "Goal: from ts -> create columns with 1s and 0s, indicating whether we should select or not; then filter by 1s in newDF and reuse method `compute_features(df)`.\n",
    "\n",
    "Pseudocode - create column endTime:\n",
    "```\n",
    "if last event of user is submit cancel, `endTime = ts` of last event\n",
    "else `endTime = last ts of all users` (user is still active, hence the \"present\" is the latest time)\n",
    "```\n",
    "use: \n",
    "```\n",
    "ts_n_days = n_days * 24 * 60 * 60 * 1000\n",
    "```\n",
    "\n",
    "create column useLog: \n",
    "```\n",
    "if ts > (endTime - ts_n_days), then 1 # we select this recent event\n",
    "otherwise 0 # don't select it\n",
    "```\n",
    "Compute features related to time aggregation (using `compute_features`) and passing as input recent rows \n",
    "```\n",
    "df_recent = df.where(col('useLog')==1)\n",
    "df_features_recent = compute_features(df_recent)\n",
    "```\n",
    "There may be users who don't have any recent action. We need to keep them and put zeros in agregations.\n",
    "```\n",
    "df_all_ids = df.select('userId').toPandas()\n",
    "df_all_ids = df_all_ids.values.squeeze().tolist()\n",
    "\n",
    "df_recent_ids = df_recent.select('userId').toPandas()\n",
    "df_recent_ids = df_recent_ids.values.squeeze().tolist()\n",
    "\n",
    "not_in_df_recent_ids = np.setdiff1d(df_all_ids, df_recent_ids).tolist()\n",
    "vals = []\n",
    "for id in not_in_df_recent_ids:\n",
    "    row = []\n",
    "    for c in df_features_recent.columns:\n",
    "        if c=='userId':\n",
    "            row.append(id)\n",
    "        else:\n",
    "            row.append(0)\n",
    "    vals.append(row)\n",
    "\n",
    "zeros_df = spark.createDataFrame(vals, df_features_recent.columns)\n",
    "df_features_recent = df_features_recent.union(zeros_df).drop('isMale','accountLifeTime')\n",
    "```\n",
    "Columns related to recent events have prefix 'recent_':\n",
    "```\n",
    "cols = df_features_recent.columns\n",
    "for c in cols:\n",
    "    df_features_recent = df_features_recent.withColumnRenamed(c, 'recent_'+c)\n",
    "```\n",
    "Create final df with features from time aggregation and other (all calculated previously and recent ones):\n",
    "```\n",
    "final_df_features = df_features.join(df_features_recent, on='userId')\n",
    "```\n"
   ]
  }
 ],
 "metadata": {
  "kernelspec": {
   "display_name": "Spark",
   "language": "python",
   "name": "spark"
  },
  "language_info": {
   "codemirror_mode": {
    "name": "ipython",
    "version": 3
   },
   "file_extension": ".py",
   "mimetype": "text/x-python",
   "name": "python",
   "nbconvert_exporter": "python",
   "pygments_lexer": "ipython3",
   "version": "3.7.7"
  }
 },
 "nbformat": 4,
 "nbformat_minor": 4
}
