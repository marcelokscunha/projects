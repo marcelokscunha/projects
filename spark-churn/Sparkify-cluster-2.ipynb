{
 "cells": [
  {
   "cell_type": "code",
   "execution_count": 1,
   "metadata": {},
   "outputs": [
    {
     "data": {
      "application/vnd.jupyter.widget-view+json": {
       "model_id": "76f89261c0cc47ac94d6e701b8b14482",
       "version_major": 2,
       "version_minor": 0
      },
      "text/plain": [
       "VBox()"
      ]
     },
     "metadata": {},
     "output_type": "display_data"
    },
    {
     "name": "stdout",
     "output_type": "stream",
     "text": [
      "Starting Spark application\n"
     ]
    },
    {
     "data": {
      "text/html": [
       "<table>\n",
       "<tr><th>ID</th><th>YARN Application ID</th><th>Kind</th><th>State</th><th>Spark UI</th><th>Driver log</th><th>Current session?</th></tr><tr><td>5</td><td>application_1593654202360_0006</td><td>pyspark</td><td>idle</td><td><a target=\"_blank\" href=\"http://ip-172-31-79-248.ec2.internal:20888/proxy/application_1593654202360_0006/\">Link</a></td><td><a target=\"_blank\" href=\"http://ip-172-31-71-74.ec2.internal:8042/node/containerlogs/container_1593654202360_0006_01_000001/livy\">Link</a></td><td>✔</td></tr></table>"
      ],
      "text/plain": [
       "<IPython.core.display.HTML object>"
      ]
     },
     "metadata": {},
     "output_type": "display_data"
    },
    {
     "data": {
      "application/vnd.jupyter.widget-view+json": {
       "model_id": "",
       "version_major": 2,
       "version_minor": 0
      },
      "text/plain": [
       "FloatProgress(value=0.0, bar_style='info', description='Progress:', layout=Layout(height='25px', width='50%'),…"
      ]
     },
     "metadata": {},
     "output_type": "display_data"
    },
    {
     "name": "stdout",
     "output_type": "stream",
     "text": [
      "SparkSession available as 'spark'.\n"
     ]
    },
    {
     "data": {
      "application/vnd.jupyter.widget-view+json": {
       "model_id": "",
       "version_major": 2,
       "version_minor": 0
      },
      "text/plain": [
       "FloatProgress(value=0.0, bar_style='info', description='Progress:', layout=Layout(height='25px', width='50%'),…"
      ]
     },
     "metadata": {},
     "output_type": "display_data"
    },
    {
     "name": "stdout",
     "output_type": "stream",
     "text": [
      "Collecting pandas==1.0.3\n",
      "  Using cached https://files.pythonhosted.org/packages/4a/6a/94b219b8ea0f2d580169e85ed1edc0163743f55aaeca8a44c2e8fc1e344e/pandas-1.0.3-cp37-cp37m-manylinux1_x86_64.whl\n",
      "Requirement already satisfied: pytz>=2017.2 in /usr/local/lib/python3.7/site-packages (from pandas==1.0.3)\n",
      "Requirement already satisfied: numpy>=1.13.3 in /usr/local/lib64/python3.7/site-packages (from pandas==1.0.3)\n",
      "Collecting python-dateutil>=2.6.1 (from pandas==1.0.3)\n",
      "  Using cached https://files.pythonhosted.org/packages/d4/70/d60450c3dd48ef87586924207ae8907090de0b306af2bce5d134d78615cb/python_dateutil-2.8.1-py2.py3-none-any.whl\n",
      "Requirement already satisfied: six>=1.5 in /usr/local/lib/python3.7/site-packages (from python-dateutil>=2.6.1->pandas==1.0.3)\n",
      "Installing collected packages: python-dateutil, pandas\n",
      "Successfully installed pandas-1.0.3 python-dateutil-2.8.1\n",
      "\n",
      "Collecting matplotlib==3.1.3\n",
      "  Using cached https://files.pythonhosted.org/packages/4c/9b/35ab3469fd1509f7636a344940569ebfd33239673fd2318e80b4700a257c/matplotlib-3.1.3-cp37-cp37m-manylinux1_x86_64.whl\n",
      "Requirement already satisfied: python-dateutil>=2.1 in /mnt/tmp/1593701465316-0/lib/python3.7/site-packages (from matplotlib==3.1.3)\n",
      "Collecting pyparsing!=2.0.4,!=2.1.2,!=2.1.6,>=2.0.1 (from matplotlib==3.1.3)\n",
      "  Using cached https://files.pythonhosted.org/packages/8a/bb/488841f56197b13700afd5658fc279a2025a39e22449b7cf29864669b15d/pyparsing-2.4.7-py2.py3-none-any.whl\n",
      "Collecting cycler>=0.10 (from matplotlib==3.1.3)\n",
      "  Using cached https://files.pythonhosted.org/packages/f7/d2/e07d3ebb2bd7af696440ce7e754c59dd546ffe1bbe732c8ab68b9c834e61/cycler-0.10.0-py2.py3-none-any.whl\n",
      "Requirement already satisfied: numpy>=1.11 in /usr/local/lib64/python3.7/site-packages (from matplotlib==3.1.3)\n",
      "Collecting kiwisolver>=1.0.1 (from matplotlib==3.1.3)\n",
      "  Using cached https://files.pythonhosted.org/packages/31/b9/6202dcae729998a0ade30e80ac00f616542ef445b088ec970d407dfd41c0/kiwisolver-1.2.0-cp37-cp37m-manylinux1_x86_64.whl\n",
      "Requirement already satisfied: six>=1.5 in /usr/local/lib/python3.7/site-packages (from python-dateutil>=2.1->matplotlib==3.1.3)\n",
      "Installing collected packages: pyparsing, cycler, kiwisolver, matplotlib\n",
      "Successfully installed cycler-0.10.0 kiwisolver-1.2.0 matplotlib-3.1.3 pyparsing-2.4.7\n",
      "\n",
      "Collecting seaborn==0.10.1\n",
      "  Using cached https://files.pythonhosted.org/packages/c7/e6/54aaaafd0b87f51dfba92ba73da94151aa3bc179e5fe88fc5dfb3038e860/seaborn-0.10.1-py3-none-any.whl\n",
      "Requirement already satisfied: pandas>=0.22.0 in /mnt/tmp/1593701465316-0/lib/python3.7/site-packages (from seaborn==0.10.1)\n",
      "Requirement already satisfied: numpy>=1.13.3 in /usr/local/lib64/python3.7/site-packages (from seaborn==0.10.1)\n",
      "Collecting scipy>=1.0.1 (from seaborn==0.10.1)\n",
      "  Using cached https://files.pythonhosted.org/packages/6e/be/e95216d3bbac5d5c3a4bb0b44817b7808cea4c66e6b05cdff93d7a616fc4/scipy-1.5.0-cp37-cp37m-manylinux1_x86_64.whl\n",
      "Requirement already satisfied: matplotlib>=2.1.2 in /mnt/tmp/1593701465316-0/lib/python3.7/site-packages (from seaborn==0.10.1)\n",
      "Requirement already satisfied: pytz>=2017.2 in /usr/local/lib/python3.7/site-packages (from pandas>=0.22.0->seaborn==0.10.1)\n",
      "Requirement already satisfied: python-dateutil>=2.6.1 in /mnt/tmp/1593701465316-0/lib/python3.7/site-packages (from pandas>=0.22.0->seaborn==0.10.1)\n",
      "Requirement already satisfied: pyparsing!=2.0.4,!=2.1.2,!=2.1.6,>=2.0.1 in /mnt/tmp/1593701465316-0/lib/python3.7/site-packages (from matplotlib>=2.1.2->seaborn==0.10.1)\n",
      "Requirement already satisfied: cycler>=0.10 in /mnt/tmp/1593701465316-0/lib/python3.7/site-packages (from matplotlib>=2.1.2->seaborn==0.10.1)\n",
      "Requirement already satisfied: kiwisolver>=1.0.1 in /mnt/tmp/1593701465316-0/lib/python3.7/site-packages (from matplotlib>=2.1.2->seaborn==0.10.1)\n",
      "Requirement already satisfied: six>=1.5 in /usr/local/lib/python3.7/site-packages (from python-dateutil>=2.6.1->pandas>=0.22.0->seaborn==0.10.1)\n",
      "Installing collected packages: scipy, seaborn\n",
      "Successfully installed scipy-1.5.0 seaborn-0.10.1"
     ]
    }
   ],
   "source": [
    "# Install pandas on EMR Notebook\n",
    "sc.install_pypi_package(\"pandas==1.0.3\")\n",
    "sc.install_pypi_package(\"matplotlib==3.1.3\")\n",
    "sc.install_pypi_package(\"seaborn==0.10.1\")"
   ]
  },
  {
   "cell_type": "code",
   "execution_count": 2,
   "metadata": {},
   "outputs": [
    {
     "data": {
      "application/vnd.jupyter.widget-view+json": {
       "model_id": "9845b0ef81f34a1c97c9922ca35e480f",
       "version_major": 2,
       "version_minor": 0
      },
      "text/plain": [
       "VBox()"
      ]
     },
     "metadata": {},
     "output_type": "display_data"
    },
    {
     "data": {
      "application/vnd.jupyter.widget-view+json": {
       "model_id": "",
       "version_major": 2,
       "version_minor": 0
      },
      "text/plain": [
       "FloatProgress(value=0.0, bar_style='info', description='Progress:', layout=Layout(height='25px', width='50%'),…"
      ]
     },
     "metadata": {},
     "output_type": "display_data"
    }
   ],
   "source": [
    "# import libraries\n",
    "from pyspark.sql import SparkSession, Window\n",
    "import pyspark.sql.functions as F\n",
    "from  pyspark.sql.functions import col, udf\n",
    "from pyspark.sql.types import IntegerType, FloatType\n",
    "from pyspark.ml.stat import Correlation\n",
    "from pyspark.ml import Pipeline\n",
    "from pyspark.ml.feature import VectorAssembler, StandardScaler\n",
    "from pyspark.ml.evaluation import BinaryClassificationEvaluator, Evaluator\n",
    "from pyspark.ml.classification import RandomForestClassifier, GBTClassifier\n",
    "from pyspark.ml.tuning import CrossValidator, ParamGridBuilder\n",
    "\n",
    "import time\n",
    "from datetime import datetime\n",
    "import numpy as np\n",
    "import pandas as pd\n",
    "import matplotlib.pyplot as plt\n",
    "import seaborn as sns"
   ]
  },
  {
   "cell_type": "markdown",
   "metadata": {},
   "source": [
    "# Modeling\n",
    "We assemble or features with `VectorAssembler` and split the full dataset into train, validation, and test sets with `randomSplit` DF method:"
   ]
  },
  {
   "cell_type": "code",
   "execution_count": 3,
   "metadata": {},
   "outputs": [
    {
     "data": {
      "application/vnd.jupyter.widget-view+json": {
       "model_id": "4dd70f2d08ce458a885d1d3444cd66bd",
       "version_major": 2,
       "version_minor": 0
      },
      "text/plain": [
       "VBox()"
      ]
     },
     "metadata": {},
     "output_type": "display_data"
    },
    {
     "data": {
      "application/vnd.jupyter.widget-view+json": {
       "model_id": "",
       "version_major": 2,
       "version_minor": 0
      },
      "text/plain": [
       "FloatProgress(value=0.0, bar_style='info', description='Progress:', layout=Layout(height='25px', width='50%'),…"
      ]
     },
     "metadata": {},
     "output_type": "display_data"
    },
    {
     "name": "stdout",
     "output_type": "stream",
     "text": [
      "Loading data from s3n://emr-sparkify/processed/2020/7/1/23/16..."
     ]
    }
   ],
   "source": [
    "# Load features from S3 bucket from known last computation\n",
    "s3_path = 's3n://emr-sparkify/processed/2020/7/1/23/16'\n",
    "\n",
    "print(f'Loading data from {s3_path}...')\n",
    "df_features_label = spark.read.csv(s3_path, header=True, inferSchema=True)"
   ]
  },
  {
   "cell_type": "code",
   "execution_count": 4,
   "metadata": {},
   "outputs": [
    {
     "data": {
      "application/vnd.jupyter.widget-view+json": {
       "model_id": "05cb070156c947db98577250e2561fbf",
       "version_major": 2,
       "version_minor": 0
      },
      "text/plain": [
       "VBox()"
      ]
     },
     "metadata": {},
     "output_type": "display_data"
    },
    {
     "data": {
      "application/vnd.jupyter.widget-view+json": {
       "model_id": "",
       "version_major": 2,
       "version_minor": 0
      },
      "text/plain": [
       "FloatProgress(value=0.0, bar_style='info', description='Progress:', layout=Layout(height='25px', width='50%'),…"
      ]
     },
     "metadata": {},
     "output_type": "display_data"
    },
    {
     "name": "stdout",
     "output_type": "stream",
     "text": [
      "DataFrame[distinctArtistsListened: int, distinctSongsListened: int, avgLength: double, isMale: int, avgItemsInSession: double, interactionsPaid: int, interactionsFree: int, statusCount307: int, statusCount404: int, statusCount200: int, About: int, Add Friend: int, Add to Playlist: int, Cancel: int, Cancellation Confirmation: int, Downgrade: int, Error: int, Help: int, Home: int, Login: int, Logout: int, NextSong: int, Register: int, Roll Advert: int, Save Settings: int, Settings: int, Submit Downgrade: int, Submit Registration: int, Submit Upgrade: int, Thumbs Down: int, Thumbs Up: int, Upgrade: int, avgSessionLength: double, location_0: double, location_1: double, location_2: double, location_3: double, location_4: double, location_5: double, location_6: double, location_7: double, location_8: double, location_9: double, location_10: double, location_11: double, location_12: double, location_13: double, location_14: double, location_15: double, location_16: double, location_17: double, location_18: double, location_19: double, location_20: double, location_21: double, location_22: double, location_23: double, location_24: double, location_25: double, location_26: double, location_27: double, location_28: double, location_29: double, location_30: double, location_31: double, location_32: double, location_33: double, location_34: double, location_35: double, location_36: double, location_37: double, location_38: double, location_39: double, location_40: double, location_41: double, location_42: double, location_43: double, location_44: double, location_45: double, location_46: double, location_47: double, location_48: double, location_49: double, location_50: double, location_51: double, location_52: double, location_53: double, location_54: double, location_55: double, location_56: double, location_57: double, location_58: double, location_59: double, location_60: double, location_61: double, location_62: double, location_63: double, location_64: double, location_65: double, location_66: double, location_67: double, location_68: double, location_69: double, location_70: double, location_71: double, location_72: double, location_73: double, location_74: double, location_75: double, location_76: double, location_77: double, location_78: double, location_79: double, location_80: double, location_81: double, location_82: double, location_83: double, location_84: double, location_85: double, location_86: double, location_87: double, location_88: double, location_89: double, location_90: double, location_91: double, location_92: double, location_93: double, location_94: double, location_95: double, location_96: double, location_97: double, location_98: double, location_99: double, location_100: double, location_101: double, location_102: double, location_103: double, location_104: double, location_105: double, location_106: double, location_107: double, location_108: double, location_109: double, location_110: double, location_111: double, location_112: double, location_113: double, location_114: double, location_115: double, location_116: double, location_117: double, location_118: double, location_119: double, location_120: double, location_121: double, location_122: double, location_123: double, location_124: double, location_125: double, location_126: double, location_127: double, location_128: double, location_129: double, location_130: double, location_131: double, location_132: double, location_133: double, location_134: double, location_135: double, location_136: double, location_137: double, location_138: double, location_139: double, location_140: double, location_141: double, location_142: double, location_143: double, location_144: double, location_145: double, location_146: double, location_147: double, location_148: double, location_149: double, location_150: double, location_151: double, location_152: double, location_153: double, location_154: double, location_155: double, location_156: double, location_157: double, location_158: double, location_159: double, location_160: double, location_161: double, location_162: double, location_163: double, location_164: double, location_165: double, location_166: double, location_167: double, location_168: double, location_169: double, location_170: double, location_171: double, location_172: double, location_173: double, location_174: double, location_175: double, location_176: double, location_177: double, location_178: double, location_179: double, location_180: double, location_181: double, location_182: double, location_183: double, location_184: double, location_185: double, location_186: double, location_187: double, location_188: double, location_189: double, location_190: double, location_191: double, location_192: double, location_193: double, location_194: double, location_195: double, location_196: double, location_197: double, location_198: double, location_199: double, location_200: double, location_201: double, location_202: double, location_203: double, location_204: double, location_205: double, location_206: double, location_207: double, location_208: double, location_209: double, location_210: double, location_211: double, location_212: double, location_213: double, location_214: double, location_215: double, location_216: double, location_217: double, location_218: double, location_219: double, location_220: double, location_221: double, location_222: double, location_223: double, location_224: double, location_225: double, location_226: double, location_227: double, location_228: double, location_229: double, location_230: double, location_231: double, location_232: double, location_233: double, location_234: double, location_235: double, location_236: double, location_237: double, location_238: double, location_239: double, location_240: double, location_241: double, location_242: double, location_243: double, location_244: double, location_245: double, location_246: double, location_247: double, location_248: double, location_249: double, location_250: double, location_251: double, location_252: double, location_253: double, location_254: double, location_255: double, location_256: double, location_257: double, location_258: double, location_259: double, location_260: double, location_261: double, location_262: double, location_263: double, location_264: double, location_265: double, location_266: double, location_267: double, location_268: double, location_269: double, location_270: double, location_271: double, location_272: double, location_273: double, location_274: double, location_275: double, location_276: double, location_277: double, location_278: double, location_279: double, location_280: double, location_281: double, location_282: double, location_283: double, location_284: double, location_285: double, location_286: double, location_287: double, location_288: double, location_289: double, location_290: double, location_291: double, location_292: double, location_293: double, location_294: double, location_295: double, location_296: double, location_297: double, location_298: double, location_299: double, location_300: double, location_301: double, location_302: double, location_303: double, location_304: double, location_305: double, location_306: double, location_307: double, location_308: double, location_309: double, location_310: double, location_311: double, location_312: double, location_313: double, location_314: double, location_315: double, location_316: double, location_317: double, location_318: double, location_319: double, location_320: double, location_321: double, location_322: double, location_323: double, location_324: double, location_325: double, location_326: double, location_327: double, location_328: double, location_329: double, location_330: double, location_331: double, location_332: double, location_333: double, location_334: double, location_335: double, location_336: double, location_337: double, location_338: double, location_339: double, location_340: double, location_341: double, location_342: double, location_343: double, location_344: double, location_345: double, location_346: double, location_347: double, location_348: double, location_349: double, location_350: double, location_351: double, location_352: double, location_353: double, location_354: double, location_355: double, location_356: double, location_357: double, location_358: double, location_359: double, location_360: double, location_361: double, location_362: double, location_363: double, location_364: double, location_365: double, location_366: double, location_367: double, location_368: double, location_369: double, location_370: double, location_371: double, location_372: double, location_373: double, location_374: double, location_375: double, location_376: double, location_377: double, location_378: double, location_379: double, location_380: double, location_381: double, location_382: double, location_383: double, location_384: double, location_385: double, location_386: double, location_387: double, location_388: double, location_389: double, location_390: double, location_391: double, location_392: double, location_393: double, location_394: double, location_395: double, location_396: double, location_397: double, location_398: double, location_399: double, location_400: double, location_401: double, location_402: double, location_403: double, location_404: double, location_405: double, location_406: double, location_407: double, location_408: double, location_409: double, location_410: double, location_411: double, location_412: double, location_413: double, location_414: double, location_415: double, location_416: double, location_417: double, location_418: double, location_419: double, location_420: double, location_421: double, location_422: double, location_423: double, location_424: double, location_425: double, location_426: double, location_427: double, location_428: double, location_429: double, location_430: double, location_431: double, location_432: double, location_433: double, location_434: double, location_435: double, location_436: double, location_437: double, location_438: double, location_439: double, location_440: double, location_441: double, location_442: double, location_443: double, location_444: double, location_445: double, location_446: double, location_447: double, location_448: double, location_449: double, location_450: double, location_451: double, location_452: double, location_453: double, location_454: double, location_455: double, location_456: double, location_457: double, location_458: double, location_459: double, location_460: double, location_461: double, location_462: double, location_463: double, location_464: double, location_465: double, location_466: double, location_467: double, location_468: double, location_469: double, location_470: double, location_471: double, location_472: double, location_473: double, location_474: double, location_475: double, location_476: double, location_477: double, location_478: double, location_479: double, location_480: double, location_481: double, location_482: double, location_483: double, location_484: double, location_485: double, location_486: double, location_487: double, location_488: double, location_489: double, location_490: double, location_491: double, location_492: double, location_493: double, location_494: double, location_495: double, location_496: double, location_497: double, location_498: double, location_499: double, location_500: double, location_501: double, location_502: double, location_503: double, location_504: double, location_505: double, location_506: double, location_507: double, location_508: double, location_509: double, location_510: double, location_511: double, location_512: double, location_513: double, location_514: double, location_515: double, location_516: double, location_517: double, location_518: double, location_519: double, location_520: double, location_521: double, location_522: double, location_523: double, location_524: double, location_525: double, location_526: double, location_527: double, location_528: double, location_529: double, location_530: double, location_531: double, location_532: double, location_533: double, location_534: double, location_535: double, location_536: double, location_537: double, location_538: double, location_539: double, location_540: double, location_541: double, location_542: double, location_543: double, location_544: double, location_545: double, location_546: double, location_547: double, location_548: double, location_549: double, location_550: double, location_551: double, location_552: double, location_553: double, location_554: double, location_555: double, location_556: double, location_557: double, location_558: double, location_559: double, location_560: double, location_561: double, location_562: double, location_563: double, location_564: double, location_565: double, location_566: double, location_567: double, location_568: double, location_569: double, location_570: double, location_571: double, location_572: double, location_573: double, location_574: double, location_575: double, location_576: double, location_577: double, location_578: double, location_579: double, location_580: double, location_581: double, location_582: double, location_583: double, location_584: double, location_585: double, location_586: double, location_587: double, location_588: double, location_589: double, location_590: double, location_591: double, location_592: double, location_593: double, location_594: double, location_595: double, location_596: double, location_597: double, location_598: double, location_599: double, location_600: double, location_601: double, location_602: double, location_603: double, location_604: double, location_605: double, location_606: double, location_607: double, location_608: double, location_609: double, location_610: double, location_611: double, location_612: double, location_613: double, location_614: double, location_615: double, location_616: double, location_617: double, location_618: double, location_619: double, location_620: double, location_621: double, location_622: double, location_623: double, location_624: double, location_625: double, location_626: double, location_627: double, location_628: double, location_629: double, location_630: double, location_631: double, location_632: double, location_633: double, location_634: double, location_635: double, location_636: double, location_637: double, location_638: double, location_639: double, location_640: double, location_641: double, location_642: double, location_643: double, location_644: double, location_645: double, location_646: double, location_647: double, location_648: double, location_649: double, location_650: double, location_651: double, location_652: double, location_653: double, location_654: double, location_655: double, location_656: double, location_657: double, location_658: double, location_659: double, location_660: double, location_661: double, location_662: double, location_663: double, location_664: double, location_665: double, location_666: double, location_667: double, location_668: double, location_669: double, location_670: double, location_671: double, location_672: double, location_673: double, location_674: double, location_675: double, location_676: double, location_677: double, location_678: double, location_679: double, location_680: double, location_681: double, location_682: double, location_683: double, location_684: double, location_685: double, location_686: double, location_687: double, location_688: double, location_689: double, location_690: double, location_691: double, location_692: double, location_693: double, location_694: double, location_695: double, location_696: double, location_697: double, location_698: double, location_699: double, location_700: double, location_701: double, location_702: double, location_703: double, location_704: double, location_705: double, location_706: double, location_707: double, location_708: double, location_709: double, location_710: double, location_711: double, location_712: double, location_713: double, location_714: double, location_715: double, location_716: double, location_717: double, location_718: double, location_719: double, location_720: double, location_721: double, location_722: double, location_723: double, location_724: double, location_725: double, location_726: double, location_727: double, location_728: double, location_729: double, location_730: double, location_731: double, location_732: double, location_733: double, location_734: double, location_735: double, location_736: double, location_737: double, location_738: double, location_739: double, location_740: double, location_741: double, location_742: double, location_743: double, location_744: double, location_745: double, location_746: double, location_747: double, location_748: double, location_749: double, location_750: double, location_751: double, location_752: double, location_753: double, location_754: double, location_755: double, location_756: double, location_757: double, location_758: double, location_759: double, location_760: double, location_761: double, location_762: double, location_763: double, location_764: double, location_765: double, location_766: double, location_767: double, location_768: double, location_769: double, location_770: double, location_771: double, location_772: double, location_773: double, location_774: double, location_775: double, location_776: double, location_777: double, location_778: double, location_779: double, location_780: double, location_781: double, location_782: double, location_783: double, location_784: double, location_785: double, location_786: double, location_787: double, location_788: double, location_789: double, location_790: double, location_791: double, location_792: double, location_793: double, location_794: double, location_795: double, location_796: double, location_797: double, location_798: double, location_799: double, location_800: double, location_801: double, location_802: double, location_803: double, location_804: double, location_805: double, location_806: double, location_807: double, location_808: double, location_809: double, location_810: double, location_811: double, location_812: double, location_813: double, location_814: double, location_815: double, location_816: double, location_817: double, location_818: double, location_819: double, location_820: double, location_821: double, location_822: double, location_823: double, location_824: double, location_825: double, location_826: double, location_827: double, location_828: double, location_829: double, location_830: double, location_831: double, location_832: double, location_833: double, location_834: double, location_835: double, location_836: double, location_837: double, location_838: double, location_839: double, location_840: double, location_841: double, location_842: double, location_843: double, location_844: double, location_845: double, location_846: double, location_847: double, location_848: double, location_849: double, location_850: double, location_851: double, location_852: double, location_853: double, location_854: double, location_855: double, location_856: double, location_857: double, location_858: double, location_859: double, location_860: double, location_861: double, location_862: double, location_863: double, location_864: double, location_865: double, location_866: double, location_867: double, location_868: double, location_869: double, location_870: double, location_871: double, location_872: double, location_873: double, location_874: double, location_875: double, location_876: double, location_877: double, location_878: double, location_879: double, location_880: double, location_881: double, location_882: double, location_883: double, location_884: double, location_885: double, location_886: double, sys_agent_0: double, sys_agent_1: double, sys_agent_2: double, sys_agent_3: double, sys_agent_4: double, sys_agent_5: double, sys_agent_6: double, sys_agent_7: double, sys_agent_8: double, sys_agent_9: double, sys_agent_10: double, sys_agent_11: double, sys_agent_12: double, sys_agent_13: double, sys_agent_14: double, sys_agent_15: double, sys_agent_16: double, sys_agent_17: double, sys_agent_18: double, sys_agent_19: double, sys_agent_20: double, sys_agent_21: double, sys_agent_22: double, sys_agent_23: double, sys_agent_24: double, sys_agent_25: double, sys_agent_26: double, sys_agent_27: double, sys_agent_28: double, sys_agent_29: double, sys_agent_30: double, sys_agent_31: double, sys_agent_32: double, sys_agent_33: double, sys_agent_34: double, sys_agent_35: double, sys_agent_36: double, sys_agent_37: double, sys_agent_38: double, sys_agent_39: double, sys_agent_40: double, sys_agent_41: double, sys_agent_42: double, sys_agent_43: double, sys_agent_44: double, sys_agent_45: double, plat_agent_0: double, plat_agent_1: double, plat_agent_2: double, plat_agent_3: double, plat_agent_4: double, plat_agent_5: double, plat_agent_6: double, plat_agent_7: double, plat_agent_8: double, plat_agent_9: double, plat_agent_10: double, plat_agent_11: double, plat_agent_12: double, plat_agent_13: double, plat_agent_14: double, plat_agent_15: double, plat_agent_16: double, plat_agent_17: double, plat_agent_18: double, plat_agent_19: double, plat_agent_20: double, plat_agent_21: double, plat_agent_22: double, plat_agent_23: double, plat_agent_24: double, plat_agent_25: double, plat_agent_26: double, plat_agent_27: double, plat_agent_28: double, plat_agent_29: double, plat_agent_30: double, accountLifeTime: int, label: int]"
     ]
    }
   ],
   "source": [
    "# Persist features dataframe\n",
    "df_features_label.persist()"
   ]
  },
  {
   "cell_type": "code",
   "execution_count": 5,
   "metadata": {},
   "outputs": [
    {
     "data": {
      "application/vnd.jupyter.widget-view+json": {
       "model_id": "9b3ed3e5970b4e629231ef0892f0176b",
       "version_major": 2,
       "version_minor": 0
      },
      "text/plain": [
       "VBox()"
      ]
     },
     "metadata": {},
     "output_type": "display_data"
    },
    {
     "data": {
      "application/vnd.jupyter.widget-view+json": {
       "model_id": "",
       "version_major": 2,
       "version_minor": 0
      },
      "text/plain": [
       "FloatProgress(value=0.0, bar_style='info', description='Progress:', layout=Layout(height='25px', width='50%'),…"
      ]
     },
     "metadata": {},
     "output_type": "display_data"
    },
    {
     "name": "stdout",
     "output_type": "stream",
     "text": [
      "998"
     ]
    }
   ],
   "source": [
    "num_cols = df_features_label.columns\n",
    "num_cols.remove('isMale')\n",
    "len(num_cols) # Should be 999-1=998 "
   ]
  },
  {
   "cell_type": "code",
   "execution_count": 6,
   "metadata": {},
   "outputs": [
    {
     "data": {
      "application/vnd.jupyter.widget-view+json": {
       "model_id": "7a4c0ac7482f4c80a05df64214b17edd",
       "version_major": 2,
       "version_minor": 0
      },
      "text/plain": [
       "VBox()"
      ]
     },
     "metadata": {},
     "output_type": "display_data"
    },
    {
     "data": {
      "application/vnd.jupyter.widget-view+json": {
       "model_id": "",
       "version_major": 2,
       "version_minor": 0
      },
      "text/plain": [
       "FloatProgress(value=0.0, bar_style='info', description='Progress:', layout=Layout(height='25px', width='50%'),…"
      ]
     },
     "metadata": {},
     "output_type": "display_data"
    }
   ],
   "source": [
    "# After feature calculations the only categorical variable is \"isMale\", related to gender. All the others are numeric:\n",
    "num_assembler = VectorAssembler(inputCols = num_cols, outputCol = \"numVector\")\n",
    "\n",
    "# Scale numeric features\n",
    "scaler = StandardScaler(inputCol = \"numVector\", outputCol = \"numScaled\", withStd = True, withMean = True)\n",
    "\n",
    "# Add categorical variable \"isMale\":\n",
    "total_assembler = VectorAssembler(inputCols = ['isMale', 'numScaled'], outputCol = 'features')"
   ]
  },
  {
   "cell_type": "code",
   "execution_count": 7,
   "metadata": {},
   "outputs": [
    {
     "data": {
      "application/vnd.jupyter.widget-view+json": {
       "model_id": "ac8dc9c4f9dc464984ca88b4a476a1ae",
       "version_major": 2,
       "version_minor": 0
      },
      "text/plain": [
       "VBox()"
      ]
     },
     "metadata": {},
     "output_type": "display_data"
    },
    {
     "data": {
      "application/vnd.jupyter.widget-view+json": {
       "model_id": "",
       "version_major": 2,
       "version_minor": 0
      },
      "text/plain": [
       "FloatProgress(value=0.0, bar_style='info', description='Progress:', layout=Layout(height='25px', width='50%'),…"
      ]
     },
     "metadata": {},
     "output_type": "display_data"
    }
   ],
   "source": [
    "# Split dataset\n",
    "train_val_dataset, test_dataset = df_features_label.randomSplit([0.8, 0.2], seed = 0)"
   ]
  },
  {
   "cell_type": "code",
   "execution_count": 8,
   "metadata": {},
   "outputs": [
    {
     "data": {
      "application/vnd.jupyter.widget-view+json": {
       "model_id": "cefa8e1d75204bf8806f88da77375efe",
       "version_major": 2,
       "version_minor": 0
      },
      "text/plain": [
       "VBox()"
      ]
     },
     "metadata": {},
     "output_type": "display_data"
    },
    {
     "data": {
      "application/vnd.jupyter.widget-view+json": {
       "model_id": "",
       "version_major": 2,
       "version_minor": 0
      },
      "text/plain": [
       "FloatProgress(value=0.0, bar_style='info', description='Progress:', layout=Layout(height='25px', width='50%'),…"
      ]
     },
     "metadata": {},
     "output_type": "display_data"
    },
    {
     "name": "stdout",
     "output_type": "stream",
     "text": [
      "Number of train+validation dataset examples (should be 80%): 17852\n",
      "Number of test dataset examples (should be 20%): 4426\n",
      "Total number of dataset examples: 22278"
     ]
    }
   ],
   "source": [
    "print('Number of train+validation dataset examples (should be 80%):', train_val_dataset.count())\n",
    "print('Number of test dataset examples (should be 20%):', test_dataset.count())\n",
    "print('Total number of dataset examples:', df_features_label.count())"
   ]
  },
  {
   "cell_type": "markdown",
   "metadata": {},
   "source": [
    "##### A few observations\n",
    "Although we'll be using tree-based ensemble methods, we will standardize the values. If we want to try other models that are sensible to the scale of features, we won't have problems with that.\n",
    "\n",
    "In addition, the feature selection with those ensemble models can be easier (in our case with 204 features), since the models have the special characteristics of <a href=\"https://machinelearningmastery.com/feature-selection-with-real-and-categorical-data/\">filter, wrapper methods and built-in feature selection</a>. We could also apply some feature selection technique (e.g. performing some correlation analysis, recurrent feature selection, etc.)"
   ]
  },
  {
   "cell_type": "markdown",
   "metadata": {},
   "source": [
    "We create our custom evaluator for F1 score metric (which isn't available in Spark 2.4.6):"
   ]
  },
  {
   "cell_type": "code",
   "execution_count": 9,
   "metadata": {},
   "outputs": [
    {
     "data": {
      "application/vnd.jupyter.widget-view+json": {
       "model_id": "c9433c83cb3b44329ef4cc4dbf1c8ee8",
       "version_major": 2,
       "version_minor": 0
      },
      "text/plain": [
       "VBox()"
      ]
     },
     "metadata": {},
     "output_type": "display_data"
    },
    {
     "data": {
      "application/vnd.jupyter.widget-view+json": {
       "model_id": "",
       "version_major": 2,
       "version_minor": 0
      },
      "text/plain": [
       "FloatProgress(value=0.0, bar_style='info', description='Progress:', layout=Layout(height='25px', width='50%'),…"
      ]
     },
     "metadata": {},
     "output_type": "display_data"
    }
   ],
   "source": [
    "# Since in PySpark 2.4.6 (version we are using) there's no F1 score metric in BinaryClassificationEvaluator, we create our own evaluator\n",
    "class F1Evaluator(Evaluator):\n",
    "\n",
    "    def __init__(self, predictionCol = \"prediction\", labelCol=\"label\"):\n",
    "        self.predictionCol = predictionCol\n",
    "        self.labelCol = labelCol\n",
    "\n",
    "    def _evaluate(self, dataset):\n",
    "        \n",
    "        # Calculate F1 score \n",
    "        tp = dataset.where((dataset.label == 1) & (dataset.prediction == 1)).count()\n",
    "        tn = dataset.where((dataset.label == 0) & (dataset.prediction == 0)).count()\n",
    "        fp = dataset.where((dataset.label == 0) & (dataset.prediction == 1)).count()\n",
    "        fn = dataset.where((dataset.label == 1) & (dataset.prediction == 0)).count()\n",
    "        \n",
    "        # Add epsilon avoid division by zero errors\n",
    "        eps = 1e-6\n",
    "        precision = tp / float(tp + fp + eps)\n",
    "        recall = tp / float(tp + fn + eps)\n",
    "        \n",
    "        f1 = 2 * precision * recall / float(precision + recall + 0.00001)\n",
    "        \n",
    "        return f1\n",
    "\n",
    "    def isLargerBetter(self):\n",
    "        return True"
   ]
  },
  {
   "cell_type": "markdown",
   "metadata": {},
   "source": [
    "We create 2 pipelines: one for RandomForestClassifier and other for GBTClassifier."
   ]
  },
  {
   "cell_type": "code",
   "execution_count": 10,
   "metadata": {},
   "outputs": [
    {
     "data": {
      "application/vnd.jupyter.widget-view+json": {
       "model_id": "af30ff2c21644e21a36d473ff09fb35a",
       "version_major": 2,
       "version_minor": 0
      },
      "text/plain": [
       "VBox()"
      ]
     },
     "metadata": {},
     "output_type": "display_data"
    },
    {
     "data": {
      "application/vnd.jupyter.widget-view+json": {
       "model_id": "",
       "version_major": 2,
       "version_minor": 0
      },
      "text/plain": [
       "FloatProgress(value=0.0, bar_style='info', description='Progress:', layout=Layout(height='25px', width='50%'),…"
      ]
     },
     "metadata": {},
     "output_type": "display_data"
    },
    {
     "name": "stdout",
     "output_type": "stream",
     "text": [
      "spark_master: emr"
     ]
    }
   ],
   "source": [
    "# set variable to run in EMR\n",
    "spark_master = 'emr'\n",
    "print('spark_master:', spark_master)"
   ]
  },
  {
   "cell_type": "code",
   "execution_count": 11,
   "metadata": {},
   "outputs": [
    {
     "data": {
      "application/vnd.jupyter.widget-view+json": {
       "model_id": "32eca908b6184561bf3b31b5cc17ae68",
       "version_major": 2,
       "version_minor": 0
      },
      "text/plain": [
       "VBox()"
      ]
     },
     "metadata": {},
     "output_type": "display_data"
    },
    {
     "data": {
      "application/vnd.jupyter.widget-view+json": {
       "model_id": "",
       "version_major": 2,
       "version_minor": 0
      },
      "text/plain": [
       "FloatProgress(value=0.0, bar_style='info', description='Progress:', layout=Layout(height='25px', width='50%'),…"
      ]
     },
     "metadata": {},
     "output_type": "display_data"
    }
   ],
   "source": [
    "def train_pipeline(model_type, dataset):    \n",
    "    '''\n",
    "    Creates and trains pipeline doing Cross Validation.\n",
    "    Only supports RandomForestClassifier and GBTClassifier.\n",
    "    \n",
    "    Parameters\n",
    "    ----------\n",
    "    model_type: 'rf' or 'gb'. Strings for RandomForestClassifier and GBTClassifier, respectively.\n",
    "    dataset: Spark dataframe with features\n",
    "    \n",
    "    Output\n",
    "    ------\n",
    "    cv_model: trained model after cross validation\n",
    "    param_grid: param_grid used to train with grid search\n",
    "    '''\n",
    "    \n",
    "    if model_type=='rf':\n",
    "        model = RandomForestClassifier()\n",
    "    else:\n",
    "        model = GBTClassifier()\n",
    "    \n",
    "    print('Selected', model.__class__.__name__, 'model')\n",
    "    pipeline = Pipeline(stages = [num_assembler, scaler, total_assembler, model])\n",
    "\n",
    "    # We create a grid of parameters to search over with ParamGridBuilder\n",
    "    # If cluster mode: This grid will have 2 x 2 * 2 = 8 parameter settings for CrossValidator to choose from.\n",
    "    # If local model: This grid will have 1 x 1 * 1 = 1 parameter settings for CrossValidator to choose from.\n",
    "\n",
    "    if spark_master=='local':\n",
    "        print('Training locally...')\n",
    "        num_folds=2\n",
    "        if model_type=='rf':\n",
    "            param_grid = ParamGridBuilder()\\\n",
    "                .addGrid(\n",
    "                    model.numTrees, [10]\n",
    "                ).addGrid(\n",
    "                    model.maxBins, [16]\n",
    "                ).addGrid(\n",
    "                    model.maxDepth, [3]\n",
    "                ).build()\n",
    "        else:\n",
    "            param_grid = ParamGridBuilder()\\\n",
    "                .addGrid(\n",
    "                    model.maxIter, [10]\n",
    "                ).addGrid(\n",
    "                    model.stepSize, [0.3]\n",
    "                ).addGrid(\n",
    "                    model.maxDepth, [3]\n",
    "                ).build()\n",
    "    else:\n",
    "        print('Training in cluster...')\n",
    "        num_folds=3\n",
    "        if model_type=='rf':\n",
    "            param_grid = ParamGridBuilder()\\\n",
    "                .addGrid(\n",
    "                    model.numTrees, [20, 30]\n",
    "                ).addGrid(\n",
    "                    model.maxBins, [16, 32]\n",
    "                ).addGrid(\n",
    "                    model.maxDepth, [3, 5]\n",
    "                ).build()\n",
    "        else:\n",
    "            param_grid = ParamGridBuilder()\\\n",
    "                .addGrid(\n",
    "                    model.maxIter, [150, 300]\n",
    "                ).addGrid(\n",
    "                    model.stepSize, [0.1,0.3]\n",
    "                ).addGrid(\n",
    "                    model.maxDepth, [3, 5]\n",
    "                ).build()\n",
    "\n",
    "    # We wrap the pipeline in CrossValidator instance and use our F1Evaluator\n",
    "    cv = CrossValidator(estimator=pipeline, estimatorParamMaps=param_grid, evaluator=F1Evaluator(), numFolds=num_folds)\n",
    "\n",
    "    # Run cross-validation, and choose the best set of parameters.\n",
    "    print('Training', model.__class__.__name__,'...')\n",
    "    cv_model = cv.fit(dataset)\n",
    "    \n",
    "    return cv_model, param_grid"
   ]
  },
  {
   "cell_type": "markdown",
   "metadata": {},
   "source": [
    "We train using the the F1 score as evaluator of the Random Forest and Gradient-Boosted Trees models, tuning parameters as necessary with cross validation and pipelines with grid search. "
   ]
  },
  {
   "cell_type": "code",
   "execution_count": 11,
   "metadata": {},
   "outputs": [
    {
     "data": {
      "application/vnd.jupyter.widget-view+json": {
       "model_id": "bbd8aa24e8504d6980d37c0645e25634",
       "version_major": 2,
       "version_minor": 0
      },
      "text/plain": [
       "VBox()"
      ]
     },
     "metadata": {},
     "output_type": "display_data"
    },
    {
     "data": {
      "application/vnd.jupyter.widget-view+json": {
       "model_id": "",
       "version_major": 2,
       "version_minor": 0
      },
      "text/plain": [
       "FloatProgress(value=0.0, bar_style='info', description='Progress:', layout=Layout(height='25px', width='50%'),…"
      ]
     },
     "metadata": {},
     "output_type": "display_data"
    },
    {
     "name": "stdout",
     "output_type": "stream",
     "text": [
      "Selected RandomForestClassifier model\n",
      "Training in cluster...\n",
      "Training RandomForestClassifier ...\n",
      "Spent 370.79298877716064s for training RandomForestClassifier"
     ]
    }
   ],
   "source": [
    "# Train Random Forest model\n",
    "start = time.time()\n",
    "trained_rf, param_grid_rf = train_pipeline('rf', train_val_dataset)\n",
    "end = time.time()\n",
    "print(f'Spent {end-start}s for training RandomForestClassifier')"
   ]
  },
  {
   "cell_type": "code",
   "execution_count": 12,
   "metadata": {},
   "outputs": [
    {
     "data": {
      "application/vnd.jupyter.widget-view+json": {
       "model_id": "93fcbcbb48b34d2d8167089286e13421",
       "version_major": 2,
       "version_minor": 0
      },
      "text/plain": [
       "VBox()"
      ]
     },
     "metadata": {},
     "output_type": "display_data"
    },
    {
     "data": {
      "application/vnd.jupyter.widget-view+json": {
       "model_id": "",
       "version_major": 2,
       "version_minor": 0
      },
      "text/plain": [
       "FloatProgress(value=0.0, bar_style='info', description='Progress:', layout=Layout(height='25px', width='50%'),…"
      ]
     },
     "metadata": {},
     "output_type": "display_data"
    },
    {
     "name": "stdout",
     "output_type": "stream",
     "text": [
      "Saving model in s3n://emr-sparkify/models/RandomForestClassificationModel/2020/7/2/0/..."
     ]
    }
   ],
   "source": [
    "# Save Random Forest model in S3\n",
    "now = datetime.now()\n",
    "s3_path = f's3n://emr-sparkify/models/{trained_rf.bestModel.stages[-1].__class__.__name__}/{now.year}/{now.month}/{now.day}/{now.hour}/'\n",
    "print(f'Saving model in {s3_path}...')\n",
    "\n",
    "trained_rf.bestModel.write().overwrite().save(s3_path)"
   ]
  },
  {
   "cell_type": "code",
   "execution_count": 12,
   "metadata": {},
   "outputs": [
    {
     "data": {
      "application/vnd.jupyter.widget-view+json": {
       "model_id": "4fa18620498d4c219fddeceee7ecdbad",
       "version_major": 2,
       "version_minor": 0
      },
      "text/plain": [
       "VBox()"
      ]
     },
     "metadata": {},
     "output_type": "display_data"
    },
    {
     "data": {
      "application/vnd.jupyter.widget-view+json": {
       "model_id": "",
       "version_major": 2,
       "version_minor": 0
      },
      "text/plain": [
       "FloatProgress(value=0.0, bar_style='info', description='Progress:', layout=Layout(height='25px', width='50%'),…"
      ]
     },
     "metadata": {},
     "output_type": "display_data"
    }
   ],
   "source": [
    "# # Train Gradient-Boosted Trees model\n",
    "# start = time.time()\n",
    "# trained_gb, param_grid_gb = train_pipeline('gb', train_val_dataset)\n",
    "# end = time.time()\n",
    "# print(f'Spent {end-start}s for training GBTClassifier')"
   ]
  },
  {
   "cell_type": "code",
   "execution_count": 13,
   "metadata": {},
   "outputs": [
    {
     "data": {
      "application/vnd.jupyter.widget-view+json": {
       "model_id": "7b4fe86abcf74c03a99fe0d2bd6d1412",
       "version_major": 2,
       "version_minor": 0
      },
      "text/plain": [
       "VBox()"
      ]
     },
     "metadata": {},
     "output_type": "display_data"
    },
    {
     "data": {
      "application/vnd.jupyter.widget-view+json": {
       "model_id": "",
       "version_major": 2,
       "version_minor": 0
      },
      "text/plain": [
       "FloatProgress(value=0.0, bar_style='info', description='Progress:', layout=Layout(height='25px', width='50%'),…"
      ]
     },
     "metadata": {},
     "output_type": "display_data"
    }
   ],
   "source": [
    "# # Save Gradient-Boosted Trees model\n",
    "# now = datetime.now()\n",
    "# s3_path = f's3n://emr-sparkify/models/{trained_gb.bestModel.stages[-1].__class__.__name__}/{now.year}/{now.month}/{now.day}/{now.hour}/'\n",
    "# print(f'Saving model in {s3_path}...')\n",
    "\n",
    "# trained_gb.bestModel.write().overwrite().save(s3_path)"
   ]
  },
  {
   "cell_type": "markdown",
   "metadata": {},
   "source": [
    "Random Forest is saved in S3, including all stages of the pipeline:\n",
    "![models-s3](./media/models-s3.png)\n",
    "\n",
    "Metadata, metrics, data from training is stored in Parquet format and with Snappy compression:\n",
    "![models-parquet-snappy-s3](./media/models-parquet-snappy-s3.png)\n"
   ]
  },
  {
   "cell_type": "markdown",
   "metadata": {},
   "source": [
    "Training metrics for models:"
   ]
  },
  {
   "cell_type": "code",
   "execution_count": 14,
   "metadata": {},
   "outputs": [
    {
     "data": {
      "application/vnd.jupyter.widget-view+json": {
       "model_id": "e1a3a5cdece64b849f1e5bb449cb04b6",
       "version_major": 2,
       "version_minor": 0
      },
      "text/plain": [
       "VBox()"
      ]
     },
     "metadata": {},
     "output_type": "display_data"
    },
    {
     "data": {
      "application/vnd.jupyter.widget-view+json": {
       "model_id": "",
       "version_major": 2,
       "version_minor": 0
      },
      "text/plain": [
       "FloatProgress(value=0.0, bar_style='info', description='Progress:', layout=Layout(height='25px', width='50%'),…"
      ]
     },
     "metadata": {},
     "output_type": "display_data"
    }
   ],
   "source": [
    "# Load model from S3\n",
    "from pyspark.ml.pipeline import PipelineModel\n",
    "\n",
    "trained_rf = PipelineModel.load('s3n://emr-sparkify/models/RandomForestClassificationModel/2020/7/2/0/')"
   ]
  },
  {
   "cell_type": "code",
   "execution_count": 15,
   "metadata": {},
   "outputs": [
    {
     "data": {
      "application/vnd.jupyter.widget-view+json": {
       "model_id": "da28f654280f457ab5043a5468382dc0",
       "version_major": 2,
       "version_minor": 0
      },
      "text/plain": [
       "VBox()"
      ]
     },
     "metadata": {},
     "output_type": "display_data"
    },
    {
     "data": {
      "application/vnd.jupyter.widget-view+json": {
       "model_id": "",
       "version_major": 2,
       "version_minor": 0
      },
      "text/plain": [
       "FloatProgress(value=0.0, bar_style='info', description='Progress:', layout=Layout(height='25px', width='50%'),…"
      ]
     },
     "metadata": {},
     "output_type": "display_data"
    },
    {
     "name": "stdout",
     "output_type": "stream",
     "text": [
      "Parameters from trained model:\n",
      "numTrees = 30\n",
      "maxBins = 32\n",
      "maxDepth = 5"
     ]
    }
   ],
   "source": [
    "print('Parameters from trained model:')\n",
    "print('numTrees =', trained_rf.stages[-1].getNumTrees)\n",
    "print('maxBins =', trained_rf.stages[-1]._java_obj.getMaxBins())\n",
    "print('maxDepth =',trained_rf.stages[-1]._java_obj.getMaxDepth())"
   ]
  },
  {
   "cell_type": "markdown",
   "metadata": {},
   "source": [
    "Since we are dealing with RandomForest and Gradient-Boosted Trees models, we can take advantage of feature importances that are calculated and provide useful informatio for interpretability:"
   ]
  },
  {
   "cell_type": "code",
   "execution_count": 16,
   "metadata": {},
   "outputs": [
    {
     "data": {
      "application/vnd.jupyter.widget-view+json": {
       "model_id": "c1bef5069a624ec99a67a3413b4ab1ab",
       "version_major": 2,
       "version_minor": 0
      },
      "text/plain": [
       "VBox()"
      ]
     },
     "metadata": {},
     "output_type": "display_data"
    },
    {
     "data": {
      "application/vnd.jupyter.widget-view+json": {
       "model_id": "",
       "version_major": 2,
       "version_minor": 0
      },
      "text/plain": [
       "FloatProgress(value=0.0, bar_style='info', description='Progress:', layout=Layout(height='25px', width='50%'),…"
      ]
     },
     "metadata": {},
     "output_type": "display_data"
    },
    {
     "name": "stdout",
     "output_type": "stream",
     "text": [
      "<Figure size 3000x1500 with 0 Axes>\n",
      "Text(0.5, 1.0, 'Top 20 Feature Importances for RandomForestClassificationModel')\n",
      "(array([0. , 0.2, 0.4, 0.6, 0.8, 1. ]), <a list of 6 Text xticklabel objects>)\n",
      "(array([0. , 0.2, 0.4, 0.6, 0.8, 1. ]), <a list of 6 Text yticklabel objects>)\n",
      "<matplotlib.axes._subplots.AxesSubplot object at 0x7fad9d874b90>"
     ]
    }
   ],
   "source": [
    "# Display feature importances for RF and GBT (there is a \"featureImportances\" attribute for both)\n",
    "col_names = dict(enumerate(['isMale'] + num_cols))\n",
    "\n",
    "for model in [trained_rf]:\n",
    "    importances = model.stages[-1].featureImportances \n",
    "    importances = dict(zip(importances.indices, importances.values))\n",
    "    sorted_importances = {k: v for k, v in sorted(importances.items(), key=lambda item: item[1], reverse=True)}\n",
    "    sorted_importances = {col_names[k]: [v] for k, v in sorted_importances.items() if col_names[k]!='label' }\n",
    "    importances_df = pd.DataFrame(data=sorted_importances)\n",
    "    top_20_importances_df = importances_df.iloc[:,:20]\n",
    "    plt.figure(figsize=(30,15))\n",
    "    plt.title(f'Top 20 Feature Importances for {model.stages[-1].__class__.__name__}', fontsize=30)\n",
    "    plt.xticks(rotation=30, fontsize=18)\n",
    "    plt.yticks(fontsize=18)\n",
    "    sns.barplot(data=top_20_importances_df)"
   ]
  },
  {
   "cell_type": "code",
   "execution_count": 17,
   "metadata": {},
   "outputs": [
    {
     "data": {
      "application/vnd.jupyter.widget-view+json": {
       "model_id": "",
       "version_major": 2,
       "version_minor": 0
      },
      "text/plain": [
       "FloatProgress(value=0.0, bar_style='info', description='Progress:', layout=Layout(height='25px', width='50%'),…"
      ]
     },
     "metadata": {},
     "output_type": "display_data"
    },
    {
     "data": {
      "image/png": "[encoded data removed]",
      "text/plain": [
       "<IPython.core.display.Image object>"
      ]
     },
     "metadata": {},
     "output_type": "display_data"
    }
   ],
   "source": [
    "%matplot plt"
   ]
  },
  {
   "cell_type": "markdown",
   "metadata": {},
   "source": [
    "Interestingly, the models indicate that there are locations where the users has a bigger chance of churning (we could investigate that further if it makes sense due to some external factor). Features related to devices doesn't seem to be relevant as `like Gecko` is not doesn't provide much information (is present in lots of user agent logs)."
   ]
  },
  {
   "cell_type": "markdown",
   "metadata": {},
   "source": [
    "We evaluate our models with the test dataset, for both F1 score and AUC:"
   ]
  },
  {
   "cell_type": "code",
   "execution_count": 18,
   "metadata": {},
   "outputs": [
    {
     "data": {
      "application/vnd.jupyter.widget-view+json": {
       "model_id": "0490059c527a46daacfb948350c7faac",
       "version_major": 2,
       "version_minor": 0
      },
      "text/plain": [
       "VBox()"
      ]
     },
     "metadata": {},
     "output_type": "display_data"
    },
    {
     "data": {
      "application/vnd.jupyter.widget-view+json": {
       "model_id": "",
       "version_major": 2,
       "version_minor": 0
      },
      "text/plain": [
       "FloatProgress(value=0.0, bar_style='info', description='Progress:', layout=Layout(height='25px', width='50%'),…"
      ]
     },
     "metadata": {},
     "output_type": "display_data"
    },
    {
     "name": "stdout",
     "output_type": "stream",
     "text": [
      "Saving predictions in s3n://emr-sparkify/predictions/RandomForestClassificationModel/2020/7/2/14/...\n",
      "Model RandomForestClassificationModel F1 score on test set: 0.9920742072774265\n",
      "Model RandomForestClassificationModel AUC score on test set: 1.0"
     ]
    }
   ],
   "source": [
    "# Test with f1 score and AUC score using the test dataset\n",
    "f1_evaluator = F1Evaluator()\n",
    "auc_evaluator = BinaryClassificationEvaluator()\n",
    "\n",
    "for model in [trained_rf]:\n",
    "    # Get predictions using the test dataset\n",
    "    predictions = model.transform(test_dataset)\n",
    "    predictions = predictions.select('rawPrediction', 'probability','label','prediction')\n",
    "    \n",
    "    # Save prediction in my S3 bucket called emr-sparkify, partitioning by date\n",
    "    now = datetime.now()\n",
    "    s3_path = f's3n://emr-sparkify/predictions/{model.stages[-1].__class__.__name__}/{now.year}/{now.month}/{now.day}/{now.hour}/'\n",
    "\n",
    "    print(f'Saving predictions in {s3_path}...')\n",
    "    predictions.write.parquet(s3_path, mode='overwrite')\n",
    "\n",
    "    f1_score = f1_evaluator.evaluate(predictions)\n",
    "    auc = auc_evaluator.evaluate(predictions)\n",
    "    \n",
    "    print(f'Model {model.stages[-1].__class__.__name__} F1 score on test set:', f1_score)\n",
    "    print(f'Model {model.stages[-1].__class__.__name__} AUC score on test set:', auc)"
   ]
  },
  {
   "cell_type": "markdown",
   "metadata": {},
   "source": [
    "The predictions of Random Forest are stored in S3 in Parquet format and with Snappy compression:\n",
    "![models-s3](./media/s3-emr-predictions.png)"
   ]
  },
  {
   "cell_type": "markdown",
   "metadata": {},
   "source": [
    "As seen predictions from the model return probablities of each class (1 churn, 0 not churn) and values in 'rawPrediction', 'probability','label','prediction' columns:"
   ]
  },
  {
   "cell_type": "code",
   "execution_count": 19,
   "metadata": {},
   "outputs": [
    {
     "data": {
      "application/vnd.jupyter.widget-view+json": {
       "model_id": "",
       "version_major": 2,
       "version_minor": 0
      },
      "text/plain": [
       "FloatProgress(value=0.0, bar_style='info', description='Progress:', layout=Layout(height='25px', width='50%'),…"
      ]
     },
     "metadata": {},
     "output_type": "display_data"
    },
    {
     "data": {
      "application/vnd.jupyter.widget-view+json": {
       "model_id": "",
       "version_major": 2,
       "version_minor": 0
      },
      "text/plain": [
       "FloatProgress(value=0.0, bar_style='info', description='Progress:', layout=Layout(height='25px', width='50%'),…"
      ]
     },
     "metadata": {},
     "output_type": "display_data"
    }
   ],
   "source": [
    "%spark -o preds\n",
    "preds = model.transform(test_dataset.limit(5))\n",
    "preds = preds.select('rawPrediction', 'probability','label','prediction')"
   ]
  },
  {
   "cell_type": "code",
   "execution_count": 21,
   "metadata": {},
   "outputs": [
    {
     "data": {
      "application/vnd.jupyter.widget-view+json": {
       "model_id": "9b69f9380be74c39b1e9b841080c41e5",
       "version_major": 2,
       "version_minor": 0
      },
      "text/plain": [
       "VBox(children=(HBox(children=(HTML(value='Type:'), Button(description='Table', layout=Layout(width='70px'), st…"
      ]
     },
     "metadata": {},
     "output_type": "display_data"
    },
    {
     "data": {
      "application/vnd.jupyter.widget-view+json": {
       "model_id": "78b76756280a4f92941219440733387f",
       "version_major": 2,
       "version_minor": 0
      },
      "text/plain": [
       "Output()"
      ]
     },
     "metadata": {},
     "output_type": "display_data"
    }
   ],
   "source": [
    "%local\n",
    "display(preds)"
   ]
  },
  {
   "cell_type": "markdown",
   "metadata": {},
   "source": [
    "![prediction-example](./media/pred-example.png)"
   ]
  },
  {
   "cell_type": "markdown",
   "metadata": {},
   "source": [
    "# Conclusions"
   ]
  },
  {
   "cell_type": "markdown",
   "metadata": {},
   "source": [
    "As seen in the notebook, we were able to scale to a larger volume of data and train multiple models, performing hyperparameter optimization, compare features, and develop functions for generating features and training models. \n",
    "\n",
    "A next step would be to create a <a href=\"https://spark.apache.org/docs/latest/submitting-applications.html\">Spark application</a> with the already created `compute_features(df)` and `train_pipeline(model_type, dataset)` functions and creating a function for loading the model, performing inference and saving the results in S3. This way we could load data from S3 and save the predictions in a batch strategy. This would allow us to automate by creating <a href=\"https://docs.aws.amazon.com/emr/latest/ReleaseGuide/emr-spark-submit-step.html\">EMR Steps</a> "
   ]
  },
  {
   "cell_type": "markdown",
   "metadata": {},
   "source": [
    "### Possible improvements \n",
    "- add new features <a href=\"#possible-features\">related to other time aggregations (e.g. weeks)</a>, related to the phase (if they are paid user, free, etc.), better process user-agent data, etc.\n",
    "- deal with class imbalance (with some downsampling, oversampling methods or with some technique for generating synthethic data like <a href=\"https://arxiv.org/pdf/1106.1813.pdf\">SMOTE</a>)\n",
    "- perform more feature selection - analyze correlations of computed feature for elimination (although ensemble trees models help with that), drop \"Cancel\" features since they are already an event associated with churn. The models performances have high correlations with \"Cancel\" features and when cancel actions occur we wouldn't be able to act in advance (the predictive power of the models is low, since they are predicting the obvious)\n",
    "- try other models\n",
    "- transform in transient EMR cluster (for batch inferences, and batch feature calculations), shutting down cluster after training and inference\n",
    "- use spot instances in EMR cluster for cost opmitization\n",
    "- improve performance by converting json to Parquet, compression, partitioning in S3\n",
    "- adjust number of instances and types in EMR, analyse performance in Spark UI, etc.\n",
    "- generate inferenced in realtime (a lot more complex: feature store for calculating and updating features, turn training model into an rest API with MLeap, etc.)\n",
    "- add <a href=\"https://airflow.apache.org/\">AirFlow</a>, <a href=\"https://aws.amazon.com/pt/step-functions/\">AWS Step Functions</a> for orchestration, automating the calculatation features and performing inferences\n",
    "- trigger marketing campaings, promotions, incentives for user to use the app (personalized e-mails, SMSs), etc."
   ]
  },
  {
   "cell_type": "markdown",
   "metadata": {},
   "source": [
    "<a id=\"possible-features\"></a>\n",
    "#### Possible improvement: Create features related to time aggregation (e.g. statistics for last N days)\n",
    "\n",
    "Goal: from ts -> create columns with 1s and 0s, indicating whether we should select or not; then filter by 1s in newDF and reuse method `compute_features(df)`.\n",
    "\n",
    "Pseudocode - create column endTime:\n",
    "```\n",
    "if last event of user is submit cancel, `endTime = ts` of last event\n",
    "else `endTime = last ts of all users` (user is still active, hence the \"present\" is the latest time)\n",
    "```\n",
    "use: \n",
    "```\n",
    "ts_n_days = n_days * 24 * 60 * 60 * 1000\n",
    "```\n",
    "\n",
    "create column useLog: \n",
    "```\n",
    "if ts > (endTime - ts_n_days), then 1 # we select this recent event\n",
    "otherwise 0 # don't select it\n",
    "```\n",
    "Compute features related to time aggregation (using `compute_features`) and passing as input recent rows \n",
    "```\n",
    "df_recent = df.where(col('useLog')==1)\n",
    "df_features_recent = compute_features(df_recent)\n",
    "```\n",
    "There may be users who don't have any recent action. We need to keep them and put zeros in agregations.\n",
    "```\n",
    "df_all_ids = df.select('userId').toPandas()\n",
    "df_all_ids = df_all_ids.values.squeeze().tolist()\n",
    "\n",
    "df_recent_ids = df_recent.select('userId').toPandas()\n",
    "df_recent_ids = df_recent_ids.values.squeeze().tolist()\n",
    "\n",
    "not_in_df_recent_ids = np.setdiff1d(df_all_ids, df_recent_ids).tolist()\n",
    "vals = []\n",
    "for id in not_in_df_recent_ids:\n",
    "    row = []\n",
    "    for c in df_features_recent.columns:\n",
    "        if c=='userId':\n",
    "            row.append(id)\n",
    "        else:\n",
    "            row.append(0)\n",
    "    vals.append(row)\n",
    "\n",
    "zeros_df = spark.createDataFrame(vals, df_features_recent.columns)\n",
    "df_features_recent = df_features_recent.union(zeros_df).drop('isMale','accountLifeTime')\n",
    "```\n",
    "Columns related to recent events have prefix 'recent_':\n",
    "```\n",
    "cols = df_features_recent.columns\n",
    "for c in cols:\n",
    "    df_features_recent = df_features_recent.withColumnRenamed(c, 'recent_'+c)\n",
    "```\n",
    "Create final df with features from time aggregation and other (all calculated previously and recent ones):\n",
    "```\n",
    "final_df_features = df_features.join(df_features_recent, on='userId')\n",
    "```\n"
   ]
  }
 ],
 "metadata": {
  "kernelspec": {
   "display_name": "PySpark",
   "language": "",
   "name": "pysparkkernel"
  },
  "language_info": {
   "codemirror_mode": {
    "name": "python",
    "version": 2
   },
   "mimetype": "text/x-python",
   "name": "pyspark",
   "pygments_lexer": "python2"
  }
 },
 "nbformat": 4,
 "nbformat_minor": 4
}
