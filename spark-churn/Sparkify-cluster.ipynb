{
 "cells": [
  {
   "cell_type": "markdown",
   "metadata": {},
   "source": [
    "# Sparkify Project"
   ]
  },
  {
   "cell_type": "code",
   "execution_count": 1,
   "metadata": {},
   "outputs": [
    {
     "data": {
      "application/vnd.jupyter.widget-view+json": {
       "model_id": "e426ce2d25f8400fb09b1fadb8b7361f",
       "version_major": 2,
       "version_minor": 0
      },
      "text/plain": [
       "VBox()"
      ]
     },
     "metadata": {},
     "output_type": "display_data"
    },
    {
     "name": "stdout",
     "output_type": "stream",
     "text": [
      "Starting Spark application\n"
     ]
    },
    {
     "data": {
      "text/html": [
       "<table>\n",
       "<tr><th>ID</th><th>YARN Application ID</th><th>Kind</th><th>State</th><th>Spark UI</th><th>Driver log</th><th>Current session?</th></tr><tr><td>8</td><td>application_1593604699653_0009</td><td>pyspark</td><td>idle</td><td><a target=\"_blank\" href=\"http://ip-172-31-12-106.ec2.internal:20888/proxy/application_1593604699653_0009/\">Link</a></td><td><a target=\"_blank\" href=\"http://ip-172-31-7-159.ec2.internal:8042/node/containerlogs/container_1593604699653_0009_01_000001/livy\">Link</a></td><td>✔</td></tr></table>"
      ],
      "text/plain": [
       "<IPython.core.display.HTML object>"
      ]
     },
     "metadata": {},
     "output_type": "display_data"
    },
    {
     "data": {
      "application/vnd.jupyter.widget-view+json": {
       "model_id": "",
       "version_major": 2,
       "version_minor": 0
      },
      "text/plain": [
       "FloatProgress(value=0.0, bar_style='info', description='Progress:', layout=Layout(height='25px', width='50%'),…"
      ]
     },
     "metadata": {},
     "output_type": "display_data"
    },
    {
     "name": "stdout",
     "output_type": "stream",
     "text": [
      "SparkSession available as 'spark'.\n"
     ]
    },
    {
     "data": {
      "application/vnd.jupyter.widget-view+json": {
       "model_id": "",
       "version_major": 2,
       "version_minor": 0
      },
      "text/plain": [
       "FloatProgress(value=0.0, bar_style='info', description='Progress:', layout=Layout(height='25px', width='50%'),…"
      ]
     },
     "metadata": {},
     "output_type": "display_data"
    },
    {
     "name": "stdout",
     "output_type": "stream",
     "text": [
      "Collecting pandas==1.0.3\n",
      "  Using cached https://files.pythonhosted.org/packages/4a/6a/94b219b8ea0f2d580169e85ed1edc0163743f55aaeca8a44c2e8fc1e344e/pandas-1.0.3-cp37-cp37m-manylinux1_x86_64.whl\n",
      "Requirement already satisfied: pytz>=2017.2 in /usr/local/lib/python3.7/site-packages (from pandas==1.0.3)\n",
      "Requirement already satisfied: numpy>=1.13.3 in /usr/local/lib64/python3.7/site-packages (from pandas==1.0.3)\n",
      "Collecting python-dateutil>=2.6.1 (from pandas==1.0.3)\n",
      "  Using cached https://files.pythonhosted.org/packages/d4/70/d60450c3dd48ef87586924207ae8907090de0b306af2bce5d134d78615cb/python_dateutil-2.8.1-py2.py3-none-any.whl\n",
      "Requirement already satisfied: six>=1.5 in /usr/local/lib/python3.7/site-packages (from python-dateutil>=2.6.1->pandas==1.0.3)\n",
      "Installing collected packages: python-dateutil, pandas\n",
      "Successfully installed pandas-1.0.3 python-dateutil-2.8.1\n",
      "\n",
      "Collecting matplotlib==3.1.3\n",
      "  Using cached https://files.pythonhosted.org/packages/4c/9b/35ab3469fd1509f7636a344940569ebfd33239673fd2318e80b4700a257c/matplotlib-3.1.3-cp37-cp37m-manylinux1_x86_64.whl\n",
      "Requirement already satisfied: python-dateutil>=2.1 in /mnt/tmp/1593643149310-0/lib/python3.7/site-packages (from matplotlib==3.1.3)\n",
      "Collecting pyparsing!=2.0.4,!=2.1.2,!=2.1.6,>=2.0.1 (from matplotlib==3.1.3)\n",
      "  Using cached https://files.pythonhosted.org/packages/8a/bb/488841f56197b13700afd5658fc279a2025a39e22449b7cf29864669b15d/pyparsing-2.4.7-py2.py3-none-any.whl\n",
      "Collecting cycler>=0.10 (from matplotlib==3.1.3)\n",
      "  Using cached https://files.pythonhosted.org/packages/f7/d2/e07d3ebb2bd7af696440ce7e754c59dd546ffe1bbe732c8ab68b9c834e61/cycler-0.10.0-py2.py3-none-any.whl\n",
      "Requirement already satisfied: numpy>=1.11 in /usr/local/lib64/python3.7/site-packages (from matplotlib==3.1.3)\n",
      "Collecting kiwisolver>=1.0.1 (from matplotlib==3.1.3)\n",
      "  Using cached https://files.pythonhosted.org/packages/31/b9/6202dcae729998a0ade30e80ac00f616542ef445b088ec970d407dfd41c0/kiwisolver-1.2.0-cp37-cp37m-manylinux1_x86_64.whl\n",
      "Requirement already satisfied: six>=1.5 in /usr/local/lib/python3.7/site-packages (from python-dateutil>=2.1->matplotlib==3.1.3)\n",
      "Installing collected packages: pyparsing, cycler, kiwisolver, matplotlib\n",
      "Successfully installed cycler-0.10.0 kiwisolver-1.2.0 matplotlib-3.1.3 pyparsing-2.4.7\n",
      "\n",
      "Collecting seaborn==0.10.1\n",
      "  Using cached https://files.pythonhosted.org/packages/c7/e6/54aaaafd0b87f51dfba92ba73da94151aa3bc179e5fe88fc5dfb3038e860/seaborn-0.10.1-py3-none-any.whl\n",
      "Requirement already satisfied: pandas>=0.22.0 in /mnt/tmp/1593643149310-0/lib/python3.7/site-packages (from seaborn==0.10.1)\n",
      "Requirement already satisfied: numpy>=1.13.3 in /usr/local/lib64/python3.7/site-packages (from seaborn==0.10.1)\n",
      "Collecting scipy>=1.0.1 (from seaborn==0.10.1)\n",
      "  Using cached https://files.pythonhosted.org/packages/6e/be/e95216d3bbac5d5c3a4bb0b44817b7808cea4c66e6b05cdff93d7a616fc4/scipy-1.5.0-cp37-cp37m-manylinux1_x86_64.whl\n",
      "Requirement already satisfied: matplotlib>=2.1.2 in /mnt/tmp/1593643149310-0/lib/python3.7/site-packages (from seaborn==0.10.1)\n",
      "Requirement already satisfied: pytz>=2017.2 in /usr/local/lib/python3.7/site-packages (from pandas>=0.22.0->seaborn==0.10.1)\n",
      "Requirement already satisfied: python-dateutil>=2.6.1 in /mnt/tmp/1593643149310-0/lib/python3.7/site-packages (from pandas>=0.22.0->seaborn==0.10.1)\n",
      "Requirement already satisfied: pyparsing!=2.0.4,!=2.1.2,!=2.1.6,>=2.0.1 in /mnt/tmp/1593643149310-0/lib/python3.7/site-packages (from matplotlib>=2.1.2->seaborn==0.10.1)\n",
      "Requirement already satisfied: cycler>=0.10 in /mnt/tmp/1593643149310-0/lib/python3.7/site-packages (from matplotlib>=2.1.2->seaborn==0.10.1)\n",
      "Requirement already satisfied: kiwisolver>=1.0.1 in /mnt/tmp/1593643149310-0/lib/python3.7/site-packages (from matplotlib>=2.1.2->seaborn==0.10.1)\n",
      "Requirement already satisfied: six>=1.5 in /usr/local/lib/python3.7/site-packages (from python-dateutil>=2.6.1->pandas>=0.22.0->seaborn==0.10.1)\n",
      "Installing collected packages: scipy, seaborn\n",
      "Successfully installed scipy-1.5.0 seaborn-0.10.1"
     ]
    }
   ],
   "source": [
    "# Install pandas on EMR Notebook\n",
    "sc.install_pypi_package(\"pandas==1.0.3\")\n",
    "sc.install_pypi_package(\"matplotlib==3.1.3\")\n",
    "sc.install_pypi_package(\"seaborn==0.10.1\")"
   ]
  },
  {
   "cell_type": "code",
   "execution_count": 2,
   "metadata": {},
   "outputs": [
    {
     "data": {
      "application/vnd.jupyter.widget-view+json": {
       "model_id": "1cd9dc44883647efb3360ca25161f772",
       "version_major": 2,
       "version_minor": 0
      },
      "text/plain": [
       "VBox()"
      ]
     },
     "metadata": {},
     "output_type": "display_data"
    },
    {
     "data": {
      "application/vnd.jupyter.widget-view+json": {
       "model_id": "",
       "version_major": 2,
       "version_minor": 0
      },
      "text/plain": [
       "FloatProgress(value=0.0, bar_style='info', description='Progress:', layout=Layout(height='25px', width='50%'),…"
      ]
     },
     "metadata": {},
     "output_type": "display_data"
    }
   ],
   "source": [
    "# import libraries\n",
    "from pyspark.sql import SparkSession, Window\n",
    "import pyspark.sql.functions as F\n",
    "from  pyspark.sql.functions import col, udf\n",
    "from pyspark.sql.types import IntegerType, FloatType\n",
    "from pyspark.ml.stat import Correlation\n",
    "from pyspark.ml import Pipeline\n",
    "from pyspark.ml.feature import VectorAssembler, StandardScaler\n",
    "from pyspark.ml.evaluation import BinaryClassificationEvaluator, Evaluator\n",
    "from pyspark.ml.classification import RandomForestClassifier, GBTClassifier\n",
    "from pyspark.ml.tuning import CrossValidator, ParamGridBuilder\n",
    "\n",
    "import time\n",
    "from datetime import datetime\n",
    "import numpy as np\n",
    "import pandas as pd\n",
    "import matplotlib.pyplot as plt\n",
    "import seaborn as sns"
   ]
  },
  {
   "cell_type": "code",
   "execution_count": 3,
   "metadata": {},
   "outputs": [
    {
     "data": {
      "application/vnd.jupyter.widget-view+json": {
       "model_id": "bc2f4f6e88ce426f8693172915c15b64",
       "version_major": 2,
       "version_minor": 0
      },
      "text/plain": [
       "VBox()"
      ]
     },
     "metadata": {},
     "output_type": "display_data"
    },
    {
     "data": {
      "application/vnd.jupyter.widget-view+json": {
       "model_id": "",
       "version_major": 2,
       "version_minor": 0
      },
      "text/plain": [
       "FloatProgress(value=0.0, bar_style='info', description='Progress:', layout=Layout(height='25px', width='50%'),…"
      ]
     },
     "metadata": {},
     "output_type": "display_data"
    }
   ],
   "source": [
    "# create a Spark session\n",
    "spark = SparkSession.builder\\\n",
    "    .master(\"local\")\\\n",
    "    .appName('Sparkify')\\\n",
    "    .getOrCreate()"
   ]
  },
  {
   "cell_type": "code",
   "execution_count": 4,
   "metadata": {},
   "outputs": [
    {
     "data": {
      "application/vnd.jupyter.widget-view+json": {
       "model_id": "e2e1bb8c9bce4ceca07d6c42fd8e6be1",
       "version_major": 2,
       "version_minor": 0
      },
      "text/plain": [
       "VBox()"
      ]
     },
     "metadata": {},
     "output_type": "display_data"
    },
    {
     "data": {
      "application/vnd.jupyter.widget-view+json": {
       "model_id": "",
       "version_major": 2,
       "version_minor": 0
      },
      "text/plain": [
       "FloatProgress(value=0.0, bar_style='info', description='Progress:', layout=Layout(height='25px', width='50%'),…"
      ]
     },
     "metadata": {},
     "output_type": "display_data"
    },
    {
     "name": "stdout",
     "output_type": "stream",
     "text": [
      "<pyspark.sql.session.SparkSession object at 0x7f9250db2c50>"
     ]
    }
   ],
   "source": [
    "spark"
   ]
  },
  {
   "cell_type": "markdown",
   "metadata": {},
   "source": [
    "Check <a href=\"https://livy.apache.org/\">Apache Livy</a> magic commands in Jupyter:"
   ]
  },
  {
   "cell_type": "code",
   "execution_count": 5,
   "metadata": {},
   "outputs": [
    {
     "data": {
      "text/html": [
       "\n",
       "<table>\n",
       "  <tr>\n",
       "    <th>Magic</th>\n",
       "    <th>Example</th>\n",
       "    <th>Explanation</th>\n",
       "  </tr>\n",
       "  <tr>\n",
       "    <td>info</td>\n",
       "    <td>%%info</td>\n",
       "    <td>Outputs session information for the current Livy endpoint.</td>\n",
       "  </tr>\n",
       "  <tr>\n",
       "    <td>cleanup</td>\n",
       "    <td>%%cleanup -f</td>\n",
       "    <td>Deletes all sessions for the current Livy endpoint, including this notebook's session. The force flag is mandatory.</td>\n",
       "  </tr>\n",
       "  <tr>\n",
       "    <td>delete</td>\n",
       "    <td>%%delete -f -s 0</td>\n",
       "    <td>Deletes a session by number for the current Livy endpoint. Cannot delete this kernel's session.</td>\n",
       "  </tr>\n",
       "  <tr>\n",
       "    <td>logs</td>\n",
       "    <td>%%logs</td>\n",
       "    <td>Outputs the current session's Livy logs.</td>\n",
       "  </tr>\n",
       "  <tr>\n",
       "    <td>configure</td>\n",
       "    <td>%%configure -f<br/>{\"executorMemory\": \"1000M\", \"executorCores\": 4}</td>\n",
       "    <td>Configure the session creation parameters. The force flag is mandatory if a session has already been\n",
       "    created and the session will be dropped and recreated.<br/>Look at <a href=\"https://github.com/cloudera/livy#request-body\">\n",
       "    Livy's POST /sessions Request Body</a> for a list of valid parameters. Parameters must be passed in as a JSON string.</td>\n",
       "  </tr>\n",
       "  <tr>\n",
       "    <td>spark</td>\n",
       "    <td>%%spark -o df<br/>df = spark.read.parquet('...</td>\n",
       "    <td>Executes spark commands.\n",
       "    Parameters:\n",
       "      <ul>\n",
       "        <li>-o VAR_NAME: The Spark dataframe of name VAR_NAME will be available in the %%local Python context as a\n",
       "          <a href=\"http://pandas.pydata.org/\">Pandas</a> dataframe with the same name.</li>\n",
       "        <li>-m METHOD: Sample method, either <tt>take</tt> or <tt>sample</tt>.</li>\n",
       "        <li>-n MAXROWS: The maximum number of rows of a dataframe that will be pulled from Livy to Jupyter.\n",
       "            If this number is negative, then the number of rows will be unlimited.</li>\n",
       "        <li>-r FRACTION: Fraction used for sampling.</li>\n",
       "      </ul>\n",
       "    </td>\n",
       "  </tr>\n",
       "  <tr>\n",
       "    <td>display</td>\n",
       "    <td>%%display -n 100<br/>my_spark_df</td>\n",
       "    <td>Displays Spark dataframe as a beautiful HTML table with horizontal and vertical scroll bars(if necessary).\n",
       "    Parameters:\n",
       "      <ul>\n",
       "        <li>-m METHOD: Sample method, either <tt>take</tt> or <tt>sample</tt>.</li>\n",
       "        <li>-n MAXROWS: The maximum number of rows of a dataframe to display.\n",
       "            If this number is negative, then the number of rows will be unlimited.</li>\n",
       "        <li>-r FRACTION: Fraction used for sampling.</li>\n",
       "      </ul>\n",
       "    </td>\n",
       "  </tr>\n",
       "  <tr>\n",
       "    <td>sql</td>\n",
       "    <td>%%sql -o tables -q<br/>SHOW TABLES</td>\n",
       "    <td>Executes a SQL query against the variable sqlContext (Spark v1.x) or spark (Spark v2.x).\n",
       "    Parameters:\n",
       "      <ul>\n",
       "        <li>-o VAR_NAME: The result of the SQL query will be available in the %%local Python context as a\n",
       "          <a href=\"http://pandas.pydata.org/\">Pandas</a> dataframe.</li>\n",
       "        <li>-q: The magic will return None instead of the dataframe (no visualization).</li>\n",
       "        <li>-m, -n, -r are the same as the %%spark parameters above.</li>\n",
       "      </ul>\n",
       "    </td>\n",
       "  </tr>\n",
       "  <tr>\n",
       "    <td>local</td>\n",
       "    <td>%%local<br/>a = 1</td>\n",
       "    <td>All the code in subsequent lines will be executed locally. Code must be valid Python code.</td>\n",
       "  </tr>\n",
       "</table>\n"
      ],
      "text/plain": [
       "<IPython.core.display.HTML object>"
      ]
     },
     "metadata": {},
     "output_type": "display_data"
    }
   ],
   "source": [
    "%help"
   ]
  },
  {
   "cell_type": "markdown",
   "metadata": {},
   "source": [
    "Useful: `%%spark -o df` will let the Spark Dataframe available locally as a Pandas dataframe"
   ]
  },
  {
   "cell_type": "markdown",
   "metadata": {},
   "source": [
    "# Load and Clean Dataset\n",
    "Using tiny subset (128MB) of the full dataset available (12GB) for local development.\n",
    "\n",
    "full dataset: `s3n://udacity-dsnd/sparkify/full_sparkify_event_data.json`\n",
    "\n",
    "Full dataset: `s3n://udacity-dsnd/sparkify/sparkify_event_data.json`\n"
   ]
  },
  {
   "cell_type": "code",
   "execution_count": 6,
   "metadata": {},
   "outputs": [
    {
     "data": {
      "application/vnd.jupyter.widget-view+json": {
       "model_id": "2347140d2b4345e58428f06eccf3e2eb",
       "version_major": 2,
       "version_minor": 0
      },
      "text/plain": [
       "VBox()"
      ]
     },
     "metadata": {},
     "output_type": "display_data"
    },
    {
     "data": {
      "application/vnd.jupyter.widget-view+json": {
       "model_id": "",
       "version_major": 2,
       "version_minor": 0
      },
      "text/plain": [
       "FloatProgress(value=0.0, bar_style='info', description='Progress:', layout=Layout(height='25px', width='50%'),…"
      ]
     },
     "metadata": {},
     "output_type": "display_data"
    }
   ],
   "source": [
    "event_data = \"s3n://udacity-dsnd/sparkify/sparkify_event_data.json\"\n",
    "df = spark.read.json(event_data)"
   ]
  },
  {
   "cell_type": "code",
   "execution_count": 7,
   "metadata": {},
   "outputs": [
    {
     "data": {
      "application/vnd.jupyter.widget-view+json": {
       "model_id": "c8c816aef5c04739964f597a3b7625fd",
       "version_major": 2,
       "version_minor": 0
      },
      "text/plain": [
       "VBox()"
      ]
     },
     "metadata": {},
     "output_type": "display_data"
    },
    {
     "data": {
      "application/vnd.jupyter.widget-view+json": {
       "model_id": "",
       "version_major": 2,
       "version_minor": 0
      },
      "text/plain": [
       "FloatProgress(value=0.0, bar_style='info', description='Progress:', layout=Layout(height='25px', width='50%'),…"
      ]
     },
     "metadata": {},
     "output_type": "display_data"
    },
    {
     "name": "stdout",
     "output_type": "stream",
     "text": [
      "DataFrame[artist: string, auth: string, firstName: string, gender: string, itemInSession: bigint, lastName: string, length: double, level: string, location: string, method: string, page: string, registration: bigint, sessionId: bigint, song: string, status: bigint, ts: bigint, userAgent: string, userId: string]"
     ]
    }
   ],
   "source": [
    "# Persist data on cluster\n",
    "df.persist()"
   ]
  },
  {
   "cell_type": "code",
   "execution_count": 8,
   "metadata": {},
   "outputs": [
    {
     "data": {
      "application/vnd.jupyter.widget-view+json": {
       "model_id": "834afe84171a4f4a80ddb08918303028",
       "version_major": 2,
       "version_minor": 0
      },
      "text/plain": [
       "VBox()"
      ]
     },
     "metadata": {},
     "output_type": "display_data"
    },
    {
     "data": {
      "application/vnd.jupyter.widget-view+json": {
       "model_id": "",
       "version_major": 2,
       "version_minor": 0
      },
      "text/plain": [
       "FloatProgress(value=0.0, bar_style='info', description='Progress:', layout=Layout(height='25px', width='50%'),…"
      ]
     },
     "metadata": {},
     "output_type": "display_data"
    },
    {
     "name": "stdout",
     "output_type": "stream",
     "text": [
      "root\n",
      " |-- artist: string (nullable = true)\n",
      " |-- auth: string (nullable = true)\n",
      " |-- firstName: string (nullable = true)\n",
      " |-- gender: string (nullable = true)\n",
      " |-- itemInSession: long (nullable = true)\n",
      " |-- lastName: string (nullable = true)\n",
      " |-- length: double (nullable = true)\n",
      " |-- level: string (nullable = true)\n",
      " |-- location: string (nullable = true)\n",
      " |-- method: string (nullable = true)\n",
      " |-- page: string (nullable = true)\n",
      " |-- registration: long (nullable = true)\n",
      " |-- sessionId: long (nullable = true)\n",
      " |-- song: string (nullable = true)\n",
      " |-- status: long (nullable = true)\n",
      " |-- ts: long (nullable = true)\n",
      " |-- userAgent: string (nullable = true)\n",
      " |-- userId: string (nullable = true)"
     ]
    }
   ],
   "source": [
    "# Check schema and column types\n",
    "df.printSchema()"
   ]
  },
  {
   "cell_type": "code",
   "execution_count": 9,
   "metadata": {},
   "outputs": [
    {
     "data": {
      "application/vnd.jupyter.widget-view+json": {
       "model_id": "20eb6d89341641adaf94574db54821e1",
       "version_major": 2,
       "version_minor": 0
      },
      "text/plain": [
       "VBox()"
      ]
     },
     "metadata": {},
     "output_type": "display_data"
    },
    {
     "data": {
      "application/vnd.jupyter.widget-view+json": {
       "model_id": "",
       "version_major": 2,
       "version_minor": 0
      },
      "text/plain": [
       "FloatProgress(value=0.0, bar_style='info', description='Progress:', layout=Layout(height='25px', width='50%'),…"
      ]
     },
     "metadata": {},
     "output_type": "display_data"
    },
    {
     "name": "stdout",
     "output_type": "stream",
     "text": [
      "[Row(artist='Popol Vuh', auth='Logged In', firstName='Shlok', gender='M', itemInSession=278, lastName='Johnson', length=524.32934, level='paid', location='Dallas-Fort Worth-Arlington, TX', method='PUT', page='NextSong', registration=1533734541000, sessionId=22683, song='Ich mache einen Spiegel - Dream Part 4', status=200, ts=1538352001000, userAgent='\"Mozilla/5.0 (Windows NT 6.1; WOW64) AppleWebKit/537.36 (KHTML, like Gecko) Chrome/36.0.1985.143 Safari/537.36\"', userId='1749042'), Row(artist='Los Bunkers', auth='Logged In', firstName='Vianney', gender='F', itemInSession=9, lastName='Miller', length=238.39302, level='paid', location='San Francisco-Oakland-Hayward, CA', method='PUT', page='NextSong', registration=1537500318000, sessionId=20836, song='MiÃ\\x83Â©ntele', status=200, ts=1538352002000, userAgent='\"Mozilla/5.0 (Macintosh; Intel Mac OS X 10_9_4) AppleWebKit/537.36 (KHTML, like Gecko) Chrome/36.0.1985.143 Safari/537.36\"', userId='1563081'), Row(artist='Lush', auth='Logged In', firstName='Vina', gender='F', itemInSession=109, lastName='Bailey', length=140.35546, level='paid', location='Hilo, HI', method='PUT', page='NextSong', registration=1536414505000, sessionId=4593, song='Baby Talk', status=200, ts=1538352002000, userAgent='Mozilla/5.0 (Macintosh; Intel Mac OS X 10.9; rv:31.0) Gecko/20100101 Firefox/31.0', userId='1697168'), Row(artist='Barry Tuckwell/Academy of St Martin-in-the-Fields/Sir Neville Marriner', auth='Logged In', firstName='Andres', gender='M', itemInSession=71, lastName='Foley', length=277.15873, level='paid', location='Watertown, SD', method='PUT', page='NextSong', registration=1534386660000, sessionId=6370, song='Horn Concerto No. 4 in E flat K495: II. Romance (Andante cantabile)', status=200, ts=1538352003000, userAgent='\"Mozilla/5.0 (Macintosh; Intel Mac OS X 10_9_4) AppleWebKit/537.77.4 (KHTML, like Gecko) Version/7.0.5 Safari/537.77.4\"', userId='1222580'), Row(artist='Yes', auth='Logged In', firstName='Aaliyah', gender='F', itemInSession=21, lastName='Ramirez', length=1121.25342, level='paid', location='Baltimore-Columbia-Towson, MD', method='PUT', page='NextSong', registration=1537381415000, sessionId=22316, song='Close To The Edge (I. The Solid Time Of Change_ II. Total Mass Retain_ III. I Get Up I Get Down_ IV. Seasons Of Man) (Remastered LP Version)', status=200, ts=1538352003000, userAgent='\"Mozilla/5.0 (Windows NT 6.1; WOW64) AppleWebKit/537.36 (KHTML, like Gecko) Chrome/36.0.1985.143 Safari/537.36\"', userId='1714398')]"
     ]
    }
   ],
   "source": [
    "df.head(5)"
   ]
  },
  {
   "cell_type": "code",
   "execution_count": 10,
   "metadata": {},
   "outputs": [
    {
     "data": {
      "application/vnd.jupyter.widget-view+json": {
       "model_id": "",
       "version_major": 2,
       "version_minor": 0
      },
      "text/plain": [
       "FloatProgress(value=0.0, bar_style='info', description='Progress:', layout=Layout(height='25px', width='50%'),…"
      ]
     },
     "metadata": {},
     "output_type": "display_data"
    },
    {
     "data": {
      "application/vnd.jupyter.widget-view+json": {
       "model_id": "",
       "version_major": 2,
       "version_minor": 0
      },
      "text/plain": [
       "FloatProgress(value=0.0, bar_style='info', description='Progress:', layout=Layout(height='25px', width='50%'),…"
      ]
     },
     "metadata": {},
     "output_type": "display_data"
    }
   ],
   "source": [
    "%%spark -o df_head\n",
    "df_head = df.limit(5)"
   ]
  },
  {
   "cell_type": "code",
   "execution_count": 11,
   "metadata": {},
   "outputs": [
    {
     "data": {
      "application/vnd.jupyter.widget-view+json": {
       "model_id": "28f922254bf44a1daae4ab8bb565453c",
       "version_major": 2,
       "version_minor": 0
      },
      "text/plain": [
       "VBox(children=(HBox(children=(HTML(value='Type:'), Button(description='Table', layout=Layout(width='70px'), st…"
      ]
     },
     "metadata": {},
     "output_type": "display_data"
    },
    {
     "data": {
      "application/vnd.jupyter.widget-view+json": {
       "model_id": "5008d503fb924918aa0de7cf02cdab78",
       "version_major": 2,
       "version_minor": 0
      },
      "text/plain": [
       "Output()"
      ]
     },
     "metadata": {},
     "output_type": "display_data"
    }
   ],
   "source": [
    "%local\n",
    "df_head"
   ]
  },
  {
   "cell_type": "code",
   "execution_count": 12,
   "metadata": {},
   "outputs": [
    {
     "data": {
      "application/vnd.jupyter.widget-view+json": {
       "model_id": "be20b3745ac045389b5929ed4676e18e",
       "version_major": 2,
       "version_minor": 0
      },
      "text/plain": [
       "VBox()"
      ]
     },
     "metadata": {},
     "output_type": "display_data"
    },
    {
     "data": {
      "application/vnd.jupyter.widget-view+json": {
       "model_id": "",
       "version_major": 2,
       "version_minor": 0
      },
      "text/plain": [
       "FloatProgress(value=0.0, bar_style='info', description='Progress:', layout=Layout(height='25px', width='50%'),…"
      ]
     },
     "metadata": {},
     "output_type": "display_data"
    },
    {
     "name": "stdout",
     "output_type": "stream",
     "text": [
      "Number of rows full dataset 26259199\n",
      "Number of columns full dataset 18\n",
      "Number of duplicated rows in full dataset 0"
     ]
    }
   ],
   "source": [
    "print('Number of rows full dataset', df.count())\n",
    "print('Number of columns full dataset', len(df.columns))\n",
    "print('Number of duplicated rows in full dataset', df.count() - df.dropDuplicates().count())"
   ]
  },
  {
   "cell_type": "markdown",
   "metadata": {},
   "source": [
    "#### Let's check our data for numerical columns:"
   ]
  },
  {
   "cell_type": "code",
   "execution_count": 13,
   "metadata": {},
   "outputs": [
    {
     "data": {
      "application/vnd.jupyter.widget-view+json": {
       "model_id": "d8aee3524bdb43fa8e6f447b3560d142",
       "version_major": 2,
       "version_minor": 0
      },
      "text/plain": [
       "VBox()"
      ]
     },
     "metadata": {},
     "output_type": "display_data"
    },
    {
     "data": {
      "application/vnd.jupyter.widget-view+json": {
       "model_id": "",
       "version_major": 2,
       "version_minor": 0
      },
      "text/plain": [
       "FloatProgress(value=0.0, bar_style='info', description='Progress:', layout=Layout(height='25px', width='50%'),…"
      ]
     },
     "metadata": {},
     "output_type": "display_data"
    },
    {
     "name": "stdout",
     "output_type": "stream",
     "text": [
      "['itemInSession', 'length', 'registration', 'sessionId', 'status', 'ts']"
     ]
    }
   ],
   "source": [
    "numCols = [col[0] for col in df.dtypes if not col[1]=='string']; numCols"
   ]
  },
  {
   "cell_type": "code",
   "execution_count": 14,
   "metadata": {},
   "outputs": [
    {
     "data": {
      "application/vnd.jupyter.widget-view+json": {
       "model_id": "008acb7847324039b45fcc0acc5ef84b",
       "version_major": 2,
       "version_minor": 0
      },
      "text/plain": [
       "VBox()"
      ]
     },
     "metadata": {},
     "output_type": "display_data"
    },
    {
     "data": {
      "application/vnd.jupyter.widget-view+json": {
       "model_id": "",
       "version_major": 2,
       "version_minor": 0
      },
      "text/plain": [
       "FloatProgress(value=0.0, bar_style='info', description='Progress:', layout=Layout(height='25px', width='50%'),…"
      ]
     },
     "metadata": {},
     "output_type": "display_data"
    },
    {
     "name": "stdout",
     "output_type": "stream",
     "text": [
      "+-------+------------------+------------------+--------------------+------------------+------------------+--------------------+\n",
      "|summary|     itemInSession|            length|        registration|         sessionId|            status|                  ts|\n",
      "+-------+------------------+------------------+--------------------+------------------+------------------+--------------------+\n",
      "|  count|          26259199|          20850272|            25480720|          26259199|          26259199|            26259199|\n",
      "|   mean|106.56267561702853|248.72543296748827|1.535220665260512...|100577.99253503505|210.06768953615074|1.540905636113772...|\n",
      "| stddev|117.65812617523798| 97.28710387078071|3.2402990978250694E9|  71909.2107787595|31.550728788197627|1.5158105552718406E9|\n",
      "|    min|                 0|             0.522|       1508018725000|                 1|               200|       1538352001000|\n",
      "|    max|              1428|        3024.66567|       1543821822000|            240381|               404|       1543622402000|\n",
      "+-------+------------------+------------------+--------------------+------------------+------------------+--------------------+"
     ]
    }
   ],
   "source": [
    "df.select(numCols).describe().show()"
   ]
  },
  {
   "cell_type": "markdown",
   "metadata": {},
   "source": [
    "For some informations above (`registration`, `sessionId`, `status`, `ts`) it doesn't make sense to analyze as numbers. We will dive deeper in the next Exploratory Data Analysis session of this notebook."
   ]
  },
  {
   "cell_type": "markdown",
   "metadata": {},
   "source": [
    "#### Let's check our data for categorical columns:"
   ]
  },
  {
   "cell_type": "code",
   "execution_count": 15,
   "metadata": {},
   "outputs": [
    {
     "data": {
      "application/vnd.jupyter.widget-view+json": {
       "model_id": "0941b9ee34164b5e8b4b95ec8e0896d7",
       "version_major": 2,
       "version_minor": 0
      },
      "text/plain": [
       "VBox()"
      ]
     },
     "metadata": {},
     "output_type": "display_data"
    },
    {
     "data": {
      "application/vnd.jupyter.widget-view+json": {
       "model_id": "",
       "version_major": 2,
       "version_minor": 0
      },
      "text/plain": [
       "FloatProgress(value=0.0, bar_style='info', description='Progress:', layout=Layout(height='25px', width='50%'),…"
      ]
     },
     "metadata": {},
     "output_type": "display_data"
    },
    {
     "name": "stdout",
     "output_type": "stream",
     "text": [
      "['artist', 'auth', 'firstName', 'gender', 'lastName', 'level', 'location', 'method', 'page', 'song', 'userAgent', 'userId']"
     ]
    }
   ],
   "source": [
    "text_cols = [col[0] for col in df.dtypes if col[1]=='string']; text_cols"
   ]
  },
  {
   "cell_type": "markdown",
   "metadata": {},
   "source": [
    "Although not expected by inspecting the data, `userId` is actually a string.\n",
    "\n",
    "We check other information about our text data (not interested in `firstName` and `lastName`):"
   ]
  },
  {
   "cell_type": "code",
   "execution_count": 16,
   "metadata": {},
   "outputs": [
    {
     "data": {
      "application/vnd.jupyter.widget-view+json": {
       "model_id": "ba3c15d2a2c9407d9f57e61081a71ca9",
       "version_major": 2,
       "version_minor": 0
      },
      "text/plain": [
       "VBox()"
      ]
     },
     "metadata": {},
     "output_type": "display_data"
    },
    {
     "data": {
      "application/vnd.jupyter.widget-view+json": {
       "model_id": "",
       "version_major": 2,
       "version_minor": 0
      },
      "text/plain": [
       "FloatProgress(value=0.0, bar_style='info', description='Progress:', layout=Layout(height='25px', width='50%'),…"
      ]
     },
     "metadata": {},
     "output_type": "display_data"
    },
    {
     "name": "stdout",
     "output_type": "stream",
     "text": [
      "+-----------------------+---------------------+------------------+-------------------------+\n",
      "|numberOfDistinctArtists|numberOfDistinctSongs|numberOfuserAgents|numberOfDistinctLocations|\n",
      "+-----------------------+---------------------+------------------+-------------------------+\n",
      "|                  38337|               311148|                85|                      886|\n",
      "+-----------------------+---------------------+------------------+-------------------------+"
     ]
    }
   ],
   "source": [
    "dist_artists = df.select(F.countDistinct('artist').alias('numberOfDistinctArtists')).withColumn(\"id\", F.monotonically_increasing_id())\n",
    "\n",
    "dist_songs = df.select(['song','artist']).groupBy('song').agg(F.countDistinct('artist').alias('countDistinctArtists')).\\\n",
    "    select(F.sum('countDistinctArtists').alias('numberOfDistinctSongs')).withColumn(\"id\", F.monotonically_increasing_id())\n",
    "\n",
    "dist_user_agents = df.select(F.countDistinct('userAgent').alias('numberOfuserAgents')).withColumn(\"id\", F.monotonically_increasing_id())\n",
    "\n",
    "dist_locations = df.select(F.countDistinct('location').alias('numberOfDistinctLocations')).withColumn(\"id\", F.monotonically_increasing_id())\n",
    "\n",
    "text_cols_info = dist_artists.join(dist_songs, \"id\", \"outer\")\\\n",
    "                             .join(dist_user_agents, \"id\", \"outer\")\\\n",
    "                             .join(dist_locations, \"id\", \"outer\").drop('id')\\\n",
    "\n",
    "text_cols_info.show()"
   ]
  },
  {
   "cell_type": "markdown",
   "metadata": {},
   "source": [
    "Sparkify's full dataset contains has 38337 different artists, 311148 songs, users in 886 different locations that use 85 different types of devices/software to access the app."
   ]
  },
  {
   "cell_type": "code",
   "execution_count": 17,
   "metadata": {},
   "outputs": [
    {
     "data": {
      "application/vnd.jupyter.widget-view+json": {
       "model_id": "4ffd26fc080347ae825b04ec3f9815bd",
       "version_major": 2,
       "version_minor": 0
      },
      "text/plain": [
       "VBox()"
      ]
     },
     "metadata": {},
     "output_type": "display_data"
    },
    {
     "data": {
      "application/vnd.jupyter.widget-view+json": {
       "model_id": "",
       "version_major": 2,
       "version_minor": 0
      },
      "text/plain": [
       "FloatProgress(value=0.0, bar_style='info', description='Progress:', layout=Layout(height='25px', width='50%'),…"
      ]
     },
     "metadata": {},
     "output_type": "display_data"
    },
    {
     "name": "stdout",
     "output_type": "stream",
     "text": [
      "+----------+--------+\n",
      "|auth      |count   |\n",
      "+----------+--------+\n",
      "|Guest     |4194    |\n",
      "|Cancelled |5003    |\n",
      "|Logged Out|774285  |\n",
      "|Logged In |25475717|\n",
      "+----------+--------+\n",
      "\n",
      "+------+--------+\n",
      "|gender|count   |\n",
      "+------+--------+\n",
      "|null  |778479  |\n",
      "|F     |12181158|\n",
      "|M     |13299562|\n",
      "+------+--------+\n",
      "\n",
      "+-----+--------+\n",
      "|level|count   |\n",
      "+-----+--------+\n",
      "|free |5663371 |\n",
      "|paid |20595828|\n",
      "+-----+--------+\n",
      "\n",
      "+------+--------+\n",
      "|method|count   |\n",
      "+------+--------+\n",
      "|GET   |2389761 |\n",
      "|PUT   |23869438|\n",
      "+------+--------+\n",
      "\n",
      "+-------------------------+--------+\n",
      "|page                     |count   |\n",
      "+-------------------------+--------+\n",
      "|Submit Registration      |401     |\n",
      "|Register                 |802     |\n",
      "|Cancellation Confirmation|5003    |\n",
      "|Cancel                   |5003    |\n",
      "|Submit Downgrade         |6494    |\n",
      "|Submit Upgrade           |15135   |\n",
      "|Error                    |25962   |\n",
      "|Save Settings            |29516   |\n",
      "|Upgrade                  |50507   |\n",
      "|About                    |92759   |\n",
      "|Settings                 |147074  |\n",
      "|Help                     |155100  |\n",
      "|Downgrade                |184240  |\n",
      "|Thumbs Down              |239212  |\n",
      "|Logout                   |296005  |\n",
      "|Login                    |296350  |\n",
      "|Add Friend               |381664  |\n",
      "|Roll Advert              |385212  |\n",
      "|Add to Playlist          |597921  |\n",
      "|Thumbs Up                |1151465 |\n",
      "|Home                     |1343102 |\n",
      "|NextSong                 |20850272|\n",
      "+-------------------------+--------+\n",
      "\n",
      "+------+--------+\n",
      "|status|count   |\n",
      "+------+--------+\n",
      "|404   |25962   |\n",
      "|307   |2421245 |\n",
      "|200   |23811992|\n",
      "+------+--------+"
     ]
    }
   ],
   "source": [
    "# We calculate value counts for:\n",
    "text_cols_value_counts = ['auth',\n",
    "                         'gender',\n",
    "                         'level',\n",
    "                         'method',\n",
    "                         'page',\n",
    "                         'status']\n",
    "\n",
    "for column in text_cols_value_counts:\n",
    "    df.select(column).groupBy(column).count().orderBy('count').show(30, truncate=False)"
   ]
  },
  {
   "cell_type": "markdown",
   "metadata": {},
   "source": [
    "#### Loading, cleaning the dataset and checking for invalid or missing data - for example, records without userids or sessionids. "
   ]
  },
  {
   "cell_type": "code",
   "execution_count": 18,
   "metadata": {},
   "outputs": [
    {
     "data": {
      "application/vnd.jupyter.widget-view+json": {
       "model_id": "f99929c2765046afa7b35fcfd788ccf6",
       "version_major": 2,
       "version_minor": 0
      },
      "text/plain": [
       "VBox()"
      ]
     },
     "metadata": {},
     "output_type": "display_data"
    },
    {
     "data": {
      "application/vnd.jupyter.widget-view+json": {
       "model_id": "",
       "version_major": 2,
       "version_minor": 0
      },
      "text/plain": [
       "FloatProgress(value=0.0, bar_style='info', description='Progress:', layout=Layout(height='25px', width='50%'),…"
      ]
     },
     "metadata": {},
     "output_type": "display_data"
    },
    {
     "name": "stdout",
     "output_type": "stream",
     "text": [
      "   artistIsNan  authIsNan  firstNameIsNan  ...  tsIsNan  userAgentIsNan  userIdIsNan\n",
      "0            0          0               0  ...        0               0            0\n",
      "\n",
      "[1 rows x 18 columns]"
     ]
    }
   ],
   "source": [
    "#Checking if there are NaNs\n",
    "df.select([F.count(F.when(F.isnan(c), c)).alias(c+'IsNan') for c in df.columns]).toPandas()"
   ]
  },
  {
   "cell_type": "markdown",
   "metadata": {},
   "source": [
    "No Nans in the full dataset."
   ]
  },
  {
   "cell_type": "code",
   "execution_count": 19,
   "metadata": {},
   "outputs": [
    {
     "data": {
      "application/vnd.jupyter.widget-view+json": {
       "model_id": "54aa74a0c3504d338879eb373d2ff58e",
       "version_major": 2,
       "version_minor": 0
      },
      "text/plain": [
       "VBox()"
      ]
     },
     "metadata": {},
     "output_type": "display_data"
    },
    {
     "data": {
      "application/vnd.jupyter.widget-view+json": {
       "model_id": "",
       "version_major": 2,
       "version_minor": 0
      },
      "text/plain": [
       "FloatProgress(value=0.0, bar_style='info', description='Progress:', layout=Layout(height='25px', width='50%'),…"
      ]
     },
     "metadata": {},
     "output_type": "display_data"
    },
    {
     "name": "stdout",
     "output_type": "stream",
     "text": [
      "   artistIsNull  authIsNull  ...  userAgentIsNull  userIdIsNull\n",
      "0       5408927           0  ...           778479             0\n",
      "\n",
      "[1 rows x 18 columns]"
     ]
    }
   ],
   "source": [
    "#Checking if there are null values\n",
    "df.select([F.count(F.when(col(c).isNull(), c)).alias(c+'IsNull') for c in df.columns]).toPandas()"
   ]
  },
  {
   "cell_type": "markdown",
   "metadata": {},
   "source": [
    "Appearently missing data is correlated (missing counts of columns consistently appear having 8346 or 58392 Null values)."
   ]
  },
  {
   "cell_type": "markdown",
   "metadata": {},
   "source": [
    "Let's check how missing values are correlated:"
   ]
  },
  {
   "cell_type": "code",
   "execution_count": 20,
   "metadata": {},
   "outputs": [
    {
     "data": {
      "application/vnd.jupyter.widget-view+json": {
       "model_id": "35c592a934704d919260ddc416fac600",
       "version_major": 2,
       "version_minor": 0
      },
      "text/plain": [
       "VBox()"
      ]
     },
     "metadata": {},
     "output_type": "display_data"
    },
    {
     "data": {
      "application/vnd.jupyter.widget-view+json": {
       "model_id": "",
       "version_major": 2,
       "version_minor": 0
      },
      "text/plain": [
       "FloatProgress(value=0.0, bar_style='info', description='Progress:', layout=Layout(height='25px', width='50%'),…"
      ]
     },
     "metadata": {},
     "output_type": "display_data"
    }
   ],
   "source": [
    "# Check null values: 1 is null and 0 not null\n",
    "df_is_null = df.select([F.when(col(c).isNull(), 1).otherwise(0).alias(c) for c in df.columns])\n",
    "\n",
    "df_is_null_describe = df_is_null.describe()\n",
    "\n",
    "df_is_null_describe = df_is_null_describe.filter(\n",
    "    (df_is_null_describe['summary']=='stddev') | \n",
    "    (df_is_null_describe['summary'] == 'max')\n",
    ")\n",
    "\n",
    "# Handle the std equals to zero (all values are the same) and without any null value\n",
    "zero_std_max_cols = [col for col in df_is_null_describe.columns if df_is_null_describe.select(F.collect_list(col)).head().asDict()['collect_list('+col+')'] == ['0.0', '0']]\n",
    "\n",
    "# Drop all columns with Standard Deviation equals zero and no missing values\n",
    "df_is_null = df_is_null.drop(*zero_std_max_cols)\n",
    "\n",
    "# Create vectors \n",
    "assembler = VectorAssembler(inputCols=df_is_null.columns, outputCol='vector')\n",
    "assembled = assembler.transform(df_is_null).drop(*df_is_null.columns)\n",
    "\n",
    "# Calculate and print Pearson correlation matrix for missing values\n",
    "pearson_corr = Correlation.corr(assembled, 'vector').head()\n",
    "pearson_corr = pd.DataFrame(data=pearson_corr[0].toArray(), columns=df_is_null.columns, index=df_is_null.columns)"
   ]
  },
  {
   "cell_type": "code",
   "execution_count": 21,
   "metadata": {},
   "outputs": [
    {
     "data": {
      "application/vnd.jupyter.widget-view+json": {
       "model_id": "a449684b1e1a46ccb4953a6faa337999",
       "version_major": 2,
       "version_minor": 0
      },
      "text/plain": [
       "VBox()"
      ]
     },
     "metadata": {},
     "output_type": "display_data"
    },
    {
     "data": {
      "application/vnd.jupyter.widget-view+json": {
       "model_id": "",
       "version_major": 2,
       "version_minor": 0
      },
      "text/plain": [
       "FloatProgress(value=0.0, bar_style='info', description='Progress:', layout=Layout(height='25px', width='50%'),…"
      ]
     },
     "metadata": {},
     "output_type": "display_data"
    },
    {
     "name": "stdout",
     "output_type": "stream",
     "text": [
      "<matplotlib.axes._subplots.AxesSubplot object at 0x7f923cdc20d0>"
     ]
    }
   ],
   "source": [
    "fig, ax = plt.subplots(figsize=(8, 10))\n",
    "sns.heatmap(pearson_corr, ax=ax, annot=True);"
   ]
  },
  {
   "cell_type": "code",
   "execution_count": 22,
   "metadata": {},
   "outputs": [
    {
     "data": {
      "application/vnd.jupyter.widget-view+json": {
       "model_id": "",
       "version_major": 2,
       "version_minor": 0
      },
      "text/plain": [
       "FloatProgress(value=0.0, bar_style='info', description='Progress:', layout=Layout(height='25px', width='50%'),…"
      ]
     },
     "metadata": {},
     "output_type": "display_data"
    },
    {
     "data": {
      "image/png": "[encoded data removed]",
      "text/plain": [
       "<IPython.core.display.Image object>"
      ]
     },
     "metadata": {},
     "output_type": "display_data"
    }
   ],
   "source": [
    "%matplot plt"
   ]
  },
  {
   "cell_type": "markdown",
   "metadata": {},
   "source": [
    "When there's a null in `artist` column also a null in `length` and `song` happen. Hence, this data may be related and length appears to be the length in seconds of songs. \n",
    "\n",
    "Similarly, data related to users are related and when a null happens in either `firstName`, `lastName`, `gender`, `location`, `userAgent` and `registration` the others are null too. The column registration seems to be related to the timestamp of when a user registers himself/herself in the application."
   ]
  },
  {
   "cell_type": "markdown",
   "metadata": {},
   "source": [
    "Let's check `userId`:"
   ]
  },
  {
   "cell_type": "code",
   "execution_count": 23,
   "metadata": {},
   "outputs": [
    {
     "data": {
      "application/vnd.jupyter.widget-view+json": {
       "model_id": "fa3c2a7c87bc4589ac8422604f69c1ea",
       "version_major": 2,
       "version_minor": 0
      },
      "text/plain": [
       "VBox()"
      ]
     },
     "metadata": {},
     "output_type": "display_data"
    },
    {
     "data": {
      "application/vnd.jupyter.widget-view+json": {
       "model_id": "",
       "version_major": 2,
       "version_minor": 0
      },
      "text/plain": [
       "FloatProgress(value=0.0, bar_style='info', description='Progress:', layout=Layout(height='25px', width='50%'),…"
      ]
     },
     "metadata": {},
     "output_type": "display_data"
    },
    {
     "name": "stdout",
     "output_type": "stream",
     "text": [
      "+-------+------------+\n",
      "| userId|userIdLength|\n",
      "+-------+------------+\n",
      "|1310157|           7|\n",
      "|1596267|           7|\n",
      "|1971226|           7|\n",
      "|1051690|           7|\n",
      "|1806732|           7|\n",
      "+-------+------------+\n",
      "only showing top 5 rows"
     ]
    }
   ],
   "source": [
    "# userId is string and shold be always with length greater than 0\n",
    "df.select('userId', F.length(col('userId')).alias('userIdLength')).distinct().orderBy(col('userIdLength')).show(5)"
   ]
  },
  {
   "cell_type": "code",
   "execution_count": 24,
   "metadata": {},
   "outputs": [
    {
     "data": {
      "application/vnd.jupyter.widget-view+json": {
       "model_id": "5812adaed475451daa6a967f0221860c",
       "version_major": 2,
       "version_minor": 0
      },
      "text/plain": [
       "VBox()"
      ]
     },
     "metadata": {},
     "output_type": "display_data"
    },
    {
     "data": {
      "application/vnd.jupyter.widget-view+json": {
       "model_id": "",
       "version_major": 2,
       "version_minor": 0
      },
      "text/plain": [
       "FloatProgress(value=0.0, bar_style='info', description='Progress:', layout=Layout(height='25px', width='50%'),…"
      ]
     },
     "metadata": {},
     "output_type": "display_data"
    },
    {
     "name": "stdout",
     "output_type": "stream",
     "text": [
      "0"
     ]
    }
   ],
   "source": [
    "# number of users with userId equals to ''\n",
    "df.filter(df.userId=='').count()"
   ]
  },
  {
   "cell_type": "markdown",
   "metadata": {},
   "source": [
    "In the full dataset there are no users with userId equals to `''` (length of the string userId is zero). Perhaps those users without userId are those who have not signed up yet or that are signed out and are about to log in and somehow were only in the mini-dataset.\n",
    "\n",
    "We'll drop them from our dataframe (in order for the analysis of individual users make sense):"
   ]
  },
  {
   "cell_type": "code",
   "execution_count": 25,
   "metadata": {},
   "outputs": [
    {
     "data": {
      "application/vnd.jupyter.widget-view+json": {
       "model_id": "8bf7434a61604881998e6c515bf7ea78",
       "version_major": 2,
       "version_minor": 0
      },
      "text/plain": [
       "VBox()"
      ]
     },
     "metadata": {},
     "output_type": "display_data"
    },
    {
     "data": {
      "application/vnd.jupyter.widget-view+json": {
       "model_id": "",
       "version_major": 2,
       "version_minor": 0
      },
      "text/plain": [
       "FloatProgress(value=0.0, bar_style='info', description='Progress:', layout=Layout(height='25px', width='50%'),…"
      ]
     },
     "metadata": {},
     "output_type": "display_data"
    }
   ],
   "source": [
    "# Drop userId equals to ''\n",
    "df = df.filter(df.userId!='')"
   ]
  },
  {
   "cell_type": "code",
   "execution_count": 26,
   "metadata": {},
   "outputs": [
    {
     "data": {
      "application/vnd.jupyter.widget-view+json": {
       "model_id": "00ed33ec606a41e5a015345197d68b58",
       "version_major": 2,
       "version_minor": 0
      },
      "text/plain": [
       "VBox()"
      ]
     },
     "metadata": {},
     "output_type": "display_data"
    },
    {
     "data": {
      "application/vnd.jupyter.widget-view+json": {
       "model_id": "",
       "version_major": 2,
       "version_minor": 0
      },
      "text/plain": [
       "FloatProgress(value=0.0, bar_style='info', description='Progress:', layout=Layout(height='25px', width='50%'),…"
      ]
     },
     "metadata": {},
     "output_type": "display_data"
    },
    {
     "name": "stdout",
     "output_type": "stream",
     "text": [
      "26259199"
     ]
    }
   ],
   "source": [
    "# Full dataset has 26,259,199 rows. It should stay the same\n",
    "df.count()"
   ]
  },
  {
   "cell_type": "code",
   "execution_count": 27,
   "metadata": {},
   "outputs": [
    {
     "data": {
      "application/vnd.jupyter.widget-view+json": {
       "model_id": "f4a95d7b086c482c9b8db97b77ba7989",
       "version_major": 2,
       "version_minor": 0
      },
      "text/plain": [
       "VBox()"
      ]
     },
     "metadata": {},
     "output_type": "display_data"
    },
    {
     "data": {
      "application/vnd.jupyter.widget-view+json": {
       "model_id": "",
       "version_major": 2,
       "version_minor": 0
      },
      "text/plain": [
       "FloatProgress(value=0.0, bar_style='info', description='Progress:', layout=Layout(height='25px', width='50%'),…"
      ]
     },
     "metadata": {},
     "output_type": "display_data"
    },
    {
     "name": "stdout",
     "output_type": "stream",
     "text": [
      "There are 22278 users in the full dataset."
     ]
    }
   ],
   "source": [
    "print(f\"There are {df.select('userId').distinct().count()} users in the full dataset.\")"
   ]
  },
  {
   "cell_type": "markdown",
   "metadata": {},
   "source": [
    "# Exploratory Data Analysis\n",
    "\n",
    "### Define Churn\n",
    "\n",
    "We create a column `Churn` to use as the label for our model. We choose the `Cancellation Confirmation` events to define the churn, which happen for both paid and free users. We also analyze the `Downgrade` events."
   ]
  },
  {
   "cell_type": "code",
   "execution_count": 28,
   "metadata": {},
   "outputs": [
    {
     "data": {
      "application/vnd.jupyter.widget-view+json": {
       "model_id": "e4474fda93674b92bec8daf617371328",
       "version_major": 2,
       "version_minor": 0
      },
      "text/plain": [
       "VBox()"
      ]
     },
     "metadata": {},
     "output_type": "display_data"
    },
    {
     "data": {
      "application/vnd.jupyter.widget-view+json": {
       "model_id": "",
       "version_major": 2,
       "version_minor": 0
      },
      "text/plain": [
       "FloatProgress(value=0.0, bar_style='info', description='Progress:', layout=Layout(height='25px', width='50%'),…"
      ]
     },
     "metadata": {},
     "output_type": "display_data"
    },
    {
     "name": "stdout",
     "output_type": "stream",
     "text": [
      "churner_ids: ['1768454', '1381915', '1298443', '1379352', '1068112', '1362621', '1276848', '1277353', '1274097', '1163202', '1809551', '1625954', '1015368', '1714714', '1467284', '1417019', '1191242', '1487256', '1231207', '1985954']\n",
      "\n",
      "Total churners in full dataset: 5003"
     ]
    }
   ],
   "source": [
    "# Create Churn column\n",
    "churner_ids = df.select('userId').where(col('page')=='Cancellation Confirmation').toPandas()\n",
    "churner_ids = churner_ids.values.squeeze().tolist()\n",
    "print('churner_ids:', churner_ids[:20])\n",
    "print('\\nTotal churners in full dataset:', len(churner_ids))"
   ]
  },
  {
   "cell_type": "code",
   "execution_count": 29,
   "metadata": {},
   "outputs": [
    {
     "data": {
      "application/vnd.jupyter.widget-view+json": {
       "model_id": "e1b521eadcd141e69b43914848d1e1d0",
       "version_major": 2,
       "version_minor": 0
      },
      "text/plain": [
       "VBox()"
      ]
     },
     "metadata": {},
     "output_type": "display_data"
    },
    {
     "data": {
      "application/vnd.jupyter.widget-view+json": {
       "model_id": "",
       "version_major": 2,
       "version_minor": 0
      },
      "text/plain": [
       "FloatProgress(value=0.0, bar_style='info', description='Progress:', layout=Layout(height='25px', width='50%'),…"
      ]
     },
     "metadata": {},
     "output_type": "display_data"
    },
    {
     "name": "stdout",
     "output_type": "stream",
     "text": [
      "Total distinct users in full dataset: 22278"
     ]
    }
   ],
   "source": [
    "all_ids = df.select('userId').distinct().toPandas()\n",
    "all_ids = all_ids.values.squeeze().tolist()\n",
    "print('Total distinct users in full dataset:', len(all_ids))"
   ]
  },
  {
   "cell_type": "code",
   "execution_count": 30,
   "metadata": {},
   "outputs": [
    {
     "data": {
      "application/vnd.jupyter.widget-view+json": {
       "model_id": "aa8a6b22df754fe7bd2f973d6b36ad33",
       "version_major": 2,
       "version_minor": 0
      },
      "text/plain": [
       "VBox()"
      ]
     },
     "metadata": {},
     "output_type": "display_data"
    },
    {
     "data": {
      "application/vnd.jupyter.widget-view+json": {
       "model_id": "",
       "version_major": 2,
       "version_minor": 0
      },
      "text/plain": [
       "FloatProgress(value=0.0, bar_style='info', description='Progress:', layout=Layout(height='25px', width='50%'),…"
      ]
     },
     "metadata": {},
     "output_type": "display_data"
    },
    {
     "name": "stdout",
     "output_type": "stream",
     "text": [
      "not_churner_ids: ['1000035', '1000103', '1000164', '1000168', '1000182', '1000194', '1000214', '1000233', '1000244', '1000248', '1000407', '1000409', '1000446', '1000527', '1000611', '1000625', '1000626', '1000655', '1000662', '1000908'] ...\n",
      "\n",
      "Total churners in full dataset: 17275"
     ]
    }
   ],
   "source": [
    "not_churner_ids = np.setdiff1d(all_ids, churner_ids).tolist()\n",
    "print('not_churner_ids:', not_churner_ids[:20], '...')\n",
    "print('\\nTotal churners in full dataset:', len(not_churner_ids))"
   ]
  },
  {
   "cell_type": "code",
   "execution_count": 31,
   "metadata": {},
   "outputs": [
    {
     "data": {
      "application/vnd.jupyter.widget-view+json": {
       "model_id": "",
       "version_major": 2,
       "version_minor": 0
      },
      "text/plain": [
       "FloatProgress(value=0.0, bar_style='info', description='Progress:', layout=Layout(height='25px', width='50%'),…"
      ]
     },
     "metadata": {},
     "output_type": "display_data"
    },
    {
     "data": {
      "application/vnd.jupyter.widget-view+json": {
       "model_id": "",
       "version_major": 2,
       "version_minor": 0
      },
      "text/plain": [
       "FloatProgress(value=0.0, bar_style='info', description='Progress:', layout=Layout(height='25px', width='50%'),…"
      ]
     },
     "metadata": {},
     "output_type": "display_data"
    }
   ],
   "source": [
    "%spark -o df_head\n",
    "is_churn = udf(lambda usrIdCol: 1 if usrIdCol in churner_ids else 0, IntegerType())\n",
    "df = df.withColumn('churn', is_churn('userId'))\n",
    "\n",
    "df_head = df.limit(5)"
   ]
  },
  {
   "cell_type": "code",
   "execution_count": 32,
   "metadata": {},
   "outputs": [
    {
     "data": {
      "application/vnd.jupyter.widget-view+json": {
       "model_id": "ef95a2f8685a439b8cf1abe371b39a9c",
       "version_major": 2,
       "version_minor": 0
      },
      "text/plain": [
       "VBox(children=(HBox(children=(HTML(value='Type:'), Button(description='Table', layout=Layout(width='70px'), st…"
      ]
     },
     "metadata": {},
     "output_type": "display_data"
    },
    {
     "data": {
      "application/vnd.jupyter.widget-view+json": {
       "model_id": "a16dfffd98634c74a28c013c8084c1ce",
       "version_major": 2,
       "version_minor": 0
      },
      "text/plain": [
       "Output()"
      ]
     },
     "metadata": {},
     "output_type": "display_data"
    }
   ],
   "source": [
    "%local\n",
    "df_head"
   ]
  },
  {
   "cell_type": "markdown",
   "metadata": {},
   "source": [
    "### Explore Data\n",
    "Analyzing the behavior for users who stayed vs users who churned. \n",
    "We explore aggregates on these two groups of users, observing how much of a specific action they experienced per a certain time unit or number of songs played."
   ]
  },
  {
   "cell_type": "markdown",
   "metadata": {},
   "source": [
    "Without knowing much about the business nor the actual application, we can think the following possible reasons why users cancel the service:\n",
    "1. user is not using Sparkify\n",
    "2. Sparkify doesn't have specific songs/artists\n",
    "3. bad recommendations\n",
    "4. bad experience (streaming getting stuck, interface not intuitive in version of app, too many ads in the app, etc.)\n",
    "5. bugs (commands not responding or don't do what they should, crashes in the app, etc.)\n",
    "6. Sparkify too expensive\n",
    "7. don't have friends using Sparkify\n",
    "8. external influences (some news about company benefits/harms its image, country where users live imposes some limits, cost increase, etc.)\n",
    "\n",
    "From the hypothesis above:\n",
    "- `1.` we can check by counting number of interations in a given timeframe\n",
    "- `2.` we cannot check directly since we don't have logs for search queries which would be better (showing that the search query returned exactly what the user wanted) \n",
    "- `3.` we have the Add to Playlist, Thumbs Down and Thumbs Up `pages` which could indicate the quality of recommendations\n",
    "- `4.` and `5.` we don't have application logs which could indicate loading times, interrupting streaming. However, <a href=\"https://www.w3.org/Protocols/rfc2616/rfc2616-sec10.html#sec10.3.3\">status</a> could give us some information about the application and the Error and Help `pages`. In addition, <a href=\"https://developer.mozilla.org/en-US/docs/Web/HTTP/Headers/User-Agent\">userAgent</a> can also give us some information about Sparkify applications that are not behaving as expected (Windows, MacOS, specific browser, platform, etc.). The Roll Advert `page` indicates Advertising events and if it is affecting too much user experience (if we could reduce it or enphasize that user can upgrade plan)\n",
    "- `6.` as \"expensive\" may be an ambiguous definition and depend on many factors, with the dataset given we won't be able to infer anything.\n",
    "- `7.` Add Friend `page` could indicate that friends are also using app (in the provided dataset we don't have relationships between users which would be better)\n",
    "- `8.` again we would need more data related to the business and context to infer anything here\n",
    "\n",
    "We check the data to answer those questions and compare customers who churn with those who don't:"
   ]
  },
  {
   "cell_type": "code",
   "execution_count": 33,
   "metadata": {},
   "outputs": [
    {
     "data": {
      "application/vnd.jupyter.widget-view+json": {
       "model_id": "bc4916413d044e77ae350286f8b2b9d0",
       "version_major": 2,
       "version_minor": 0
      },
      "text/plain": [
       "VBox()"
      ]
     },
     "metadata": {},
     "output_type": "display_data"
    },
    {
     "data": {
      "application/vnd.jupyter.widget-view+json": {
       "model_id": "",
       "version_major": 2,
       "version_minor": 0
      },
      "text/plain": [
       "FloatProgress(value=0.0, bar_style='info', description='Progress:', layout=Layout(height='25px', width='50%'),…"
      ]
     },
     "metadata": {},
     "output_type": "display_data"
    }
   ],
   "source": [
    "not_churn_users = df.filter(col('churn')==0)\n",
    "churn_users = df.filter(col('churn')==1)"
   ]
  },
  {
   "cell_type": "code",
   "execution_count": 34,
   "metadata": {},
   "outputs": [
    {
     "data": {
      "application/vnd.jupyter.widget-view+json": {
       "model_id": "472cba2cb4184a1691ebbe95a95ba1b4",
       "version_major": 2,
       "version_minor": 0
      },
      "text/plain": [
       "VBox()"
      ]
     },
     "metadata": {},
     "output_type": "display_data"
    },
    {
     "data": {
      "application/vnd.jupyter.widget-view+json": {
       "model_id": "",
       "version_major": 2,
       "version_minor": 0
      },
      "text/plain": [
       "FloatProgress(value=0.0, bar_style='info', description='Progress:', layout=Layout(height='25px', width='50%'),…"
      ]
     },
     "metadata": {},
     "output_type": "display_data"
    }
   ],
   "source": [
    "num_churn_users = churn_users.select('userId').distinct().count()\n",
    "num_not_churn_users = not_churn_users.select('userId').distinct().count()"
   ]
  },
  {
   "cell_type": "code",
   "execution_count": 35,
   "metadata": {},
   "outputs": [
    {
     "data": {
      "application/vnd.jupyter.widget-view+json": {
       "model_id": "d778e61795084ce3902eb2295f091f6b",
       "version_major": 2,
       "version_minor": 0
      },
      "text/plain": [
       "VBox()"
      ]
     },
     "metadata": {},
     "output_type": "display_data"
    },
    {
     "data": {
      "application/vnd.jupyter.widget-view+json": {
       "model_id": "",
       "version_major": 2,
       "version_minor": 0
      },
      "text/plain": [
       "FloatProgress(value=0.0, bar_style='info', description='Progress:', layout=Layout(height='25px', width='50%'),…"
      ]
     },
     "metadata": {},
     "output_type": "display_data"
    },
    {
     "name": "stdout",
     "output_type": "stream",
     "text": [
      "Number of users who churn: 5003\n",
      "Number of users who don't churns 17275\n",
      "Total (should be 26,259,199 users): 22278"
     ]
    }
   ],
   "source": [
    "# Sanity check (there should be 22278 users in total in the full dataset)\n",
    "print('Number of users who churn:', num_churn_users)\n",
    "print(\"Number of users who don't churns\", num_not_churn_users)\n",
    "print('Total (should be 26,259,199 users):', num_churn_users + num_not_churn_users)"
   ]
  },
  {
   "cell_type": "markdown",
   "metadata": {},
   "source": [
    "As we see, there is class imbalance in the fulldataset with ~22% of users who churn and ~78% of users who don't churn."
   ]
  },
  {
   "cell_type": "markdown",
   "metadata": {},
   "source": [
    "#### Some analysis"
   ]
  },
  {
   "cell_type": "code",
   "execution_count": 36,
   "metadata": {},
   "outputs": [
    {
     "data": {
      "application/vnd.jupyter.widget-view+json": {
       "model_id": "52edaed0fcf045eabe6e83ae863927ab",
       "version_major": 2,
       "version_minor": 0
      },
      "text/plain": [
       "VBox()"
      ]
     },
     "metadata": {},
     "output_type": "display_data"
    },
    {
     "data": {
      "application/vnd.jupyter.widget-view+json": {
       "model_id": "",
       "version_major": 2,
       "version_minor": 0
      },
      "text/plain": [
       "FloatProgress(value=0.0, bar_style='info', description='Progress:', layout=Layout(height='25px', width='50%'),…"
      ]
     },
     "metadata": {},
     "output_type": "display_data"
    },
    {
     "name": "stdout",
     "output_type": "stream",
     "text": [
      "+-----------------------+--------------------------+\n",
      "|churnAvg(count(period))|notChurnAvg(count(period))|\n",
      "+-----------------------+--------------------------+\n",
      "|     23.048179539590876|         23.33570885918064|\n",
      "+-----------------------+--------------------------+"
     ]
    }
   ],
   "source": [
    "# How many songs do users listen to on average between visiting our home page (calculation shown in the Udacity course)\n",
    "\n",
    "fun = udf(lambda ishome : int(ishome == 'Home'), IntegerType())\n",
    "\n",
    "user_window = Window \\\n",
    "    .partitionBy('userID') \\\n",
    "    .orderBy(F.desc('ts')) \\\n",
    "    .rangeBetween(Window.unboundedPreceding, 0)\n",
    "\n",
    "cusum_churn = churn_users.filter((col('page') == 'NextSong') | (col('page') == 'Home')) \\\n",
    "    .select('userID', 'page', 'ts') \\\n",
    "    .withColumn('homevisit', fun(col('page'))) \\\n",
    "    .withColumn('period', F.sum('homevisit').over(user_window))\n",
    "\n",
    "cusum_churn = cusum_churn.filter((col('page') == 'NextSong')) \\\n",
    "    .groupBy('userID', 'period') \\\n",
    "    .agg({'period':'count'}) \\\n",
    "    .agg({'count(period)':'avg'}).withColumnRenamed('avg(count(period))', 'churnAvg(count(period))') \\\n",
    "    .withColumn(\"id\", F.monotonically_increasing_id())\n",
    "\n",
    "cusum_not_churn = not_churn_users.filter((col('page') == 'NextSong') | (col('page') == 'Home')) \\\n",
    "    .select('userID', 'page', 'ts') \\\n",
    "    .withColumn('homevisit', fun(col('page'))) \\\n",
    "    .withColumn('period', F.sum('homevisit').over(user_window))\n",
    "\n",
    "cusum_not_churn = cusum_not_churn.filter((col('page') == 'NextSong')) \\\n",
    "    .groupBy('userID', 'period') \\\n",
    "    .agg({'period':'count'}) \\\n",
    "    .agg({'count(period)':'avg'}).withColumnRenamed('avg(count(period))', 'notChurnAvg(count(period))') \\\n",
    "    .withColumn(\"id\", F.monotonically_increasing_id())\n",
    "\n",
    "result = cusum_churn.join(cusum_not_churn, \"id\", \"outer\").drop('id')\\\n",
    "\n",
    "result.show()"
   ]
  },
  {
   "cell_type": "markdown",
   "metadata": {},
   "source": [
    "Interestingly in the full-dataset the number of songs users listen to on average between visiting our home page is similar in the not churn group and in the group of users who churn."
   ]
  },
  {
   "cell_type": "code",
   "execution_count": 37,
   "metadata": {},
   "outputs": [
    {
     "data": {
      "application/vnd.jupyter.widget-view+json": {
       "model_id": "19579646ffe44e6da54a161863416eb7",
       "version_major": 2,
       "version_minor": 0
      },
      "text/plain": [
       "VBox()"
      ]
     },
     "metadata": {},
     "output_type": "display_data"
    },
    {
     "data": {
      "application/vnd.jupyter.widget-view+json": {
       "model_id": "",
       "version_major": 2,
       "version_minor": 0
      },
      "text/plain": [
       "FloatProgress(value=0.0, bar_style='info', description='Progress:', layout=Layout(height='25px', width='50%'),…"
      ]
     },
     "metadata": {},
     "output_type": "display_data"
    }
   ],
   "source": [
    "# Calculating number of songs played given time frame\n",
    "\n",
    "def add_time_columns(df):\n",
    "    # Add hour column\n",
    "    get_hour = udf(lambda x: int(datetime.fromtimestamp(x / 1000.0).hour), IntegerType())\n",
    "    df_time = df.withColumn('hour', get_hour(df.ts))\n",
    "    songs_in_hour = df_time.filter(df_time.page == 'NextSong').groupby('hour').count().orderBy('hour')\n",
    "    songs_in_hour_pd = songs_in_hour.toPandas()\n",
    "\n",
    "    # Add weekday column\n",
    "    get_weekday = udf(lambda x: int(datetime.fromtimestamp(x / 1000.0).weekday()), IntegerType())\n",
    "    df_time = df_time.withColumn('weekday', get_weekday(df_time.ts))\n",
    "    songs_in_weekday = df_time.filter(df_time.page == 'NextSong').groupby('weekday').count().orderBy('weekday')\n",
    "    songs_in_weekday_pd = songs_in_weekday.toPandas()\n",
    "    songs_in_weekday_pd.weekday = songs_in_weekday_pd.weekday.map({0: 'Mon', 1: 'Tue', 2: 'Wed', 3: 'Thu', 4: 'Fri', 5: 'Sat', 6: 'Sun'})\n",
    "    \n",
    "    return songs_in_hour_pd, songs_in_weekday_pd\n",
    "\n",
    "churn_songs_hour, churn_songs_weekday = add_time_columns(churn_users)\n",
    "not_churn_songs_hour, not_churn_songs_weekday = add_time_columns(not_churn_users)"
   ]
  },
  {
   "cell_type": "code",
   "execution_count": 38,
   "metadata": {},
   "outputs": [
    {
     "data": {
      "application/vnd.jupyter.widget-view+json": {
       "model_id": "e1a5173504994469b8347c76ac8f90b3",
       "version_major": 2,
       "version_minor": 0
      },
      "text/plain": [
       "VBox()"
      ]
     },
     "metadata": {},
     "output_type": "display_data"
    },
    {
     "data": {
      "application/vnd.jupyter.widget-view+json": {
       "model_id": "",
       "version_major": 2,
       "version_minor": 0
      },
      "text/plain": [
       "FloatProgress(value=0.0, bar_style='info', description='Progress:', layout=Layout(height='25px', width='50%'),…"
      ]
     },
     "metadata": {},
     "output_type": "display_data"
    }
   ],
   "source": [
    "fig, ax = plt.subplots(1,2, figsize=(12,5))\n",
    "ax[0].scatter(churn_songs_hour['hour'], churn_songs_hour['count']/num_churn_users, label='churn')\n",
    "ax[0].scatter(not_churn_songs_hour['hour'], not_churn_songs_hour['count']/num_not_churn_users, label='not churn')\n",
    "ax[0].set_xlim(-1, 24)\n",
    "ax[0].set_ylim(0, 1.2 * max(not_churn_songs_hour[\"count\"]/num_not_churn_users))\n",
    "ax[0].set_xlabel(\"Hour\")\n",
    "ax[0].set_ylabel(\"Songs played per user\")\n",
    "ax[0].set_title(\"Songs played by Hour\")\n",
    "ax[0].legend(loc='best')\n",
    "ax[1].scatter(churn_songs_weekday['weekday'], churn_songs_weekday['count']/num_churn_users, label='churn')\n",
    "ax[1].scatter(not_churn_songs_weekday['weekday'], not_churn_songs_weekday['count']/num_not_churn_users, label='not churn')\n",
    "ax[1].set_xlim(-0.5, 6.5)\n",
    "ax[1].set_ylim(0, 1.2 * max(not_churn_songs_weekday[\"count\"]/num_not_churn_users))\n",
    "ax[1].set_xlabel(\"Week day\")\n",
    "ax[1].set_ylabel(\"Songs played per user\")\n",
    "ax[1].set_title(\"Songs played by Week day\")\n",
    "ax[1].legend(loc='best')\n",
    "fig.tight_layout();"
   ]
  },
  {
   "cell_type": "code",
   "execution_count": 39,
   "metadata": {},
   "outputs": [
    {
     "data": {
      "application/vnd.jupyter.widget-view+json": {
       "model_id": "",
       "version_major": 2,
       "version_minor": 0
      },
      "text/plain": [
       "FloatProgress(value=0.0, bar_style='info', description='Progress:', layout=Layout(height='25px', width='50%'),…"
      ]
     },
     "metadata": {},
     "output_type": "display_data"
    },
    {
     "data": {
      "image/png": "[encoded data removed]",
      "text/plain": [
       "<IPython.core.display.Image object>"
      ]
     },
     "metadata": {},
     "output_type": "display_data"
    }
   ],
   "source": [
    "%matplot plt"
   ]
  },
  {
   "cell_type": "markdown",
   "metadata": {},
   "source": [
    "Users that churn and those who don't behave similarly w.r.t. the time, however playing less songs in the churn group."
   ]
  },
  {
   "cell_type": "code",
   "execution_count": 40,
   "metadata": {},
   "outputs": [
    {
     "data": {
      "application/vnd.jupyter.widget-view+json": {
       "model_id": "75e2a7fc9157453fbcfbb7144e3d9a39",
       "version_major": 2,
       "version_minor": 0
      },
      "text/plain": [
       "VBox()"
      ]
     },
     "metadata": {},
     "output_type": "display_data"
    },
    {
     "data": {
      "application/vnd.jupyter.widget-view+json": {
       "model_id": "",
       "version_major": 2,
       "version_minor": 0
      },
      "text/plain": [
       "FloatProgress(value=0.0, bar_style='info', description='Progress:', layout=Layout(height='25px', width='50%'),…"
      ]
     },
     "metadata": {},
     "output_type": "display_data"
    },
    {
     "name": "stdout",
     "output_type": "stream",
     "text": [
      "Earliest record in full dataset is 2018-10-01 00:00:01\n",
      "Latest record in full dataset is 2018-12-01 00:00:02"
     ]
    }
   ],
   "source": [
    "# How the number of interactions change over time, since user registrates\n",
    "\n",
    "earliest = df.select('ts').orderBy(col('ts')).head()\n",
    "latest = df.select('ts').orderBy(col('ts'), ascending=False).head()\n",
    "\n",
    "print(f'Earliest record in full dataset is {datetime.fromtimestamp(earliest.ts / 1000.0)}')\n",
    "print(f'Latest record in full dataset is {datetime.fromtimestamp(latest.ts / 1000.0)}')"
   ]
  },
  {
   "cell_type": "code",
   "execution_count": 41,
   "metadata": {},
   "outputs": [
    {
     "data": {
      "application/vnd.jupyter.widget-view+json": {
       "model_id": "a016fbad3780425994367b9139228922",
       "version_major": 2,
       "version_minor": 0
      },
      "text/plain": [
       "VBox()"
      ]
     },
     "metadata": {},
     "output_type": "display_data"
    },
    {
     "data": {
      "application/vnd.jupyter.widget-view+json": {
       "model_id": "",
       "version_major": 2,
       "version_minor": 0
      },
      "text/plain": [
       "FloatProgress(value=0.0, bar_style='info', description='Progress:', layout=Layout(height='25px', width='50%'),…"
      ]
     },
     "metadata": {},
     "output_type": "display_data"
    }
   ],
   "source": [
    "# Count actions per user per day\n",
    "# We randomly select 1 user who have churned and 1 user who haven't churned for comparison\n",
    "churner = np.random.choice(churner_ids, size=1, replace=False).tolist()\n",
    "not_churner = np.random.choice(not_churner_ids, size=1, replace=False).tolist()\n",
    "\n",
    "def get_actions_by_day(df, ids):\n",
    "    actions = df.where(df.userId.isin(ids))\\\n",
    "        .withColumn('day', F.date_trunc('day', F.from_unixtime(col('ts')/1000)))\\\n",
    "        .groupBy('userId', 'day', 'page').agg({'page': 'count'})\\\n",
    "        .orderBy('userId','day', 'page')\n",
    "\n",
    "    # We want each line to be a day, and columns for counts of each page action\n",
    "    actions = actions.groupBy(col('userId'), col('day')).pivot('page')\\\n",
    "        .agg(F.first('count(page)')).drop('page').orderBy('userId','day')\n",
    "\n",
    "    # In order to compare users, we transform day of the month in a running day number (e.g. if )\n",
    "    first_interactions = actions.select('userId', 'day').groupBy('userId').agg({'day': 'min'})\n",
    "    actions = actions.join(first_interactions, on='userId').withColumn('runningDaysFromFirstInteration', F.datediff('day',col('min(day)'))).drop('min(day)')\n",
    "    \n",
    "    # Fill nulls with zeros (no actions of that type in the day)\n",
    "    actions = actions.fillna(0)\n",
    "    return actions\n",
    "\n",
    "churner_actions = get_actions_by_day(df, churner)\n",
    "not_churner_actions = get_actions_by_day(df, not_churner)\n"
   ]
  },
  {
   "cell_type": "code",
   "execution_count": 42,
   "metadata": {},
   "outputs": [
    {
     "data": {
      "application/vnd.jupyter.widget-view+json": {
       "model_id": "5e15995a359a4a72b1b5be100fc038d8",
       "version_major": 2,
       "version_minor": 0
      },
      "text/plain": [
       "VBox()"
      ]
     },
     "metadata": {},
     "output_type": "display_data"
    },
    {
     "data": {
      "application/vnd.jupyter.widget-view+json": {
       "model_id": "",
       "version_major": 2,
       "version_minor": 0
      },
      "text/plain": [
       "FloatProgress(value=0.0, bar_style='info', description='Progress:', layout=Layout(height='25px', width='50%'),…"
      ]
     },
     "metadata": {},
     "output_type": "display_data"
    }
   ],
   "source": [
    "churner_actions_pd = churner_actions.toPandas()\n",
    "not_churner_actions_pd = not_churner_actions.toPandas()"
   ]
  },
  {
   "cell_type": "code",
   "execution_count": 43,
   "metadata": {},
   "outputs": [
    {
     "data": {
      "application/vnd.jupyter.widget-view+json": {
       "model_id": "e95b69a290e347708c6b2f7ae7b22834",
       "version_major": 2,
       "version_minor": 0
      },
      "text/plain": [
       "VBox()"
      ]
     },
     "metadata": {},
     "output_type": "display_data"
    },
    {
     "data": {
      "application/vnd.jupyter.widget-view+json": {
       "model_id": "",
       "version_major": 2,
       "version_minor": 0
      },
      "text/plain": [
       "FloatProgress(value=0.0, bar_style='info', description='Progress:', layout=Layout(height='25px', width='50%'),…"
      ]
     },
     "metadata": {},
     "output_type": "display_data"
    }
   ],
   "source": [
    "churner_actions_pd['churn'] = pd.Series(np.ones(churner_actions_pd.shape[0]))\n",
    "not_churner_actions_pd['churn'] = pd.Series(np.zeros(churner_actions_pd.shape[0]))\n",
    "churner_actions_pd.drop('day', axis=1, inplace=True)\n",
    "not_churner_actions_pd.drop('day', axis=1, inplace=True)\n",
    "actions = pd.concat([churner_actions_pd, not_churner_actions_pd])"
   ]
  },
  {
   "cell_type": "code",
   "execution_count": 44,
   "metadata": {},
   "outputs": [
    {
     "data": {
      "application/vnd.jupyter.widget-view+json": {
       "model_id": "f927fddc600945f58a626c4df801091d",
       "version_major": 2,
       "version_minor": 0
      },
      "text/plain": [
       "VBox()"
      ]
     },
     "metadata": {},
     "output_type": "display_data"
    },
    {
     "data": {
      "application/vnd.jupyter.widget-view+json": {
       "model_id": "",
       "version_major": 2,
       "version_minor": 0
      },
      "text/plain": [
       "FloatProgress(value=0.0, bar_style='info', description='Progress:', layout=Layout(height='25px', width='50%'),…"
      ]
     },
     "metadata": {},
     "output_type": "display_data"
    }
   ],
   "source": [
    "cols = churner_actions_pd.columns[1:-2]"
   ]
  },
  {
   "cell_type": "code",
   "execution_count": 45,
   "metadata": {},
   "outputs": [
    {
     "data": {
      "application/vnd.jupyter.widget-view+json": {
       "model_id": "39697c38324a4026a59be8664be26721",
       "version_major": 2,
       "version_minor": 0
      },
      "text/plain": [
       "VBox()"
      ]
     },
     "metadata": {},
     "output_type": "display_data"
    },
    {
     "data": {
      "application/vnd.jupyter.widget-view+json": {
       "model_id": "",
       "version_major": 2,
       "version_minor": 0
      },
      "text/plain": [
       "FloatProgress(value=0.0, bar_style='info', description='Progress:', layout=Layout(height='25px', width='50%'),…"
      ]
     },
     "metadata": {},
     "output_type": "display_data"
    }
   ],
   "source": [
    "ax_i = int(np.ceil(cols.shape[0]/5))\n",
    "ax_j = 5\n",
    "\n",
    "fig, ax = plt.subplots(ax_i, ax_j, figsize=(26,16))\n",
    "for i in range(ax_i):\n",
    "    for j in range(ax_j):\n",
    "        sns.lineplot(x='runningDaysFromFirstInteration', y=cols[j + 5*i], hue='churn', data=actions, ax=ax[i][j])\n",
    "        ax[i][j].set_title(f'Action \"{cols[j + 5*i]}\" vs day')\n",
    "        if (j + 5*i) == len(cols)-1:\n",
    "            break\n",
    "fig.tight_layout();"
   ]
  },
  {
   "cell_type": "code",
   "execution_count": 46,
   "metadata": {},
   "outputs": [
    {
     "data": {
      "application/vnd.jupyter.widget-view+json": {
       "model_id": "",
       "version_major": 2,
       "version_minor": 0
      },
      "text/plain": [
       "FloatProgress(value=0.0, bar_style='info', description='Progress:', layout=Layout(height='25px', width='50%'),…"
      ]
     },
     "metadata": {},
     "output_type": "display_data"
    },
    {
     "data": {
      "image/png": "[encoded data removed]",
      "text/plain": [
       "<IPython.core.display.Image object>"
      ]
     },
     "metadata": {},
     "output_type": "display_data"
    }
   ],
   "source": [
    "%matplot plt"
   ]
  },
  {
   "cell_type": "code",
   "execution_count": 47,
   "metadata": {},
   "outputs": [
    {
     "data": {
      "application/vnd.jupyter.widget-view+json": {
       "model_id": "c45ce03b281048e19ed201cfc619348f",
       "version_major": 2,
       "version_minor": 0
      },
      "text/plain": [
       "VBox()"
      ]
     },
     "metadata": {},
     "output_type": "display_data"
    },
    {
     "data": {
      "application/vnd.jupyter.widget-view+json": {
       "model_id": "",
       "version_major": 2,
       "version_minor": 0
      },
      "text/plain": [
       "FloatProgress(value=0.0, bar_style='info', description='Progress:', layout=Layout(height='25px', width='50%'),…"
      ]
     },
     "metadata": {},
     "output_type": "display_data"
    }
   ],
   "source": [
    "# Users who Downgrade Their Accounts\n",
    "\n",
    "# We find when users downgrade their accounts and then flag those log entries. \n",
    "# Then we use a window function to create 2 phases (0 for pre-downgrade 1 for pos-downgrade) using a cumulative sum for each user.\n",
    "\n",
    "flag_downgrade_event = udf(lambda x: 1 if x == 'Submit Downgrade' else 0, IntegerType())\n",
    "\n",
    "df_downgraded = df.withColumn('downgraded', flag_downgrade_event('page'))\n",
    "\n",
    "windowval = Window.partitionBy('userId').orderBy(F.desc('ts')).rangeBetween(Window.unboundedPreceding, 0)\n",
    "\n",
    "df_downgraded = df_downgraded.withColumn('phase', F.sum('downgraded').over(windowval))\n"
   ]
  },
  {
   "cell_type": "code",
   "execution_count": 48,
   "metadata": {},
   "outputs": [
    {
     "data": {
      "application/vnd.jupyter.widget-view+json": {
       "model_id": "",
       "version_major": 2,
       "version_minor": 0
      },
      "text/plain": [
       "FloatProgress(value=0.0, bar_style='info', description='Progress:', layout=Layout(height='25px', width='50%'),…"
      ]
     },
     "metadata": {},
     "output_type": "display_data"
    },
    {
     "data": {
      "application/vnd.jupyter.widget-view+json": {
       "model_id": "",
       "version_major": 2,
       "version_minor": 0
      },
      "text/plain": [
       "FloatProgress(value=0.0, bar_style='info', description='Progress:', layout=Layout(height='25px', width='50%'),…"
      ]
     },
     "metadata": {},
     "output_type": "display_data"
    }
   ],
   "source": [
    "%spark -o df_downgraded_1994680\n",
    "# Taking userId 1994680 as example\n",
    "df_downgraded_1994680 = df_downgraded.select([\"userId\", \"firstname\", \"ts\", \"page\", \"level\", \"downgraded\", \"phase\"])\\\n",
    "                                .where(col('userId') == \"1994680\").sort(F.desc(\"ts\"))\\"
   ]
  },
  {
   "cell_type": "code",
   "execution_count": 49,
   "metadata": {},
   "outputs": [
    {
     "data": {
      "application/vnd.jupyter.widget-view+json": {
       "model_id": "5966e27ef38c4eff91d4e84e4404ab83",
       "version_major": 2,
       "version_minor": 0
      },
      "text/plain": [
       "VBox(children=(HBox(children=(HTML(value='Type:'), Button(description='Table', layout=Layout(width='70px'), st…"
      ]
     },
     "metadata": {},
     "output_type": "display_data"
    },
    {
     "data": {
      "application/vnd.jupyter.widget-view+json": {
       "model_id": "dfd97c8902754d67b4338e046a06e587",
       "version_major": 2,
       "version_minor": 0
      },
      "text/plain": [
       "Output()"
      ]
     },
     "metadata": {},
     "output_type": "display_data"
    }
   ],
   "source": [
    "%local\n",
    "df_downgraded_1994680.iloc[7:26,:]"
   ]
  },
  {
   "cell_type": "markdown",
   "metadata": {},
   "source": [
    "# Feature Engineering"
   ]
  },
  {
   "cell_type": "markdown",
   "metadata": {},
   "source": [
    "We need to make each row of our dataset to be an user."
   ]
  },
  {
   "cell_type": "markdown",
   "metadata": {},
   "source": [
    "Possible features (considering only all account time, not aggregations in recent vs distant events):\n",
    "- artist: distinct artists listened\n",
    "- song: distinct songs listened\n",
    "- length: average length of songs listened\n",
    "- gender: one-hot encode (M/F)\n",
    "- itemInSession: average items in session\n",
    "- sessionId: can be used calculate average length of sessions\n",
    "- level: one-hot encode (Free/Paid)\n",
    "- location: percentage of interactions of user at specific location\n",
    "- page: counts by page type\n",
    "- status: counts by status codes\n",
    "- userAgent: get percentage of interactions of user using specific user agent - device, system information, platform, etc.\n",
    "- accountLifeTime: time an user has an account, from the first interaction until the present or the moment he/she cancels account"
   ]
  },
  {
   "cell_type": "code",
   "execution_count": 50,
   "metadata": {},
   "outputs": [
    {
     "data": {
      "application/vnd.jupyter.widget-view+json": {
       "model_id": "e6f87c0b60754a0ca1471918b7284e63",
       "version_major": 2,
       "version_minor": 0
      },
      "text/plain": [
       "VBox()"
      ]
     },
     "metadata": {},
     "output_type": "display_data"
    },
    {
     "data": {
      "application/vnd.jupyter.widget-view+json": {
       "model_id": "",
       "version_major": 2,
       "version_minor": 0
      },
      "text/plain": [
       "FloatProgress(value=0.0, bar_style='info', description='Progress:', layout=Layout(height='25px', width='50%'),…"
      ]
     },
     "metadata": {},
     "output_type": "display_data"
    }
   ],
   "source": [
    "# Helper functions for cleaning and calculating percentages\n",
    "def get_mappings(cols, prefix):\n",
    "    mapping = dict()\n",
    "    for i, c in enumerate(cols):\n",
    "        mapping[prefix+str(i)] = c\n",
    "    return mapping\n",
    "\n",
    "def calculate_perc(percentage_df , mappings):\n",
    "    for new_name, existing_name in mappings.items():\n",
    "        percentage_df = percentage_df.withColumnRenamed(existing_name, new_name)\n",
    "        percentage_df = percentage_df.withColumn(new_name, col(new_name)/col('userTotalInterations'))\n",
    "\n",
    "    percentage_df = percentage_df.drop('userTotalInterations')\n",
    "    return percentage_df"
   ]
  },
  {
   "cell_type": "code",
   "execution_count": 51,
   "metadata": {},
   "outputs": [
    {
     "data": {
      "application/vnd.jupyter.widget-view+json": {
       "model_id": "868aa1cc701e418ea8cc94d985f0df3f",
       "version_major": 2,
       "version_minor": 0
      },
      "text/plain": [
       "VBox()"
      ]
     },
     "metadata": {},
     "output_type": "display_data"
    },
    {
     "data": {
      "application/vnd.jupyter.widget-view+json": {
       "model_id": "",
       "version_major": 2,
       "version_minor": 0
      },
      "text/plain": [
       "FloatProgress(value=0.0, bar_style='info', description='Progress:', layout=Layout(height='25px', width='50%'),…"
      ]
     },
     "metadata": {},
     "output_type": "display_data"
    }
   ],
   "source": [
    "def compute_features(df):\n",
    "    '''\n",
    "    Function for computing features.\n",
    "    \n",
    "    Parameters\n",
    "    ----------\n",
    "    input: Spark dataframe with schema of raw dataset and data\n",
    "    \n",
    "    Returns\n",
    "    -------\n",
    "    df_features: Spark dataframe with computed features\n",
    "    location_mappings: dict for encoded locations\n",
    "    sys_agent_mappings: dict for encoded system information from user-agent\n",
    "    plat_agent_mappings: dict for encoded platform information from user-agent\n",
    "    '''\n",
    "    # Create `day` column for aggregating days and keeping information about month and year\n",
    "    df_features = df\n",
    "#     print('df_features RAW shape (row, cow)', df_features.count(), len(df_features.columns))\n",
    "    df_features = df_features.withColumn('day', F.date_trunc('day', F.from_unixtime(col('ts')/1000)))\n",
    "\n",
    "    # Create `userAgentSystemInformation` and `userAgentPlatform` columns for retrieving separate information from `userAgent`\n",
    "    df_features = df_features.withColumn('userAgentSystemInformation', F.regexp_extract(col('userAgent'),'(?<=\\().+?(?=\\))',0))\n",
    "    df_features = df_features.withColumn('userAgentPlatform', F.regexp_extract(col('userAgent'),'(?<=\\)).+',0))  \n",
    "    df_features = df_features.drop('userAgent')\n",
    "\n",
    "    # Intermediate DF to calculate counts of actions by page type, per user\n",
    "    page_counts = df_features.groupBy('userId', 'page')\\\n",
    "        .agg({'page': 'count'})\\\n",
    "        .groupBy(col('userId')).pivot('page')\\\n",
    "        .agg(F.first('count(page)')).drop('page')\\\n",
    "        .fillna(0)\n",
    "\n",
    "    # Intermediate DF to calculate average length of user sessions\n",
    "    session_avg_length = df_features.groupby('userId', 'sessionId')\\\n",
    "                            .agg(\n",
    "                                F.min(col('ts')).alias('startSession'), \n",
    "                                F.max(col('ts')).alias('endSession')\n",
    "                            )\\\n",
    "                            .groupby('userId')\\\n",
    "                            .agg(\n",
    "                                F.avg(col('endSession')-col('startSession')).alias('avgSessionLength')\n",
    "                            )\n",
    "\n",
    "    # Intermediate DF to calculate percentage of interactions at specific location, per user\n",
    "    location_percentage = df_features.groupBy('userId', 'location').agg({'location': 'count'})\n",
    "    total_interations = df_features.groupBy('userId').agg(F.count('userId').alias('userTotalInterations'))\n",
    "\n",
    "    location_percentage = location_percentage.groupBy(col('userId')).pivot('location')\\\n",
    "        .agg(F.first('count(location)'))\\\n",
    "        .fillna(0).join(total_interations,on='userId').drop('location')\n",
    "\n",
    "    location_cols = location_percentage.columns\n",
    "    location_cols.remove('userId')\n",
    "    location_cols.remove('userTotalInterations')\n",
    "    \n",
    "    # Deal with bad column names\n",
    "    location_mappings = get_mappings(location_cols, 'location_')\n",
    "    location_percentage = calculate_perc(location_percentage , location_mappings)\n",
    "\n",
    "\n",
    "    # Intermediate DF to calculate percentage of interactions using specific user-agent system information, per user\n",
    "    countSysInfo = df_features.groupBy('userId', 'userAgentSystemInformation')\\\n",
    "        .agg(\n",
    "            F.count('userAgentSystemInformation').alias('sysInfoCount')\n",
    "        )\n",
    "\n",
    "    total = df_features.groupBy('userId').agg(F.count('userId').alias('userTotalInterations'))\n",
    "\n",
    "    countSysInfo = countSysInfo.groupBy(col('userId')).pivot('userAgentSystemInformation')\\\n",
    "        .agg(F.first('sysInfoCount'))\\\n",
    "        .fillna(0).join(total,on='userId').drop('userAgentSystemInformation')\n",
    "\n",
    "    sys_cols = countSysInfo.columns\n",
    "    sys_cols.remove('userId')\n",
    "    sys_cols.remove('userTotalInterations')\n",
    "    \n",
    "    # Deal with bad column names\n",
    "    sys_agent_mappings = get_mappings(sys_cols, 'sys_agent_')\n",
    "    percentage_sys_info = calculate_perc(countSysInfo , sys_agent_mappings)\n",
    "    \n",
    "    # Intermediate DF to calculate percentage of interactions using specific user-agent platform information, per user\n",
    "    countPlat = df_features.groupBy('userId', 'userAgentPlatform')\\\n",
    "        .agg(\n",
    "            F.count('userAgentPlatform').alias('platformCount')\n",
    "        )\n",
    "    \n",
    "    countPlat = countPlat.groupBy(col('userId')).pivot('userAgentPlatform')\\\n",
    "        .agg(F.first('platformCount'))\\\n",
    "        .fillna(0).join(total,on='userId').drop('userAgentPlatform')\n",
    "\n",
    "    plat_cols = countPlat.columns\n",
    "    plat_cols.remove('userId')\n",
    "    plat_cols.remove('userTotalInterations')\n",
    "    \n",
    "    # Deal with bad column names\n",
    "    plat_agent_mappings = get_mappings(plat_cols, 'plat_agent_')\n",
    "    percentage_plat = calculate_perc(countPlat , plat_agent_mappings)\n",
    "    \n",
    "    \n",
    "#     print('page_counts shape (row, cow)', page_counts.count(), len(page_counts.columns))\n",
    "#     print('session_avg_length shape (row, cow)', session_avg_length.count(), len(session_avg_length.columns))\n",
    "#     print('location_percentage shape (row, cow)', location_percentage.count(), len(location_percentage.columns))\n",
    "#     print('percentageSysInfo shape (row, cow)', percentage_sys_info.count(), len(percentage_sys_info.columns))\n",
    "#     print('percentagePlat shape (row, cow)', percentage_plat.count(), len(percentage_plat.columns))\n",
    "    \n",
    "    df_features = df_features.groupby('userId')\\\n",
    "                .agg(\n",
    "                    F.countDistinct('artist').alias('distinctArtistsListened'),\n",
    "                    F.countDistinct('song').alias('distinctSongsListened'), # simplification, disregarding songs with the same name and different artists\n",
    "                    F.avg('length').alias('avgLength'),\n",
    "                    F.first(F.when(col('gender') == 'M', 1).otherwise(0)).alias('isMale'),\n",
    "                    F.avg('itemInSession').alias('avgItemsInSession'),\n",
    "                    F.sum(F.when(col('level') == 'Paid', 1).otherwise(0)).alias('interactionsPaid'),\n",
    "                    F.sum(F.when(col('level') == 'Free', 1).otherwise(0)).alias('interactionsFree'),\n",
    "                    F.sum(F.when(col('status') == 307, 1).otherwise(0)).alias('statusCount307'),\n",
    "                    F.sum(F.when(col('status') == 404, 1).otherwise(0)).alias('statusCount404'),\n",
    "                    F.sum(F.when(col('status') == 200, 1).otherwise(0)).alias('statusCount200'),\n",
    "                    F.min('day').alias('firstInteraction'),\n",
    "                    F.max('day').alias('lastInteraction'),                \n",
    "                )\n",
    "    \n",
    "#     print('df_features after AGGs shape (row, cow)', df_features.count(), len(df_features.columns))\n",
    "    \n",
    "    df_features = df_features.join(page_counts, on='userId')\\\n",
    "            .join(session_avg_length, on='userId')\\\n",
    "            .join(location_percentage, on='userId')\\\n",
    "            .join(percentage_sys_info, on='userId')\\\n",
    "            .join(percentage_plat, on='userId')\n",
    "    \n",
    "#     print('df_features after JOINs shape (row, cow)', df_features.count(), len(df_features.columns))\n",
    "\n",
    "    df_features = df_features.withColumn('accountLifeTime', F.datediff( col('lastInteraction'), col('firstInteraction') ) )\n",
    "    df_features = df_features.drop('lastInteraction','firstInteraction')\n",
    "    \n",
    "#     print('df_features after NEW COL shape (row, cow)', df_features.count(), len(df_features.columns))\n",
    "\n",
    "    # Handle NaNs, Nulls\n",
    "    df_features = df_features.fillna(0)\n",
    "    \n",
    "#     print('df_features after FILLNA shape (row, cow)', df_features.count(), len(df_features.columns))\n",
    "        \n",
    "    return df_features, location_mappings, sys_agent_mappings, plat_agent_mappings"
   ]
  },
  {
   "cell_type": "code",
   "execution_count": 52,
   "metadata": {},
   "outputs": [
    {
     "data": {
      "application/vnd.jupyter.widget-view+json": {
       "model_id": "c1087f53d937477baab4e3e436c5fde6",
       "version_major": 2,
       "version_minor": 0
      },
      "text/plain": [
       "VBox()"
      ]
     },
     "metadata": {},
     "output_type": "display_data"
    },
    {
     "data": {
      "application/vnd.jupyter.widget-view+json": {
       "model_id": "",
       "version_major": 2,
       "version_minor": 0
      },
      "text/plain": [
       "FloatProgress(value=0.0, bar_style='info', description='Progress:', layout=Layout(height='25px', width='50%'),…"
      ]
     },
     "metadata": {},
     "output_type": "display_data"
    },
    {
     "name": "stdout",
     "output_type": "stream",
     "text": [
      "Spent 582.0047855377197s in feature computation"
     ]
    }
   ],
   "source": [
    "start = time.time()\n",
    "df_features, location_mappings, sys_agent_mappings, plat_agent_mappings = compute_features(df)\n",
    "end = time.time()\n",
    "print(f'Spent {end-start}s in feature computation')"
   ]
  },
  {
   "cell_type": "code",
   "execution_count": 53,
   "metadata": {},
   "outputs": [
    {
     "data": {
      "application/vnd.jupyter.widget-view+json": {
       "model_id": "b09211791f1f46aaa062020ce7043e9b",
       "version_major": 2,
       "version_minor": 0
      },
      "text/plain": [
       "VBox()"
      ]
     },
     "metadata": {},
     "output_type": "display_data"
    },
    {
     "data": {
      "application/vnd.jupyter.widget-view+json": {
       "model_id": "",
       "version_major": 2,
       "version_minor": 0
      },
      "text/plain": [
       "FloatProgress(value=0.0, bar_style='info', description='Progress:', layout=Layout(height='25px', width='50%'),…"
      ]
     },
     "metadata": {},
     "output_type": "display_data"
    }
   ],
   "source": [
    "# Add churn column as label\n",
    "churn = df.select('userId','churn').distinct()\n",
    "df_features_label = df_features.join(churn, on='userId')\n",
    "df_features_label = df_features_label.withColumnRenamed('churn', 'label')"
   ]
  },
  {
   "cell_type": "code",
   "execution_count": 54,
   "metadata": {},
   "outputs": [
    {
     "data": {
      "application/vnd.jupyter.widget-view+json": {
       "model_id": "",
       "version_major": 2,
       "version_minor": 0
      },
      "text/plain": [
       "FloatProgress(value=0.0, bar_style='info', description='Progress:', layout=Layout(height='25px', width='50%'),…"
      ]
     },
     "metadata": {},
     "output_type": "display_data"
    },
    {
     "data": {
      "application/vnd.jupyter.widget-view+json": {
       "model_id": "",
       "version_major": 2,
       "version_minor": 0
      },
      "text/plain": [
       "FloatProgress(value=0.0, bar_style='info', description='Progress:', layout=Layout(height='25px', width='50%'),…"
      ]
     },
     "metadata": {},
     "output_type": "display_data"
    }
   ],
   "source": [
    "%spark -o df_features_label -n 5\n",
    "\n",
    "# Drop userId, as it's not a feature\n",
    "df_features_label = df_features_label.drop('userId')"
   ]
  },
  {
   "cell_type": "code",
   "execution_count": 55,
   "metadata": {},
   "outputs": [
    {
     "data": {
      "application/vnd.jupyter.widget-view+json": {
       "model_id": "d126f0bb7d654ee5bac5628db9eadb3c",
       "version_major": 2,
       "version_minor": 0
      },
      "text/plain": [
       "VBox(children=(HBox(children=(HTML(value='Type:'), Button(description='Table', layout=Layout(width='70px'), st…"
      ]
     },
     "metadata": {},
     "output_type": "display_data"
    },
    {
     "data": {
      "application/vnd.jupyter.widget-view+json": {
       "model_id": "67dbd666e0884bf4a62d2f7a0b3c39cc",
       "version_major": 2,
       "version_minor": 0
      },
      "text/plain": [
       "Output()"
      ]
     },
     "metadata": {},
     "output_type": "display_data"
    }
   ],
   "source": [
    "%local\n",
    "df_features_label"
   ]
  },
  {
   "cell_type": "code",
   "execution_count": 56,
   "metadata": {},
   "outputs": [
    {
     "data": {
      "application/vnd.jupyter.widget-view+json": {
       "model_id": "5a61bb8e5d8c4048a652e45e55279cbd",
       "version_major": 2,
       "version_minor": 0
      },
      "text/plain": [
       "VBox()"
      ]
     },
     "metadata": {},
     "output_type": "display_data"
    },
    {
     "data": {
      "application/vnd.jupyter.widget-view+json": {
       "model_id": "",
       "version_major": 2,
       "version_minor": 0
      },
      "text/plain": [
       "FloatProgress(value=0.0, bar_style='info', description='Progress:', layout=Layout(height='25px', width='50%'),…"
      ]
     },
     "metadata": {},
     "output_type": "display_data"
    },
    {
     "name": "stdout",
     "output_type": "stream",
     "text": [
      "df_features_label shape: 22278 999"
     ]
    }
   ],
   "source": [
    "print('df_features_label shape:', df_features_label.count(), len(df_features_label.columns))"
   ]
  },
  {
   "cell_type": "code",
   "execution_count": 57,
   "metadata": {},
   "outputs": [
    {
     "data": {
      "application/vnd.jupyter.widget-view+json": {
       "model_id": "3c7676bff59246c79b5ea15ed1662f15",
       "version_major": 2,
       "version_minor": 0
      },
      "text/plain": [
       "VBox()"
      ]
     },
     "metadata": {},
     "output_type": "display_data"
    },
    {
     "data": {
      "application/vnd.jupyter.widget-view+json": {
       "model_id": "",
       "version_major": 2,
       "version_minor": 0
      },
      "text/plain": [
       "FloatProgress(value=0.0, bar_style='info', description='Progress:', layout=Layout(height='25px', width='50%'),…"
      ]
     },
     "metadata": {},
     "output_type": "display_data"
    },
    {
     "name": "stdout",
     "output_type": "stream",
     "text": [
      "Saving data in s3n://emr-sparkify/processed/2020/7/1/23/16..."
     ]
    }
   ],
   "source": [
    "# Save features in my S3 bucket called emr-sparkify, partitioning by date\n",
    "now = datetime.now()\n",
    "s3_path = f's3n://emr-sparkify/processed/{now.year}/{now.month}/{now.day}/{now.hour}/{now.minute}'\n",
    "\n",
    "print(f'Saving data in {s3_path}...')\n",
    "df_features_label.write.csv(s3_path, mode='overwrite', header=True)"
   ]
  },
  {
   "cell_type": "markdown",
   "metadata": {},
   "source": [
    "As seen, EMR has processed and saved the data partitioned by date in the S3 bucket and in multiple csv files:\n",
    "\n",
    "<img src=\"./media/s3.png\" alt=\"s3\">"
   ]
  },
  {
   "cell_type": "markdown",
   "metadata": {},
   "source": [
    "For simplifications (after several trials with different cluster configurations, number of instances, adding spot task instances amd timeouts from JupyterLab), I broke the work into 2 notebooks. The [second notebook](./Sparkify-cluster.ipynb) focus on modeling and evaluating the results.\n",
    "\n",
    "In the data pipeline breaing the logic here in 3 Spark applications would make sense:\n",
    "\n",
    "- one for processing features\n",
    "- one for training (when desired)\n",
    "- another one for inference."
   ]
  }
 ],
 "metadata": {
  "kernelspec": {
   "display_name": "PySpark",
   "language": "",
   "name": "pysparkkernel"
  },
  "language_info": {
   "codemirror_mode": {
    "name": "python",
    "version": 2
   },
   "mimetype": "text/x-python",
   "name": "pyspark",
   "pygments_lexer": "python2"
  }
 },
 "nbformat": 4,
 "nbformat_minor": 4
}