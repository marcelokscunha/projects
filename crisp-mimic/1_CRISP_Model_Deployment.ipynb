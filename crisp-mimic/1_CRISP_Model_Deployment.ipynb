{
 "cells": [
  {
   "cell_type": "markdown",
   "metadata": {},
   "source": [
    "# Applying CRISP-DM on the MIMIC-3 Dataset (Part II)\n",
    "In this notebook, I apply the 3 last phases of the CRISP-DM process:\n",
    "\n",
    "4. Modeling\n",
    "5. Evaluation\n",
    "6. Deployment\n",
    "\n",
    "<img src=\"./media/crisp.png\" width=\"30%\">\n"
   ]
  },
  {
   "cell_type": "markdown",
   "metadata": {},
   "source": [
    "A quick note here is that we prepare the data for training the model (it would be still related to the step 3). However, the main part of this notebook is related to the final 3 steps."
   ]
  },
  {
   "cell_type": "code",
   "execution_count": 1,
   "metadata": {
    "scrolled": true
   },
   "outputs": [],
   "source": [
    "# !pip install awswrangler"
   ]
  },
  {
   "cell_type": "code",
   "execution_count": 2,
   "metadata": {},
   "outputs": [],
   "source": [
    "#### Import libraries\n",
    "import numpy as np\n",
    "import pandas as pd\n",
    "import matplotlib.pyplot as plt\n",
    "import awswrangler as wr\n",
    "from sklearn.pipeline import Pipeline\n",
    "\n",
    "from sklearn.impute import SimpleImputer\n",
    "from sklearn.preprocessing import StandardScaler\n",
    "\n",
    "from sklearn.linear_model import LogisticRegression\n",
    "from sklearn.linear_model import LogisticRegressionCV\n",
    "\n",
    "from sklearn.metrics import accuracy_score, roc_auc_score, confusion_matrix, classification_report\n",
    "\n",
    "from sklearn.model_selection import cross_val_score, train_test_split\n",
    "\n",
    "%matplotlib inline"
   ]
  },
  {
   "cell_type": "markdown",
   "metadata": {},
   "source": [
    "#### The small part related to step 3. Data Preparation"
   ]
  },
  {
   "cell_type": "code",
   "execution_count": 3,
   "metadata": {},
   "outputs": [],
   "source": [
    "database = 'mimiciii'"
   ]
  },
  {
   "cell_type": "code",
   "execution_count": 4,
   "metadata": {},
   "outputs": [],
   "source": [
    "query = \"\"\"\n",
    "with ce as\n",
    "(\n",
    "  select\n",
    "    icustay_id, charttime, itemid, valuenum\n",
    "  from chartevents\n",
    "  -- specify what data we want from chartevents\n",
    "  where itemid in\n",
    "  (\n",
    "  211, -- Heart Rate\n",
    "  618, --\tRespiratory Rate\n",
    "  615 --\tResp Rate (Total)\n",
    "  )\n",
    "  -- how did we know heart rates were stored using ITEMID 211? Simple, we looked in D_ITEMS!\n",
    "  -- Try it for yourself: select * from d_items where lower(label) like '%heart rate%'\n",
    ")\n",
    "select\n",
    "  -- ICUSTAY_ID identifies each unique patient ICU stay\n",
    "  -- note that if the same person stays in the ICU more than once, each stay would have a *different* ICUSTAY_ID\n",
    "  -- however, since it's the same person, all those stays would have the same SUBJECT_ID\n",
    "  ie.icustay_id\n",
    "\n",
    "  -- this is the outcome of interest: in-hospital mortality\n",
    "  , max(adm.HOSPITAL_EXPIRE_FLAG) as OUTCOME\n",
    "\n",
    "  -- this is a case statement - essentially an \"if, else\" clause\n",
    "  , min(\n",
    "      case\n",
    "        -- if the itemid is 211\n",
    "        when itemid = 211\n",
    "          -- then return the actual value stored in VALUENUM\n",
    "          then valuenum\n",
    "        -- otherwise, return 'null', which is SQL standard for an empty value\n",
    "        else null\n",
    "      -- end the case statement\n",
    "      end\n",
    "    ) as HeartRate_Min\n",
    "\n",
    "    -- note we wrapped the above in \"min()\"\n",
    "    -- this takes the minimum of all values inside, and *ignores* nulls\n",
    "    -- by calling this on our case statement, we are ignoring all values except those with ITEMID = 211\n",
    "    -- since ITEMID 211 are heart rates, we take the minimum of only heart rates\n",
    "\n",
    "  , max(case when itemid = 211 then valuenum else null end) as HeartRate_Max\n",
    "  , min(case when itemid in (615,618) then valuenum else null end) as RespRate_Min\n",
    "  , max(case when itemid in (615,618) then valuenum else null end) as RespRate_Max\n",
    "from icustays ie\n",
    "\n",
    "-- join to the admissions table to get hospital outcome\n",
    "inner join admissions adm\n",
    "  on ie.hadm_id = adm.hadm_id\n",
    "\n",
    "-- join to the chartevents table to get the observations\n",
    "left join ce\n",
    "  -- match the tables on the patient identifier\n",
    "  on ie.icustay_id = ce.icustay_id\n",
    "  -- and require that the observation be made after the patient is admitted to the ICU\n",
    "  and ce.charttime >= ie.intime\n",
    "  -- and *before* their admission time + 1 day, i.e. the observation must be made on their first day in the ICU\n",
    "  and ce.charttime <= ie.intime + interval '1' day\n",
    "group by ie.icustay_id\n",
    "order by ie.icustay_id\n",
    "\"\"\"\n",
    "\n",
    "data = wr.athena.read_sql_query(query,database)\n",
    "data.drop('icustay_id', axis=1, inplace=True)"
   ]
  },
  {
   "cell_type": "code",
   "execution_count": 5,
   "metadata": {},
   "outputs": [
    {
     "data": {
      "text/html": [
       "<div>\n",
       "<style scoped>\n",
       "    .dataframe tbody tr th:only-of-type {\n",
       "        vertical-align: middle;\n",
       "    }\n",
       "\n",
       "    .dataframe tbody tr th {\n",
       "        vertical-align: top;\n",
       "    }\n",
       "\n",
       "    .dataframe thead th {\n",
       "        text-align: right;\n",
       "    }\n",
       "</style>\n",
       "<table border=\"1\" class=\"dataframe\">\n",
       "  <thead>\n",
       "    <tr style=\"text-align: right;\">\n",
       "      <th></th>\n",
       "      <th>outcome</th>\n",
       "      <th>heartrate_min</th>\n",
       "      <th>heartrate_max</th>\n",
       "      <th>resprate_min</th>\n",
       "      <th>resprate_max</th>\n",
       "    </tr>\n",
       "  </thead>\n",
       "  <tbody>\n",
       "    <tr>\n",
       "      <th>0</th>\n",
       "      <td>0</td>\n",
       "      <td>NaN</td>\n",
       "      <td>NaN</td>\n",
       "      <td>NaN</td>\n",
       "      <td>NaN</td>\n",
       "    </tr>\n",
       "    <tr>\n",
       "      <th>1</th>\n",
       "      <td>0</td>\n",
       "      <td>72.0</td>\n",
       "      <td>122.0</td>\n",
       "      <td>14.0</td>\n",
       "      <td>39.0</td>\n",
       "    </tr>\n",
       "    <tr>\n",
       "      <th>2</th>\n",
       "      <td>0</td>\n",
       "      <td>62.0</td>\n",
       "      <td>84.0</td>\n",
       "      <td>14.0</td>\n",
       "      <td>27.0</td>\n",
       "    </tr>\n",
       "    <tr>\n",
       "      <th>3</th>\n",
       "      <td>0</td>\n",
       "      <td>80.0</td>\n",
       "      <td>104.0</td>\n",
       "      <td>13.0</td>\n",
       "      <td>29.0</td>\n",
       "    </tr>\n",
       "    <tr>\n",
       "      <th>4</th>\n",
       "      <td>0</td>\n",
       "      <td>88.0</td>\n",
       "      <td>106.0</td>\n",
       "      <td>13.0</td>\n",
       "      <td>22.0</td>\n",
       "    </tr>\n",
       "  </tbody>\n",
       "</table>\n",
       "</div>"
      ],
      "text/plain": [
       "   outcome  heartrate_min  heartrate_max  resprate_min  resprate_max\n",
       "0        0            NaN            NaN           NaN           NaN\n",
       "1        0           72.0          122.0          14.0          39.0\n",
       "2        0           62.0           84.0          14.0          27.0\n",
       "3        0           80.0          104.0          13.0          29.0\n",
       "4        0           88.0          106.0          13.0          22.0"
      ]
     },
     "execution_count": 5,
     "metadata": {},
     "output_type": "execute_result"
    }
   ],
   "source": [
    "data.head()"
   ]
  },
  {
   "cell_type": "code",
   "execution_count": 6,
   "metadata": {},
   "outputs": [
    {
     "data": {
      "text/plain": [
       "(61532, 5)"
      ]
     },
     "execution_count": 6,
     "metadata": {},
     "output_type": "execute_result"
    }
   ],
   "source": [
    "# We should have +60K rows in our dataset represeting patients from the MIMIC-III dataset\n",
    "data.shape"
   ]
  },
  {
   "cell_type": "markdown",
   "metadata": {},
   "source": [
    "## 4. Modeling\n",
    "\n",
    "Here we develop, train and test the model locally."
   ]
  },
  {
   "cell_type": "code",
   "execution_count": 7,
   "metadata": {},
   "outputs": [],
   "source": [
    "# move from a data frame into a numpy array\n",
    "X = data.iloc[:,1:].to_numpy()\n",
    "y = data['outcome'].to_numpy()"
   ]
  },
  {
   "cell_type": "code",
   "execution_count": 8,
   "metadata": {},
   "outputs": [],
   "source": [
    "# Cast to numeric types\n",
    "X = X.astype(float)\n",
    "y = y.astype(int)"
   ]
  },
  {
   "cell_type": "code",
   "execution_count": 9,
   "metadata": {},
   "outputs": [],
   "source": [
    "# split data in 80%-20% training/test split\n",
    "X_train, X_test, y_train, y_test = train_test_split(X, y, test_size=0.2)"
   ]
  },
  {
   "cell_type": "code",
   "execution_count": 10,
   "metadata": {},
   "outputs": [],
   "source": [
    "# impute mean for missing values, since we have only numerical values\n",
    "imputer = SimpleImputer(missing_values=np.nan, strategy='mean')\n",
    "X_train = imputer.fit_transform(X_train)\n",
    "X_test = imputer.transform(X_test)\n",
    "\n",
    "scaler = StandardScaler()\n",
    "X_train = scaler.fit_transform(X_train)\n",
    "X_test = scaler.transform(X_test)"
   ]
  },
  {
   "cell_type": "code",
   "execution_count": 11,
   "metadata": {},
   "outputs": [
    {
     "data": {
      "text/plain": [
       "LogisticRegression(C=1.0, class_weight=None, dual=False, fit_intercept=True,\n",
       "                   intercept_scaling=1, l1_ratio=None, max_iter=100,\n",
       "                   multi_class='warn', n_jobs=None, penalty='l2',\n",
       "                   random_state=None, solver='lbfgs', tol=0.0001, verbose=0,\n",
       "                   warm_start=False)"
      ]
     },
     "execution_count": 11,
     "metadata": {},
     "output_type": "execute_result"
    }
   ],
   "source": [
    "model = LogisticRegression(fit_intercept=True, solver='lbfgs')\n",
    "model.fit(X_train, y_train)"
   ]
  },
  {
   "cell_type": "markdown",
   "metadata": {},
   "source": [
    "## 5. Evaluation\n",
    "\n",
    "We evaluate our model locally, analyzing the test dataset and using AUROC, confusion matrices and accuracy:"
   ]
  },
  {
   "cell_type": "code",
   "execution_count": 12,
   "metadata": {},
   "outputs": [
    {
     "name": "stdout",
     "output_type": "stream",
     "text": [
      "Accuracy = 0.8951816039652231\n",
      "AUROC = 0.6033460168207213\n",
      "\n",
      "Confusion matrix\n",
      "[[10964    15]\n",
      " [ 1275    53]]\n",
      "\n",
      "Classification report\n",
      "              precision    recall  f1-score   support\n",
      "\n",
      "           0       0.90      1.00      0.94     10979\n",
      "           1       0.78      0.04      0.08      1328\n",
      "\n",
      "    accuracy                           0.90     12307\n",
      "   macro avg       0.84      0.52      0.51     12307\n",
      "weighted avg       0.88      0.90      0.85     12307\n",
      "\n"
     ]
    }
   ],
   "source": [
    "# predict class labels for the test set\n",
    "y_pred = model.predict(X_test)\n",
    "\n",
    "# generate class probabilities\n",
    "y_prob = model.predict_proba(X_test)\n",
    "\n",
    "# generate evaluation metrics\n",
    "print('Accuracy = {}'.format(accuracy_score(y_test, y_pred)))\n",
    "print('AUROC = {}'.format(roc_auc_score(y_test, y_prob[:, 1])))\n",
    "\n",
    "print('\\nConfusion matrix')\n",
    "print(confusion_matrix(y_test, y_pred))\n",
    "print('\\nClassification report')\n",
    "print(classification_report(y_test, y_pred))"
   ]
  },
  {
   "cell_type": "code",
   "execution_count": 13,
   "metadata": {},
   "outputs": [
    {
     "name": "stdout",
     "output_type": "stream",
     "text": [
      "AUROC for all folds:\n",
      "[0.61605425 0.64243601 0.62164081 0.60277423 0.61229702]\n",
      "Average AUROC across folds:\n",
      "0.6190404642649556\n"
     ]
    }
   ],
   "source": [
    "# evaluate a logistic regression with 5-fold cross-validation\n",
    "estimator = Pipeline([(\"imputer\", SimpleImputer(missing_values=np.nan,\n",
    "                                          strategy=\"mean\")),\n",
    "                      ('scaler', StandardScaler()),\n",
    "                      (\"regression\", LogisticRegressionCV(cv=5,\n",
    "                                                          scoring='roc_auc',\n",
    "                                                          solver='lbfgs'))])\n",
    "\n",
    "scores = cross_val_score(estimator\n",
    "                         , X, y\n",
    "                         , scoring='roc_auc', cv=5)\n",
    "\n",
    "\n",
    "print('AUROC for all folds:')\n",
    "print(scores)\n",
    "print('Average AUROC across folds:')\n",
    "print(scores.mean())"
   ]
  },
  {
   "cell_type": "code",
   "execution_count": 14,
   "metadata": {},
   "outputs": [
    {
     "name": "stdout",
     "output_type": "stream",
     "text": [
      "Accuracy = 0.8951816039652231\n",
      "AUROC = 0.6033460168207213\n"
     ]
    }
   ],
   "source": [
    "# train pipeline\n",
    "estimator.fit(X_train, y_train)\n",
    "\n",
    "# predict class labels for the test set\n",
    "y_pred = model.predict(X_test)\n",
    "\n",
    "# generate class probabilities\n",
    "y_prob = model.predict_proba(X_test)\n",
    "\n",
    "# generate evaluation metrics\n",
    "print('Accuracy = {}'.format(accuracy_score(y_test, y_pred)))\n",
    "print('AUROC = {}'.format(roc_auc_score(y_test, y_prob[:, 1])))"
   ]
  },
  {
   "cell_type": "code",
   "execution_count": 15,
   "metadata": {},
   "outputs": [
    {
     "name": "stderr",
     "output_type": "stream",
     "text": [
      "//anaconda3/envs/sagemaker-local/lib/python3.7/site-packages/sklearn/externals/joblib/__init__.py:15: DeprecationWarning: sklearn.externals.joblib is deprecated in 0.21 and will be removed in 0.23. Please import this functionality directly from joblib, which can be installed with: pip install joblib. If this warning is raised when loading pickled models, you may need to re-serialize those models with scikit-learn 0.21+.\n",
      "  warnings.warn(msg, category=DeprecationWarning)\n"
     ]
    }
   ],
   "source": [
    "# test saving and loading model locally\n",
    "from sklearn.externals import joblib\n",
    "import os"
   ]
  },
  {
   "cell_type": "code",
   "execution_count": 16,
   "metadata": {
    "scrolled": true
   },
   "outputs": [
    {
     "data": {
      "text/plain": [
       "['./model.joblib']"
      ]
     },
     "execution_count": 16,
     "metadata": {},
     "output_type": "execute_result"
    }
   ],
   "source": [
    "joblib.dump(estimator, os.path.join('./', \"model.joblib\"))"
   ]
  },
  {
   "cell_type": "code",
   "execution_count": 17,
   "metadata": {},
   "outputs": [
    {
     "data": {
      "text/plain": [
       "Pipeline(memory=None,\n",
       "         steps=[('imputer',\n",
       "                 SimpleImputer(add_indicator=False, copy=True, fill_value=None,\n",
       "                               missing_values=nan, strategy='mean',\n",
       "                               verbose=0)),\n",
       "                ('scaler',\n",
       "                 StandardScaler(copy=True, with_mean=True, with_std=True)),\n",
       "                ('regression',\n",
       "                 LogisticRegressionCV(Cs=10, class_weight=None, cv=5,\n",
       "                                      dual=False, fit_intercept=True,\n",
       "                                      intercept_scaling=1.0, l1_ratios=None,\n",
       "                                      max_iter=100, multi_class='warn',\n",
       "                                      n_jobs=None, penalty='l2',\n",
       "                                      random_state=None, refit=True,\n",
       "                                      scoring='roc_auc', solver='lbfgs',\n",
       "                                      tol=0.0001, verbose=0))],\n",
       "         verbose=False)"
      ]
     },
     "execution_count": 17,
     "metadata": {},
     "output_type": "execute_result"
    }
   ],
   "source": [
    "estimator = joblib.load(os.path.join('./', \"model.joblib\"))\n",
    "\n",
    "estimator"
   ]
  },
  {
   "cell_type": "markdown",
   "metadata": {},
   "source": [
    "## 6. Deployment\n",
    "We finally deploy in SageMaker, in a managed training and hosting infrastructure:"
   ]
  },
  {
   "cell_type": "markdown",
   "metadata": {},
   "source": [
    "For more information about SageMaker, get out the [docs](https://sagemaker.readthedocs.io/en/stable/frameworks/sklearn/using_sklearn.html).\n",
    "\n",
    "Remember to add permissions of SageMakerFullAccess to IAM Role of the notebook instance."
   ]
  },
  {
   "cell_type": "code",
   "execution_count": 18,
   "metadata": {},
   "outputs": [
    {
     "name": "stderr",
     "output_type": "stream",
     "text": [
      "Couldn't call 'get_role' to get Role ARN from role name mccunha to get Role path.\n"
     ]
    },
    {
     "name": "stdout",
     "output_type": "stream",
     "text": [
      "Using notebook locally and pre-configured IAM role in the AWS cloud...\n"
     ]
    }
   ],
   "source": [
    "# S3 prefix\n",
    "prefix = 'Scikit-mimic'\n",
    "\n",
    "import boto3\n",
    "import sagemaker\n",
    "from sagemaker.sklearn.estimator import SKLearn\n",
    "from sagemaker import get_execution_role\n",
    "import numpy as np\n",
    "import os\n",
    "\n",
    "sagemaker_session = sagemaker.Session()\n",
    "\n",
    "try:\n",
    "    # Get a SageMaker-compatible role used by this Notebook Instance (using notebook instance).\n",
    "    role = sagemaker.get_execution_role()\n",
    "except ValueError:\n",
    "    # Get a SageMaker-compatible role pre-configured for the Notebook Instance (using SageMaker locally).\n",
    "    print('Using notebook locally and pre-configured IAM role in the AWS cloud...')\n",
    "    iam = boto3.client('iam')\n",
    "    role = iam.get_role(RoleName='MIMIC-ExecutionRole-IXCZDX872KXW')['Role']['Arn']"
   ]
  },
  {
   "cell_type": "markdown",
   "metadata": {},
   "source": [
    "In this example there's already a pre-configured role called \"MIMIC-ExecutionRole-IXCZDX872KXW\". \n",
    "\n",
    "Also, my AWS credentials configured locally in my laptop and associated to my user give me permissions to perform [GetRole](https://docs.aws.amazon.com/IAM/latest/APIReference/API_GetRole.html) from IAM and [PutObject](https://docs.aws.amazon.com/AmazonS3/latest/API/API_PutObject.html) in S3."
   ]
  },
  {
   "cell_type": "code",
   "execution_count": 19,
   "metadata": {},
   "outputs": [],
   "source": [
    "# Create directory and write csv\n",
    "os.makedirs('./data', exist_ok=True)\n",
    "np.savetxt('./data/mimic.csv', data, delimiter=',', fmt='%1.1f, %1.3f, %1.3f, %1.3f, %1.3f')"
   ]
  },
  {
   "cell_type": "code",
   "execution_count": 20,
   "metadata": {},
   "outputs": [],
   "source": [
    "# Save data in S3 for training with SageMaker\n",
    "data_dir = 'data'\n",
    "train_input = sagemaker_session.upload_data(data_dir, key_prefix=\"{}/{}\".format(prefix, data_dir) )"
   ]
  },
  {
   "cell_type": "markdown",
   "metadata": {},
   "source": [
    "Before submiting to SageMaker in the cloud instances, let's test our code with the Scikit-Learn container locally (using `train_instance_type=\"local\"`):\n",
    "\n",
    "Obs.: Since your local machine will need to pull the docker image, **remember to ensure that Docker is running**."
   ]
  },
  {
   "cell_type": "code",
   "execution_count": 21,
   "metadata": {},
   "outputs": [],
   "source": [
    "script_path = 'scikit_learn_mimic.py'\n",
    "\n",
    "# Simple training without hyperparameters\n",
    "# The entry script in a python script based on the code developed above\n",
    "sklearn_local = SKLearn(\n",
    "    entry_point=script_path,\n",
    "    framework_version='0.23-1',\n",
    "    train_instance_type=\"local\",\n",
    "    role=role,\n",
    "    hyperparameters={},\n",
    "    metric_definitions=[\n",
    "            {'Name':'test:accuracy', 'Regex':'Test Accuracy: (.*?);'},\n",
    "            {'Name':'test:auroc', 'Regex':'Test AUROC: (.*?);'}\n",
    "    ]\n",
    ")"
   ]
  },
  {
   "cell_type": "markdown",
   "metadata": {},
   "source": [
    "When running locally, it will take a few minutes for the first run, since under the hood SageMaker SDK will pull the [Scikit-Learn Docker image from the ECR repository](https://docs.aws.amazon.com/sagemaker/latest/dg/pre-built-docker-containers-frameworks.html) and image has a over 1GB."
   ]
  },
  {
   "cell_type": "code",
   "execution_count": 22,
   "metadata": {},
   "outputs": [
    {
     "name": "stderr",
     "output_type": "stream",
     "text": [
      "'s3_input' class will be renamed to 'TrainingInput' in SageMaker Python SDK v2.\n"
     ]
    },
    {
     "name": "stdout",
     "output_type": "stream",
     "text": [
      "Creating tmpp0mdzc25_algo-1-25n6g_1 ... \n",
      "\u001b[1BAttaching to tmpp0mdzc25_algo-1-25n6g_12mdone\u001b[0m\n",
      "\u001b[36malgo-1-25n6g_1  |\u001b[0m 2020-07-23 00:25:25,998 sagemaker-training-toolkit INFO     Imported framework sagemaker_sklearn_container.training\n",
      "\u001b[36malgo-1-25n6g_1  |\u001b[0m 2020-07-23 00:25:26,010 sagemaker-training-toolkit INFO     No GPUs detected (normal if no gpus installed)\n",
      "\u001b[36malgo-1-25n6g_1  |\u001b[0m 2020-07-23 00:25:26,046 sagemaker_sklearn_container.training INFO     Invoking user training script.\n",
      "\u001b[36malgo-1-25n6g_1  |\u001b[0m 2020-07-23 00:25:27,125 sagemaker-training-toolkit INFO     No GPUs detected (normal if no gpus installed)\n",
      "\u001b[36malgo-1-25n6g_1  |\u001b[0m 2020-07-23 00:25:27,175 sagemaker-training-toolkit INFO     No GPUs detected (normal if no gpus installed)\n",
      "\u001b[36malgo-1-25n6g_1  |\u001b[0m 2020-07-23 00:25:27,223 sagemaker-training-toolkit INFO     No GPUs detected (normal if no gpus installed)\n",
      "\u001b[36malgo-1-25n6g_1  |\u001b[0m 2020-07-23 00:25:27,271 sagemaker-training-toolkit INFO     Invoking user script\n",
      "\u001b[36malgo-1-25n6g_1  |\u001b[0m \n",
      "\u001b[36malgo-1-25n6g_1  |\u001b[0m Training Env:\n",
      "\u001b[36malgo-1-25n6g_1  |\u001b[0m \n",
      "\u001b[36malgo-1-25n6g_1  |\u001b[0m {\n",
      "\u001b[36malgo-1-25n6g_1  |\u001b[0m     \"additional_framework_parameters\": {},\n",
      "\u001b[36malgo-1-25n6g_1  |\u001b[0m     \"channel_input_dirs\": {\n",
      "\u001b[36malgo-1-25n6g_1  |\u001b[0m         \"train\": \"/opt/ml/input/data/train\"\n",
      "\u001b[36malgo-1-25n6g_1  |\u001b[0m     },\n",
      "\u001b[36malgo-1-25n6g_1  |\u001b[0m     \"current_host\": \"algo-1-25n6g\",\n",
      "\u001b[36malgo-1-25n6g_1  |\u001b[0m     \"framework_module\": \"sagemaker_sklearn_container.training:main\",\n",
      "\u001b[36malgo-1-25n6g_1  |\u001b[0m     \"hosts\": [\n",
      "\u001b[36malgo-1-25n6g_1  |\u001b[0m         \"algo-1-25n6g\"\n",
      "\u001b[36malgo-1-25n6g_1  |\u001b[0m     ],\n",
      "\u001b[36malgo-1-25n6g_1  |\u001b[0m     \"hyperparameters\": {},\n",
      "\u001b[36malgo-1-25n6g_1  |\u001b[0m     \"input_config_dir\": \"/opt/ml/input/config\",\n",
      "\u001b[36malgo-1-25n6g_1  |\u001b[0m     \"input_data_config\": {\n",
      "\u001b[36malgo-1-25n6g_1  |\u001b[0m         \"train\": {\n",
      "\u001b[36malgo-1-25n6g_1  |\u001b[0m             \"TrainingInputMode\": \"File\"\n",
      "\u001b[36malgo-1-25n6g_1  |\u001b[0m         }\n",
      "\u001b[36malgo-1-25n6g_1  |\u001b[0m     },\n",
      "\u001b[36malgo-1-25n6g_1  |\u001b[0m     \"input_dir\": \"/opt/ml/input\",\n",
      "\u001b[36malgo-1-25n6g_1  |\u001b[0m     \"is_master\": true,\n",
      "\u001b[36malgo-1-25n6g_1  |\u001b[0m     \"job_name\": \"sagemaker-scikit-learn-2020-07-23-00-25-17-427\",\n",
      "\u001b[36malgo-1-25n6g_1  |\u001b[0m     \"log_level\": 20,\n",
      "\u001b[36malgo-1-25n6g_1  |\u001b[0m     \"master_hostname\": \"algo-1-25n6g\",\n",
      "\u001b[36malgo-1-25n6g_1  |\u001b[0m     \"model_dir\": \"/opt/ml/model\",\n",
      "\u001b[36malgo-1-25n6g_1  |\u001b[0m     \"module_dir\": \"s3://sagemaker-us-east-1-795875386142/sagemaker-scikit-learn-2020-07-23-00-25-17-427/source/sourcedir.tar.gz\",\n",
      "\u001b[36malgo-1-25n6g_1  |\u001b[0m     \"module_name\": \"scikit_learn_mimic\",\n",
      "\u001b[36malgo-1-25n6g_1  |\u001b[0m     \"network_interface_name\": \"eth0\",\n",
      "\u001b[36malgo-1-25n6g_1  |\u001b[0m     \"num_cpus\": 2,\n",
      "\u001b[36malgo-1-25n6g_1  |\u001b[0m     \"num_gpus\": 0,\n",
      "\u001b[36malgo-1-25n6g_1  |\u001b[0m     \"output_data_dir\": \"/opt/ml/output/data\",\n",
      "\u001b[36malgo-1-25n6g_1  |\u001b[0m     \"output_dir\": \"/opt/ml/output\",\n",
      "\u001b[36malgo-1-25n6g_1  |\u001b[0m     \"output_intermediate_dir\": \"/opt/ml/output/intermediate\",\n",
      "\u001b[36malgo-1-25n6g_1  |\u001b[0m     \"resource_config\": {\n",
      "\u001b[36malgo-1-25n6g_1  |\u001b[0m         \"current_host\": \"algo-1-25n6g\",\n",
      "\u001b[36malgo-1-25n6g_1  |\u001b[0m         \"hosts\": [\n",
      "\u001b[36malgo-1-25n6g_1  |\u001b[0m             \"algo-1-25n6g\"\n",
      "\u001b[36malgo-1-25n6g_1  |\u001b[0m         ]\n",
      "\u001b[36malgo-1-25n6g_1  |\u001b[0m     },\n",
      "\u001b[36malgo-1-25n6g_1  |\u001b[0m     \"user_entry_point\": \"scikit_learn_mimic.py\"\n",
      "\u001b[36malgo-1-25n6g_1  |\u001b[0m }\n",
      "\u001b[36malgo-1-25n6g_1  |\u001b[0m \n",
      "\u001b[36malgo-1-25n6g_1  |\u001b[0m Environment variables:\n",
      "\u001b[36malgo-1-25n6g_1  |\u001b[0m \n",
      "\u001b[36malgo-1-25n6g_1  |\u001b[0m SM_HOSTS=[\"algo-1-25n6g\"]\n",
      "\u001b[36malgo-1-25n6g_1  |\u001b[0m SM_NETWORK_INTERFACE_NAME=eth0\n",
      "\u001b[36malgo-1-25n6g_1  |\u001b[0m SM_HPS={}\n",
      "\u001b[36malgo-1-25n6g_1  |\u001b[0m SM_USER_ENTRY_POINT=scikit_learn_mimic.py\n",
      "\u001b[36malgo-1-25n6g_1  |\u001b[0m SM_FRAMEWORK_PARAMS={}\n",
      "\u001b[36malgo-1-25n6g_1  |\u001b[0m SM_RESOURCE_CONFIG={\"current_host\":\"algo-1-25n6g\",\"hosts\":[\"algo-1-25n6g\"]}\n",
      "\u001b[36malgo-1-25n6g_1  |\u001b[0m SM_INPUT_DATA_CONFIG={\"train\":{\"TrainingInputMode\":\"File\"}}\n",
      "\u001b[36malgo-1-25n6g_1  |\u001b[0m SM_OUTPUT_DATA_DIR=/opt/ml/output/data\n",
      "\u001b[36malgo-1-25n6g_1  |\u001b[0m SM_CHANNELS=[\"train\"]\n",
      "\u001b[36malgo-1-25n6g_1  |\u001b[0m SM_CURRENT_HOST=algo-1-25n6g\n",
      "\u001b[36malgo-1-25n6g_1  |\u001b[0m SM_MODULE_NAME=scikit_learn_mimic\n",
      "\u001b[36malgo-1-25n6g_1  |\u001b[0m SM_LOG_LEVEL=20\n",
      "\u001b[36malgo-1-25n6g_1  |\u001b[0m SM_FRAMEWORK_MODULE=sagemaker_sklearn_container.training:main\n",
      "\u001b[36malgo-1-25n6g_1  |\u001b[0m SM_INPUT_DIR=/opt/ml/input\n",
      "\u001b[36malgo-1-25n6g_1  |\u001b[0m SM_INPUT_CONFIG_DIR=/opt/ml/input/config\n",
      "\u001b[36malgo-1-25n6g_1  |\u001b[0m SM_OUTPUT_DIR=/opt/ml/output\n",
      "\u001b[36malgo-1-25n6g_1  |\u001b[0m SM_NUM_CPUS=2\n",
      "\u001b[36malgo-1-25n6g_1  |\u001b[0m SM_NUM_GPUS=0\n",
      "\u001b[36malgo-1-25n6g_1  |\u001b[0m SM_MODEL_DIR=/opt/ml/model\n",
      "\u001b[36malgo-1-25n6g_1  |\u001b[0m SM_MODULE_DIR=s3://sagemaker-us-east-1-795875386142/sagemaker-scikit-learn-2020-07-23-00-25-17-427/source/sourcedir.tar.gz\n",
      "\u001b[36malgo-1-25n6g_1  |\u001b[0m SM_TRAINING_ENV={\"additional_framework_parameters\":{},\"channel_input_dirs\":{\"train\":\"/opt/ml/input/data/train\"},\"current_host\":\"algo-1-25n6g\",\"framework_module\":\"sagemaker_sklearn_container.training:main\",\"hosts\":[\"algo-1-25n6g\"],\"hyperparameters\":{},\"input_config_dir\":\"/opt/ml/input/config\",\"input_data_config\":{\"train\":{\"TrainingInputMode\":\"File\"}},\"input_dir\":\"/opt/ml/input\",\"is_master\":true,\"job_name\":\"sagemaker-scikit-learn-2020-07-23-00-25-17-427\",\"log_level\":20,\"master_hostname\":\"algo-1-25n6g\",\"model_dir\":\"/opt/ml/model\",\"module_dir\":\"s3://sagemaker-us-east-1-795875386142/sagemaker-scikit-learn-2020-07-23-00-25-17-427/source/sourcedir.tar.gz\",\"module_name\":\"scikit_learn_mimic\",\"network_interface_name\":\"eth0\",\"num_cpus\":2,\"num_gpus\":0,\"output_data_dir\":\"/opt/ml/output/data\",\"output_dir\":\"/opt/ml/output\",\"output_intermediate_dir\":\"/opt/ml/output/intermediate\",\"resource_config\":{\"current_host\":\"algo-1-25n6g\",\"hosts\":[\"algo-1-25n6g\"]},\"user_entry_point\":\"scikit_learn_mimic.py\"}\n",
      "\u001b[36malgo-1-25n6g_1  |\u001b[0m SM_USER_ARGS=[]\n",
      "\u001b[36malgo-1-25n6g_1  |\u001b[0m SM_OUTPUT_INTERMEDIATE_DIR=/opt/ml/output/intermediate\n",
      "\u001b[36malgo-1-25n6g_1  |\u001b[0m SM_CHANNEL_TRAIN=/opt/ml/input/data/train\n",
      "\u001b[36malgo-1-25n6g_1  |\u001b[0m PYTHONPATH=/opt/ml/code:/miniconda3/bin:/miniconda3/lib/python37.zip:/miniconda3/lib/python3.7:/miniconda3/lib/python3.7/lib-dynload:/miniconda3/lib/python3.7/site-packages\n",
      "\u001b[36malgo-1-25n6g_1  |\u001b[0m \n",
      "\u001b[36malgo-1-25n6g_1  |\u001b[0m Invoking script with the following command:\n",
      "\u001b[36malgo-1-25n6g_1  |\u001b[0m \n",
      "\u001b[36malgo-1-25n6g_1  |\u001b[0m /miniconda3/bin/python scikit_learn_mimic.py\n",
      "\u001b[36malgo-1-25n6g_1  |\u001b[0m \n",
      "\u001b[36malgo-1-25n6g_1  |\u001b[0m \n",
      "\u001b[36malgo-1-25n6g_1  |\u001b[0m Test Accuracy: 0.8919314211424393;\n",
      "\u001b[36malgo-1-25n6g_1  |\u001b[0m Test AUROC: 0.6207285088917976;\n",
      "\u001b[36malgo-1-25n6g_1  |\u001b[0m Saving the model.\n",
      "\u001b[36malgo-1-25n6g_1  |\u001b[0m 2020-07-23 00:25:31,527 sagemaker-training-toolkit INFO     Reporting training SUCCESS\n",
      "\u001b[36mtmpp0mdzc25_algo-1-25n6g_1 exited with code 0\n",
      "\u001b[0mAborting on container exit...\n",
      "===== Job Complete =====\n"
     ]
    }
   ],
   "source": [
    "sklearn_local.fit({'train': train_input})"
   ]
  },
  {
   "cell_type": "markdown",
   "metadata": {},
   "source": [
    "---\n",
    "If you'd like to test locally, pull the image in the terminal:\n",
    "![docker](./media/scikit-docker-image.png)\n",
    "\n",
    "Under the hood the SageMaker local mode uses Docker compose to setup the local trainig. You can run the it in your terminal for troubleshooting:\n",
    "\n",
    "```\n",
    "!docker-compose -f /private/var/folders/s8/qvzyzg3d4p1241_h8yt0l92152zgzv/T/tmpj8a2pib4/docker-compose.yaml up --build --abort-on-container-exit\n",
    "```"
   ]
  },
  {
   "cell_type": "markdown",
   "metadata": {},
   "source": [
    "---\n",
    "Everything seems to be working fine. Now, let's train in the managed SageMaker instances:"
   ]
  },
  {
   "cell_type": "code",
   "execution_count": 23,
   "metadata": {},
   "outputs": [],
   "source": [
    "script_path = 'scikit_learn_mimic.py'\n",
    "\n",
    "# Simple training without hyperparameters\n",
    "# The entry script in a python script based on the code developed above\n",
    "sklearn = SKLearn(\n",
    "    framework_version='0.23-1',\n",
    "    entry_point=script_path,\n",
    "    train_instance_type=\"ml.c4.xlarge\",\n",
    "    role=role,\n",
    "    sagemaker_session=sagemaker_session,\n",
    "    hyperparameters={},\n",
    "    metric_definitions=[\n",
    "            {'Name':'test:accuracy', 'Regex':'Test Accuracy: (.*?);'},\n",
    "            {'Name':'test:auroc', 'Regex':'Test AUROC: (.*?);'}\n",
    "    ]\n",
    ")"
   ]
  },
  {
   "cell_type": "code",
   "execution_count": 24,
   "metadata": {},
   "outputs": [
    {
     "name": "stderr",
     "output_type": "stream",
     "text": [
      "'s3_input' class will be renamed to 'TrainingInput' in SageMaker Python SDK v2.\n"
     ]
    },
    {
     "name": "stdout",
     "output_type": "stream",
     "text": [
      "2020-07-23 00:25:34 Starting - Starting the training job...\n",
      "2020-07-23 00:25:38 Starting - Launching requested ML instances.........\n",
      "2020-07-23 00:27:20 Starting - Preparing the instances for training...\n",
      "2020-07-23 00:28:15 Downloading - Downloading input data...\n",
      "2020-07-23 00:28:39 Training - Downloading the training image...\n",
      "2020-07-23 00:29:22 Training - Training image download completed. Training in progress..\u001b[34m2020-07-23 00:29:22,239 sagemaker-training-toolkit INFO     Imported framework sagemaker_sklearn_container.training\u001b[0m\n",
      "\u001b[34m2020-07-23 00:29:22,240 sagemaker-training-toolkit INFO     No GPUs detected (normal if no gpus installed)\u001b[0m\n",
      "\u001b[34m2020-07-23 00:29:22,250 sagemaker_sklearn_container.training INFO     Invoking user training script.\u001b[0m\n",
      "\u001b[34m2020-07-23 00:29:22,600 sagemaker-training-toolkit INFO     No GPUs detected (normal if no gpus installed)\u001b[0m\n",
      "\u001b[34m2020-07-23 00:29:24,017 sagemaker-training-toolkit INFO     No GPUs detected (normal if no gpus installed)\u001b[0m\n",
      "\u001b[34m2020-07-23 00:29:24,028 sagemaker-training-toolkit INFO     No GPUs detected (normal if no gpus installed)\u001b[0m\n",
      "\u001b[34m2020-07-23 00:29:24,039 sagemaker-training-toolkit INFO     Invoking user script\n",
      "\u001b[0m\n",
      "\u001b[34mTraining Env:\n",
      "\u001b[0m\n",
      "\u001b[34m{\n",
      "    \"additional_framework_parameters\": {},\n",
      "    \"channel_input_dirs\": {\n",
      "        \"train\": \"/opt/ml/input/data/train\"\n",
      "    },\n",
      "    \"current_host\": \"algo-1\",\n",
      "    \"framework_module\": \"sagemaker_sklearn_container.training:main\",\n",
      "    \"hosts\": [\n",
      "        \"algo-1\"\n",
      "    ],\n",
      "    \"hyperparameters\": {},\n",
      "    \"input_config_dir\": \"/opt/ml/input/config\",\n",
      "    \"input_data_config\": {\n",
      "        \"train\": {\n",
      "            \"TrainingInputMode\": \"File\",\n",
      "            \"S3DistributionType\": \"FullyReplicated\",\n",
      "            \"RecordWrapperType\": \"None\"\n",
      "        }\n",
      "    },\n",
      "    \"input_dir\": \"/opt/ml/input\",\n",
      "    \"is_master\": true,\n",
      "    \"job_name\": \"sagemaker-scikit-learn-2020-07-23-00-25-33-098\",\n",
      "    \"log_level\": 20,\n",
      "    \"master_hostname\": \"algo-1\",\n",
      "    \"model_dir\": \"/opt/ml/model\",\n",
      "    \"module_dir\": \"s3://sagemaker-us-east-1-795875386142/sagemaker-scikit-learn-2020-07-23-00-25-33-098/source/sourcedir.tar.gz\",\n",
      "    \"module_name\": \"scikit_learn_mimic\",\n",
      "    \"network_interface_name\": \"eth0\",\n",
      "    \"num_cpus\": 4,\n",
      "    \"num_gpus\": 0,\n",
      "    \"output_data_dir\": \"/opt/ml/output/data\",\n",
      "    \"output_dir\": \"/opt/ml/output\",\n",
      "    \"output_intermediate_dir\": \"/opt/ml/output/intermediate\",\n",
      "    \"resource_config\": {\n",
      "        \"current_host\": \"algo-1\",\n",
      "        \"hosts\": [\n",
      "            \"algo-1\"\n",
      "        ],\n",
      "        \"network_interface_name\": \"eth0\"\n",
      "    },\n",
      "    \"user_entry_point\": \"scikit_learn_mimic.py\"\u001b[0m\n",
      "\u001b[34m}\n",
      "\u001b[0m\n",
      "\u001b[34mEnvironment variables:\n",
      "\u001b[0m\n",
      "\u001b[34mSM_HOSTS=[\"algo-1\"]\u001b[0m\n",
      "\u001b[34mSM_NETWORK_INTERFACE_NAME=eth0\u001b[0m\n",
      "\u001b[34mSM_HPS={}\u001b[0m\n",
      "\u001b[34mSM_USER_ENTRY_POINT=scikit_learn_mimic.py\u001b[0m\n",
      "\u001b[34mSM_FRAMEWORK_PARAMS={}\u001b[0m\n",
      "\u001b[34mSM_RESOURCE_CONFIG={\"current_host\":\"algo-1\",\"hosts\":[\"algo-1\"],\"network_interface_name\":\"eth0\"}\u001b[0m\n",
      "\u001b[34mSM_INPUT_DATA_CONFIG={\"train\":{\"RecordWrapperType\":\"None\",\"S3DistributionType\":\"FullyReplicated\",\"TrainingInputMode\":\"File\"}}\u001b[0m\n",
      "\u001b[34mSM_OUTPUT_DATA_DIR=/opt/ml/output/data\u001b[0m\n",
      "\u001b[34mSM_CHANNELS=[\"train\"]\u001b[0m\n",
      "\u001b[34mSM_CURRENT_HOST=algo-1\u001b[0m\n",
      "\u001b[34mSM_MODULE_NAME=scikit_learn_mimic\u001b[0m\n",
      "\u001b[34mSM_LOG_LEVEL=20\u001b[0m\n",
      "\u001b[34mSM_FRAMEWORK_MODULE=sagemaker_sklearn_container.training:main\u001b[0m\n",
      "\u001b[34mSM_INPUT_DIR=/opt/ml/input\u001b[0m\n",
      "\u001b[34mSM_INPUT_CONFIG_DIR=/opt/ml/input/config\u001b[0m\n",
      "\u001b[34mSM_OUTPUT_DIR=/opt/ml/output\u001b[0m\n",
      "\u001b[34mSM_NUM_CPUS=4\u001b[0m\n",
      "\u001b[34mSM_NUM_GPUS=0\u001b[0m\n",
      "\u001b[34mSM_MODEL_DIR=/opt/ml/model\u001b[0m\n",
      "\u001b[34mSM_MODULE_DIR=s3://sagemaker-us-east-1-795875386142/sagemaker-scikit-learn-2020-07-23-00-25-33-098/source/sourcedir.tar.gz\u001b[0m\n",
      "\u001b[34mSM_TRAINING_ENV={\"additional_framework_parameters\":{},\"channel_input_dirs\":{\"train\":\"/opt/ml/input/data/train\"},\"current_host\":\"algo-1\",\"framework_module\":\"sagemaker_sklearn_container.training:main\",\"hosts\":[\"algo-1\"],\"hyperparameters\":{},\"input_config_dir\":\"/opt/ml/input/config\",\"input_data_config\":{\"train\":{\"RecordWrapperType\":\"None\",\"S3DistributionType\":\"FullyReplicated\",\"TrainingInputMode\":\"File\"}},\"input_dir\":\"/opt/ml/input\",\"is_master\":true,\"job_name\":\"sagemaker-scikit-learn-2020-07-23-00-25-33-098\",\"log_level\":20,\"master_hostname\":\"algo-1\",\"model_dir\":\"/opt/ml/model\",\"module_dir\":\"s3://sagemaker-us-east-1-795875386142/sagemaker-scikit-learn-2020-07-23-00-25-33-098/source/sourcedir.tar.gz\",\"module_name\":\"scikit_learn_mimic\",\"network_interface_name\":\"eth0\",\"num_cpus\":4,\"num_gpus\":0,\"output_data_dir\":\"/opt/ml/output/data\",\"output_dir\":\"/opt/ml/output\",\"output_intermediate_dir\":\"/opt/ml/output/intermediate\",\"resource_config\":{\"current_host\":\"algo-1\",\"hosts\":[\"algo-1\"],\"network_interface_name\":\"eth0\"},\"user_entry_point\":\"scikit_learn_mimic.py\"}\u001b[0m\n",
      "\u001b[34mSM_USER_ARGS=[]\u001b[0m\n",
      "\u001b[34mSM_OUTPUT_INTERMEDIATE_DIR=/opt/ml/output/intermediate\u001b[0m\n",
      "\u001b[34mSM_CHANNEL_TRAIN=/opt/ml/input/data/train\u001b[0m\n",
      "\u001b[34mPYTHONPATH=/opt/ml/code:/miniconda3/bin:/miniconda3/lib/python37.zip:/miniconda3/lib/python3.7:/miniconda3/lib/python3.7/lib-dynload:/miniconda3/lib/python3.7/site-packages\n",
      "\u001b[0m\n",
      "\u001b[34mInvoking script with the following command:\n",
      "\u001b[0m\n",
      "\u001b[34m/miniconda3/bin/python scikit_learn_mimic.py\n",
      "\n",
      "\u001b[0m\n",
      "\u001b[34mTest Accuracy: 0.8924189485658568;\u001b[0m\n",
      "\u001b[34mTest AUROC: 0.627462577766068;\u001b[0m\n",
      "\u001b[34mSaving the model.\u001b[0m\n",
      "\u001b[34m2020-07-23 00:29:27,983 sagemaker-training-toolkit INFO     Reporting training SUCCESS\u001b[0m\n",
      "\n",
      "2020-07-23 00:29:49 Uploading - Uploading generated training model\n",
      "2020-07-23 00:29:49 Completed - Training job completed\n",
      "Training seconds: 94\n",
      "Billable seconds: 94\n"
     ]
    }
   ],
   "source": [
    "# We want to see and stream logs from our container training in AWS with SageMaker. Therefore we leave `wait=True`\n",
    "sklearn.fit({'train': train_input}, wait=True)"
   ]
  },
  {
   "cell_type": "markdown",
   "metadata": {},
   "source": [
    "You should see SageMaker spinning up instances for training:\n",
    "\n",
    "![sm-train](./media/sagemaker-training.png)"
   ]
  },
  {
   "cell_type": "markdown",
   "metadata": {},
   "source": [
    "---\n",
    "Again, we can test the deploy locally before deploying in the SageMaker hosting services:"
   ]
  },
  {
   "cell_type": "code",
   "execution_count": 25,
   "metadata": {},
   "outputs": [
    {
     "name": "stderr",
     "output_type": "stream",
     "text": [
      "Parameter image will be renamed to image_uri in SageMaker Python SDK v2.\n"
     ]
    },
    {
     "name": "stdout",
     "output_type": "stream",
     "text": [
      "Attaching to tmpkxislc6d_algo-1-sqsdt_1\n",
      "\u001b[36malgo-1-sqsdt_1  |\u001b[0m 2020-07-23 00:30:17,487 INFO - sagemaker-containers - No GPUs detected (normal if no gpus installed)\n",
      "\u001b[36malgo-1-sqsdt_1  |\u001b[0m 2020-07-23 00:30:17,493 INFO - sagemaker-containers - No GPUs detected (normal if no gpus installed)\n",
      "\u001b[36malgo-1-sqsdt_1  |\u001b[0m 2020-07-23 00:30:17,494 INFO - sagemaker-containers - nginx config: \n",
      "\u001b[36malgo-1-sqsdt_1  |\u001b[0m worker_processes auto;\n",
      "\u001b[36malgo-1-sqsdt_1  |\u001b[0m daemon off;\n",
      "\u001b[36malgo-1-sqsdt_1  |\u001b[0m pid /tmp/nginx.pid;\n",
      "\u001b[36malgo-1-sqsdt_1  |\u001b[0m error_log  /dev/stderr;\n",
      "\u001b[36malgo-1-sqsdt_1  |\u001b[0m \n",
      "\u001b[36malgo-1-sqsdt_1  |\u001b[0m worker_rlimit_nofile 4096;\n",
      "\u001b[36malgo-1-sqsdt_1  |\u001b[0m \n",
      "\u001b[36malgo-1-sqsdt_1  |\u001b[0m events {\n",
      "\u001b[36malgo-1-sqsdt_1  |\u001b[0m   worker_connections 2048;\n",
      "\u001b[36malgo-1-sqsdt_1  |\u001b[0m }\n",
      "\u001b[36malgo-1-sqsdt_1  |\u001b[0m \n",
      "\u001b[36malgo-1-sqsdt_1  |\u001b[0m http {\n",
      "\u001b[36malgo-1-sqsdt_1  |\u001b[0m   include /etc/nginx/mime.types;\n",
      "\u001b[36malgo-1-sqsdt_1  |\u001b[0m   default_type application/octet-stream;\n",
      "\u001b[36malgo-1-sqsdt_1  |\u001b[0m   access_log /dev/stdout combined;\n",
      "\u001b[36malgo-1-sqsdt_1  |\u001b[0m \n",
      "\u001b[36malgo-1-sqsdt_1  |\u001b[0m   upstream gunicorn {\n",
      "\u001b[36malgo-1-sqsdt_1  |\u001b[0m     server unix:/tmp/gunicorn.sock;\n",
      "\u001b[36malgo-1-sqsdt_1  |\u001b[0m   }\n",
      "\u001b[36malgo-1-sqsdt_1  |\u001b[0m \n",
      "\u001b[36malgo-1-sqsdt_1  |\u001b[0m   server {\n",
      "\u001b[36malgo-1-sqsdt_1  |\u001b[0m     listen 8080 deferred;\n",
      "\u001b[36malgo-1-sqsdt_1  |\u001b[0m     client_max_body_size 0;\n",
      "\u001b[36malgo-1-sqsdt_1  |\u001b[0m \n",
      "\u001b[36malgo-1-sqsdt_1  |\u001b[0m     keepalive_timeout 3;\n",
      "\u001b[36malgo-1-sqsdt_1  |\u001b[0m \n",
      "\u001b[36malgo-1-sqsdt_1  |\u001b[0m     location ~ ^/(ping|invocations|execution-parameters) {\n",
      "\u001b[36malgo-1-sqsdt_1  |\u001b[0m       proxy_set_header X-Forwarded-For $proxy_add_x_forwarded_for;\n",
      "\u001b[36malgo-1-sqsdt_1  |\u001b[0m       proxy_set_header Host $http_host;\n",
      "\u001b[36malgo-1-sqsdt_1  |\u001b[0m       proxy_redirect off;\n",
      "\u001b[36malgo-1-sqsdt_1  |\u001b[0m       proxy_read_timeout 60s;\n",
      "\u001b[36malgo-1-sqsdt_1  |\u001b[0m       proxy_pass http://gunicorn;\n",
      "\u001b[36malgo-1-sqsdt_1  |\u001b[0m     }\n",
      "\u001b[36malgo-1-sqsdt_1  |\u001b[0m \n",
      "\u001b[36malgo-1-sqsdt_1  |\u001b[0m     location / {\n",
      "\u001b[36malgo-1-sqsdt_1  |\u001b[0m       return 404 \"{}\";\n",
      "\u001b[36malgo-1-sqsdt_1  |\u001b[0m     }\n",
      "\u001b[36malgo-1-sqsdt_1  |\u001b[0m \n",
      "\u001b[36malgo-1-sqsdt_1  |\u001b[0m   }\n",
      "\u001b[36malgo-1-sqsdt_1  |\u001b[0m }\n",
      "\u001b[36malgo-1-sqsdt_1  |\u001b[0m \n",
      "\u001b[36malgo-1-sqsdt_1  |\u001b[0m \n",
      "\u001b[36malgo-1-sqsdt_1  |\u001b[0m 2020-07-23 00:30:18,578 INFO - sagemaker-containers - Module scikit_learn_mimic does not provide a setup.py. \n",
      "\u001b[36malgo-1-sqsdt_1  |\u001b[0m Generating setup.py\n",
      "\u001b[36malgo-1-sqsdt_1  |\u001b[0m 2020-07-23 00:30:18,579 INFO - sagemaker-containers - Generating setup.cfg\n",
      "\u001b[36malgo-1-sqsdt_1  |\u001b[0m 2020-07-23 00:30:18,580 INFO - sagemaker-containers - Generating MANIFEST.in\n",
      "\u001b[36malgo-1-sqsdt_1  |\u001b[0m 2020-07-23 00:30:18,581 INFO - sagemaker-containers - Installing module with the following command:\n",
      "\u001b[36malgo-1-sqsdt_1  |\u001b[0m /miniconda3/bin/python -m pip install . \n",
      "\u001b[36malgo-1-sqsdt_1  |\u001b[0m Processing /opt/ml/code\n",
      "\u001b[36malgo-1-sqsdt_1  |\u001b[0m Building wheels for collected packages: scikit-learn-mimic\n",
      "\u001b[36malgo-1-sqsdt_1  |\u001b[0m   Building wheel for scikit-learn-mimic (setup.py) ... \u001b[?25ldone\n",
      "\u001b[36malgo-1-sqsdt_1  |\u001b[0m \u001b[?25h  Created wheel for scikit-learn-mimic: filename=scikit_learn_mimic-1.0.0-py2.py3-none-any.whl size=8536 sha256=9443e9b21dcab8d6b25f65c3b791cfd414d671ec8db621de6e6ef85d2595dc42\n",
      "\u001b[36malgo-1-sqsdt_1  |\u001b[0m   Stored in directory: /home/model-server/tmp/pip-ephem-wheel-cache-p6pb3m7a/wheels/3e/0f/51/2f1df833dd0412c1bc2f5ee56baac195b5be563353d111dca6\n",
      "\u001b[36malgo-1-sqsdt_1  |\u001b[0m Successfully built scikit-learn-mimic\n",
      "\u001b[36malgo-1-sqsdt_1  |\u001b[0m 2020/07/23 00:30:20 [crit] 15#15: *1 connect() to unix:/tmp/gunicorn.sock failed (2: No such file or directory) while connecting to upstream, client: 172.18.0.1, server: , request: \"GET /ping HTTP/1.1\", upstream: \"http://unix:/tmp/gunicorn.sock:/ping\", host: \"localhost:8080\"\n",
      "\u001b[36malgo-1-sqsdt_1  |\u001b[0m 172.18.0.1 - - [23/Jul/2020:00:30:20 +0000] \"GET /ping HTTP/1.1\" 502 182 \"-\" \"-\"\n",
      "\u001b[36malgo-1-sqsdt_1  |\u001b[0m Installing collected packages: scikit-learn-mimic\n",
      "\u001b[36malgo-1-sqsdt_1  |\u001b[0m Successfully installed scikit-learn-mimic-1.0.0\n",
      "\u001b[36malgo-1-sqsdt_1  |\u001b[0m [2020-07-23 00:30:21 +0000] [29] [INFO] Starting gunicorn 20.0.4\n",
      "\u001b[36malgo-1-sqsdt_1  |\u001b[0m [2020-07-23 00:30:21 +0000] [29] [INFO] Listening at: unix:/tmp/gunicorn.sock (29)\n",
      "\u001b[36malgo-1-sqsdt_1  |\u001b[0m [2020-07-23 00:30:21 +0000] [29] [INFO] Using worker: gevent\n",
      "\u001b[36malgo-1-sqsdt_1  |\u001b[0m [2020-07-23 00:30:21 +0000] [32] [INFO] Booting worker with pid: 32\n",
      "\u001b[36malgo-1-sqsdt_1  |\u001b[0m [2020-07-23 00:30:21 +0000] [33] [INFO] Booting worker with pid: 33\n",
      "\u001b[36malgo-1-sqsdt_1  |\u001b[0m 2020-07-23 00:30:25,212 INFO - sagemaker-containers - No GPUs detected (normal if no gpus installed)\n",
      "!\u001b[36malgo-1-sqsdt_1  |\u001b[0m 172.18.0.1 - - [23/Jul/2020:00:30:25 +0000] \"GET /ping HTTP/1.1\" 200 0 \"-\" \"-\"\n"
     ]
    }
   ],
   "source": [
    "predictor_local = sklearn_local.deploy(initial_instance_count=1, instance_type=\"local\")"
   ]
  },
  {
   "cell_type": "code",
   "execution_count": 26,
   "metadata": {},
   "outputs": [
    {
     "name": "stdout",
     "output_type": "stream",
     "text": [
      "\u001b[36malgo-1-sqsdt_1  |\u001b[0m 2020-07-23 00:30:25,778 INFO - sagemaker-containers - No GPUs detected (normal if no gpus installed)\n",
      "shape of predictions array:\u001b[36malgo-1-sqsdt_1  |\u001b[0m 172.18.0.1 - - [23/Jul/2020:00:30:26 +0000] \"POST /invocations HTTP/1.1\" 200 98584 \"-\" \"-\"\n",
      " (12307,)\n",
      "Accuracy = 0.8951816039652231\n",
      "AUROC = 0.6033460168207213\n",
      "\n",
      "Confusion matrix\n",
      "[[10964    15]\n",
      " [ 1275    53]]\n",
      "\n",
      "Classification report\n",
      "              precision    recall  f1-score   support\n",
      "\n",
      "           0       0.90      1.00      0.94     10979\n",
      "           1       0.78      0.04      0.08      1328\n",
      "\n",
      "    accuracy                           0.90     12307\n",
      "   macro avg       0.84      0.52      0.51     12307\n",
      "weighted avg       0.88      0.90      0.85     12307\n",
      "\n"
     ]
    }
   ],
   "source": [
    "# predict class labels for the test set\n",
    "y_pred_endpoint = predictor_local.predict(X_test)\n",
    "print('shape of predictions array:',y_pred_endpoint.shape)\n",
    "\n",
    "# generate evaluation metrics\n",
    "print('Accuracy = {}'.format(accuracy_score(y_test, y_pred)))\n",
    "print('AUROC = {}'.format(roc_auc_score(y_test, y_prob[:, 1])))\n",
    "\n",
    "print('\\nConfusion matrix')\n",
    "print(confusion_matrix(y_test, y_pred))\n",
    "print('\\nClassification report')\n",
    "print(classification_report(y_test, y_pred))"
   ]
  },
  {
   "cell_type": "code",
   "execution_count": 27,
   "metadata": {},
   "outputs": [
    {
     "name": "stdout",
     "output_type": "stream",
     "text": [
      "Gracefully stopping... (press Ctrl+C again to force)\n"
     ]
    }
   ],
   "source": [
    "predictor_local.delete_endpoint()"
   ]
  },
  {
   "cell_type": "markdown",
   "metadata": {},
   "source": [
    "Everything seems to be working fine. Now, deploy in the AWS cloud:"
   ]
  },
  {
   "cell_type": "code",
   "execution_count": 28,
   "metadata": {},
   "outputs": [
    {
     "name": "stderr",
     "output_type": "stream",
     "text": [
      "Parameter image will be renamed to image_uri in SageMaker Python SDK v2.\n"
     ]
    },
    {
     "name": "stdout",
     "output_type": "stream",
     "text": [
      "-----------------!"
     ]
    }
   ],
   "source": [
    "predictor = sklearn.deploy(initial_instance_count=1, instance_type=\"ml.m4.xlarge\")"
   ]
  },
  {
   "cell_type": "markdown",
   "metadata": {},
   "source": [
    "You should see SageMaker spinning up instances for hosting the model with an API endpoint:\n",
    "\n",
    "![sm-train](./media/sagemaker-hosting.png)\n",
    "\n",
    "![sm-train](./media/sagemaker-hosting-2.png)"
   ]
  },
  {
   "cell_type": "code",
   "execution_count": 29,
   "metadata": {},
   "outputs": [
    {
     "name": "stdout",
     "output_type": "stream",
     "text": [
      "Accuracy = 0.8951816039652231\n",
      "AUROC = 0.6033460168207213\n",
      "\n",
      "Confusion matrix\n",
      "[[10964    15]\n",
      " [ 1275    53]]\n",
      "\n",
      "Classification report\n",
      "              precision    recall  f1-score   support\n",
      "\n",
      "           0       0.90      1.00      0.94     10979\n",
      "           1       0.78      0.04      0.08      1328\n",
      "\n",
      "    accuracy                           0.90     12307\n",
      "   macro avg       0.84      0.52      0.51     12307\n",
      "weighted avg       0.88      0.90      0.85     12307\n",
      "\n"
     ]
    }
   ],
   "source": [
    "# predict class labels for the test set\n",
    "y_pred_endpoint = predictor.predict(X_test)\n",
    "\n",
    "# generate evaluation metrics\n",
    "print('Accuracy = {}'.format(accuracy_score(y_test, y_pred)))\n",
    "print('AUROC = {}'.format(roc_auc_score(y_test, y_prob[:, 1])))\n",
    "\n",
    "print('\\nConfusion matrix')\n",
    "print(confusion_matrix(y_test, y_pred))\n",
    "print('\\nClassification report')\n",
    "print(classification_report(y_test, y_pred))"
   ]
  },
  {
   "cell_type": "code",
   "execution_count": 30,
   "metadata": {},
   "outputs": [
    {
     "name": "stderr",
     "output_type": "stream",
     "text": [
      "WARNING:root:estimator.delete_endpoint() will be deprecated in SageMaker Python SDK v2. Please use the delete_endpoint() function on your predictor instead.\n"
     ]
    }
   ],
   "source": [
    "# Delete endpoint for avoid costs\n",
    "sklearn.delete_endpoint()"
   ]
  }
 ],
 "metadata": {
  "kernelspec": {
   "display_name": "sagemaker_local",
   "language": "python",
   "name": "sagemaker_local"
  },
  "language_info": {
   "codemirror_mode": {
    "name": "ipython",
    "version": 3
   },
   "file_extension": ".py",
   "mimetype": "text/x-python",
   "name": "python",
   "nbconvert_exporter": "python",
   "pygments_lexer": "ipython3",
   "version": "3.7.7"
  }
 },
 "nbformat": 4,
 "nbformat_minor": 4
}
