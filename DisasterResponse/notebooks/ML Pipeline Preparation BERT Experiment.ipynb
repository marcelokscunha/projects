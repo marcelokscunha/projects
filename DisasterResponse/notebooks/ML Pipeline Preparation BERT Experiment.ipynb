{
 "cells": [
  {
   "cell_type": "markdown",
   "metadata": {},
   "source": [
    "# ML Pipeline Preparation\n",
    "### 1. Import libraries and load data from database.\n",
    "- Import Python libraries\n",
    "- Load dataset from database\n",
    "- Define feature and target variables X and Y"
   ]
  },
  {
   "cell_type": "code",
   "execution_count": 1,
   "metadata": {},
   "outputs": [],
   "source": [
    "# %%bash\n",
    "# conda install scikit-learn=0.21.2 -y\n",
    "# # git clone -b master https://github.com/charles9n/bert-sklearn\n",
    "# cd bert-sklearn; pip install .\n",
    "# conda install joblib -y"
   ]
  },
  {
   "cell_type": "code",
   "execution_count": 9,
   "metadata": {},
   "outputs": [
    {
     "name": "stdout",
     "output_type": "stream",
     "text": [
      "pytorch version: 1.3.0\n"
     ]
    },
    {
     "name": "stderr",
     "output_type": "stream",
     "text": [
      "[nltk_data] Downloading package punkt to /Users/mccunha/nltk_data...\n",
      "[nltk_data]   Package punkt is already up-to-date!\n",
      "[nltk_data] Downloading package wordnet to /Users/mccunha/nltk_data...\n",
      "[nltk_data]   Package wordnet is already up-to-date!\n",
      "[nltk_data] Downloading package averaged_perceptron_tagger to\n",
      "[nltk_data]     /Users/mccunha/nltk_data...\n",
      "[nltk_data]   Package averaged_perceptron_tagger is already up-to-\n",
      "[nltk_data]       date!\n",
      "[nltk_data] Downloading package stopwords to\n",
      "[nltk_data]     /Users/mccunha/nltk_data...\n",
      "[nltk_data]   Package stopwords is already up-to-date!\n"
     ]
    }
   ],
   "source": [
    "# import libraries and set configurations\n",
    "from IPython.display import display\n",
    "import pandas as pd\n",
    "import numpy as np\n",
    "import re\n",
    "\n",
    "from sqlalchemy import create_engine\n",
    "\n",
    "import nltk\n",
    "from nltk.corpus import stopwords\n",
    "from nltk.stem.wordnet import WordNetLemmatizer\n",
    "from nltk.tokenize import word_tokenize\n",
    "from nltk.stem import WordNetLemmatizer\n",
    "\n",
    "# Imports for testing the LightGBM inspired Scikit Learn Histogram-based Gradient Boosting Tree.\n",
    "# from sklearn.experimental import enable_hist_gradient_boosting\n",
    "# from sklearn.ensemble import HistGradientBoostingClassifier\n",
    "from sklearn.ensemble import GradientBoostingClassifier\n",
    "from sklearn.multioutput import MultiOutputClassifier\n",
    "from sklearn.feature_extraction.text import TfidfVectorizer\n",
    "from sklearn.pipeline import Pipeline\n",
    "from sklearn.base import BaseEstimator, TransformerMixin\n",
    "from sklearn.model_selection import train_test_split, GridSearchCV\n",
    "from sklearn.metrics import classification_report\n",
    "from joblib import dump, load\n",
    "\n",
    "from bert_sklearn import BertClassifier\n",
    "from bert_sklearn import BertTokenClassifier\n",
    "from bert_sklearn import load_model\n",
    "\n",
    "import torch\n",
    "print('pytorch version:', torch.__version__)\n",
    "if torch.has_cuda:\n",
    "    print('GPU:',torch.cuda.get_device_name(0))\n",
    "\n",
    "nltk.download(['punkt', 'wordnet', 'averaged_perceptron_tagger','stopwords'])\n",
    "pd.set_option('display.max_columns',40)\n",
    "\n",
    "# modified ...lib/python3.6/site-packages/sklearn/multioutput.py to accept X as 1D array in class MultiOutputEstimator in\n",
    "# def fit(self, X, y, sample_weight=None):\n",
    "#     (...)\n",
    "#     X, y = check_X_y(X, y,\n",
    "#                      multi_output=True,\n",
    "#                      accept_sparse=True,\n",
    "#                      ensure_2d=False)\n",
    "# \n",
    "# TODO: Open issue on scikit GitHub Repo to understand why X is required to be 2D array"
   ]
  },
  {
   "cell_type": "code",
   "execution_count": 5,
   "metadata": {},
   "outputs": [],
   "source": [
    "# load data from database\n",
    "engine = create_engine('sqlite:///../data/DisasterResponse.db')"
   ]
  },
  {
   "cell_type": "code",
   "execution_count": 6,
   "metadata": {},
   "outputs": [],
   "source": [
    "df = pd.read_sql('disaster_data', engine)"
   ]
  },
  {
   "cell_type": "code",
   "execution_count": 7,
   "metadata": {
    "collapsed": true,
    "jupyter": {
     "outputs_hidden": true
    }
   },
   "outputs": [
    {
     "data": {
      "text/html": [
       "<div>\n",
       "<style scoped>\n",
       "    .dataframe tbody tr th:only-of-type {\n",
       "        vertical-align: middle;\n",
       "    }\n",
       "\n",
       "    .dataframe tbody tr th {\n",
       "        vertical-align: top;\n",
       "    }\n",
       "\n",
       "    .dataframe thead th {\n",
       "        text-align: right;\n",
       "    }\n",
       "</style>\n",
       "<table border=\"1\" class=\"dataframe\">\n",
       "  <thead>\n",
       "    <tr style=\"text-align: right;\">\n",
       "      <th></th>\n",
       "      <th>id</th>\n",
       "      <th>message</th>\n",
       "      <th>original</th>\n",
       "      <th>genre</th>\n",
       "      <th>related</th>\n",
       "      <th>request</th>\n",
       "      <th>offer</th>\n",
       "      <th>aid_related</th>\n",
       "      <th>medical_help</th>\n",
       "      <th>medical_products</th>\n",
       "      <th>search_and_rescue</th>\n",
       "      <th>security</th>\n",
       "      <th>military</th>\n",
       "      <th>child_alone</th>\n",
       "      <th>water</th>\n",
       "      <th>food</th>\n",
       "      <th>shelter</th>\n",
       "      <th>clothing</th>\n",
       "      <th>money</th>\n",
       "      <th>missing_people</th>\n",
       "      <th>refugees</th>\n",
       "      <th>death</th>\n",
       "      <th>other_aid</th>\n",
       "      <th>infrastructure_related</th>\n",
       "      <th>transport</th>\n",
       "      <th>buildings</th>\n",
       "      <th>electricity</th>\n",
       "      <th>tools</th>\n",
       "      <th>hospitals</th>\n",
       "      <th>shops</th>\n",
       "      <th>aid_centers</th>\n",
       "      <th>other_infrastructure</th>\n",
       "      <th>weather_related</th>\n",
       "      <th>floods</th>\n",
       "      <th>storm</th>\n",
       "      <th>fire</th>\n",
       "      <th>earthquake</th>\n",
       "      <th>cold</th>\n",
       "      <th>other_weather</th>\n",
       "      <th>direct_report</th>\n",
       "    </tr>\n",
       "  </thead>\n",
       "  <tbody>\n",
       "    <tr>\n",
       "      <th>0</th>\n",
       "      <td>2</td>\n",
       "      <td>Weather update - a cold front from Cuba that c...</td>\n",
       "      <td>Un front froid se retrouve sur Cuba ce matin. ...</td>\n",
       "      <td>direct</td>\n",
       "      <td>1</td>\n",
       "      <td>0</td>\n",
       "      <td>0</td>\n",
       "      <td>0</td>\n",
       "      <td>0</td>\n",
       "      <td>0</td>\n",
       "      <td>0</td>\n",
       "      <td>0</td>\n",
       "      <td>0</td>\n",
       "      <td>0</td>\n",
       "      <td>0</td>\n",
       "      <td>0</td>\n",
       "      <td>0</td>\n",
       "      <td>0</td>\n",
       "      <td>0</td>\n",
       "      <td>0</td>\n",
       "      <td>0</td>\n",
       "      <td>0</td>\n",
       "      <td>0</td>\n",
       "      <td>0</td>\n",
       "      <td>0</td>\n",
       "      <td>0</td>\n",
       "      <td>0</td>\n",
       "      <td>0</td>\n",
       "      <td>0</td>\n",
       "      <td>0</td>\n",
       "      <td>0</td>\n",
       "      <td>0</td>\n",
       "      <td>0</td>\n",
       "      <td>0</td>\n",
       "      <td>0</td>\n",
       "      <td>0</td>\n",
       "      <td>0</td>\n",
       "      <td>0</td>\n",
       "      <td>0</td>\n",
       "      <td>0</td>\n",
       "    </tr>\n",
       "    <tr>\n",
       "      <th>1</th>\n",
       "      <td>7</td>\n",
       "      <td>Is the Hurricane over or is it not over</td>\n",
       "      <td>Cyclone nan fini osinon li pa fini</td>\n",
       "      <td>direct</td>\n",
       "      <td>1</td>\n",
       "      <td>0</td>\n",
       "      <td>0</td>\n",
       "      <td>1</td>\n",
       "      <td>0</td>\n",
       "      <td>0</td>\n",
       "      <td>0</td>\n",
       "      <td>0</td>\n",
       "      <td>0</td>\n",
       "      <td>0</td>\n",
       "      <td>0</td>\n",
       "      <td>0</td>\n",
       "      <td>0</td>\n",
       "      <td>0</td>\n",
       "      <td>0</td>\n",
       "      <td>0</td>\n",
       "      <td>0</td>\n",
       "      <td>0</td>\n",
       "      <td>1</td>\n",
       "      <td>0</td>\n",
       "      <td>0</td>\n",
       "      <td>0</td>\n",
       "      <td>0</td>\n",
       "      <td>0</td>\n",
       "      <td>0</td>\n",
       "      <td>0</td>\n",
       "      <td>0</td>\n",
       "      <td>0</td>\n",
       "      <td>1</td>\n",
       "      <td>0</td>\n",
       "      <td>1</td>\n",
       "      <td>0</td>\n",
       "      <td>0</td>\n",
       "      <td>0</td>\n",
       "      <td>0</td>\n",
       "      <td>0</td>\n",
       "    </tr>\n",
       "    <tr>\n",
       "      <th>2</th>\n",
       "      <td>8</td>\n",
       "      <td>Looking for someone but no name</td>\n",
       "      <td>Patnm, di Maryani relem pou li banm nouvel li ...</td>\n",
       "      <td>direct</td>\n",
       "      <td>1</td>\n",
       "      <td>0</td>\n",
       "      <td>0</td>\n",
       "      <td>0</td>\n",
       "      <td>0</td>\n",
       "      <td>0</td>\n",
       "      <td>0</td>\n",
       "      <td>0</td>\n",
       "      <td>0</td>\n",
       "      <td>0</td>\n",
       "      <td>0</td>\n",
       "      <td>0</td>\n",
       "      <td>0</td>\n",
       "      <td>0</td>\n",
       "      <td>0</td>\n",
       "      <td>0</td>\n",
       "      <td>0</td>\n",
       "      <td>0</td>\n",
       "      <td>0</td>\n",
       "      <td>0</td>\n",
       "      <td>0</td>\n",
       "      <td>0</td>\n",
       "      <td>0</td>\n",
       "      <td>0</td>\n",
       "      <td>0</td>\n",
       "      <td>0</td>\n",
       "      <td>0</td>\n",
       "      <td>0</td>\n",
       "      <td>0</td>\n",
       "      <td>0</td>\n",
       "      <td>0</td>\n",
       "      <td>0</td>\n",
       "      <td>0</td>\n",
       "      <td>0</td>\n",
       "      <td>0</td>\n",
       "      <td>0</td>\n",
       "    </tr>\n",
       "    <tr>\n",
       "      <th>3</th>\n",
       "      <td>9</td>\n",
       "      <td>UN reports Leogane 80-90 destroyed. Only Hospi...</td>\n",
       "      <td>UN reports Leogane 80-90 destroyed. Only Hospi...</td>\n",
       "      <td>direct</td>\n",
       "      <td>1</td>\n",
       "      <td>1</td>\n",
       "      <td>0</td>\n",
       "      <td>1</td>\n",
       "      <td>0</td>\n",
       "      <td>1</td>\n",
       "      <td>0</td>\n",
       "      <td>0</td>\n",
       "      <td>0</td>\n",
       "      <td>0</td>\n",
       "      <td>0</td>\n",
       "      <td>0</td>\n",
       "      <td>0</td>\n",
       "      <td>0</td>\n",
       "      <td>0</td>\n",
       "      <td>0</td>\n",
       "      <td>0</td>\n",
       "      <td>0</td>\n",
       "      <td>1</td>\n",
       "      <td>1</td>\n",
       "      <td>0</td>\n",
       "      <td>1</td>\n",
       "      <td>0</td>\n",
       "      <td>0</td>\n",
       "      <td>1</td>\n",
       "      <td>0</td>\n",
       "      <td>0</td>\n",
       "      <td>0</td>\n",
       "      <td>0</td>\n",
       "      <td>0</td>\n",
       "      <td>0</td>\n",
       "      <td>0</td>\n",
       "      <td>0</td>\n",
       "      <td>0</td>\n",
       "      <td>0</td>\n",
       "      <td>0</td>\n",
       "    </tr>\n",
       "    <tr>\n",
       "      <th>4</th>\n",
       "      <td>12</td>\n",
       "      <td>says: west side of Haiti, rest of the country ...</td>\n",
       "      <td>facade ouest d Haiti et le reste du pays aujou...</td>\n",
       "      <td>direct</td>\n",
       "      <td>1</td>\n",
       "      <td>0</td>\n",
       "      <td>0</td>\n",
       "      <td>0</td>\n",
       "      <td>0</td>\n",
       "      <td>0</td>\n",
       "      <td>0</td>\n",
       "      <td>0</td>\n",
       "      <td>0</td>\n",
       "      <td>0</td>\n",
       "      <td>0</td>\n",
       "      <td>0</td>\n",
       "      <td>0</td>\n",
       "      <td>0</td>\n",
       "      <td>0</td>\n",
       "      <td>0</td>\n",
       "      <td>0</td>\n",
       "      <td>0</td>\n",
       "      <td>0</td>\n",
       "      <td>0</td>\n",
       "      <td>0</td>\n",
       "      <td>0</td>\n",
       "      <td>0</td>\n",
       "      <td>0</td>\n",
       "      <td>0</td>\n",
       "      <td>0</td>\n",
       "      <td>0</td>\n",
       "      <td>0</td>\n",
       "      <td>0</td>\n",
       "      <td>0</td>\n",
       "      <td>0</td>\n",
       "      <td>0</td>\n",
       "      <td>0</td>\n",
       "      <td>0</td>\n",
       "      <td>0</td>\n",
       "      <td>0</td>\n",
       "    </tr>\n",
       "  </tbody>\n",
       "</table>\n",
       "</div>"
      ],
      "text/plain": [
       "   id                                            message  \\\n",
       "0   2  Weather update - a cold front from Cuba that c...   \n",
       "1   7            Is the Hurricane over or is it not over   \n",
       "2   8                    Looking for someone but no name   \n",
       "3   9  UN reports Leogane 80-90 destroyed. Only Hospi...   \n",
       "4  12  says: west side of Haiti, rest of the country ...   \n",
       "\n",
       "                                            original   genre  related  \\\n",
       "0  Un front froid se retrouve sur Cuba ce matin. ...  direct        1   \n",
       "1                 Cyclone nan fini osinon li pa fini  direct        1   \n",
       "2  Patnm, di Maryani relem pou li banm nouvel li ...  direct        1   \n",
       "3  UN reports Leogane 80-90 destroyed. Only Hospi...  direct        1   \n",
       "4  facade ouest d Haiti et le reste du pays aujou...  direct        1   \n",
       "\n",
       "   request  offer  aid_related  medical_help  medical_products  \\\n",
       "0        0      0            0             0                 0   \n",
       "1        0      0            1             0                 0   \n",
       "2        0      0            0             0                 0   \n",
       "3        1      0            1             0                 1   \n",
       "4        0      0            0             0                 0   \n",
       "\n",
       "   search_and_rescue  security  military  child_alone  water  food  shelter  \\\n",
       "0                  0         0         0            0      0     0        0   \n",
       "1                  0         0         0            0      0     0        0   \n",
       "2                  0         0         0            0      0     0        0   \n",
       "3                  0         0         0            0      0     0        0   \n",
       "4                  0         0         0            0      0     0        0   \n",
       "\n",
       "   clothing  money  missing_people  refugees  death  other_aid  \\\n",
       "0         0      0               0         0      0          0   \n",
       "1         0      0               0         0      0          1   \n",
       "2         0      0               0         0      0          0   \n",
       "3         0      0               0         0      0          1   \n",
       "4         0      0               0         0      0          0   \n",
       "\n",
       "   infrastructure_related  transport  buildings  electricity  tools  \\\n",
       "0                       0          0          0            0      0   \n",
       "1                       0          0          0            0      0   \n",
       "2                       0          0          0            0      0   \n",
       "3                       1          0          1            0      0   \n",
       "4                       0          0          0            0      0   \n",
       "\n",
       "   hospitals  shops  aid_centers  other_infrastructure  weather_related  \\\n",
       "0          0      0            0                     0                0   \n",
       "1          0      0            0                     0                1   \n",
       "2          0      0            0                     0                0   \n",
       "3          1      0            0                     0                0   \n",
       "4          0      0            0                     0                0   \n",
       "\n",
       "   floods  storm  fire  earthquake  cold  other_weather  direct_report  \n",
       "0       0      0     0           0     0              0              0  \n",
       "1       0      1     0           0     0              0              0  \n",
       "2       0      0     0           0     0              0              0  \n",
       "3       0      0     0           0     0              0              0  \n",
       "4       0      0     0           0     0              0              0  "
      ]
     },
     "execution_count": 7,
     "metadata": {},
     "output_type": "execute_result"
    }
   ],
   "source": [
    "df.head()"
   ]
  },
  {
   "cell_type": "code",
   "execution_count": 6,
   "metadata": {},
   "outputs": [],
   "source": [
    "def highlight_imbalanced(col):\n",
    "    distance_perfect_distribution = np.abs(col - (1/len(col)))\n",
    "    return ['background-color: red' if len(col)<2 else 'background-color: yellow' if dist > 0.1 else '' for dist in distance_perfect_distribution]\n"
   ]
  },
  {
   "cell_type": "code",
   "execution_count": 7,
   "metadata": {},
   "outputs": [
    {
     "name": "stderr",
     "output_type": "stream",
     "text": [
      "03/26/2020 21:27:13 - INFO - numexpr.utils -   NumExpr defaulting to 8 threads.\n"
     ]
    },
    {
     "name": "stdout",
     "output_type": "stream",
     "text": [
      "Viewing distributions of values per label (class imbalances are highlighted):\n",
      "\n"
     ]
    },
    {
     "data": {
      "text/html": [
       "<style  type=\"text/css\" >\n",
       "    #T_8f406ba2_6fa8_11ea_8dce_e5431ab088d0row1_col0 {\n",
       "            background-color:  yellow;\n",
       "        }    #T_8f406ba2_6fa8_11ea_8dce_e5431ab088d0row2_col0 {\n",
       "            background-color:  yellow;\n",
       "        }</style><table id=\"T_8f406ba2_6fa8_11ea_8dce_e5431ab088d0\" ><thead>    <tr>        <th class=\"index_name level0\" >col_0</th>        <th class=\"col_heading level0 col0\" >%freq</th>    </tr>    <tr>        <th class=\"index_name level0\" >related</th>        <th class=\"blank\" ></th>    </tr></thead><tbody>\n",
       "                <tr>\n",
       "                        <th id=\"T_8f406ba2_6fa8_11ea_8dce_e5431ab088d0level0_row0\" class=\"row_heading level0 row0\" >0</th>\n",
       "                        <td id=\"T_8f406ba2_6fa8_11ea_8dce_e5431ab088d0row0_col0\" class=\"data row0 col0\" >0.233522</td>\n",
       "            </tr>\n",
       "            <tr>\n",
       "                        <th id=\"T_8f406ba2_6fa8_11ea_8dce_e5431ab088d0level0_row1\" class=\"row_heading level0 row1\" >1</th>\n",
       "                        <td id=\"T_8f406ba2_6fa8_11ea_8dce_e5431ab088d0row1_col0\" class=\"data row1 col0\" >0.759307</td>\n",
       "            </tr>\n",
       "            <tr>\n",
       "                        <th id=\"T_8f406ba2_6fa8_11ea_8dce_e5431ab088d0level0_row2\" class=\"row_heading level0 row2\" >2</th>\n",
       "                        <td id=\"T_8f406ba2_6fa8_11ea_8dce_e5431ab088d0row2_col0\" class=\"data row2 col0\" >0.00717119</td>\n",
       "            </tr>\n",
       "    </tbody></table>"
      ],
      "text/plain": [
       "<pandas.io.formats.style.Styler at 0x7f048ee484a8>"
      ]
     },
     "metadata": {},
     "output_type": "display_data"
    },
    {
     "data": {
      "text/html": [
       "<style  type=\"text/css\" >\n",
       "    #T_8f452d68_6fa8_11ea_8dce_e5431ab088d0row0_col0 {\n",
       "            background-color:  yellow;\n",
       "        }    #T_8f452d68_6fa8_11ea_8dce_e5431ab088d0row1_col0 {\n",
       "            background-color:  yellow;\n",
       "        }</style><table id=\"T_8f452d68_6fa8_11ea_8dce_e5431ab088d0\" ><thead>    <tr>        <th class=\"index_name level0\" >col_0</th>        <th class=\"col_heading level0 col0\" >%freq</th>    </tr>    <tr>        <th class=\"index_name level0\" >request</th>        <th class=\"blank\" ></th>    </tr></thead><tbody>\n",
       "                <tr>\n",
       "                        <th id=\"T_8f452d68_6fa8_11ea_8dce_e5431ab088d0level0_row0\" class=\"row_heading level0 row0\" >0</th>\n",
       "                        <td id=\"T_8f452d68_6fa8_11ea_8dce_e5431ab088d0row0_col0\" class=\"data row0 col0\" >0.829341</td>\n",
       "            </tr>\n",
       "            <tr>\n",
       "                        <th id=\"T_8f452d68_6fa8_11ea_8dce_e5431ab088d0level0_row1\" class=\"row_heading level0 row1\" >1</th>\n",
       "                        <td id=\"T_8f452d68_6fa8_11ea_8dce_e5431ab088d0row1_col0\" class=\"data row1 col0\" >0.170659</td>\n",
       "            </tr>\n",
       "    </tbody></table>"
      ],
      "text/plain": [
       "<pandas.io.formats.style.Styler at 0x7f0432af4b70>"
      ]
     },
     "metadata": {},
     "output_type": "display_data"
    },
    {
     "data": {
      "text/html": [
       "<style  type=\"text/css\" >\n",
       "    #T_8f492d32_6fa8_11ea_8dce_e5431ab088d0row0_col0 {\n",
       "            background-color:  yellow;\n",
       "        }    #T_8f492d32_6fa8_11ea_8dce_e5431ab088d0row1_col0 {\n",
       "            background-color:  yellow;\n",
       "        }</style><table id=\"T_8f492d32_6fa8_11ea_8dce_e5431ab088d0\" ><thead>    <tr>        <th class=\"index_name level0\" >col_0</th>        <th class=\"col_heading level0 col0\" >%freq</th>    </tr>    <tr>        <th class=\"index_name level0\" >offer</th>        <th class=\"blank\" ></th>    </tr></thead><tbody>\n",
       "                <tr>\n",
       "                        <th id=\"T_8f492d32_6fa8_11ea_8dce_e5431ab088d0level0_row0\" class=\"row_heading level0 row0\" >0</th>\n",
       "                        <td id=\"T_8f492d32_6fa8_11ea_8dce_e5431ab088d0row0_col0\" class=\"data row0 col0\" >0.995499</td>\n",
       "            </tr>\n",
       "            <tr>\n",
       "                        <th id=\"T_8f492d32_6fa8_11ea_8dce_e5431ab088d0level0_row1\" class=\"row_heading level0 row1\" >1</th>\n",
       "                        <td id=\"T_8f492d32_6fa8_11ea_8dce_e5431ab088d0row1_col0\" class=\"data row1 col0\" >0.00450107</td>\n",
       "            </tr>\n",
       "    </tbody></table>"
      ],
      "text/plain": [
       "<pandas.io.formats.style.Styler at 0x7f048ee48828>"
      ]
     },
     "metadata": {},
     "output_type": "display_data"
    },
    {
     "data": {
      "text/html": [
       "<style  type=\"text/css\" >\n",
       "</style><table id=\"T_8f4d5e16_6fa8_11ea_8dce_e5431ab088d0\" ><thead>    <tr>        <th class=\"index_name level0\" >col_0</th>        <th class=\"col_heading level0 col0\" >%freq</th>    </tr>    <tr>        <th class=\"index_name level0\" >aid_related</th>        <th class=\"blank\" ></th>    </tr></thead><tbody>\n",
       "                <tr>\n",
       "                        <th id=\"T_8f4d5e16_6fa8_11ea_8dce_e5431ab088d0level0_row0\" class=\"row_heading level0 row0\" >0</th>\n",
       "                        <td id=\"T_8f4d5e16_6fa8_11ea_8dce_e5431ab088d0row0_col0\" class=\"data row0 col0\" >0.585749</td>\n",
       "            </tr>\n",
       "            <tr>\n",
       "                        <th id=\"T_8f4d5e16_6fa8_11ea_8dce_e5431ab088d0level0_row1\" class=\"row_heading level0 row1\" >1</th>\n",
       "                        <td id=\"T_8f4d5e16_6fa8_11ea_8dce_e5431ab088d0row1_col0\" class=\"data row1 col0\" >0.414251</td>\n",
       "            </tr>\n",
       "    </tbody></table>"
      ],
      "text/plain": [
       "<pandas.io.formats.style.Styler at 0x7f043243feb8>"
      ]
     },
     "metadata": {},
     "output_type": "display_data"
    },
    {
     "data": {
      "text/html": [
       "<style  type=\"text/css\" >\n",
       "    #T_8f51639e_6fa8_11ea_8dce_e5431ab088d0row0_col0 {\n",
       "            background-color:  yellow;\n",
       "        }    #T_8f51639e_6fa8_11ea_8dce_e5431ab088d0row1_col0 {\n",
       "            background-color:  yellow;\n",
       "        }</style><table id=\"T_8f51639e_6fa8_11ea_8dce_e5431ab088d0\" ><thead>    <tr>        <th class=\"index_name level0\" >col_0</th>        <th class=\"col_heading level0 col0\" >%freq</th>    </tr>    <tr>        <th class=\"index_name level0\" >medical_help</th>        <th class=\"blank\" ></th>    </tr></thead><tbody>\n",
       "                <tr>\n",
       "                        <th id=\"T_8f51639e_6fa8_11ea_8dce_e5431ab088d0level0_row0\" class=\"row_heading level0 row0\" >0</th>\n",
       "                        <td id=\"T_8f51639e_6fa8_11ea_8dce_e5431ab088d0row0_col0\" class=\"data row0 col0\" >0.920507</td>\n",
       "            </tr>\n",
       "            <tr>\n",
       "                        <th id=\"T_8f51639e_6fa8_11ea_8dce_e5431ab088d0level0_row1\" class=\"row_heading level0 row1\" >1</th>\n",
       "                        <td id=\"T_8f51639e_6fa8_11ea_8dce_e5431ab088d0row1_col0\" class=\"data row1 col0\" >0.0794934</td>\n",
       "            </tr>\n",
       "    </tbody></table>"
      ],
      "text/plain": [
       "<pandas.io.formats.style.Styler at 0x7f04327ffac8>"
      ]
     },
     "metadata": {},
     "output_type": "display_data"
    },
    {
     "data": {
      "text/html": [
       "<style  type=\"text/css\" >\n",
       "    #T_8f5566ec_6fa8_11ea_8dce_e5431ab088d0row0_col0 {\n",
       "            background-color:  yellow;\n",
       "        }    #T_8f5566ec_6fa8_11ea_8dce_e5431ab088d0row1_col0 {\n",
       "            background-color:  yellow;\n",
       "        }</style><table id=\"T_8f5566ec_6fa8_11ea_8dce_e5431ab088d0\" ><thead>    <tr>        <th class=\"index_name level0\" >col_0</th>        <th class=\"col_heading level0 col0\" >%freq</th>    </tr>    <tr>        <th class=\"index_name level0\" >medical_products</th>        <th class=\"blank\" ></th>    </tr></thead><tbody>\n",
       "                <tr>\n",
       "                        <th id=\"T_8f5566ec_6fa8_11ea_8dce_e5431ab088d0level0_row0\" class=\"row_heading level0 row0\" >0</th>\n",
       "                        <td id=\"T_8f5566ec_6fa8_11ea_8dce_e5431ab088d0row0_col0\" class=\"data row0 col0\" >0.949916</td>\n",
       "            </tr>\n",
       "            <tr>\n",
       "                        <th id=\"T_8f5566ec_6fa8_11ea_8dce_e5431ab088d0level0_row1\" class=\"row_heading level0 row1\" >1</th>\n",
       "                        <td id=\"T_8f5566ec_6fa8_11ea_8dce_e5431ab088d0row1_col0\" class=\"data row1 col0\" >0.0500839</td>\n",
       "            </tr>\n",
       "    </tbody></table>"
      ],
      "text/plain": [
       "<pandas.io.formats.style.Styler at 0x7f043243f208>"
      ]
     },
     "metadata": {},
     "output_type": "display_data"
    },
    {
     "data": {
      "text/html": [
       "<style  type=\"text/css\" >\n",
       "    #T_8f593b5a_6fa8_11ea_8dce_e5431ab088d0row0_col0 {\n",
       "            background-color:  yellow;\n",
       "        }    #T_8f593b5a_6fa8_11ea_8dce_e5431ab088d0row1_col0 {\n",
       "            background-color:  yellow;\n",
       "        }</style><table id=\"T_8f593b5a_6fa8_11ea_8dce_e5431ab088d0\" ><thead>    <tr>        <th class=\"index_name level0\" >col_0</th>        <th class=\"col_heading level0 col0\" >%freq</th>    </tr>    <tr>        <th class=\"index_name level0\" >search_and_rescue</th>        <th class=\"blank\" ></th>    </tr></thead><tbody>\n",
       "                <tr>\n",
       "                        <th id=\"T_8f593b5a_6fa8_11ea_8dce_e5431ab088d0level0_row0\" class=\"row_heading level0 row0\" >0</th>\n",
       "                        <td id=\"T_8f593b5a_6fa8_11ea_8dce_e5431ab088d0row0_col0\" class=\"data row0 col0\" >0.972383</td>\n",
       "            </tr>\n",
       "            <tr>\n",
       "                        <th id=\"T_8f593b5a_6fa8_11ea_8dce_e5431ab088d0level0_row1\" class=\"row_heading level0 row1\" >1</th>\n",
       "                        <td id=\"T_8f593b5a_6fa8_11ea_8dce_e5431ab088d0row1_col0\" class=\"data row1 col0\" >0.0276167</td>\n",
       "            </tr>\n",
       "    </tbody></table>"
      ],
      "text/plain": [
       "<pandas.io.formats.style.Styler at 0x7f043243feb8>"
      ]
     },
     "metadata": {},
     "output_type": "display_data"
    },
    {
     "data": {
      "text/html": [
       "<style  type=\"text/css\" >\n",
       "    #T_8f5cfbc8_6fa8_11ea_8dce_e5431ab088d0row0_col0 {\n",
       "            background-color:  yellow;\n",
       "        }    #T_8f5cfbc8_6fa8_11ea_8dce_e5431ab088d0row1_col0 {\n",
       "            background-color:  yellow;\n",
       "        }</style><table id=\"T_8f5cfbc8_6fa8_11ea_8dce_e5431ab088d0\" ><thead>    <tr>        <th class=\"index_name level0\" >col_0</th>        <th class=\"col_heading level0 col0\" >%freq</th>    </tr>    <tr>        <th class=\"index_name level0\" >security</th>        <th class=\"blank\" ></th>    </tr></thead><tbody>\n",
       "                <tr>\n",
       "                        <th id=\"T_8f5cfbc8_6fa8_11ea_8dce_e5431ab088d0level0_row0\" class=\"row_heading level0 row0\" >0</th>\n",
       "                        <td id=\"T_8f5cfbc8_6fa8_11ea_8dce_e5431ab088d0row0_col0\" class=\"data row0 col0\" >0.982034</td>\n",
       "            </tr>\n",
       "            <tr>\n",
       "                        <th id=\"T_8f5cfbc8_6fa8_11ea_8dce_e5431ab088d0level0_row1\" class=\"row_heading level0 row1\" >1</th>\n",
       "                        <td id=\"T_8f5cfbc8_6fa8_11ea_8dce_e5431ab088d0row1_col0\" class=\"data row1 col0\" >0.0179661</td>\n",
       "            </tr>\n",
       "    </tbody></table>"
      ],
      "text/plain": [
       "<pandas.io.formats.style.Styler at 0x7f04320e8ac8>"
      ]
     },
     "metadata": {},
     "output_type": "display_data"
    },
    {
     "data": {
      "text/html": [
       "<style  type=\"text/css\" >\n",
       "    #T_8f60d2de_6fa8_11ea_8dce_e5431ab088d0row0_col0 {\n",
       "            background-color:  yellow;\n",
       "        }    #T_8f60d2de_6fa8_11ea_8dce_e5431ab088d0row1_col0 {\n",
       "            background-color:  yellow;\n",
       "        }</style><table id=\"T_8f60d2de_6fa8_11ea_8dce_e5431ab088d0\" ><thead>    <tr>        <th class=\"index_name level0\" >col_0</th>        <th class=\"col_heading level0 col0\" >%freq</th>    </tr>    <tr>        <th class=\"index_name level0\" >military</th>        <th class=\"blank\" ></th>    </tr></thead><tbody>\n",
       "                <tr>\n",
       "                        <th id=\"T_8f60d2de_6fa8_11ea_8dce_e5431ab088d0level0_row0\" class=\"row_heading level0 row0\" >0</th>\n",
       "                        <td id=\"T_8f60d2de_6fa8_11ea_8dce_e5431ab088d0row0_col0\" class=\"data row0 col0\" >0.967196</td>\n",
       "            </tr>\n",
       "            <tr>\n",
       "                        <th id=\"T_8f60d2de_6fa8_11ea_8dce_e5431ab088d0level0_row1\" class=\"row_heading level0 row1\" >1</th>\n",
       "                        <td id=\"T_8f60d2de_6fa8_11ea_8dce_e5431ab088d0row1_col0\" class=\"data row1 col0\" >0.0328044</td>\n",
       "            </tr>\n",
       "    </tbody></table>"
      ],
      "text/plain": [
       "<pandas.io.formats.style.Styler at 0x7f048ef56320>"
      ]
     },
     "metadata": {},
     "output_type": "display_data"
    },
    {
     "data": {
      "text/html": [
       "<style  type=\"text/css\" >\n",
       "    #T_8f64ac06_6fa8_11ea_8dce_e5431ab088d0row0_col0 {\n",
       "            background-color:  red;\n",
       "        }</style><table id=\"T_8f64ac06_6fa8_11ea_8dce_e5431ab088d0\" ><thead>    <tr>        <th class=\"index_name level0\" >col_0</th>        <th class=\"col_heading level0 col0\" >%freq</th>    </tr>    <tr>        <th class=\"index_name level0\" >child_alone</th>        <th class=\"blank\" ></th>    </tr></thead><tbody>\n",
       "                <tr>\n",
       "                        <th id=\"T_8f64ac06_6fa8_11ea_8dce_e5431ab088d0level0_row0\" class=\"row_heading level0 row0\" >0</th>\n",
       "                        <td id=\"T_8f64ac06_6fa8_11ea_8dce_e5431ab088d0row0_col0\" class=\"data row0 col0\" >1</td>\n",
       "            </tr>\n",
       "    </tbody></table>"
      ],
      "text/plain": [
       "<pandas.io.formats.style.Styler at 0x7f043243f320>"
      ]
     },
     "metadata": {},
     "output_type": "display_data"
    },
    {
     "name": "stdout",
     "output_type": "stream",
     "text": [
      "Column with less than 2 values!\n"
     ]
    },
    {
     "data": {
      "text/html": [
       "<style  type=\"text/css\" >\n",
       "    #T_8f68bc7e_6fa8_11ea_8dce_e5431ab088d0row0_col0 {\n",
       "            background-color:  yellow;\n",
       "        }    #T_8f68bc7e_6fa8_11ea_8dce_e5431ab088d0row1_col0 {\n",
       "            background-color:  yellow;\n",
       "        }</style><table id=\"T_8f68bc7e_6fa8_11ea_8dce_e5431ab088d0\" ><thead>    <tr>        <th class=\"index_name level0\" >col_0</th>        <th class=\"col_heading level0 col0\" >%freq</th>    </tr>    <tr>        <th class=\"index_name level0\" >water</th>        <th class=\"blank\" ></th>    </tr></thead><tbody>\n",
       "                <tr>\n",
       "                        <th id=\"T_8f68bc7e_6fa8_11ea_8dce_e5431ab088d0level0_row0\" class=\"row_heading level0 row0\" >0</th>\n",
       "                        <td id=\"T_8f68bc7e_6fa8_11ea_8dce_e5431ab088d0row0_col0\" class=\"data row0 col0\" >0.936222</td>\n",
       "            </tr>\n",
       "            <tr>\n",
       "                        <th id=\"T_8f68bc7e_6fa8_11ea_8dce_e5431ab088d0level0_row1\" class=\"row_heading level0 row1\" >1</th>\n",
       "                        <td id=\"T_8f68bc7e_6fa8_11ea_8dce_e5431ab088d0row1_col0\" class=\"data row1 col0\" >0.0637778</td>\n",
       "            </tr>\n",
       "    </tbody></table>"
      ],
      "text/plain": [
       "<pandas.io.formats.style.Styler at 0x7f043243fba8>"
      ]
     },
     "metadata": {},
     "output_type": "display_data"
    },
    {
     "data": {
      "text/html": [
       "<style  type=\"text/css\" >\n",
       "    #T_8f6cbfea_6fa8_11ea_8dce_e5431ab088d0row0_col0 {\n",
       "            background-color:  yellow;\n",
       "        }    #T_8f6cbfea_6fa8_11ea_8dce_e5431ab088d0row1_col0 {\n",
       "            background-color:  yellow;\n",
       "        }</style><table id=\"T_8f6cbfea_6fa8_11ea_8dce_e5431ab088d0\" ><thead>    <tr>        <th class=\"index_name level0\" >col_0</th>        <th class=\"col_heading level0 col0\" >%freq</th>    </tr>    <tr>        <th class=\"index_name level0\" >food</th>        <th class=\"blank\" ></th>    </tr></thead><tbody>\n",
       "                <tr>\n",
       "                        <th id=\"T_8f6cbfea_6fa8_11ea_8dce_e5431ab088d0level0_row0\" class=\"row_heading level0 row0\" >0</th>\n",
       "                        <td id=\"T_8f6cbfea_6fa8_11ea_8dce_e5431ab088d0row0_col0\" class=\"data row0 col0\" >0.888503</td>\n",
       "            </tr>\n",
       "            <tr>\n",
       "                        <th id=\"T_8f6cbfea_6fa8_11ea_8dce_e5431ab088d0level0_row1\" class=\"row_heading level0 row1\" >1</th>\n",
       "                        <td id=\"T_8f6cbfea_6fa8_11ea_8dce_e5431ab088d0row1_col0\" class=\"data row1 col0\" >0.111497</td>\n",
       "            </tr>\n",
       "    </tbody></table>"
      ],
      "text/plain": [
       "<pandas.io.formats.style.Styler at 0x7f04325a4a58>"
      ]
     },
     "metadata": {},
     "output_type": "display_data"
    },
    {
     "data": {
      "text/html": [
       "<style  type=\"text/css\" >\n",
       "    #T_8f7096f6_6fa8_11ea_8dce_e5431ab088d0row0_col0 {\n",
       "            background-color:  yellow;\n",
       "        }    #T_8f7096f6_6fa8_11ea_8dce_e5431ab088d0row1_col0 {\n",
       "            background-color:  yellow;\n",
       "        }</style><table id=\"T_8f7096f6_6fa8_11ea_8dce_e5431ab088d0\" ><thead>    <tr>        <th class=\"index_name level0\" >col_0</th>        <th class=\"col_heading level0 col0\" >%freq</th>    </tr>    <tr>        <th class=\"index_name level0\" >shelter</th>        <th class=\"blank\" ></th>    </tr></thead><tbody>\n",
       "                <tr>\n",
       "                        <th id=\"T_8f7096f6_6fa8_11ea_8dce_e5431ab088d0level0_row0\" class=\"row_heading level0 row0\" >0</th>\n",
       "                        <td id=\"T_8f7096f6_6fa8_11ea_8dce_e5431ab088d0row0_col0\" class=\"data row0 col0\" >0.911733</td>\n",
       "            </tr>\n",
       "            <tr>\n",
       "                        <th id=\"T_8f7096f6_6fa8_11ea_8dce_e5431ab088d0level0_row1\" class=\"row_heading level0 row1\" >1</th>\n",
       "                        <td id=\"T_8f7096f6_6fa8_11ea_8dce_e5431ab088d0row1_col0\" class=\"data row1 col0\" >0.0882667</td>\n",
       "            </tr>\n",
       "    </tbody></table>"
      ],
      "text/plain": [
       "<pandas.io.formats.style.Styler at 0x7f04320e8e48>"
      ]
     },
     "metadata": {},
     "output_type": "display_data"
    },
    {
     "data": {
      "text/html": [
       "<style  type=\"text/css\" >\n",
       "    #T_8f74774e_6fa8_11ea_8dce_e5431ab088d0row0_col0 {\n",
       "            background-color:  yellow;\n",
       "        }    #T_8f74774e_6fa8_11ea_8dce_e5431ab088d0row1_col0 {\n",
       "            background-color:  yellow;\n",
       "        }</style><table id=\"T_8f74774e_6fa8_11ea_8dce_e5431ab088d0\" ><thead>    <tr>        <th class=\"index_name level0\" >col_0</th>        <th class=\"col_heading level0 col0\" >%freq</th>    </tr>    <tr>        <th class=\"index_name level0\" >clothing</th>        <th class=\"blank\" ></th>    </tr></thead><tbody>\n",
       "                <tr>\n",
       "                        <th id=\"T_8f74774e_6fa8_11ea_8dce_e5431ab088d0level0_row0\" class=\"row_heading level0 row0\" >0</th>\n",
       "                        <td id=\"T_8f74774e_6fa8_11ea_8dce_e5431ab088d0row0_col0\" class=\"data row0 col0\" >0.984551</td>\n",
       "            </tr>\n",
       "            <tr>\n",
       "                        <th id=\"T_8f74774e_6fa8_11ea_8dce_e5431ab088d0level0_row1\" class=\"row_heading level0 row1\" >1</th>\n",
       "                        <td id=\"T_8f74774e_6fa8_11ea_8dce_e5431ab088d0row1_col0\" class=\"data row1 col0\" >0.0154486</td>\n",
       "            </tr>\n",
       "    </tbody></table>"
      ],
      "text/plain": [
       "<pandas.io.formats.style.Styler at 0x7f04320e8c88>"
      ]
     },
     "metadata": {},
     "output_type": "display_data"
    },
    {
     "data": {
      "text/html": [
       "<style  type=\"text/css\" >\n",
       "    #T_8f785832_6fa8_11ea_8dce_e5431ab088d0row0_col0 {\n",
       "            background-color:  yellow;\n",
       "        }    #T_8f785832_6fa8_11ea_8dce_e5431ab088d0row1_col0 {\n",
       "            background-color:  yellow;\n",
       "        }</style><table id=\"T_8f785832_6fa8_11ea_8dce_e5431ab088d0\" ><thead>    <tr>        <th class=\"index_name level0\" >col_0</th>        <th class=\"col_heading level0 col0\" >%freq</th>    </tr>    <tr>        <th class=\"index_name level0\" >money</th>        <th class=\"blank\" ></th>    </tr></thead><tbody>\n",
       "                <tr>\n",
       "                        <th id=\"T_8f785832_6fa8_11ea_8dce_e5431ab088d0level0_row0\" class=\"row_heading level0 row0\" >0</th>\n",
       "                        <td id=\"T_8f785832_6fa8_11ea_8dce_e5431ab088d0row0_col0\" class=\"data row0 col0\" >0.976961</td>\n",
       "            </tr>\n",
       "            <tr>\n",
       "                        <th id=\"T_8f785832_6fa8_11ea_8dce_e5431ab088d0level0_row1\" class=\"row_heading level0 row1\" >1</th>\n",
       "                        <td id=\"T_8f785832_6fa8_11ea_8dce_e5431ab088d0row1_col0\" class=\"data row1 col0\" >0.0230394</td>\n",
       "            </tr>\n",
       "    </tbody></table>"
      ],
      "text/plain": [
       "<pandas.io.formats.style.Styler at 0x7f043243f7f0>"
      ]
     },
     "metadata": {},
     "output_type": "display_data"
    },
    {
     "data": {
      "text/html": [
       "<style  type=\"text/css\" >\n",
       "    #T_8f7c3d30_6fa8_11ea_8dce_e5431ab088d0row0_col0 {\n",
       "            background-color:  yellow;\n",
       "        }    #T_8f7c3d30_6fa8_11ea_8dce_e5431ab088d0row1_col0 {\n",
       "            background-color:  yellow;\n",
       "        }</style><table id=\"T_8f7c3d30_6fa8_11ea_8dce_e5431ab088d0\" ><thead>    <tr>        <th class=\"index_name level0\" >col_0</th>        <th class=\"col_heading level0 col0\" >%freq</th>    </tr>    <tr>        <th class=\"index_name level0\" >missing_people</th>        <th class=\"blank\" ></th>    </tr></thead><tbody>\n",
       "                <tr>\n",
       "                        <th id=\"T_8f7c3d30_6fa8_11ea_8dce_e5431ab088d0level0_row0\" class=\"row_heading level0 row0\" >0</th>\n",
       "                        <td id=\"T_8f7c3d30_6fa8_11ea_8dce_e5431ab088d0row0_col0\" class=\"data row0 col0\" >0.988633</td>\n",
       "            </tr>\n",
       "            <tr>\n",
       "                        <th id=\"T_8f7c3d30_6fa8_11ea_8dce_e5431ab088d0level0_row1\" class=\"row_heading level0 row1\" >1</th>\n",
       "                        <td id=\"T_8f7c3d30_6fa8_11ea_8dce_e5431ab088d0row1_col0\" class=\"data row1 col0\" >0.0113671</td>\n",
       "            </tr>\n",
       "    </tbody></table>"
      ],
      "text/plain": [
       "<pandas.io.formats.style.Styler at 0x7f048ee48828>"
      ]
     },
     "metadata": {},
     "output_type": "display_data"
    },
    {
     "data": {
      "text/html": [
       "<style  type=\"text/css\" >\n",
       "    #T_8f802d46_6fa8_11ea_8dce_e5431ab088d0row0_col0 {\n",
       "            background-color:  yellow;\n",
       "        }    #T_8f802d46_6fa8_11ea_8dce_e5431ab088d0row1_col0 {\n",
       "            background-color:  yellow;\n",
       "        }</style><table id=\"T_8f802d46_6fa8_11ea_8dce_e5431ab088d0\" ><thead>    <tr>        <th class=\"index_name level0\" >col_0</th>        <th class=\"col_heading level0 col0\" >%freq</th>    </tr>    <tr>        <th class=\"index_name level0\" >refugees</th>        <th class=\"blank\" ></th>    </tr></thead><tbody>\n",
       "                <tr>\n",
       "                        <th id=\"T_8f802d46_6fa8_11ea_8dce_e5431ab088d0level0_row0\" class=\"row_heading level0 row0\" >0</th>\n",
       "                        <td id=\"T_8f802d46_6fa8_11ea_8dce_e5431ab088d0row0_col0\" class=\"data row0 col0\" >0.966623</td>\n",
       "            </tr>\n",
       "            <tr>\n",
       "                        <th id=\"T_8f802d46_6fa8_11ea_8dce_e5431ab088d0level0_row1\" class=\"row_heading level0 row1\" >1</th>\n",
       "                        <td id=\"T_8f802d46_6fa8_11ea_8dce_e5431ab088d0row1_col0\" class=\"data row1 col0\" >0.0333766</td>\n",
       "            </tr>\n",
       "    </tbody></table>"
      ],
      "text/plain": [
       "<pandas.io.formats.style.Styler at 0x7f043243f198>"
      ]
     },
     "metadata": {},
     "output_type": "display_data"
    },
    {
     "data": {
      "text/html": [
       "<style  type=\"text/css\" >\n",
       "    #T_8f841f8c_6fa8_11ea_8dce_e5431ab088d0row0_col0 {\n",
       "            background-color:  yellow;\n",
       "        }    #T_8f841f8c_6fa8_11ea_8dce_e5431ab088d0row1_col0 {\n",
       "            background-color:  yellow;\n",
       "        }</style><table id=\"T_8f841f8c_6fa8_11ea_8dce_e5431ab088d0\" ><thead>    <tr>        <th class=\"index_name level0\" >col_0</th>        <th class=\"col_heading level0 col0\" >%freq</th>    </tr>    <tr>        <th class=\"index_name level0\" >death</th>        <th class=\"blank\" ></th>    </tr></thead><tbody>\n",
       "                <tr>\n",
       "                        <th id=\"T_8f841f8c_6fa8_11ea_8dce_e5431ab088d0level0_row0\" class=\"row_heading level0 row0\" >0</th>\n",
       "                        <td id=\"T_8f841f8c_6fa8_11ea_8dce_e5431ab088d0row0_col0\" class=\"data row0 col0\" >0.954455</td>\n",
       "            </tr>\n",
       "            <tr>\n",
       "                        <th id=\"T_8f841f8c_6fa8_11ea_8dce_e5431ab088d0level0_row1\" class=\"row_heading level0 row1\" >1</th>\n",
       "                        <td id=\"T_8f841f8c_6fa8_11ea_8dce_e5431ab088d0row1_col0\" class=\"data row1 col0\" >0.0455447</td>\n",
       "            </tr>\n",
       "    </tbody></table>"
      ],
      "text/plain": [
       "<pandas.io.formats.style.Styler at 0x7f04320e8a90>"
      ]
     },
     "metadata": {},
     "output_type": "display_data"
    },
    {
     "data": {
      "text/html": [
       "<style  type=\"text/css\" >\n",
       "    #T_8f87f7c4_6fa8_11ea_8dce_e5431ab088d0row0_col0 {\n",
       "            background-color:  yellow;\n",
       "        }    #T_8f87f7c4_6fa8_11ea_8dce_e5431ab088d0row1_col0 {\n",
       "            background-color:  yellow;\n",
       "        }</style><table id=\"T_8f87f7c4_6fa8_11ea_8dce_e5431ab088d0\" ><thead>    <tr>        <th class=\"index_name level0\" >col_0</th>        <th class=\"col_heading level0 col0\" >%freq</th>    </tr>    <tr>        <th class=\"index_name level0\" >other_aid</th>        <th class=\"blank\" ></th>    </tr></thead><tbody>\n",
       "                <tr>\n",
       "                        <th id=\"T_8f87f7c4_6fa8_11ea_8dce_e5431ab088d0level0_row0\" class=\"row_heading level0 row0\" >0</th>\n",
       "                        <td id=\"T_8f87f7c4_6fa8_11ea_8dce_e5431ab088d0row0_col0\" class=\"data row0 col0\" >0.868554</td>\n",
       "            </tr>\n",
       "            <tr>\n",
       "                        <th id=\"T_8f87f7c4_6fa8_11ea_8dce_e5431ab088d0level0_row1\" class=\"row_heading level0 row1\" >1</th>\n",
       "                        <td id=\"T_8f87f7c4_6fa8_11ea_8dce_e5431ab088d0row1_col0\" class=\"data row1 col0\" >0.131446</td>\n",
       "            </tr>\n",
       "    </tbody></table>"
      ],
      "text/plain": [
       "<pandas.io.formats.style.Styler at 0x7f04320ff588>"
      ]
     },
     "metadata": {},
     "output_type": "display_data"
    },
    {
     "data": {
      "text/html": [
       "<style  type=\"text/css\" >\n",
       "    #T_8f8bb292_6fa8_11ea_8dce_e5431ab088d0row0_col0 {\n",
       "            background-color:  yellow;\n",
       "        }    #T_8f8bb292_6fa8_11ea_8dce_e5431ab088d0row1_col0 {\n",
       "            background-color:  yellow;\n",
       "        }</style><table id=\"T_8f8bb292_6fa8_11ea_8dce_e5431ab088d0\" ><thead>    <tr>        <th class=\"index_name level0\" >col_0</th>        <th class=\"col_heading level0 col0\" >%freq</th>    </tr>    <tr>        <th class=\"index_name level0\" >infrastructure_related</th>        <th class=\"blank\" ></th>    </tr></thead><tbody>\n",
       "                <tr>\n",
       "                        <th id=\"T_8f8bb292_6fa8_11ea_8dce_e5431ab088d0level0_row0\" class=\"row_heading level0 row0\" >0</th>\n",
       "                        <td id=\"T_8f8bb292_6fa8_11ea_8dce_e5431ab088d0row0_col0\" class=\"data row0 col0\" >0.934963</td>\n",
       "            </tr>\n",
       "            <tr>\n",
       "                        <th id=\"T_8f8bb292_6fa8_11ea_8dce_e5431ab088d0level0_row1\" class=\"row_heading level0 row1\" >1</th>\n",
       "                        <td id=\"T_8f8bb292_6fa8_11ea_8dce_e5431ab088d0row1_col0\" class=\"data row1 col0\" >0.0650366</td>\n",
       "            </tr>\n",
       "    </tbody></table>"
      ],
      "text/plain": [
       "<pandas.io.formats.style.Styler at 0x7f04320ffef0>"
      ]
     },
     "metadata": {},
     "output_type": "display_data"
    },
    {
     "data": {
      "text/html": [
       "<style  type=\"text/css\" >\n",
       "    #T_8f8f968c_6fa8_11ea_8dce_e5431ab088d0row0_col0 {\n",
       "            background-color:  yellow;\n",
       "        }    #T_8f8f968c_6fa8_11ea_8dce_e5431ab088d0row1_col0 {\n",
       "            background-color:  yellow;\n",
       "        }</style><table id=\"T_8f8f968c_6fa8_11ea_8dce_e5431ab088d0\" ><thead>    <tr>        <th class=\"index_name level0\" >col_0</th>        <th class=\"col_heading level0 col0\" >%freq</th>    </tr>    <tr>        <th class=\"index_name level0\" >transport</th>        <th class=\"blank\" ></th>    </tr></thead><tbody>\n",
       "                <tr>\n",
       "                        <th id=\"T_8f8f968c_6fa8_11ea_8dce_e5431ab088d0level0_row0\" class=\"row_heading level0 row0\" >0</th>\n",
       "                        <td id=\"T_8f8f968c_6fa8_11ea_8dce_e5431ab088d0row0_col0\" class=\"data row0 col0\" >0.954188</td>\n",
       "            </tr>\n",
       "            <tr>\n",
       "                        <th id=\"T_8f8f968c_6fa8_11ea_8dce_e5431ab088d0level0_row1\" class=\"row_heading level0 row1\" >1</th>\n",
       "                        <td id=\"T_8f8f968c_6fa8_11ea_8dce_e5431ab088d0row1_col0\" class=\"data row1 col0\" >0.0458117</td>\n",
       "            </tr>\n",
       "    </tbody></table>"
      ],
      "text/plain": [
       "<pandas.io.formats.style.Styler at 0x7f048ee48828>"
      ]
     },
     "metadata": {},
     "output_type": "display_data"
    },
    {
     "data": {
      "text/html": [
       "<style  type=\"text/css\" >\n",
       "    #T_8f936afa_6fa8_11ea_8dce_e5431ab088d0row0_col0 {\n",
       "            background-color:  yellow;\n",
       "        }    #T_8f936afa_6fa8_11ea_8dce_e5431ab088d0row1_col0 {\n",
       "            background-color:  yellow;\n",
       "        }</style><table id=\"T_8f936afa_6fa8_11ea_8dce_e5431ab088d0\" ><thead>    <tr>        <th class=\"index_name level0\" >col_0</th>        <th class=\"col_heading level0 col0\" >%freq</th>    </tr>    <tr>        <th class=\"index_name level0\" >buildings</th>        <th class=\"blank\" ></th>    </tr></thead><tbody>\n",
       "                <tr>\n",
       "                        <th id=\"T_8f936afa_6fa8_11ea_8dce_e5431ab088d0level0_row0\" class=\"row_heading level0 row0\" >0</th>\n",
       "                        <td id=\"T_8f936afa_6fa8_11ea_8dce_e5431ab088d0row0_col0\" class=\"data row0 col0\" >0.949153</td>\n",
       "            </tr>\n",
       "            <tr>\n",
       "                        <th id=\"T_8f936afa_6fa8_11ea_8dce_e5431ab088d0level0_row1\" class=\"row_heading level0 row1\" >1</th>\n",
       "                        <td id=\"T_8f936afa_6fa8_11ea_8dce_e5431ab088d0row1_col0\" class=\"data row1 col0\" >0.0508468</td>\n",
       "            </tr>\n",
       "    </tbody></table>"
      ],
      "text/plain": [
       "<pandas.io.formats.style.Styler at 0x7f04320fff28>"
      ]
     },
     "metadata": {},
     "output_type": "display_data"
    },
    {
     "data": {
      "text/html": [
       "<style  type=\"text/css\" >\n",
       "    #T_8f974dd2_6fa8_11ea_8dce_e5431ab088d0row0_col0 {\n",
       "            background-color:  yellow;\n",
       "        }    #T_8f974dd2_6fa8_11ea_8dce_e5431ab088d0row1_col0 {\n",
       "            background-color:  yellow;\n",
       "        }</style><table id=\"T_8f974dd2_6fa8_11ea_8dce_e5431ab088d0\" ><thead>    <tr>        <th class=\"index_name level0\" >col_0</th>        <th class=\"col_heading level0 col0\" >%freq</th>    </tr>    <tr>        <th class=\"index_name level0\" >electricity</th>        <th class=\"blank\" ></th>    </tr></thead><tbody>\n",
       "                <tr>\n",
       "                        <th id=\"T_8f974dd2_6fa8_11ea_8dce_e5431ab088d0level0_row0\" class=\"row_heading level0 row0\" >0</th>\n",
       "                        <td id=\"T_8f974dd2_6fa8_11ea_8dce_e5431ab088d0row0_col0\" class=\"data row0 col0\" >0.979707</td>\n",
       "            </tr>\n",
       "            <tr>\n",
       "                        <th id=\"T_8f974dd2_6fa8_11ea_8dce_e5431ab088d0level0_row1\" class=\"row_heading level0 row1\" >1</th>\n",
       "                        <td id=\"T_8f974dd2_6fa8_11ea_8dce_e5431ab088d0row1_col0\" class=\"data row1 col0\" >0.020293</td>\n",
       "            </tr>\n",
       "    </tbody></table>"
      ],
      "text/plain": [
       "<pandas.io.formats.style.Styler at 0x7f048ef56320>"
      ]
     },
     "metadata": {},
     "output_type": "display_data"
    },
    {
     "data": {
      "text/html": [
       "<style  type=\"text/css\" >\n",
       "    #T_8f9b3faa_6fa8_11ea_8dce_e5431ab088d0row0_col0 {\n",
       "            background-color:  yellow;\n",
       "        }    #T_8f9b3faa_6fa8_11ea_8dce_e5431ab088d0row1_col0 {\n",
       "            background-color:  yellow;\n",
       "        }</style><table id=\"T_8f9b3faa_6fa8_11ea_8dce_e5431ab088d0\" ><thead>    <tr>        <th class=\"index_name level0\" >col_0</th>        <th class=\"col_heading level0 col0\" >%freq</th>    </tr>    <tr>        <th class=\"index_name level0\" >tools</th>        <th class=\"blank\" ></th>    </tr></thead><tbody>\n",
       "                <tr>\n",
       "                        <th id=\"T_8f9b3faa_6fa8_11ea_8dce_e5431ab088d0level0_row0\" class=\"row_heading level0 row0\" >0</th>\n",
       "                        <td id=\"T_8f9b3faa_6fa8_11ea_8dce_e5431ab088d0row0_col0\" class=\"data row0 col0\" >0.993935</td>\n",
       "            </tr>\n",
       "            <tr>\n",
       "                        <th id=\"T_8f9b3faa_6fa8_11ea_8dce_e5431ab088d0level0_row1\" class=\"row_heading level0 row1\" >1</th>\n",
       "                        <td id=\"T_8f9b3faa_6fa8_11ea_8dce_e5431ab088d0row1_col0\" class=\"data row1 col0\" >0.006065</td>\n",
       "            </tr>\n",
       "    </tbody></table>"
      ],
      "text/plain": [
       "<pandas.io.formats.style.Styler at 0x7f043243fd30>"
      ]
     },
     "metadata": {},
     "output_type": "display_data"
    },
    {
     "data": {
      "text/html": [
       "<style  type=\"text/css\" >\n",
       "    #T_8f9ef7c6_6fa8_11ea_8dce_e5431ab088d0row0_col0 {\n",
       "            background-color:  yellow;\n",
       "        }    #T_8f9ef7c6_6fa8_11ea_8dce_e5431ab088d0row1_col0 {\n",
       "            background-color:  yellow;\n",
       "        }</style><table id=\"T_8f9ef7c6_6fa8_11ea_8dce_e5431ab088d0\" ><thead>    <tr>        <th class=\"index_name level0\" >col_0</th>        <th class=\"col_heading level0 col0\" >%freq</th>    </tr>    <tr>        <th class=\"index_name level0\" >hospitals</th>        <th class=\"blank\" ></th>    </tr></thead><tbody>\n",
       "                <tr>\n",
       "                        <th id=\"T_8f9ef7c6_6fa8_11ea_8dce_e5431ab088d0level0_row0\" class=\"row_heading level0 row0\" >0</th>\n",
       "                        <td id=\"T_8f9ef7c6_6fa8_11ea_8dce_e5431ab088d0row0_col0\" class=\"data row0 col0\" >0.989205</td>\n",
       "            </tr>\n",
       "            <tr>\n",
       "                        <th id=\"T_8f9ef7c6_6fa8_11ea_8dce_e5431ab088d0level0_row1\" class=\"row_heading level0 row1\" >1</th>\n",
       "                        <td id=\"T_8f9ef7c6_6fa8_11ea_8dce_e5431ab088d0row1_col0\" class=\"data row1 col0\" >0.0107949</td>\n",
       "            </tr>\n",
       "    </tbody></table>"
      ],
      "text/plain": [
       "<pandas.io.formats.style.Styler at 0x7f04320e8e48>"
      ]
     },
     "metadata": {},
     "output_type": "display_data"
    },
    {
     "data": {
      "text/html": [
       "<style  type=\"text/css\" >\n",
       "    #T_8fa2d148_6fa8_11ea_8dce_e5431ab088d0row0_col0 {\n",
       "            background-color:  yellow;\n",
       "        }    #T_8fa2d148_6fa8_11ea_8dce_e5431ab088d0row1_col0 {\n",
       "            background-color:  yellow;\n",
       "        }</style><table id=\"T_8fa2d148_6fa8_11ea_8dce_e5431ab088d0\" ><thead>    <tr>        <th class=\"index_name level0\" >col_0</th>        <th class=\"col_heading level0 col0\" >%freq</th>    </tr>    <tr>        <th class=\"index_name level0\" >shops</th>        <th class=\"blank\" ></th>    </tr></thead><tbody>\n",
       "                <tr>\n",
       "                        <th id=\"T_8fa2d148_6fa8_11ea_8dce_e5431ab088d0level0_row0\" class=\"row_heading level0 row0\" >0</th>\n",
       "                        <td id=\"T_8fa2d148_6fa8_11ea_8dce_e5431ab088d0row0_col0\" class=\"data row0 col0\" >0.995423</td>\n",
       "            </tr>\n",
       "            <tr>\n",
       "                        <th id=\"T_8fa2d148_6fa8_11ea_8dce_e5431ab088d0level0_row1\" class=\"row_heading level0 row1\" >1</th>\n",
       "                        <td id=\"T_8fa2d148_6fa8_11ea_8dce_e5431ab088d0row1_col0\" class=\"data row1 col0\" >0.00457736</td>\n",
       "            </tr>\n",
       "    </tbody></table>"
      ],
      "text/plain": [
       "<pandas.io.formats.style.Styler at 0x7f043243f748>"
      ]
     },
     "metadata": {},
     "output_type": "display_data"
    },
    {
     "data": {
      "text/html": [
       "<style  type=\"text/css\" >\n",
       "    #T_8fa6ca82_6fa8_11ea_8dce_e5431ab088d0row0_col0 {\n",
       "            background-color:  yellow;\n",
       "        }    #T_8fa6ca82_6fa8_11ea_8dce_e5431ab088d0row1_col0 {\n",
       "            background-color:  yellow;\n",
       "        }</style><table id=\"T_8fa6ca82_6fa8_11ea_8dce_e5431ab088d0\" ><thead>    <tr>        <th class=\"index_name level0\" >col_0</th>        <th class=\"col_heading level0 col0\" >%freq</th>    </tr>    <tr>        <th class=\"index_name level0\" >aid_centers</th>        <th class=\"blank\" ></th>    </tr></thead><tbody>\n",
       "                <tr>\n",
       "                        <th id=\"T_8fa6ca82_6fa8_11ea_8dce_e5431ab088d0level0_row0\" class=\"row_heading level0 row0\" >0</th>\n",
       "                        <td id=\"T_8fa6ca82_6fa8_11ea_8dce_e5431ab088d0row0_col0\" class=\"data row0 col0\" >0.988213</td>\n",
       "            </tr>\n",
       "            <tr>\n",
       "                        <th id=\"T_8fa6ca82_6fa8_11ea_8dce_e5431ab088d0level0_row1\" class=\"row_heading level0 row1\" >1</th>\n",
       "                        <td id=\"T_8fa6ca82_6fa8_11ea_8dce_e5431ab088d0row1_col0\" class=\"data row1 col0\" >0.0117867</td>\n",
       "            </tr>\n",
       "    </tbody></table>"
      ],
      "text/plain": [
       "<pandas.io.formats.style.Styler at 0x7f04320ffdd8>"
      ]
     },
     "metadata": {},
     "output_type": "display_data"
    },
    {
     "data": {
      "text/html": [
       "<style  type=\"text/css\" >\n",
       "    #T_8faa9da6_6fa8_11ea_8dce_e5431ab088d0row0_col0 {\n",
       "            background-color:  yellow;\n",
       "        }    #T_8faa9da6_6fa8_11ea_8dce_e5431ab088d0row1_col0 {\n",
       "            background-color:  yellow;\n",
       "        }</style><table id=\"T_8faa9da6_6fa8_11ea_8dce_e5431ab088d0\" ><thead>    <tr>        <th class=\"index_name level0\" >col_0</th>        <th class=\"col_heading level0 col0\" >%freq</th>    </tr>    <tr>        <th class=\"index_name level0\" >other_infrastructure</th>        <th class=\"blank\" ></th>    </tr></thead><tbody>\n",
       "                <tr>\n",
       "                        <th id=\"T_8faa9da6_6fa8_11ea_8dce_e5431ab088d0level0_row0\" class=\"row_heading level0 row0\" >0</th>\n",
       "                        <td id=\"T_8faa9da6_6fa8_11ea_8dce_e5431ab088d0row0_col0\" class=\"data row0 col0\" >0.956096</td>\n",
       "            </tr>\n",
       "            <tr>\n",
       "                        <th id=\"T_8faa9da6_6fa8_11ea_8dce_e5431ab088d0level0_row1\" class=\"row_heading level0 row1\" >1</th>\n",
       "                        <td id=\"T_8faa9da6_6fa8_11ea_8dce_e5431ab088d0row1_col0\" class=\"data row1 col0\" >0.0439045</td>\n",
       "            </tr>\n",
       "    </tbody></table>"
      ],
      "text/plain": [
       "<pandas.io.formats.style.Styler at 0x7f04320ff978>"
      ]
     },
     "metadata": {},
     "output_type": "display_data"
    },
    {
     "data": {
      "text/html": [
       "<style  type=\"text/css\" >\n",
       "    #T_8fae6652_6fa8_11ea_8dce_e5431ab088d0row0_col0 {\n",
       "            background-color:  yellow;\n",
       "        }    #T_8fae6652_6fa8_11ea_8dce_e5431ab088d0row1_col0 {\n",
       "            background-color:  yellow;\n",
       "        }</style><table id=\"T_8fae6652_6fa8_11ea_8dce_e5431ab088d0\" ><thead>    <tr>        <th class=\"index_name level0\" >col_0</th>        <th class=\"col_heading level0 col0\" >%freq</th>    </tr>    <tr>        <th class=\"index_name level0\" >weather_related</th>        <th class=\"blank\" ></th>    </tr></thead><tbody>\n",
       "                <tr>\n",
       "                        <th id=\"T_8fae6652_6fa8_11ea_8dce_e5431ab088d0level0_row0\" class=\"row_heading level0 row0\" >0</th>\n",
       "                        <td id=\"T_8fae6652_6fa8_11ea_8dce_e5431ab088d0row0_col0\" class=\"data row0 col0\" >0.721659</td>\n",
       "            </tr>\n",
       "            <tr>\n",
       "                        <th id=\"T_8fae6652_6fa8_11ea_8dce_e5431ab088d0level0_row1\" class=\"row_heading level0 row1\" >1</th>\n",
       "                        <td id=\"T_8fae6652_6fa8_11ea_8dce_e5431ab088d0row1_col0\" class=\"data row1 col0\" >0.278341</td>\n",
       "            </tr>\n",
       "    </tbody></table>"
      ],
      "text/plain": [
       "<pandas.io.formats.style.Styler at 0x7f04320e8e48>"
      ]
     },
     "metadata": {},
     "output_type": "display_data"
    },
    {
     "data": {
      "text/html": [
       "<style  type=\"text/css\" >\n",
       "    #T_8fb26266_6fa8_11ea_8dce_e5431ab088d0row0_col0 {\n",
       "            background-color:  yellow;\n",
       "        }    #T_8fb26266_6fa8_11ea_8dce_e5431ab088d0row1_col0 {\n",
       "            background-color:  yellow;\n",
       "        }</style><table id=\"T_8fb26266_6fa8_11ea_8dce_e5431ab088d0\" ><thead>    <tr>        <th class=\"index_name level0\" >col_0</th>        <th class=\"col_heading level0 col0\" >%freq</th>    </tr>    <tr>        <th class=\"index_name level0\" >floods</th>        <th class=\"blank\" ></th>    </tr></thead><tbody>\n",
       "                <tr>\n",
       "                        <th id=\"T_8fb26266_6fa8_11ea_8dce_e5431ab088d0level0_row0\" class=\"row_heading level0 row0\" >0</th>\n",
       "                        <td id=\"T_8fb26266_6fa8_11ea_8dce_e5431ab088d0row0_col0\" class=\"data row0 col0\" >0.917798</td>\n",
       "            </tr>\n",
       "            <tr>\n",
       "                        <th id=\"T_8fb26266_6fa8_11ea_8dce_e5431ab088d0level0_row1\" class=\"row_heading level0 row1\" >1</th>\n",
       "                        <td id=\"T_8fb26266_6fa8_11ea_8dce_e5431ab088d0row1_col0\" class=\"data row1 col0\" >0.0822017</td>\n",
       "            </tr>\n",
       "    </tbody></table>"
      ],
      "text/plain": [
       "<pandas.io.formats.style.Styler at 0x7f04320e8e48>"
      ]
     },
     "metadata": {},
     "output_type": "display_data"
    },
    {
     "data": {
      "text/html": [
       "<style  type=\"text/css\" >\n",
       "    #T_8fb6180c_6fa8_11ea_8dce_e5431ab088d0row0_col0 {\n",
       "            background-color:  yellow;\n",
       "        }    #T_8fb6180c_6fa8_11ea_8dce_e5431ab088d0row1_col0 {\n",
       "            background-color:  yellow;\n",
       "        }</style><table id=\"T_8fb6180c_6fa8_11ea_8dce_e5431ab088d0\" ><thead>    <tr>        <th class=\"index_name level0\" >col_0</th>        <th class=\"col_heading level0 col0\" >%freq</th>    </tr>    <tr>        <th class=\"index_name level0\" >storm</th>        <th class=\"blank\" ></th>    </tr></thead><tbody>\n",
       "                <tr>\n",
       "                        <th id=\"T_8fb6180c_6fa8_11ea_8dce_e5431ab088d0level0_row0\" class=\"row_heading level0 row0\" >0</th>\n",
       "                        <td id=\"T_8fb6180c_6fa8_11ea_8dce_e5431ab088d0row0_col0\" class=\"data row0 col0\" >0.906813</td>\n",
       "            </tr>\n",
       "            <tr>\n",
       "                        <th id=\"T_8fb6180c_6fa8_11ea_8dce_e5431ab088d0level0_row1\" class=\"row_heading level0 row1\" >1</th>\n",
       "                        <td id=\"T_8fb6180c_6fa8_11ea_8dce_e5431ab088d0row1_col0\" class=\"data row1 col0\" >0.0931874</td>\n",
       "            </tr>\n",
       "    </tbody></table>"
      ],
      "text/plain": [
       "<pandas.io.formats.style.Styler at 0x7f04320ffb38>"
      ]
     },
     "metadata": {},
     "output_type": "display_data"
    },
    {
     "data": {
      "text/html": [
       "<style  type=\"text/css\" >\n",
       "    #T_8fb9f648_6fa8_11ea_8dce_e5431ab088d0row0_col0 {\n",
       "            background-color:  yellow;\n",
       "        }    #T_8fb9f648_6fa8_11ea_8dce_e5431ab088d0row1_col0 {\n",
       "            background-color:  yellow;\n",
       "        }</style><table id=\"T_8fb9f648_6fa8_11ea_8dce_e5431ab088d0\" ><thead>    <tr>        <th class=\"index_name level0\" >col_0</th>        <th class=\"col_heading level0 col0\" >%freq</th>    </tr>    <tr>        <th class=\"index_name level0\" >fire</th>        <th class=\"blank\" ></th>    </tr></thead><tbody>\n",
       "                <tr>\n",
       "                        <th id=\"T_8fb9f648_6fa8_11ea_8dce_e5431ab088d0level0_row0\" class=\"row_heading level0 row0\" >0</th>\n",
       "                        <td id=\"T_8fb9f648_6fa8_11ea_8dce_e5431ab088d0row0_col0\" class=\"data row0 col0\" >0.989243</td>\n",
       "            </tr>\n",
       "            <tr>\n",
       "                        <th id=\"T_8fb9f648_6fa8_11ea_8dce_e5431ab088d0level0_row1\" class=\"row_heading level0 row1\" >1</th>\n",
       "                        <td id=\"T_8fb9f648_6fa8_11ea_8dce_e5431ab088d0row1_col0\" class=\"data row1 col0\" >0.0107568</td>\n",
       "            </tr>\n",
       "    </tbody></table>"
      ],
      "text/plain": [
       "<pandas.io.formats.style.Styler at 0x7f04320ff978>"
      ]
     },
     "metadata": {},
     "output_type": "display_data"
    },
    {
     "data": {
      "text/html": [
       "<style  type=\"text/css\" >\n",
       "    #T_8fbdc9da_6fa8_11ea_8dce_e5431ab088d0row0_col0 {\n",
       "            background-color:  yellow;\n",
       "        }    #T_8fbdc9da_6fa8_11ea_8dce_e5431ab088d0row1_col0 {\n",
       "            background-color:  yellow;\n",
       "        }</style><table id=\"T_8fbdc9da_6fa8_11ea_8dce_e5431ab088d0\" ><thead>    <tr>        <th class=\"index_name level0\" >col_0</th>        <th class=\"col_heading level0 col0\" >%freq</th>    </tr>    <tr>        <th class=\"index_name level0\" >earthquake</th>        <th class=\"blank\" ></th>    </tr></thead><tbody>\n",
       "                <tr>\n",
       "                        <th id=\"T_8fbdc9da_6fa8_11ea_8dce_e5431ab088d0level0_row0\" class=\"row_heading level0 row0\" >0</th>\n",
       "                        <td id=\"T_8fbdc9da_6fa8_11ea_8dce_e5431ab088d0row0_col0\" class=\"data row0 col0\" >0.906355</td>\n",
       "            </tr>\n",
       "            <tr>\n",
       "                        <th id=\"T_8fbdc9da_6fa8_11ea_8dce_e5431ab088d0level0_row1\" class=\"row_heading level0 row1\" >1</th>\n",
       "                        <td id=\"T_8fbdc9da_6fa8_11ea_8dce_e5431ab088d0row1_col0\" class=\"data row1 col0\" >0.0936451</td>\n",
       "            </tr>\n",
       "    </tbody></table>"
      ],
      "text/plain": [
       "<pandas.io.formats.style.Styler at 0x7f043219f8d0>"
      ]
     },
     "metadata": {},
     "output_type": "display_data"
    },
    {
     "data": {
      "text/html": [
       "<style  type=\"text/css\" >\n",
       "    #T_8fc1ab22_6fa8_11ea_8dce_e5431ab088d0row0_col0 {\n",
       "            background-color:  yellow;\n",
       "        }    #T_8fc1ab22_6fa8_11ea_8dce_e5431ab088d0row1_col0 {\n",
       "            background-color:  yellow;\n",
       "        }</style><table id=\"T_8fc1ab22_6fa8_11ea_8dce_e5431ab088d0\" ><thead>    <tr>        <th class=\"index_name level0\" >col_0</th>        <th class=\"col_heading level0 col0\" >%freq</th>    </tr>    <tr>        <th class=\"index_name level0\" >cold</th>        <th class=\"blank\" ></th>    </tr></thead><tbody>\n",
       "                <tr>\n",
       "                        <th id=\"T_8fc1ab22_6fa8_11ea_8dce_e5431ab088d0level0_row0\" class=\"row_heading level0 row0\" >0</th>\n",
       "                        <td id=\"T_8fc1ab22_6fa8_11ea_8dce_e5431ab088d0row0_col0\" class=\"data row0 col0\" >0.979783</td>\n",
       "            </tr>\n",
       "            <tr>\n",
       "                        <th id=\"T_8fc1ab22_6fa8_11ea_8dce_e5431ab088d0level0_row1\" class=\"row_heading level0 row1\" >1</th>\n",
       "                        <td id=\"T_8fc1ab22_6fa8_11ea_8dce_e5431ab088d0row1_col0\" class=\"data row1 col0\" >0.0202167</td>\n",
       "            </tr>\n",
       "    </tbody></table>"
      ],
      "text/plain": [
       "<pandas.io.formats.style.Styler at 0x7f043219fcf8>"
      ]
     },
     "metadata": {},
     "output_type": "display_data"
    },
    {
     "data": {
      "text/html": [
       "<style  type=\"text/css\" >\n",
       "    #T_8fc580b2_6fa8_11ea_8dce_e5431ab088d0row0_col0 {\n",
       "            background-color:  yellow;\n",
       "        }    #T_8fc580b2_6fa8_11ea_8dce_e5431ab088d0row1_col0 {\n",
       "            background-color:  yellow;\n",
       "        }</style><table id=\"T_8fc580b2_6fa8_11ea_8dce_e5431ab088d0\" ><thead>    <tr>        <th class=\"index_name level0\" >col_0</th>        <th class=\"col_heading level0 col0\" >%freq</th>    </tr>    <tr>        <th class=\"index_name level0\" >other_weather</th>        <th class=\"blank\" ></th>    </tr></thead><tbody>\n",
       "                <tr>\n",
       "                        <th id=\"T_8fc580b2_6fa8_11ea_8dce_e5431ab088d0level0_row0\" class=\"row_heading level0 row0\" >0</th>\n",
       "                        <td id=\"T_8fc580b2_6fa8_11ea_8dce_e5431ab088d0row0_col0\" class=\"data row0 col0\" >0.947513</td>\n",
       "            </tr>\n",
       "            <tr>\n",
       "                        <th id=\"T_8fc580b2_6fa8_11ea_8dce_e5431ab088d0level0_row1\" class=\"row_heading level0 row1\" >1</th>\n",
       "                        <td id=\"T_8fc580b2_6fa8_11ea_8dce_e5431ab088d0row1_col0\" class=\"data row1 col0\" >0.052487</td>\n",
       "            </tr>\n",
       "    </tbody></table>"
      ],
      "text/plain": [
       "<pandas.io.formats.style.Styler at 0x7f043219f470>"
      ]
     },
     "metadata": {},
     "output_type": "display_data"
    },
    {
     "data": {
      "text/html": [
       "<style  type=\"text/css\" >\n",
       "    #T_8fc93324_6fa8_11ea_8dce_e5431ab088d0row0_col0 {\n",
       "            background-color:  yellow;\n",
       "        }    #T_8fc93324_6fa8_11ea_8dce_e5431ab088d0row1_col0 {\n",
       "            background-color:  yellow;\n",
       "        }</style><table id=\"T_8fc93324_6fa8_11ea_8dce_e5431ab088d0\" ><thead>    <tr>        <th class=\"index_name level0\" >col_0</th>        <th class=\"col_heading level0 col0\" >%freq</th>    </tr>    <tr>        <th class=\"index_name level0\" >direct_report</th>        <th class=\"blank\" ></th>    </tr></thead><tbody>\n",
       "                <tr>\n",
       "                        <th id=\"T_8fc93324_6fa8_11ea_8dce_e5431ab088d0level0_row0\" class=\"row_heading level0 row0\" >0</th>\n",
       "                        <td id=\"T_8fc93324_6fa8_11ea_8dce_e5431ab088d0row0_col0\" class=\"data row0 col0\" >0.806416</td>\n",
       "            </tr>\n",
       "            <tr>\n",
       "                        <th id=\"T_8fc93324_6fa8_11ea_8dce_e5431ab088d0level0_row1\" class=\"row_heading level0 row1\" >1</th>\n",
       "                        <td id=\"T_8fc93324_6fa8_11ea_8dce_e5431ab088d0row1_col0\" class=\"data row1 col0\" >0.193584</td>\n",
       "            </tr>\n",
       "    </tbody></table>"
      ],
      "text/plain": [
       "<pandas.io.formats.style.Styler at 0x7f043219f3c8>"
      ]
     },
     "metadata": {},
     "output_type": "display_data"
    }
   ],
   "source": [
    "print('Viewing distributions of values per label (class imbalances are highlighted):\\n')\n",
    "df_X = df.iloc[:,4:]\n",
    "for col in df_X:\n",
    "    ct = pd.crosstab(index=df_X[col], columns='%freq', normalize='columns')\n",
    "    display(ct.style.apply(highlight_imbalanced))\n",
    "    if len(ct) < 2:\n",
    "        print('Column with less than 2 values!')"
   ]
  },
  {
   "cell_type": "markdown",
   "metadata": {},
   "source": [
    "As shown above, almost all classes are imbalanced.\n",
    "\n",
    "In our case, we considered imbalanced labels (skewed distribution) in the classes those where the distance from the perfect balance is higher than 10%. For example, for 3 possible labels in a class we have a perfect balance of 33.33%. If a label occurs more than 43.33% or less than 23.33% of the time, it is considered imbalanced.\n",
    "\n",
    "`child_alone` is always 0. Therefore we can ignore this column."
   ]
  },
  {
   "cell_type": "code",
   "execution_count": 8,
   "metadata": {},
   "outputs": [],
   "source": [
    "# Drop `child_alone` column\n",
    "df.drop('child_alone', axis=1, inplace=True)"
   ]
  },
  {
   "cell_type": "code",
   "execution_count": 9,
   "metadata": {
    "collapsed": true,
    "jupyter": {
     "outputs_hidden": true
    }
   },
   "outputs": [
    {
     "data": {
      "text/html": [
       "<div>\n",
       "<style scoped>\n",
       "    .dataframe tbody tr th:only-of-type {\n",
       "        vertical-align: middle;\n",
       "    }\n",
       "\n",
       "    .dataframe tbody tr th {\n",
       "        vertical-align: top;\n",
       "    }\n",
       "\n",
       "    .dataframe thead th {\n",
       "        text-align: right;\n",
       "    }\n",
       "</style>\n",
       "<table border=\"1\" class=\"dataframe\">\n",
       "  <thead>\n",
       "    <tr style=\"text-align: right;\">\n",
       "      <th></th>\n",
       "      <th>id</th>\n",
       "      <th>message</th>\n",
       "      <th>original</th>\n",
       "      <th>genre</th>\n",
       "      <th>related</th>\n",
       "      <th>request</th>\n",
       "      <th>offer</th>\n",
       "      <th>aid_related</th>\n",
       "      <th>medical_help</th>\n",
       "      <th>medical_products</th>\n",
       "      <th>search_and_rescue</th>\n",
       "      <th>security</th>\n",
       "      <th>military</th>\n",
       "      <th>water</th>\n",
       "      <th>food</th>\n",
       "      <th>shelter</th>\n",
       "      <th>clothing</th>\n",
       "      <th>money</th>\n",
       "      <th>missing_people</th>\n",
       "      <th>refugees</th>\n",
       "      <th>death</th>\n",
       "      <th>other_aid</th>\n",
       "      <th>infrastructure_related</th>\n",
       "      <th>transport</th>\n",
       "      <th>buildings</th>\n",
       "      <th>electricity</th>\n",
       "      <th>tools</th>\n",
       "      <th>hospitals</th>\n",
       "      <th>shops</th>\n",
       "      <th>aid_centers</th>\n",
       "      <th>other_infrastructure</th>\n",
       "      <th>weather_related</th>\n",
       "      <th>floods</th>\n",
       "      <th>storm</th>\n",
       "      <th>fire</th>\n",
       "      <th>earthquake</th>\n",
       "      <th>cold</th>\n",
       "      <th>other_weather</th>\n",
       "      <th>direct_report</th>\n",
       "    </tr>\n",
       "  </thead>\n",
       "  <tbody>\n",
       "    <tr>\n",
       "      <th>0</th>\n",
       "      <td>2</td>\n",
       "      <td>Weather update - a cold front from Cuba that c...</td>\n",
       "      <td>Un front froid se retrouve sur Cuba ce matin. ...</td>\n",
       "      <td>direct</td>\n",
       "      <td>1</td>\n",
       "      <td>0</td>\n",
       "      <td>0</td>\n",
       "      <td>0</td>\n",
       "      <td>0</td>\n",
       "      <td>0</td>\n",
       "      <td>0</td>\n",
       "      <td>0</td>\n",
       "      <td>0</td>\n",
       "      <td>0</td>\n",
       "      <td>0</td>\n",
       "      <td>0</td>\n",
       "      <td>0</td>\n",
       "      <td>0</td>\n",
       "      <td>0</td>\n",
       "      <td>0</td>\n",
       "      <td>0</td>\n",
       "      <td>0</td>\n",
       "      <td>0</td>\n",
       "      <td>0</td>\n",
       "      <td>0</td>\n",
       "      <td>0</td>\n",
       "      <td>0</td>\n",
       "      <td>0</td>\n",
       "      <td>0</td>\n",
       "      <td>0</td>\n",
       "      <td>0</td>\n",
       "      <td>0</td>\n",
       "      <td>0</td>\n",
       "      <td>0</td>\n",
       "      <td>0</td>\n",
       "      <td>0</td>\n",
       "      <td>0</td>\n",
       "      <td>0</td>\n",
       "      <td>0</td>\n",
       "    </tr>\n",
       "    <tr>\n",
       "      <th>1</th>\n",
       "      <td>7</td>\n",
       "      <td>Is the Hurricane over or is it not over</td>\n",
       "      <td>Cyclone nan fini osinon li pa fini</td>\n",
       "      <td>direct</td>\n",
       "      <td>1</td>\n",
       "      <td>0</td>\n",
       "      <td>0</td>\n",
       "      <td>1</td>\n",
       "      <td>0</td>\n",
       "      <td>0</td>\n",
       "      <td>0</td>\n",
       "      <td>0</td>\n",
       "      <td>0</td>\n",
       "      <td>0</td>\n",
       "      <td>0</td>\n",
       "      <td>0</td>\n",
       "      <td>0</td>\n",
       "      <td>0</td>\n",
       "      <td>0</td>\n",
       "      <td>0</td>\n",
       "      <td>0</td>\n",
       "      <td>1</td>\n",
       "      <td>0</td>\n",
       "      <td>0</td>\n",
       "      <td>0</td>\n",
       "      <td>0</td>\n",
       "      <td>0</td>\n",
       "      <td>0</td>\n",
       "      <td>0</td>\n",
       "      <td>0</td>\n",
       "      <td>0</td>\n",
       "      <td>1</td>\n",
       "      <td>0</td>\n",
       "      <td>1</td>\n",
       "      <td>0</td>\n",
       "      <td>0</td>\n",
       "      <td>0</td>\n",
       "      <td>0</td>\n",
       "      <td>0</td>\n",
       "    </tr>\n",
       "    <tr>\n",
       "      <th>2</th>\n",
       "      <td>8</td>\n",
       "      <td>Looking for someone but no name</td>\n",
       "      <td>Patnm, di Maryani relem pou li banm nouvel li ...</td>\n",
       "      <td>direct</td>\n",
       "      <td>1</td>\n",
       "      <td>0</td>\n",
       "      <td>0</td>\n",
       "      <td>0</td>\n",
       "      <td>0</td>\n",
       "      <td>0</td>\n",
       "      <td>0</td>\n",
       "      <td>0</td>\n",
       "      <td>0</td>\n",
       "      <td>0</td>\n",
       "      <td>0</td>\n",
       "      <td>0</td>\n",
       "      <td>0</td>\n",
       "      <td>0</td>\n",
       "      <td>0</td>\n",
       "      <td>0</td>\n",
       "      <td>0</td>\n",
       "      <td>0</td>\n",
       "      <td>0</td>\n",
       "      <td>0</td>\n",
       "      <td>0</td>\n",
       "      <td>0</td>\n",
       "      <td>0</td>\n",
       "      <td>0</td>\n",
       "      <td>0</td>\n",
       "      <td>0</td>\n",
       "      <td>0</td>\n",
       "      <td>0</td>\n",
       "      <td>0</td>\n",
       "      <td>0</td>\n",
       "      <td>0</td>\n",
       "      <td>0</td>\n",
       "      <td>0</td>\n",
       "      <td>0</td>\n",
       "      <td>0</td>\n",
       "    </tr>\n",
       "    <tr>\n",
       "      <th>3</th>\n",
       "      <td>9</td>\n",
       "      <td>UN reports Leogane 80-90 destroyed. Only Hospi...</td>\n",
       "      <td>UN reports Leogane 80-90 destroyed. Only Hospi...</td>\n",
       "      <td>direct</td>\n",
       "      <td>1</td>\n",
       "      <td>1</td>\n",
       "      <td>0</td>\n",
       "      <td>1</td>\n",
       "      <td>0</td>\n",
       "      <td>1</td>\n",
       "      <td>0</td>\n",
       "      <td>0</td>\n",
       "      <td>0</td>\n",
       "      <td>0</td>\n",
       "      <td>0</td>\n",
       "      <td>0</td>\n",
       "      <td>0</td>\n",
       "      <td>0</td>\n",
       "      <td>0</td>\n",
       "      <td>0</td>\n",
       "      <td>0</td>\n",
       "      <td>1</td>\n",
       "      <td>1</td>\n",
       "      <td>0</td>\n",
       "      <td>1</td>\n",
       "      <td>0</td>\n",
       "      <td>0</td>\n",
       "      <td>1</td>\n",
       "      <td>0</td>\n",
       "      <td>0</td>\n",
       "      <td>0</td>\n",
       "      <td>0</td>\n",
       "      <td>0</td>\n",
       "      <td>0</td>\n",
       "      <td>0</td>\n",
       "      <td>0</td>\n",
       "      <td>0</td>\n",
       "      <td>0</td>\n",
       "      <td>0</td>\n",
       "    </tr>\n",
       "    <tr>\n",
       "      <th>4</th>\n",
       "      <td>12</td>\n",
       "      <td>says: west side of Haiti, rest of the country ...</td>\n",
       "      <td>facade ouest d Haiti et le reste du pays aujou...</td>\n",
       "      <td>direct</td>\n",
       "      <td>1</td>\n",
       "      <td>0</td>\n",
       "      <td>0</td>\n",
       "      <td>0</td>\n",
       "      <td>0</td>\n",
       "      <td>0</td>\n",
       "      <td>0</td>\n",
       "      <td>0</td>\n",
       "      <td>0</td>\n",
       "      <td>0</td>\n",
       "      <td>0</td>\n",
       "      <td>0</td>\n",
       "      <td>0</td>\n",
       "      <td>0</td>\n",
       "      <td>0</td>\n",
       "      <td>0</td>\n",
       "      <td>0</td>\n",
       "      <td>0</td>\n",
       "      <td>0</td>\n",
       "      <td>0</td>\n",
       "      <td>0</td>\n",
       "      <td>0</td>\n",
       "      <td>0</td>\n",
       "      <td>0</td>\n",
       "      <td>0</td>\n",
       "      <td>0</td>\n",
       "      <td>0</td>\n",
       "      <td>0</td>\n",
       "      <td>0</td>\n",
       "      <td>0</td>\n",
       "      <td>0</td>\n",
       "      <td>0</td>\n",
       "      <td>0</td>\n",
       "      <td>0</td>\n",
       "      <td>0</td>\n",
       "    </tr>\n",
       "  </tbody>\n",
       "</table>\n",
       "</div>"
      ],
      "text/plain": [
       "   id                                            message  \\\n",
       "0   2  Weather update - a cold front from Cuba that c...   \n",
       "1   7            Is the Hurricane over or is it not over   \n",
       "2   8                    Looking for someone but no name   \n",
       "3   9  UN reports Leogane 80-90 destroyed. Only Hospi...   \n",
       "4  12  says: west side of Haiti, rest of the country ...   \n",
       "\n",
       "                                            original   genre  related  \\\n",
       "0  Un front froid se retrouve sur Cuba ce matin. ...  direct        1   \n",
       "1                 Cyclone nan fini osinon li pa fini  direct        1   \n",
       "2  Patnm, di Maryani relem pou li banm nouvel li ...  direct        1   \n",
       "3  UN reports Leogane 80-90 destroyed. Only Hospi...  direct        1   \n",
       "4  facade ouest d Haiti et le reste du pays aujou...  direct        1   \n",
       "\n",
       "   request  offer  aid_related  medical_help  medical_products  \\\n",
       "0        0      0            0             0                 0   \n",
       "1        0      0            1             0                 0   \n",
       "2        0      0            0             0                 0   \n",
       "3        1      0            1             0                 1   \n",
       "4        0      0            0             0                 0   \n",
       "\n",
       "   search_and_rescue  security  military  water  food  shelter  clothing  \\\n",
       "0                  0         0         0      0     0        0         0   \n",
       "1                  0         0         0      0     0        0         0   \n",
       "2                  0         0         0      0     0        0         0   \n",
       "3                  0         0         0      0     0        0         0   \n",
       "4                  0         0         0      0     0        0         0   \n",
       "\n",
       "   money  missing_people  refugees  death  other_aid  infrastructure_related  \\\n",
       "0      0               0         0      0          0                       0   \n",
       "1      0               0         0      0          1                       0   \n",
       "2      0               0         0      0          0                       0   \n",
       "3      0               0         0      0          1                       1   \n",
       "4      0               0         0      0          0                       0   \n",
       "\n",
       "   transport  buildings  electricity  tools  hospitals  shops  aid_centers  \\\n",
       "0          0          0            0      0          0      0            0   \n",
       "1          0          0            0      0          0      0            0   \n",
       "2          0          0            0      0          0      0            0   \n",
       "3          0          1            0      0          1      0            0   \n",
       "4          0          0            0      0          0      0            0   \n",
       "\n",
       "   other_infrastructure  weather_related  floods  storm  fire  earthquake  \\\n",
       "0                     0                0       0      0     0           0   \n",
       "1                     0                1       0      1     0           0   \n",
       "2                     0                0       0      0     0           0   \n",
       "3                     0                0       0      0     0           0   \n",
       "4                     0                0       0      0     0           0   \n",
       "\n",
       "   cold  other_weather  direct_report  \n",
       "0     0              0              0  \n",
       "1     0              0              0  \n",
       "2     0              0              0  \n",
       "3     0              0              0  \n",
       "4     0              0              0  "
      ]
     },
     "execution_count": 9,
     "metadata": {},
     "output_type": "execute_result"
    }
   ],
   "source": [
    "df.head()"
   ]
  },
  {
   "cell_type": "code",
   "execution_count": 12,
   "metadata": {},
   "outputs": [],
   "source": [
    "X = df.iloc[:,1].values\n",
    "Y = df.iloc[:,4:].values"
   ]
  },
  {
   "cell_type": "code",
   "execution_count": 13,
   "metadata": {
    "collapsed": true,
    "jupyter": {
     "outputs_hidden": true
    }
   },
   "outputs": [
    {
     "data": {
      "text/plain": [
       "array(['Weather update - a cold front from Cuba that could pass over Haiti',\n",
       "       'Is the Hurricane over or is it not over',\n",
       "       'Looking for someone but no name',\n",
       "       'UN reports Leogane 80-90 destroyed. Only Hospital St. Croix functioning. Needs supplies desperately.',\n",
       "       'says: west side of Haiti, rest of the country today and tonight'],\n",
       "      dtype=object)"
      ]
     },
     "execution_count": 13,
     "metadata": {},
     "output_type": "execute_result"
    }
   ],
   "source": [
    "X[:5]"
   ]
  },
  {
   "cell_type": "code",
   "execution_count": 14,
   "metadata": {
    "collapsed": true,
    "jupyter": {
     "outputs_hidden": true
    }
   },
   "outputs": [
    {
     "data": {
      "text/plain": [
       "array([[1, 0, 0, 0, 0, 0, 0, 0, 0, 0, 0, 0, 0, 0, 0, 0, 0, 0, 0, 0, 0, 0,\n",
       "        0, 0, 0, 0, 0, 0, 0, 0, 0, 0, 0, 0, 0],\n",
       "       [1, 0, 0, 1, 0, 0, 0, 0, 0, 0, 0, 0, 0, 0, 0, 0, 0, 1, 0, 0, 0, 0,\n",
       "        0, 0, 0, 0, 0, 1, 0, 1, 0, 0, 0, 0, 0],\n",
       "       [1, 0, 0, 0, 0, 0, 0, 0, 0, 0, 0, 0, 0, 0, 0, 0, 0, 0, 0, 0, 0, 0,\n",
       "        0, 0, 0, 0, 0, 0, 0, 0, 0, 0, 0, 0, 0],\n",
       "       [1, 1, 0, 1, 0, 1, 0, 0, 0, 0, 0, 0, 0, 0, 0, 0, 0, 1, 1, 0, 1, 0,\n",
       "        0, 1, 0, 0, 0, 0, 0, 0, 0, 0, 0, 0, 0],\n",
       "       [1, 0, 0, 0, 0, 0, 0, 0, 0, 0, 0, 0, 0, 0, 0, 0, 0, 0, 0, 0, 0, 0,\n",
       "        0, 0, 0, 0, 0, 0, 0, 0, 0, 0, 0, 0, 0]])"
      ]
     },
     "execution_count": 14,
     "metadata": {},
     "output_type": "execute_result"
    }
   ],
   "source": [
    "Y[:5,:]"
   ]
  },
  {
   "cell_type": "code",
   "execution_count": 2,
   "metadata": {},
   "outputs": [],
   "source": [
    "def load_data(db_path):\n",
    "    engine = create_engine(f'sqlite:///{db_path}')\n",
    "    df = pd.read_sql('disaster_data', engine)\n",
    "    df.drop('child_alone', axis=1, inplace=True)\n",
    "    X = df.iloc[:,1].values\n",
    "    Y = df.iloc[:,4:].values\n",
    "    col_names = df.columns\n",
    "    return X,Y,col_names\n",
    "\n",
    "X, Y, col_names = load_data('../data/DisasterResponse.db')"
   ]
  },
  {
   "cell_type": "code",
   "execution_count": 3,
   "metadata": {
    "collapsed": true,
    "jupyter": {
     "outputs_hidden": true
    }
   },
   "outputs": [
    {
     "data": {
      "text/plain": [
       "(array(['Weather update - a cold front from Cuba that could pass over Haiti',\n",
       "        'Is the Hurricane over or is it not over',\n",
       "        'Looking for someone but no name',\n",
       "        'UN reports Leogane 80-90 destroyed. Only Hospital St. Croix functioning. Needs supplies desperately.',\n",
       "        'says: west side of Haiti, rest of the country today and tonight'],\n",
       "       dtype=object),\n",
       " array([[1, 0, 0, 0, 0, 0, 0, 0, 0, 0, 0, 0, 0, 0, 0, 0, 0, 0, 0, 0, 0, 0,\n",
       "         0, 0, 0, 0, 0, 0, 0, 0, 0, 0, 0, 0, 0],\n",
       "        [1, 0, 0, 1, 0, 0, 0, 0, 0, 0, 0, 0, 0, 0, 0, 0, 0, 1, 0, 0, 0, 0,\n",
       "         0, 0, 0, 0, 0, 1, 0, 1, 0, 0, 0, 0, 0],\n",
       "        [1, 0, 0, 0, 0, 0, 0, 0, 0, 0, 0, 0, 0, 0, 0, 0, 0, 0, 0, 0, 0, 0,\n",
       "         0, 0, 0, 0, 0, 0, 0, 0, 0, 0, 0, 0, 0],\n",
       "        [1, 1, 0, 1, 0, 1, 0, 0, 0, 0, 0, 0, 0, 0, 0, 0, 0, 1, 1, 0, 1, 0,\n",
       "         0, 1, 0, 0, 0, 0, 0, 0, 0, 0, 0, 0, 0],\n",
       "        [1, 0, 0, 0, 0, 0, 0, 0, 0, 0, 0, 0, 0, 0, 0, 0, 0, 0, 0, 0, 0, 0,\n",
       "         0, 0, 0, 0, 0, 0, 0, 0, 0, 0, 0, 0, 0]]))"
      ]
     },
     "execution_count": 3,
     "metadata": {},
     "output_type": "execute_result"
    }
   ],
   "source": [
    "X[:5], Y[:5,:]"
   ]
  },
  {
   "cell_type": "code",
   "execution_count": 4,
   "metadata": {
    "collapsed": true,
    "jupyter": {
     "outputs_hidden": true
    }
   },
   "outputs": [
    {
     "data": {
      "text/plain": [
       "Index(['id', 'message', 'original', 'genre', 'related', 'request', 'offer',\n",
       "       'aid_related', 'medical_help', 'medical_products', 'search_and_rescue',\n",
       "       'security', 'military', 'water', 'food', 'shelter', 'clothing', 'money',\n",
       "       'missing_people', 'refugees', 'death', 'other_aid',\n",
       "       'infrastructure_related', 'transport', 'buildings', 'electricity',\n",
       "       'tools', 'hospitals', 'shops', 'aid_centers', 'other_infrastructure',\n",
       "       'weather_related', 'floods', 'storm', 'fire', 'earthquake', 'cold',\n",
       "       'other_weather', 'direct_report'],\n",
       "      dtype='object')"
      ]
     },
     "execution_count": 4,
     "metadata": {},
     "output_type": "execute_result"
    }
   ],
   "source": [
    "col_names"
   ]
  },
  {
   "cell_type": "markdown",
   "metadata": {},
   "source": [
    "### 3. Build a machine learning pipeline\n",
    "- Use MultiOutputClassifier to for predict multiple target variables."
   ]
  },
  {
   "cell_type": "code",
   "execution_count": 5,
   "metadata": {},
   "outputs": [],
   "source": [
    "class TextTransform(TransformerMixin):\n",
    "    def fit(self, X, y=None):\n",
    "        return self\n",
    "    def transform(self, X, y=None):\n",
    "        return X.astype(str)"
   ]
  },
  {
   "cell_type": "code",
   "execution_count": 12,
   "metadata": {},
   "outputs": [
    {
     "name": "stdout",
     "output_type": "stream",
     "text": [
      "Building sklearn text classifier...\n"
     ]
    }
   ],
   "source": [
    "# sklearn BERT wrapper has already BERT's specific tokenizers\n",
    "pipeline_bert = Pipeline([\n",
    "                    ('transform_str', TextTransform()),\n",
    "                    ('clf', MultiOutputClassifier(BertClassifier(max_seq_length=24, \n",
    "                                                                 train_batch_size=8,\n",
    "                                                                 epochs=2,\n",
    "                                                                 num_mlp_hiddens=200\n",
    "                                                                 # fp16=True # requires NVIDA apex\n",
    "                                                                )))\n",
    "               ])"
   ]
  },
  {
   "cell_type": "code",
   "execution_count": 13,
   "metadata": {},
   "outputs": [
    {
     "data": {
      "text/plain": [
       "Pipeline(memory=None,\n",
       "         steps=[('transform_str',\n",
       "                 <__main__.TextTransform object at 0x7f45f53453c8>),\n",
       "                ('clf',\n",
       "                 MultiOutputClassifier(estimator=BertClassifier(bert_config_json=None,\n",
       "                                                                bert_model='bert-base-uncased',\n",
       "                                                                bert_vocab=None,\n",
       "                                                                do_lower_case=None,\n",
       "                                                                epochs=2,\n",
       "                                                                eval_batch_size=8,\n",
       "                                                                fp16=False,\n",
       "                                                                from_tf=False,\n",
       "                                                                gradient_accumulation_steps=2,\n",
       "                                                                ignore_label=None,\n",
       "                                                                label_list=None,\n",
       "                                                                learning_rate=2e-05,\n",
       "                                                                local_rank=-1,\n",
       "                                                                logfile='bert_sklearn.log',\n",
       "                                                                loss_scale=0,\n",
       "                                                                max_seq_length=32,\n",
       "                                                                num_mlp_hiddens=400,\n",
       "                                                                num_mlp_layers=0,\n",
       "                                                                random_state=42,\n",
       "                                                                restore_file=None,\n",
       "                                                                train_batch_size=16,\n",
       "                                                                use_cuda=True,\n",
       "                                                                validation_fraction=0.1,\n",
       "                                                                warmup_proportion=0.1),\n",
       "                                       n_jobs=None))],\n",
       "         verbose=False)"
      ]
     },
     "execution_count": 13,
     "metadata": {},
     "output_type": "execute_result"
    }
   ],
   "source": [
    "pipeline_bert"
   ]
  },
  {
   "cell_type": "markdown",
   "metadata": {},
   "source": [
    "### 4. Train pipeline\n",
    "- Split data into train and test sets\n",
    "- Train pipeline"
   ]
  },
  {
   "cell_type": "code",
   "execution_count": 14,
   "metadata": {},
   "outputs": [],
   "source": [
    "# random_state to make it easier to reproduce\n",
    "X_train, X_test, Y_train, Y_test = train_test_split(X, Y, test_size=0.33, random_state=1000)"
   ]
  },
  {
   "cell_type": "code",
   "execution_count": 10,
   "metadata": {},
   "outputs": [],
   "source": [
    "#%%prun #%%mrun\n",
    "from tqdm import tqdm"
   ]
  },
  {
   "cell_type": "code",
   "execution_count": null,
   "metadata": {},
   "outputs": [
    {
     "name": "stderr",
     "output_type": "stream",
     "text": [
      "/home/ec2-user/anaconda3/envs/pytorch_p36/lib/python3.6/site-packages/sklearn/utils/validation.py:532: FutureWarning: Beginning in version 0.22, arrays of bytes/strings will be converted to decimal numbers if dtype='numeric'. It is recommended that you convert the array to a float dtype before using it in scikit-learn, for example by using your_array = your_array.astype(np.float64).\n",
      "  FutureWarning)\n"
     ]
    },
    {
     "name": "stdout",
     "output_type": "stream",
     "text": [
      "Building sklearn text classifier...\n",
      "Loading bert-base-uncased model...\n",
      "Defaulting to linear classifier/regressor\n",
      "Loading Pytorch checkpoint\n",
      "train data size: 15808, validation data size: 1756\n"
     ]
    },
    {
     "name": "stderr",
     "output_type": "stream",
     "text": [
      "Training  : 100%|██████████| 1976/1976 [03:16<00:00, 10.08it/s, loss=0.407]\n",
      "Validating: 100%|██████████| 220/220 [00:05<00:00, 38.94it/s]"
     ]
    },
    {
     "name": "stdout",
     "output_type": "stream",
     "text": [
      "Epoch 1, Train loss: 0.4071, Val loss: 0.3474, Val accy: 86.16%\n"
     ]
    },
    {
     "name": "stderr",
     "output_type": "stream",
     "text": [
      "\n",
      "Training  :  55%|█████▌    | 1092/1976 [01:41<01:27, 10.05it/s, loss=0.244]"
     ]
    }
   ],
   "source": [
    "%%time\n",
    "# %pdb\n",
    "pipeline_bert = pipeline_bert.fit(X_train,Y_train)"
   ]
  },
  {
   "cell_type": "markdown",
   "metadata": {},
   "source": [
    "Using sklearn MultiOuput is the easiest approach to extend BERT for multi-label classification.\n",
    "However, for our 36 labels it does not make sense to fit a BERT model for each column due to it's size (even the smaller BERT version). When trying fitting in a NVIDIA Tesla V100 with 16GB, reducing batch sizes to 8 and sequence length to 24, even doing so resulted in CUDA out of memory errors and we could only fit ~15 models.\n",
    "\n",
    "TODO:\n",
    "\n",
    "Modify added MLP head of BERT to be multi-label (not only multi-class). \n",
    "One strategy to do that would be to use sigmoid in each output, so that all outputs vary from 0 to 1. And if the outpu if greater than 0.5 than we consider it 1.\n",
    "\n",
    "One problem with that is related to labels with more than one class, such as `related`, that has possible values of 0, 1, 2. What could be done is group outpu neurons according to labels, e.g. 3 neurons for `related` (to make it easier to interpret the 3 possible outputs), 1 neuron for `request` (0 or 1), 1 neuron for `offer` (0 or 1), etc. Apply softmax for labels with more than 2 classes and sigmoid in those with only 2 classes.\n",
    "\n",
    "An easier way would be to consider all classes binary (since `related` label is highly imbalanced)."
   ]
  },
  {
   "cell_type": "markdown",
   "metadata": {},
   "source": [
    "### 5. Test your model"
   ]
  },
  {
   "cell_type": "markdown",
   "metadata": {},
   "source": [
    "Report the f1 score, precision and recall for each output category of the dataset. You can do this by iterating through the columns and calling sklearn's `classification_report` on each."
   ]
  },
  {
   "cell_type": "code",
   "execution_count": 186,
   "metadata": {},
   "outputs": [],
   "source": [
    "def create_reports(clfs_names, Y_test, Y_preds, df_reports=None):\n",
    "    if df_reports is None:\n",
    "        df_reports = pd.DataFrame(columns=['mean accuracy','mean macro avg f1-score', 'mean weighted avg f1-score'])\n",
    "    \n",
    "    for clf_name, Y_preds in zip(clfs_names,Y_preds):#,Y_preds_hgbc,Y_preds_rfc]):\n",
    "        clf_metrics = pd.DataFrame()\n",
    "        print(f'Metrics for each feature for model - {clf_name}\\n')\n",
    "        for col in range(Y_preds.shape[1]):\n",
    "            report = classification_report(Y_test[:,col], Y_preds[:,col], output_dict=True)\n",
    "            # model_reports[clf_name] = [report['accuracy'], report['macro avg']['f1-score'], report['weighted avg']['f1-score']]\n",
    "            label_metrics = pd.DataFrame(data=[[report['accuracy'], report['macro avg']['f1-score'], report['weighted avg']['f1-score']]])\n",
    "            clf_metrics = pd.concat([clf_metrics, label_metrics], axis=0)\n",
    "            print('Column:', column_names[col])\n",
    "            print(classification_report(Y_test[:,col], Y_preds[:,col]),'\\n   -----------------------------------------------\\n')\n",
    "        clf_metrics = clf_metrics.mean(axis=0).to_frame().transpose().rename(index={0:clf_name}, columns={0:'mean accuracy',1:'mean macro avg f1-score',2:'mean weighted avg f1-score'})\n",
    "        df_reports = pd.concat([df_reports, clf_metrics],axis=0)\n",
    "        \n",
    "    return df_reports\n"
   ]
  },
  {
   "cell_type": "code",
   "execution_count": 5,
   "metadata": {},
   "outputs": [],
   "source": [
    "df_reports = create_reports(['bert'], Y_test, [Y_preds_gbc])"
   ]
  },
  {
   "cell_type": "code",
   "execution_count": 6,
   "metadata": {},
   "outputs": [],
   "source": [
    "print('Mean metrics for all outputs of a model:')\n",
    "df_reports"
   ]
  },
  {
   "cell_type": "markdown",
   "metadata": {},
   "source": [
    "### 6. Improve your model\n",
    "Use grid search to find better parameters. "
   ]
  },
  {
   "cell_type": "code",
   "execution_count": 2,
   "metadata": {
    "scrolled": true
   },
   "outputs": [],
   "source": [
    "# pipeline_bert.get_params()"
   ]
  },
  {
   "cell_type": "code",
   "execution_count": 3,
   "metadata": {},
   "outputs": [],
   "source": [
    "# parameters = {\n",
    "#     'clf__estimator__learning_rate': [1e-5, 2e-5, 4e-5],\n",
    "#     'clf__estimator__epochs': [2, 3, 4],\n",
    "#     'clf__estimator__num_mlp_hiddens': [300,600],\n",
    "#     'clf__estimator__max_seq_length': [32, 64],\n",
    "# }\n",
    "\n",
    "# cv_bert = GridSearchCV(pipeline_bert, param_grid=parameters, n_jobs=-1 ,verbose=2)\n",
    "# cv_bert.fit(X_train, Y_train)"
   ]
  },
  {
   "cell_type": "code",
   "execution_count": 4,
   "metadata": {},
   "outputs": [],
   "source": [
    "# dump(cv_bert, '../scripts/models/cv_bert.joblib')"
   ]
  },
  {
   "cell_type": "markdown",
   "metadata": {},
   "source": [
    "### 7. Test your model\n",
    "Show the accuracy, precision, and recall of the tuned model.  "
   ]
  },
  {
   "cell_type": "code",
   "execution_count": 7,
   "metadata": {},
   "outputs": [],
   "source": [
    "# Y_preds_bert_tuned = cv_bert.predict(X_test)"
   ]
  },
  {
   "cell_type": "code",
   "execution_count": 8,
   "metadata": {},
   "outputs": [],
   "source": [
    "# df_reports = create_reports(['cv_bert'], Y_test, [Y_preds_gbc_tuned], df_reports=df_reports)"
   ]
  },
  {
   "cell_type": "code",
   "execution_count": 9,
   "metadata": {},
   "outputs": [],
   "source": [
    "# df_reports"
   ]
  },
  {
   "cell_type": "markdown",
   "metadata": {},
   "source": [
    "### 9. Export your model as a pickle file"
   ]
  }
 ],
 "metadata": {
  "kernelspec": {
   "display_name": "Python 3",
   "language": "python",
   "name": "python3"
  },
  "language_info": {
   "codemirror_mode": {
    "name": "ipython",
    "version": 3
   },
   "file_extension": ".py",
   "mimetype": "text/x-python",
   "name": "python",
   "nbconvert_exporter": "python",
   "pygments_lexer": "ipython3",
   "version": "3.7.7"
  }
 },
 "nbformat": 4,
 "nbformat_minor": 4
}
